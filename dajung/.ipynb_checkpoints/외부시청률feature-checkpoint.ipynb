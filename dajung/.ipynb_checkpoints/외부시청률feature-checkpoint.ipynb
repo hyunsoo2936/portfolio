{
 "cells": [
  {
   "cell_type": "code",
   "execution_count": null,
   "metadata": {
    "colab": {},
    "colab_type": "code",
    "id": "IRLeN3OZ5wj4"
   },
   "outputs": [],
   "source": [
    "import pandas as pd\n",
    "import numpy as np\n",
    "import datetime\n",
    "import matplotlib.pyplot as plt"
   ]
  },
  {
   "cell_type": "markdown",
   "metadata": {
    "colab_type": "text",
    "id": "o8XPLNaGJtsF"
   },
   "source": [
    "데이터 로드 - 시청률 데이터는 제 폴더 안에 있어요"
   ]
  },
  {
   "cell_type": "code",
   "execution_count": null,
   "metadata": {
    "colab": {},
    "colab_type": "code",
    "id": "4lRYdfGY7V8E"
   },
   "outputs": [],
   "source": [
    "sales= pd.read_excel('/content/sales.xlsx',header =1)\n",
    "sales_test= pd.read_excel('/content/sales_test.xlsx',header =1)\n",
    "daily_top_3= pd.read_excel('/content/2019_daily_top3.xlsx')\n",
    "daily_top_3_test= pd.read_excel('/content/2020_daily_top3.xlsx')"
   ]
  },
  {
   "cell_type": "markdown",
   "metadata": {
    "colab_type": "text",
    "id": "RjqJiNTg_3EP"
   },
   "source": [
    "ns 홈쇼핑 시청률 매칭(필요 시 사용해주세욥!)"
   ]
  },
  {
   "cell_type": "code",
   "execution_count": null,
   "metadata": {
    "colab": {},
    "colab_type": "code",
    "id": "X2fUmL0PAzei"
   },
   "outputs": [],
   "source": [
    "def vr_match():\n",
    "  vr = list(sales['방송일시'])\n",
    "  \n",
    "#방송일시 type Timestamp -> 문자열로 처리\n",
    "  for i in range(len(vr)):\n",
    "    vr[i] = str(vr[i]).replace('Timestamp(','').replace(')','').strip()\n",
    "  \n",
    "#방송일시에서 날짜와 시간대를 분리하여 시간대 평균 시청률 매칭하기\n",
    "  \n",
    "  for i in range(len(vr)):\n",
    "    try:\n",
    "      date = vr[i].split(' ')[0]\n",
    "\n",
    "      if(i<len(vr)-4): #19-12-31 23:40분 제외\n",
    "        t1 = vr[i].split(' ')[1][:5] #시간\n",
    "    #다음 방영 시간대 계산\n",
    "        def next(t1):\n",
    "          j=i\n",
    "          t2 = vr[j+1].split(' ')[1][:5]\n",
    "          while(t1==t2):\n",
    "            j=j+1\n",
    "            t2=vr[j+1].split(' ')[1][:5]\n",
    "          return vr[j+1].split(' ')[1][:5] #다음 시간\n",
    "        t2 = next(t1) \n",
    "      \n",
    "        def count(t1,t2):\n",
    "          t1= datetime.datetime.strptime(t1, '%H:%M')\n",
    "          t2= datetime.datetime.strptime(t2, '%H:%M')\n",
    "          if(int(str(t2-t1).split(':')[0][-1])>0):\n",
    "            c=60\n",
    "          else:\n",
    "            c=int(str(t2-t1).split(':')[1])\n",
    "          return c-1\n",
    " \n",
    "  # 만약 다음 시간이 10분이면 \n",
    "        if(t2[3:]=='10'): \n",
    "          time = t1[:3]+'09'\n",
    "          vr[i]= view_rate[date].rolling(window=count(t1,t2)).mean()[time]\n",
    "        elif(t1=='01:30'):\n",
    "          vr[i]= view_rate[date].rolling(window=30).mean()['01:59']\n",
    "        elif(t1=='01:40'):\n",
    "          vr[i]= view_rate[date].rolling(window=20).mean()['01:59']\n",
    "        elif(t1=='01:50'):\n",
    "          vr[i]= view_rate[date].rolling(window=10).mean()['01:59']\n",
    "  # 10분 아니면  \n",
    "        else:\n",
    "          hour=t1[:3] #시\n",
    "          min= int(t1[3:])+count(t1,t2) \n",
    "          if(min>60): #만약 60분보다 큰 수가 나오면\n",
    "            min=min-60 # 빼버리고\n",
    "            if(min<10): #뺀 값이 한자리수 일 때\n",
    "              min='0'+str(min)   \n",
    "            new=int(hour[:2])+1# 시간은 +1\n",
    "        \n",
    "            if (new<10):\n",
    "              new='0'+str(new)\n",
    "\n",
    "            elif(new==24):  \n",
    "              new='00'\n",
    "        \n",
    "            hour=str(new)+':'\n",
    "      \n",
    "          time = hour+str(min)\n",
    "      \n",
    "          vr[i]= view_rate[date].rolling(window=count(t1,t2)).mean()[time]\n",
    "  \n",
    "#12월 31일 11시 40분 처리\n",
    "      else:\n",
    "        vr[i]= view_rate[date].rolling(window=20).mean()[vr[i].split(' ')[1][:3]+'59']\n",
    "    except:\n",
    "      vr[i]=0\n",
    "    sales['viewrate'] = vr"
   ]
  },
  {
   "cell_type": "code",
   "execution_count": null,
   "metadata": {
    "colab": {},
    "colab_type": "code",
    "id": "HpXf4i5iCu7v"
   },
   "outputs": [],
   "source": [
    "vr_match()"
   ]
  },
  {
   "cell_type": "markdown",
   "metadata": {
    "colab_type": "text",
    "id": "MJWyBVd_Jqad"
   },
   "source": [
    "전처리"
   ]
  },
  {
   "cell_type": "code",
   "execution_count": null,
   "metadata": {
    "colab": {},
    "colab_type": "code",
    "id": "Z8oVVl4J70Oi"
   },
   "outputs": [],
   "source": [
    "## 1.무형 상품은 추정 제외 \n",
    "## 2.결측된 노출분 채우기 (직전의 값 집어넣기) \n",
    "## 3. 판매단가 > 취급액이면 취급액 0 \n",
    "##\n",
    "\n",
    "def custom(price, total):\n",
    "    # 3전처리 \n",
    "    if price > total: return 0\n",
    "    else: return total\n",
    "\n",
    "def pre_processing(df): \n",
    "    # 1. 무형 상품 추정 제외 \n",
    "    df = df.drop(df[df[\"상품군\"]==\"무형\"].index,axis = 0)\n",
    "    # 2. 결측된 노출분 채우기 \n",
    "    for i,row in df.iterrows():\n",
    "        val = row[\"노출(분)\"]\n",
    "        if i == 0:\n",
    "            continue \n",
    "        if np.isnan(val):\n",
    "            if df.loc[i,\"방송일시\"] == df.loc[i-1,\"방송일시\"]:\n",
    "                df.loc[i,\"노출(분)\"] = df.loc[i-1,\"노출(분)\"]\n",
    "            else :\n",
    "                continue \n",
    "                \n",
    "    # 3. 판매단가 > 취급액이면 취급액 0 \n",
    "    df[\"취급액\"] = df.apply(lambda x : custom(x[\"판매단가\"], x[\"취급액\"]),axis=1)\n",
    "    print(sum((sales[\"판매단가\"] > sales[\"취급액\"]) & (sales['취급액'] != 0)))\n",
    "    # 4. month, day, hour, minute, weekday 열 추가 \n",
    "    df[\"방송일시\"] = pd.to_datetime(df[\"방송일시\"])\n",
    "    df['month'] = pd.DatetimeIndex(df['방송일시']).month\n",
    "    df['day'] = pd.DatetimeIndex(df['방송일시']).day\n",
    "    df['hour'] = pd.DatetimeIndex(df['방송일시']).hour\n",
    "    df['minute'] = pd.DatetimeIndex(df['방송일시']).minute\n",
    "    df['weekday'] = pd.DatetimeIndex(df['방송일시']).weekday\n",
    "    \n",
    "    # reset_index\n",
    "    df = df.reset_index(drop=True)\n",
    "    \n",
    "    return df \n"
   ]
  },
  {
   "cell_type": "code",
   "execution_count": null,
   "metadata": {
    "colab": {
     "base_uri": "https://localhost:8080/",
     "height": 35
    },
    "colab_type": "code",
    "id": "VflfUOKt9VAy",
    "outputId": "6cd7bad7-b8f8-4e4a-c842-180a51f66b9c"
   },
   "outputs": [
    {
     "name": "stdout",
     "output_type": "stream",
     "text": [
      "0\n"
     ]
    }
   ],
   "source": [
    "sales = pre_processing(sales)\n"
   ]
  },
  {
   "cell_type": "code",
   "execution_count": null,
   "metadata": {
    "colab": {
     "base_uri": "https://localhost:8080/",
     "height": 35
    },
    "colab_type": "code",
    "id": "TEHW3x6_9XKE",
    "outputId": "21d6d1cb-61a4-4a31-b70d-f6706439a4dc"
   },
   "outputs": [
    {
     "name": "stdout",
     "output_type": "stream",
     "text": [
      "0\n"
     ]
    }
   ],
   "source": [
    "sales_test = pre_processing(sales_test)"
   ]
  },
  {
   "cell_type": "markdown",
   "metadata": {
    "colab_type": "text",
    "id": "p6x_o8W6TXqc"
   },
   "source": [
    "외부시청률"
   ]
  },
  {
   "cell_type": "code",
   "execution_count": null,
   "metadata": {
    "colab": {},
    "colab_type": "code",
    "id": "ps-SHG1WrShX"
   },
   "outputs": [],
   "source": [
    "sales['viewrate1']=np.zeros((37372,1), dtype=np.int8)\n",
    "sales['viewrate2']=np.zeros((37372,1), dtype=np.int8)\n",
    "sales['viewrate3']=np.zeros((37372,1), dtype=np.int8)"
   ]
  },
  {
   "cell_type": "code",
   "execution_count": null,
   "metadata": {
    "colab": {},
    "colab_type": "code",
    "id": "Hl6vyXQIMaA5"
   },
   "outputs": [],
   "source": [
    "date_time=[]\n",
    "for info in sales['방송일시']:\n",
    "  date_time.append(str(info).replace('Timestamp(','').replace(')','').strip())\n",
    "time_list = pd.Series(date_time).unique()\n",
    "\n",
    "for i in range(len(time_list)):\n",
    "  time_list[i] = time_list[i].split(' ')[1][:-3]"
   ]
  },
  {
   "cell_type": "code",
   "execution_count": null,
   "metadata": {
    "colab": {},
    "colab_type": "code",
    "id": "fV6sAxkC-BPK"
   },
   "outputs": [],
   "source": [
    "date=[]\n",
    "time=[]\n",
    "\n",
    "for date_time in sales['방송일시']:\n",
    "  date_time= str(date_time).replace('Timestamp(','').replace(')','').strip()\n",
    "  date.append(date_time.split(' ')[0].replace('-',''))\n",
    "  time.append(date_time.split(' ')[1][:-3])\n",
    "\n",
    "sales['date']= date\n",
    "sales['time']= time"
   ]
  },
  {
   "cell_type": "code",
   "execution_count": null,
   "metadata": {
    "colab": {},
    "colab_type": "code",
    "id": "01Qt7sEDNzzu"
   },
   "outputs": [],
   "source": [
    "next= []\n",
    "\n",
    "for i in range(len(sales)):\n",
    "  try:\n",
    "    def count_j():\n",
    "      for j in range(len(time_list)):\n",
    "        if(sales['time'][i]==time_list[j]): \n",
    "          next.append(time_list[j+1])\n",
    "        return j\n",
    "    j=count_j() \n",
    "     \n",
    "    if(sales['time'][i]!=sales['time'][i+1]):\n",
    "      time_list=time_list[j+1:]\n",
    "  except:\n",
    "    next.append('00:20')\n",
    "\n",
    "sales['next_time']=next"
   ]
  },
  {
   "cell_type": "code",
   "execution_count": null,
   "metadata": {
    "colab": {},
    "colab_type": "code",
    "id": "0pbfgBDtTjit"
   },
   "outputs": [],
   "source": [
    "def f_s(): #새벽-> 아침 시간대 조정\n",
    "  for i in range(1,len(sales)):\n",
    "    if (sales['next_time'][i]=='06:00' or sales['next_time'][i]=='06:20' or sales['next_time'][i]=='07:00' or sales['next_time'][i]=='07:20'):\n",
    "      if(sales['next_time'][i-1][:2]=='00'): # 한 케이스 확인\n",
    "        sales['next_time'][i]='01:00'\n",
    "      elif(sales['next_time'][i-1][:2]=='01'):\n",
    "        sales['next_time'][i]='02:00'\n",
    "      elif(sales['next_time'][i-1][:2]=='02'):\n",
    "        sales['next_time'][i]='02:20'\n",
    "      elif(sales['next_time'][i-1][:2]=='23'): # 한 케이스 확인\n",
    "        sales['next_time'][i]='00:00'\n"
   ]
  },
  {
   "cell_type": "code",
   "execution_count": null,
   "metadata": {
    "colab": {},
    "colab_type": "code",
    "id": "Bj5mWhlPbrYC"
   },
   "outputs": [],
   "source": [
    "f_s()"
   ]
  },
  {
   "cell_type": "code",
   "execution_count": null,
   "metadata": {
    "colab": {},
    "colab_type": "code",
    "id": "Nlqzy0Gwqfct"
   },
   "outputs": [],
   "source": [
    "for i in range(len(sales)):\n",
    "  for j in range(len(daily_top_3)):\n",
    "    if(sales['date'][i]==str(daily_top_3['date'][j])):\n",
    "      if(datetime.datetime.strptime(sales['time'][i],'%H:%M')<= datetime.datetime.strptime(daily_top_3['start time'][j],'%H:%M') <datetime.datetime.strptime(sales['next_time'][i],'%H:%M')):\n",
    "        print(daily_top_3['date'][j],daily_top_3['start time'][j])\n",
    "        print('viewrate{}'.format(str(daily_top_3['rank'][j])))\n",
    "        sales['viewrate{}'.format(str(daily_top_3['rank'][j]))][i]=1\n",
    "      elif(datetime.datetime.strptime(sales['time'][i],'%H:%M')< datetime.datetime.strptime(daily_top_3['finish time'][j],'%H:%M') <=datetime.datetime.strptime(sales['next_time'][i],'%H:%M')):\n",
    "        print(daily_top_3['date'][j],daily_top_3['finish time'][j])\n",
    "        print('viewrate{}'.format(str(daily_top_3['rank'][j])))\n",
    "        sales['viewrate{}'.format(str(daily_top_3['rank'][j]))][i]=1\n",
    "\n"
   ]
  },
  {
   "cell_type": "code",
   "execution_count": null,
   "metadata": {
    "colab": {},
    "colab_type": "code",
    "id": "F2-WiM68i3yY"
   },
   "outputs": [],
   "source": [
    "sales.to_csv('sales_viewrate.csv',encoding='euc-kr')"
   ]
  },
  {
   "cell_type": "markdown",
   "metadata": {
    "colab_type": "text",
    "id": "u0lKOmZCrnvJ"
   },
   "source": [
    "2020 6월"
   ]
  },
  {
   "cell_type": "code",
   "execution_count": null,
   "metadata": {
    "colab": {},
    "colab_type": "code",
    "id": "dzoblYmKrr6S"
   },
   "outputs": [],
   "source": [
    "sales_test['viewrate1']=np.zeros((2716,1), dtype=np.int8)\n",
    "sales_test['viewrate2']=np.zeros((2716,1), dtype=np.int8)\n",
    "sales_test['viewrate3']=np.zeros((2716,1), dtype=np.int8)"
   ]
  },
  {
   "cell_type": "code",
   "execution_count": null,
   "metadata": {
    "colab": {},
    "colab_type": "code",
    "id": "t8tzCerNrr6W"
   },
   "outputs": [],
   "source": [
    "date_time=[]\n",
    "for info in sales_test['방송일시']:\n",
    "  date_time.append(str(info).replace('Timestamp(','').replace(')','').strip())\n",
    "time_list = pd.Series(date_time).unique()\n",
    "\n",
    "for i in range(len(time_list)):\n",
    "  time_list[i] = time_list[i].split(' ')[1][:-3]"
   ]
  },
  {
   "cell_type": "code",
   "execution_count": null,
   "metadata": {
    "colab": {},
    "colab_type": "code",
    "id": "s4WfWwjfrr6Y"
   },
   "outputs": [],
   "source": [
    "date=[]\n",
    "time=[]\n",
    "\n",
    "for date_time in sales_test['방송일시']:\n",
    "  date_time= str(date_time).replace('Timestamp(','').replace(')','').strip()\n",
    "  date.append(date_time.split(' ')[0].replace('-',''))\n",
    "  time.append(date_time.split(' ')[1][:-3])\n",
    "\n",
    "sales_test['date']= date\n",
    "sales_test['time']= time"
   ]
  },
  {
   "cell_type": "code",
   "execution_count": null,
   "metadata": {
    "colab": {},
    "colab_type": "code",
    "id": "0HmnhDPyrr6b"
   },
   "outputs": [],
   "source": [
    "next= []\n",
    "\n",
    "for i in range(len(sales_test)):\n",
    "  try:\n",
    "    def count_j():\n",
    "      for j in range(len(time_list)):\n",
    "        if(sales_test['time'][i]==time_list[j]): \n",
    "          next.append(time_list[j+1])\n",
    "        return j\n",
    "    j=count_j() \n",
    "     \n",
    "    if(sales_test['time'][i]!=sales_test['time'][i+1]):\n",
    "      time_list=time_list[j+1:]\n",
    "  except:\n",
    "    next.append('00:20')\n",
    "\n",
    "sales_test['next_time']=next"
   ]
  },
  {
   "cell_type": "code",
   "execution_count": null,
   "metadata": {
    "colab": {},
    "colab_type": "code",
    "id": "8Mvfhik4sh7j"
   },
   "outputs": [],
   "source": [
    "sales_test.to_csv('ss.csv',encoding='euc-kr')"
   ]
  },
  {
   "cell_type": "code",
   "execution_count": null,
   "metadata": {
    "colab": {},
    "colab_type": "code",
    "id": "pldp4ulnrr6d"
   },
   "outputs": [],
   "source": [
    "def f_s(): #새벽-> 아침 시간대 조정\n",
    "  for i in range(1,len(sales_test)):\n",
    "    if (sales_test['next_time'][i]=='06:00' or sales_test['next_time'][i]=='06:20' or sales_test['next_time'][i]=='07:00' or sales_test['next_time'][i]=='07:20'):\n",
    "      if(sales_test['next_time'][i-1][:2]=='00'): # 한 케이스 확인\n",
    "        sales_test['next_time'][i]='01:00'\n",
    "      elif(sales_test['next_time'][i-1][:2]=='01'):\n",
    "        sales_test['next_time'][i]='02:00'\n",
    "      elif(sales_test['next_time'][i-1][:2]=='02'):\n",
    "        sales_test['next_time'][i]='02:20'\n",
    "      elif(sales_test['next_time'][i-1][:2]=='23'): # 한 케이스 확인\n",
    "        sales_test['next_time'][i]='00:00'\n"
   ]
  },
  {
   "cell_type": "code",
   "execution_count": null,
   "metadata": {
    "colab": {},
    "colab_type": "code",
    "id": "sV8RpTWtrr6f"
   },
   "outputs": [],
   "source": [
    "f_s()"
   ]
  },
  {
   "cell_type": "code",
   "execution_count": null,
   "metadata": {
    "colab": {},
    "colab_type": "code",
    "id": "ofBaF3d_rr6j"
   },
   "outputs": [],
   "source": [
    "for i in range(len(sales_test)):\n",
    "  for j in range(len(daily_top_3_test)):\n",
    "    if(sales_test['date'][i]==str(daily_top_3_test['date'][j])):\n",
    "      if(datetime.datetime.strptime(sales_test['time'][i],'%H:%M')<= datetime.datetime.strptime(daily_top_3_test['start time'][j],'%H:%M') <datetime.datetime.strptime(sales_test['next_time'][i],'%H:%M')):\n",
    "        print(daily_top_3_test['date'][j],daily_top_3_test['start time'][j])\n",
    "        print('viewrate{}'.format(str(daily_top_3_test['rank'][j])))\n",
    "        sales_test['viewrate{}'.format(str(daily_top_3_test['rank'][j]))][i]=1\n",
    "      elif(datetime.datetime.strptime(sales_test['time'][i],'%H:%M')< datetime.datetime.strptime(daily_top_3_test['finish time'][j],'%H:%M') <=datetime.datetime.strptime(sales_test['next_time'][i],'%H:%M')):\n",
    "        print(daily_top_3_test['date'][j],daily_top_3_test['finish time'][j])\n",
    "        print('viewrate{}'.format(str(daily_top_3_test['rank'][j])))\n",
    "        sales_test['viewrate{}'.format(str(daily_top_3_test['rank'][j]))][i]=1\n",
    "\n"
   ]
  },
  {
   "cell_type": "code",
   "execution_count": null,
   "metadata": {
    "colab": {},
    "colab_type": "code",
    "id": "r1RXI8X0rr6m"
   },
   "outputs": [],
   "source": [
    "sales_test.to_csv('sales_test_viewrate.csv',encoding='euc-kr')"
   ]
  },
  {
   "cell_type": "markdown",
   "metadata": {
    "colab_type": "text",
    "id": "hvUQwqy6rktf"
   },
   "source": [
    "함수"
   ]
  },
  {
   "cell_type": "code",
   "execution_count": null,
   "metadata": {
    "colab": {},
    "colab_type": "code",
    "id": "TLbTyQk6BGI_"
   },
   "outputs": [],
   "source": [
    "def nilsen_view_rate(sales,daily_top_3):\n",
    "  sales['viewrate1']=np.zeros((37372,1), dtype=np.int8)\n",
    "  sales['viewrate2']=np.zeros((37372,1), dtype=np.int8)\n",
    "  sales['viewrate3']=np.zeros((37372,1), dtype=np.int8)\n",
    "\n",
    "#\n",
    "  date_time=[]\n",
    "  for info in sales['방송일시']:\n",
    "    date_time.append(str(info).replace('Timestamp(','').replace(')','').strip())\n",
    "  time_list = pd.Series(date_time).unique()\n",
    "\n",
    "  for i in range(len(time_list)):\n",
    "    time_list[i] = time_list[i].split(' ')[1][:-3]\n",
    "\n",
    "#\n",
    "  date=[]\n",
    "  time=[]\n",
    "\n",
    "  for date_time in sales['방송일시']:\n",
    "    date_time= str(date_time).replace('Timestamp(','').replace(')','').strip()\n",
    "    date.append(date_time.split(' ')[0].replace('-',''))\n",
    "    time.append(date_time.split(' ')[1][:-3])\n",
    "\n",
    "  sales['date']= date\n",
    "  sales['time']= time\n",
    "\n",
    "  #\n",
    "  next= []\n",
    "\n",
    "  for i in range(len(sales)):\n",
    "    try:\n",
    "      def count_j():\n",
    "        for j in range(len(time_list)):\n",
    "          if(sales['time'][i]==time_list[j]): \n",
    "            next.append(time_list[j+1])\n",
    "          return j\n",
    "      j=count_j() \n",
    "     \n",
    "      if(sales['time'][i]!=sales['time'][i+1]):\n",
    "        time_list=time_list[j+1:]\n",
    "    except:\n",
    "      next.append('00:20')\n",
    "\n",
    "  sales['next_time']=next\n",
    "   #\n",
    "  def f_s(): #새벽-> 아침 시간대 조정\n",
    "    for i in range(1,len(sales)):\n",
    "      if (sales['next_time'][i]=='06:00' or sales['next_time'][i]=='06:20' or sales['next_time'][i]=='07:00' or sales['next_time'][i]=='07:20'):\n",
    "        if(sales['next_time'][i-1][:2]=='00'): # 한 케이스 확인\n",
    "          sales['next_time'][i]='01:00'\n",
    "        elif(sales['next_time'][i-1][:2]=='01'):\n",
    "          sales['next_time'][i]='02:00'\n",
    "        elif(sales['next_time'][i-1][:2]=='02'):\n",
    "          sales['next_time'][i]='02:20'\n",
    "        elif(sales['next_time'][i-1][:2]=='23'): # 한 케이스 확인\n",
    "          sales['next_time'][i]='00:00'\n",
    "\n",
    "    f_s()\n",
    "\n",
    "     #\n",
    "     for i in range(len(sales)):\n",
    "      for j in range(len(daily_top_3)):\n",
    "        if(sales['date'][i]==str(daily_top_3['date'][j])):\n",
    "          if(datetime.datetime.strptime(sales['time'][i],'%H:%M')<= datetime.datetime.strptime(daily_top_3['start time'][j],'%H:%M') <datetime.datetime.strptime(sales['next_time'][i],'%H:%M')):\n",
    "            print(daily_top_3['date'][j],daily_top_3['start time'][j])\n",
    "            print('viewrate{}'.format(str(daily_top_3['rank'][j])))\n",
    "            sales['viewrate{}'.format(str(daily_top_3['rank'][j]))][i]=1\n",
    "          elif(datetime.datetime.strptime(sales['time'][i],'%H:%M')< datetime.datetime.strptime(daily_top_3['finish time'][j],'%H:%M') <=datetime.datetime.strptime(sales['next_time'][i],'%H:%M')):\n",
    "            print(daily_top_3['date'][j],daily_top_3['finish time'][j])\n",
    "            print('viewrate{}'.format(str(daily_top_3['rank'][j])))\n",
    "            sales['viewrate{}'.format(str(daily_top_3['rank'][j]))][i]=1\n"
   ]
  }
 ],
 "metadata": {
  "accelerator": "GPU",
  "colab": {
   "name": "외부시청률feature.ipynb",
   "provenance": []
  },
  "hide_input": false,
  "kernelspec": {
   "display_name": "Python 3",
   "language": "python",
   "name": "python3"
  },
  "language_info": {
   "codemirror_mode": {
    "name": "ipython",
    "version": 3
   },
   "file_extension": ".py",
   "mimetype": "text/x-python",
   "name": "python",
   "nbconvert_exporter": "python",
   "pygments_lexer": "ipython3",
   "version": "3.7.7"
  }
 },
 "nbformat": 4,
 "nbformat_minor": 1
}
