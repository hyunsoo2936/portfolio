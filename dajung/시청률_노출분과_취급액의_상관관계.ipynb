{
  "nbformat": 4,
  "nbformat_minor": 0,
  "metadata": {
    "colab": {
      "name": "시청률/노출분과 취급액의 상관관계.ipynb",
      "provenance": [],
      "toc_visible": true
    },
    "kernelspec": {
      "name": "python3",
      "display_name": "Python 3"
    }
  },
  "cells": [
    {
      "cell_type": "code",
      "metadata": {
        "id": "yOyRvDWk__MC",
        "colab_type": "code",
        "colab": {}
      },
      "source": [
        "\n",
        "import pandas as pd\n",
        "import numpy as np\n",
        "from matplotlib import font_manager, rc\n",
        "import matplotlib.pyplot as plt\n",
        "import platform\n",
        "import datetime\n",
        "if platform.system() == 'Windows':\n",
        "# 윈도우인 경우\n",
        "    font_name = font_manager.FontProperties(fname=\"c:/Windows/Fonts/malgun.ttf\").get_name()\n",
        "    rc('font', family=font_name)\n",
        "else:    \n",
        "# Mac 인 경우\n",
        "    rc('font', family='AppleGothic')"
      ],
      "execution_count": 65,
      "outputs": []
    },
    {
      "cell_type": "code",
      "metadata": {
        "id": "xDvxqqG7AC2o",
        "colab_type": "code",
        "colab": {}
      },
      "source": [
        "sales= pd.read_excel('/content/2020 빅콘테스트 데이터분석분야-챔피언리그_2019년 실적데이터.xlsx',header =1)\n",
        "view_rate = pd.read_excel(\"/content/2020 빅콘테스트 데이터분석분야-챔피언리그_시청률 데이터.xlsx\",header =1, index_col= 0)"
      ],
      "execution_count": 66,
      "outputs": []
    },
    {
      "cell_type": "code",
      "metadata": {
        "id": "tYXK4rPCDbvT",
        "colab_type": "code",
        "colab": {}
      },
      "source": [
        "#2020-01-01 제외\n",
        "sales=sales[:-9]"
      ],
      "execution_count": 67,
      "outputs": []
    },
    {
      "cell_type": "code",
      "metadata": {
        "id": "zomWZNhl-gq8",
        "colab_type": "code",
        "colab": {}
      },
      "source": [
        "def count(t1,t2):\n",
        "    t1= datetime.datetime.strptime(t1, '%H:%M')\n",
        "    t2= datetime.datetime.strptime(t2, '%H:%M')\n",
        "    if(int(str(t2-t1).split(':')[0][-1])>0):\n",
        "      c=60\n",
        "    else:\n",
        "      c=int(str(t2-t1).split(':')[1])\n",
        "    return c-1"
      ],
      "execution_count": 68,
      "outputs": []
    },
    {
      "cell_type": "code",
      "metadata": {
        "id": "xxZxwjY4AmiW",
        "colab_type": "code",
        "colab": {}
      },
      "source": [
        "vr = list(sales['방송일시'])\n",
        "\n",
        "#방송일시 type Timestamp -> 문자열로 처리\n",
        "for i in range(len(vr)):\n",
        "  vr[i] = str(vr[i]).replace('Timestamp(','').replace(')','').strip()"
      ],
      "execution_count": 69,
      "outputs": []
    },
    {
      "cell_type": "code",
      "metadata": {
        "id": "BS-IlxSjMK3A",
        "colab_type": "code",
        "colab": {}
      },
      "source": [
        "#방송일시에서 날짜와 시간대를 분리하여 시간대 평균 시청률 매칭하기\n",
        "for i in range(len(vr)):\n",
        "  date = vr[i].split(' ')[0]\n",
        "\n",
        "  if(i<len(vr)-4): #19-12-31 23:40분 제외\n",
        "    t1 = vr[i].split(' ')[1][:5] #시간\n",
        "    #다음 방영 시간대 계산\n",
        "    def next(t1):\n",
        "      j=i\n",
        "      t2 = vr[j+1].split(' ')[1][:5]\n",
        "      while(t1==t2):\n",
        "        j=j+1\n",
        "        t2=vr[j+1].split(' ')[1][:5]\n",
        "      return vr[j+1].split(' ')[1][:5] #다음 시간\n",
        "    t2 = next(t1) \n",
        " \n",
        "  # 만약 다음 시간이 10분이면 \n",
        "    if(t2[3:]=='10'): \n",
        "      time = t1[:3]+'09'\n",
        "      vr[i]= view_rate[date].rolling(window=count(t1,t2)).mean()[time]\n",
        "    elif(t1=='01:30'):\n",
        "      vr[i]= view_rate[date].rolling(window=30).mean()['01:59']\n",
        "    elif(t1=='01:40'):\n",
        "      vr[i]= view_rate[date].rolling(window=20).mean()['01:59']\n",
        "    elif(t1=='01:50'):\n",
        "      vr[i]= view_rate[date].rolling(window=10).mean()['01:59']\n",
        "  # 10분 아니면  \n",
        "    else:\n",
        "      hour=t1[:3] #시\n",
        "      min= int(t1[3:])+count(t1,t2) \n",
        "      if(min>60): #만약 60분보다 큰 수가 나오면\n",
        "        min=min-60 # 빼버리고\n",
        "        if(min<10): #뺀 값이 한자리수 일 때\n",
        "          min='0'+str(min)   \n",
        "        new=int(hour[:2])+1# 시간은 +1\n",
        "        \n",
        "        if (new<10):\n",
        "          new='0'+str(new)\n",
        "\n",
        "        elif(new==24):  \n",
        "          new='00'\n",
        "        \n",
        "        hour=str(new)+':'\n",
        "      \n",
        "      time = hour+str(min)\n",
        "      \n",
        "      vr[i]= view_rate[date].rolling(window=count(t1,t2)).mean()[time]\n",
        "  \n",
        "#12월 31일 11시 40분 처리\n",
        "  else:\n",
        "      vr[i]= view_rate[date].rolling(window=20).mean()[vr[i].split(' ')[1][:3]+'59']\n",
        "     "
      ],
      "execution_count": 70,
      "outputs": []
    },
    {
      "cell_type": "code",
      "metadata": {
        "id": "NvSv5oedAg-n",
        "colab_type": "code",
        "colab": {}
      },
      "source": [
        "sales['시청률'] = vr"
      ],
      "execution_count": 71,
      "outputs": []
    },
    {
      "cell_type": "code",
      "metadata": {
        "id": "iyVw-dJnAHJX",
        "colab_type": "code",
        "colab": {}
      },
      "source": [
        "# 무형 지우기\n",
        "sales.drop(sales[sales[\"상품군\"]==\"무형\"].index, inplace=True)"
      ],
      "execution_count": 72,
      "outputs": []
    },
    {
      "cell_type": "code",
      "metadata": {
        "id": "sWGPq2hyAXrm",
        "colab_type": "code",
        "colab": {
          "base_uri": "https://localhost:8080/",
          "height": 198
        },
        "outputId": "e3a9cc64-3395-48e1-fe08-1338e1deb4cc"
      },
      "source": [
        "# 결측된 노출분 채우기\n",
        "for i,row in sales.iterrows():\n",
        "    val = row[\"노출(분)\"]\n",
        "    if i == 0 :\n",
        "        continue\n",
        "        \n",
        "    if  np.isnan(val):\n",
        "        if sales.loc[i,\"방송일시\"] == sales.loc[i-1,\"방송일시\"]:\n",
        "            sales.loc[i,\"노출(분)\"] = sales.loc[i-1,\"노출(분)\"]\n",
        "        else : \n",
        "            continue\n",
        "            \n",
        "sales.isnull().sum()\n"
      ],
      "execution_count": 73,
      "outputs": [
        {
          "output_type": "execute_result",
          "data": {
            "text/plain": [
              "방송일시     0\n",
              "노출(분)    0\n",
              "마더코드     0\n",
              "상품코드     0\n",
              "상품명      0\n",
              "상품군      0\n",
              "판매단가     0\n",
              "취급액      0\n",
              "시청률      0\n",
              "dtype: int64"
            ]
          },
          "metadata": {
            "tags": []
          },
          "execution_count": 73
        }
      ]
    },
    {
      "cell_type": "code",
      "metadata": {
        "id": "mF4FddhwAZKy",
        "colab_type": "code",
        "colab": {
          "base_uri": "https://localhost:8080/",
          "height": 35
        },
        "outputId": "6b391d6f-5f98-4667-9453-16080371d237"
      },
      "source": [
        "\n",
        "# 판매단가 > 취급액 이면 취급액 = 0 \n",
        "\n",
        "def custom(price, total):\n",
        "    if price > total:\n",
        "        return 0\n",
        "    \n",
        "    else:\n",
        "        return total\n",
        "\n",
        "sales[\"취급액\"] = sales.apply(lambda x : custom(x[\"판매단가\"], x[\"취급액\"]), axis=1)\n",
        "\n",
        "# 확인\n",
        "print(sum((sales[\"판매단가\"] > sales[\"취급액\"]) & (sales['취급액'] != 0)))\n"
      ],
      "execution_count": 74,
      "outputs": [
        {
          "output_type": "stream",
          "text": [
            "0\n"
          ],
          "name": "stdout"
        }
      ]
    },
    {
      "cell_type": "code",
      "metadata": {
        "id": "RCzzRTdNAZvN",
        "colab_type": "code",
        "colab": {}
      },
      "source": [
        "\n",
        "# month, day, hour, minute, weekday 열 추가\n",
        "sales['month'] = pd.DatetimeIndex(sales['방송일시']).month\n",
        "sales['day'] = pd.DatetimeIndex(sales['방송일시']).day\n",
        "sales['hour'] = pd.DatetimeIndex(sales['방송일시']).hour\n",
        "sales['minute'] = pd.DatetimeIndex(sales['방송일시']).minute\n",
        "sales['weekday'] = pd.DatetimeIndex(sales['방송일시']).weekday\n"
      ],
      "execution_count": 75,
      "outputs": []
    },
    {
      "cell_type": "code",
      "metadata": {
        "id": "ZCiM51j_KMrp",
        "colab_type": "code",
        "colab": {
          "base_uri": "https://localhost:8080/",
          "height": 234
        },
        "outputId": "af803d86-28d0-4aaa-9bba-5a7676d04e13"
      },
      "source": [
        "sales['시청률'].value_counts(normalize=True)"
      ],
      "execution_count": 76,
      "outputs": [
        {
          "output_type": "execute_result",
          "data": {
            "text/plain": [
              "0.000000e+00    0.168700\n",
              "3.652049e-19    0.008858\n",
              "7.304099e-19    0.005539\n",
              "1.826025e-19    0.004442\n",
              "1.460820e-18    0.004121\n",
              "                  ...   \n",
              "8.888889e-04    0.000027\n",
              "2.526316e-03    0.000027\n",
              "2.631579e-03    0.000027\n",
              "5.555556e-04    0.000027\n",
              "1.789474e-03    0.000027\n",
              "Name: 시청률, Length: 9397, dtype: float64"
            ]
          },
          "metadata": {
            "tags": []
          },
          "execution_count": 76
        }
      ]
    },
    {
      "cell_type": "code",
      "metadata": {
        "id": "8vveAsHyfgfX",
        "colab_type": "code",
        "colab": {}
      },
      "source": [
        "from sklearn.model_selection import train_test_split\n",
        "x = sales[['노출(분)', '시청률']]\n",
        "y = sales[['취급액']]\n",
        "x_train, x_test, y_train, y_test = train_test_split(x, y, train_size=0.8, test_size=0.2)\n"
      ],
      "execution_count": 77,
      "outputs": []
    },
    {
      "cell_type": "code",
      "metadata": {
        "id": "noQGTjSfcGf5",
        "colab_type": "code",
        "colab": {
          "base_uri": "https://localhost:8080/",
          "height": 35
        },
        "outputId": "678fd884-3bf4-4891-c8cb-f0ae4ef2876d"
      },
      "source": [
        "from sklearn.linear_model import LinearRegression\n",
        "model = LinearRegression()\n",
        "model.fit(x_train, y_train)"
      ],
      "execution_count": 78,
      "outputs": [
        {
          "output_type": "execute_result",
          "data": {
            "text/plain": [
              "LinearRegression(copy_X=True, fit_intercept=True, n_jobs=None, normalize=False)"
            ]
          },
          "metadata": {
            "tags": []
          },
          "execution_count": 78
        }
      ]
    },
    {
      "cell_type": "code",
      "metadata": {
        "id": "MESVkqwu6dr8",
        "colab_type": "code",
        "colab": {}
      },
      "source": [
        "y_predicted = model.predict(x_test)"
      ],
      "execution_count": 79,
      "outputs": []
    },
    {
      "cell_type": "code",
      "metadata": {
        "id": "ELS3E0b86uXm",
        "colab_type": "code",
        "colab": {
          "base_uri": "https://localhost:8080/",
          "height": 53
        },
        "outputId": "c211c9b8-1c13-456b-cbc3-3221d6261216"
      },
      "source": [
        "print(model.intercept_)\n",
        "print(model.coef_[[0]])"
      ],
      "execution_count": 80,
      "outputs": [
        {
          "output_type": "stream",
          "text": [
            "[17092178.73951696]\n",
            "[[1.95549171e+05 1.70261238e+08]]\n"
          ],
          "name": "stdout"
        }
      ]
    },
    {
      "cell_type": "code",
      "metadata": {
        "id": "RW-IMdyj9Zl8",
        "colab_type": "code",
        "colab": {
          "base_uri": "https://localhost:8080/",
          "height": 286
        },
        "outputId": "7f3381ed-ac75-4ad2-b345-06b2c860d81d"
      },
      "source": [
        "#잔차\n",
        "residuals =y_test-y_predicted\n",
        "residuals.describe()"
      ],
      "execution_count": 81,
      "outputs": [
        {
          "output_type": "execute_result",
          "data": {
            "text/html": [
              "<div>\n",
              "<style scoped>\n",
              "    .dataframe tbody tr th:only-of-type {\n",
              "        vertical-align: middle;\n",
              "    }\n",
              "\n",
              "    .dataframe tbody tr th {\n",
              "        vertical-align: top;\n",
              "    }\n",
              "\n",
              "    .dataframe thead th {\n",
              "        text-align: right;\n",
              "    }\n",
              "</style>\n",
              "<table border=\"1\" class=\"dataframe\">\n",
              "  <thead>\n",
              "    <tr style=\"text-align: right;\">\n",
              "      <th></th>\n",
              "      <th>취급액</th>\n",
              "    </tr>\n",
              "  </thead>\n",
              "  <tbody>\n",
              "    <tr>\n",
              "      <th>count</th>\n",
              "      <td>7.474000e+03</td>\n",
              "    </tr>\n",
              "    <tr>\n",
              "      <th>mean</th>\n",
              "      <td>8.033338e+04</td>\n",
              "    </tr>\n",
              "    <tr>\n",
              "      <th>std</th>\n",
              "      <td>2.015096e+07</td>\n",
              "    </tr>\n",
              "    <tr>\n",
              "      <th>min</th>\n",
              "      <td>-3.066212e+07</td>\n",
              "    </tr>\n",
              "    <tr>\n",
              "      <th>25%</th>\n",
              "      <td>-1.479543e+07</td>\n",
              "    </tr>\n",
              "    <tr>\n",
              "      <th>50%</th>\n",
              "      <td>-5.489877e+06</td>\n",
              "    </tr>\n",
              "    <tr>\n",
              "      <th>75%</th>\n",
              "      <td>1.005279e+07</td>\n",
              "    </tr>\n",
              "    <tr>\n",
              "      <th>max</th>\n",
              "      <td>2.107858e+08</td>\n",
              "    </tr>\n",
              "  </tbody>\n",
              "</table>\n",
              "</div>"
            ],
            "text/plain": [
              "                취급액\n",
              "count  7.474000e+03\n",
              "mean   8.033338e+04\n",
              "std    2.015096e+07\n",
              "min   -3.066212e+07\n",
              "25%   -1.479543e+07\n",
              "50%   -5.489877e+06\n",
              "75%    1.005279e+07\n",
              "max    2.107858e+08"
            ]
          },
          "metadata": {
            "tags": []
          },
          "execution_count": 81
        }
      ]
    },
    {
      "cell_type": "code",
      "metadata": {
        "id": "nnfwNYKh9m2f",
        "colab_type": "code",
        "colab": {
          "base_uri": "https://localhost:8080/",
          "height": 53
        },
        "outputId": "7a79ea08-f396-4460-c854-047735015efd"
      },
      "source": [
        "# 적합도 검증 - 결정계수\n",
        "SSE = (residuals**2).sum()\n",
        "SST = ((y_test-y_test.mean())**2).sum()\n",
        "R_squared = 1 - (SSE/SST)\n",
        "print('R_squared = ', R_squared)"
      ],
      "execution_count": 82,
      "outputs": [
        {
          "output_type": "stream",
          "text": [
            "R_squared =  취급액    0.005544\n",
            "dtype: float64\n"
          ],
          "name": "stdout"
        }
      ]
    },
    {
      "cell_type": "code",
      "metadata": {
        "id": "oy8r1s7Z8rOx",
        "colab_type": "code",
        "colab": {
          "base_uri": "https://localhost:8080/",
          "height": 71
        },
        "outputId": "8787805f-716c-4620-8ba9-cc2104853031"
      },
      "source": [
        "from sklearn.metrics import mean_squared_error\n",
        "print('score = ',model.score(X = x, y=y))\n",
        "print('Mean_Squared_Error = ', mean_squared_error(y_predicted, y_test))\n",
        "print('RMSE = ', mean_squared_error(y_predicted, y_test)**0.5)\n",
        "#오차가..."
      ],
      "execution_count": 83,
      "outputs": [
        {
          "output_type": "stream",
          "text": [
            "score =  0.0056759250078922685\n",
            "Mean_Squared_Error =  406013410403817.94\n",
            "RMSE =  20149774.450445294\n"
          ],
          "name": "stdout"
        }
      ]
    },
    {
      "cell_type": "code",
      "metadata": {
        "id": "LTYgqSI06hOh",
        "colab_type": "code",
        "colab": {
          "base_uri": "https://localhost:8080/",
          "height": 295
        },
        "outputId": "a9d21be5-0d5f-439f-b72b-6248abf64d42"
      },
      "source": [
        "import matplotlib.pyplot as plt\n",
        "plt.scatter(y_test, y_predicted, alpha=0.4)\n",
        "plt.xlabel(\"Actual\")\n",
        "plt.ylabel(\"Predicted\")\n",
        "plt.title(\"MULTIPLE LINEAR REGRESSION\")\n",
        "plt.show()"
      ],
      "execution_count": 84,
      "outputs": [
        {
          "output_type": "display_data",
          "data": {
            "image/png": "[encoded data removed]",
            "text/plain": [
              "<Figure size 432x288 with 1 Axes>"
            ]
          },
          "metadata": {
            "tags": [],
            "needs_background": "light"
          }
        }
      ]
    },
    {
      "cell_type": "code",
      "metadata": {
        "id": "oEOHVYigFEX_",
        "colab_type": "code",
        "colab": {
          "base_uri": "https://localhost:8080/",
          "height": 35
        },
        "outputId": "26cca7e2-6758-4c70-ee72-984de7e10882"
      },
      "source": [
        "x_test['노출(분)'].size"
      ],
      "execution_count": 85,
      "outputs": [
        {
          "output_type": "execute_result",
          "data": {
            "text/plain": [
              "7474"
            ]
          },
          "metadata": {
            "tags": []
          },
          "execution_count": 85
        }
      ]
    },
    {
      "cell_type": "code",
      "metadata": {
        "id": "xVkXKAxz694h",
        "colab_type": "code",
        "colab": {
          "base_uri": "https://localhost:8080/",
          "height": 276
        },
        "outputId": "05f2ee9a-8434-466f-c887-8318749c281e"
      },
      "source": [
        "plt.scatter(sales['노출(분)'], sales['취급액'], alpha=0.4)\n",
        "plt.show()"
      ],
      "execution_count": 86,
      "outputs": [
        {
          "output_type": "display_data",
          "data": {
            "image/png": "[encoded data removed]",
            "text/plain": [
              "<Figure size 432x288 with 1 Axes>"
            ]
          },
          "metadata": {
            "tags": [],
            "needs_background": "light"
          }
        }
      ]
    },
    {
      "cell_type": "code",
      "metadata": {
        "id": "wqz6Q21P7G7Z",
        "colab_type": "code",
        "colab": {
          "base_uri": "https://localhost:8080/",
          "height": 276
        },
        "outputId": "a8f32948-195c-4df5-d64c-8599cb2701f6"
      },
      "source": [
        "plt.scatter(sales['시청률'], sales['취급액'], alpha=0.4)\n",
        "plt.show()"
      ],
      "execution_count": 87,
      "outputs": [
        {
          "output_type": "display_data",
          "data": {
            "image/png": "[encoded data removed]",
            "text/plain": [
              "<Figure size 432x288 with 1 Axes>"
            ]
          },
          "metadata": {
            "tags": [],
            "needs_background": "light"
          }
        }
      ]
    },
    {
      "cell_type": "code",
      "metadata": {
        "id": "ZRXpuaLt-41Q",
        "colab_type": "code",
        "colab": {
          "base_uri": "https://localhost:8080/",
          "height": 180
        },
        "outputId": "e3bc0872-1b4a-40ad-d659-a3efdd039569"
      },
      "source": [
        "sales['취급액'].describe()"
      ],
      "execution_count": 88,
      "outputs": [
        {
          "output_type": "execute_result",
          "data": {
            "text/plain": [
              "count    3.736800e+04\n",
              "mean     2.186696e+07\n",
              "std      2.018984e+07\n",
              "min      0.000000e+00\n",
              "25%      6.880000e+06\n",
              "50%      1.612850e+07\n",
              "75%      3.162475e+07\n",
              "max      3.220090e+08\n",
              "Name: 취급액, dtype: float64"
            ]
          },
          "metadata": {
            "tags": []
          },
          "execution_count": 88
        }
      ]
    },
    {
      "cell_type": "code",
      "metadata": {
        "id": "Kb0HE5Qv_9Mv",
        "colab_type": "code",
        "colab": {
          "base_uri": "https://localhost:8080/",
          "height": 180
        },
        "outputId": "a9f0b1f6-7f7b-4cbe-e2d2-3d57372833a5"
      },
      "source": [
        "sales['노출(분)'].describe()"
      ],
      "execution_count": 89,
      "outputs": [
        {
          "output_type": "execute_result",
          "data": {
            "text/plain": [
              "count    37368.000000\n",
              "mean        20.384069\n",
              "std          3.122025\n",
              "min          2.466667\n",
              "25%         20.000000\n",
              "50%         20.000000\n",
              "75%         20.000000\n",
              "max         40.000000\n",
              "Name: 노출(분), dtype: float64"
            ]
          },
          "metadata": {
            "tags": []
          },
          "execution_count": 89
        }
      ]
    },
    {
      "cell_type": "code",
      "metadata": {
        "id": "CH-T6IwqAHeq",
        "colab_type": "code",
        "colab": {
          "base_uri": "https://localhost:8080/",
          "height": 180
        },
        "outputId": "747e6efd-f08a-4e32-bc9c-00d30022aa55"
      },
      "source": [
        "sales['시청률'].describe()"
      ],
      "execution_count": 90,
      "outputs": [
        {
          "output_type": "execute_result",
          "data": {
            "text/plain": [
              "count    3.736800e+04\n",
              "mean     4.537890e-03\n",
              "std      8.181684e-03\n",
              "min      0.000000e+00\n",
              "25%      3.652049e-18\n",
              "50%      1.315789e-03\n",
              "75%      5.157895e-03\n",
              "max      1.259474e-01\n",
              "Name: 시청률, dtype: float64"
            ]
          },
          "metadata": {
            "tags": []
          },
          "execution_count": 90
        }
      ]
    },
    {
      "cell_type": "markdown",
      "metadata": {
        "id": "pnzOd1OE_l_9",
        "colab_type": "text"
      },
      "source": [
        "**시청률 높은 애들 대상으로...?**"
      ]
    },
    {
      "cell_type": "code",
      "metadata": {
        "id": "Vp3cUrM6B3Op",
        "colab_type": "code",
        "colab": {}
      },
      "source": [
        "vr_high =sales[sales['시청률']>=5.157895e-03]"
      ],
      "execution_count": 91,
      "outputs": []
    },
    {
      "cell_type": "code",
      "metadata": {
        "id": "y_xLlHEfCIJC",
        "colab_type": "code",
        "colab": {
          "base_uri": "https://localhost:8080/",
          "height": 35
        },
        "outputId": "0a9f6d6e-a6ec-4a51-c72d-1d36dd6d6f4b"
      },
      "source": [
        "from sklearn.model_selection import train_test_split\n",
        "x = vr_high[['노출(분)', '시청률']]\n",
        "y = vr_high[['취급액']]\n",
        "x_train, x_test, y_train, y_test = train_test_split(x, y, train_size=0.8, test_size=0.2)\n",
        "\n",
        "from sklearn.linear_model import LinearRegression\n",
        "model = LinearRegression()\n",
        "model.fit(x_train, y_train)"
      ],
      "execution_count": 92,
      "outputs": [
        {
          "output_type": "execute_result",
          "data": {
            "text/plain": [
              "LinearRegression(copy_X=True, fit_intercept=True, n_jobs=None, normalize=False)"
            ]
          },
          "metadata": {
            "tags": []
          },
          "execution_count": 92
        }
      ]
    },
    {
      "cell_type": "code",
      "metadata": {
        "id": "_8bjavPbCUgM",
        "colab_type": "code",
        "colab": {}
      },
      "source": [
        "y_predicted = model.predict(x_test)"
      ],
      "execution_count": 93,
      "outputs": []
    },
    {
      "cell_type": "code",
      "metadata": {
        "id": "X3q3NE-3CXpW",
        "colab_type": "code",
        "colab": {
          "base_uri": "https://localhost:8080/",
          "height": 53
        },
        "outputId": "6b02375b-cf06-44d5-ce8c-35a6b1980c41"
      },
      "source": [
        "print(model.intercept_)\n",
        "print('노출시간, 시청률 : ', model.coef_[[0]])"
      ],
      "execution_count": 94,
      "outputs": [
        {
          "output_type": "stream",
          "text": [
            "[20882362.00527507]\n",
            "노출시간, 시청률 :  [[  102014.69652529 75828382.39389929]]\n"
          ],
          "name": "stdout"
        }
      ]
    },
    {
      "cell_type": "code",
      "metadata": {
        "id": "O5WrHZXhCbdZ",
        "colab_type": "code",
        "colab": {
          "base_uri": "https://localhost:8080/",
          "height": 286
        },
        "outputId": "51e0aa01-ba06-4482-b45f-a49b9149dae2"
      },
      "source": [
        "#잔차\n",
        "residuals =y_test-y_predicted\n",
        "residuals.describe()"
      ],
      "execution_count": 95,
      "outputs": [
        {
          "output_type": "execute_result",
          "data": {
            "text/html": [
              "<div>\n",
              "<style scoped>\n",
              "    .dataframe tbody tr th:only-of-type {\n",
              "        vertical-align: middle;\n",
              "    }\n",
              "\n",
              "    .dataframe tbody tr th {\n",
              "        vertical-align: top;\n",
              "    }\n",
              "\n",
              "    .dataframe thead th {\n",
              "        text-align: right;\n",
              "    }\n",
              "</style>\n",
              "<table border=\"1\" class=\"dataframe\">\n",
              "  <thead>\n",
              "    <tr style=\"text-align: right;\">\n",
              "      <th></th>\n",
              "      <th>취급액</th>\n",
              "    </tr>\n",
              "  </thead>\n",
              "  <tbody>\n",
              "    <tr>\n",
              "      <th>count</th>\n",
              "      <td>1.861000e+03</td>\n",
              "    </tr>\n",
              "    <tr>\n",
              "      <th>mean</th>\n",
              "      <td>4.045479e+05</td>\n",
              "    </tr>\n",
              "    <tr>\n",
              "      <th>std</th>\n",
              "      <td>2.250345e+07</td>\n",
              "    </tr>\n",
              "    <tr>\n",
              "      <th>min</th>\n",
              "      <td>-2.687135e+07</td>\n",
              "    </tr>\n",
              "    <tr>\n",
              "      <th>25%</th>\n",
              "      <td>-1.630235e+07</td>\n",
              "    </tr>\n",
              "    <tr>\n",
              "      <th>50%</th>\n",
              "      <td>-5.249698e+06</td>\n",
              "    </tr>\n",
              "    <tr>\n",
              "      <th>75%</th>\n",
              "      <td>1.094074e+07</td>\n",
              "    </tr>\n",
              "    <tr>\n",
              "      <th>max</th>\n",
              "      <td>2.047333e+08</td>\n",
              "    </tr>\n",
              "  </tbody>\n",
              "</table>\n",
              "</div>"
            ],
            "text/plain": [
              "                취급액\n",
              "count  1.861000e+03\n",
              "mean   4.045479e+05\n",
              "std    2.250345e+07\n",
              "min   -2.687135e+07\n",
              "25%   -1.630235e+07\n",
              "50%   -5.249698e+06\n",
              "75%    1.094074e+07\n",
              "max    2.047333e+08"
            ]
          },
          "metadata": {
            "tags": []
          },
          "execution_count": 95
        }
      ]
    },
    {
      "cell_type": "code",
      "metadata": {
        "id": "wm6uw7lhCecZ",
        "colab_type": "code",
        "colab": {
          "base_uri": "https://localhost:8080/",
          "height": 53
        },
        "outputId": "44080ac8-9918-449a-f3fb-b40630ce95aa"
      },
      "source": [
        "# 적합도 검증 - 결정계수\n",
        "SSE = (residuals**2).sum()\n",
        "SST = ((y_test-y_test.mean())**2).sum()\n",
        "R_squared = 1 - (SSE/SST)\n",
        "print('R_squared = ', R_squared)"
      ],
      "execution_count": 96,
      "outputs": [
        {
          "output_type": "stream",
          "text": [
            "R_squared =  취급액    0.002327\n",
            "dtype: float64\n"
          ],
          "name": "stdout"
        }
      ]
    },
    {
      "cell_type": "code",
      "metadata": {
        "id": "IX_DRqDyCo1j",
        "colab_type": "code",
        "colab": {
          "base_uri": "https://localhost:8080/",
          "height": 71
        },
        "outputId": "15246db5-54aa-4b27-cf34-57b0543420cd"
      },
      "source": [
        "from sklearn.metrics import mean_squared_error\n",
        "print('score = ',model.score(X = x, y=y))\n",
        "print('Mean_Squared_Error = ', mean_squared_error(y_predicted, y_test))\n",
        "print('RMSE = ', mean_squared_error(y_predicted, y_test)**0.5)\n"
      ],
      "execution_count": 97,
      "outputs": [
        {
          "output_type": "stream",
          "text": [
            "score =  0.0018966043024239987\n",
            "Mean_Squared_Error =  506296705961482.56\n",
            "RMSE =  22501037.886317212\n"
          ],
          "name": "stdout"
        }
      ]
    },
    {
      "cell_type": "code",
      "metadata": {
        "id": "Dj3DTq2uCtd6",
        "colab_type": "code",
        "colab": {
          "base_uri": "https://localhost:8080/",
          "height": 295
        },
        "outputId": "8719d665-e434-4905-8a28-60b75e5bd2f5"
      },
      "source": [
        "import matplotlib.pyplot as plt\n",
        "plt.scatter(y_test, y_predicted, alpha=0.4)\n",
        "plt.xlabel(\"Actual\")\n",
        "plt.ylabel(\"Predicted\")\n",
        "plt.title(\"MULTIPLE LINEAR REGRESSION\")\n",
        "plt.show()"
      ],
      "execution_count": 98,
      "outputs": [
        {
          "output_type": "display_data",
          "data": {
            "image/png": "[encoded data removed]",
            "text/plain": [
              "<Figure size 432x288 with 1 Axes>"
            ]
          },
          "metadata": {
            "tags": [],
            "needs_background": "light"
          }
        }
      ]
    },
    {
      "cell_type": "markdown",
      "metadata": {
        "id": "fwH-kPrvC3bB",
        "colab_type": "text"
      },
      "source": [
        "**노출시간 높은 애들 대상으로..?**"
      ]
    },
    {
      "cell_type": "code",
      "metadata": {
        "id": "CjAQpRI8C3BH",
        "colab_type": "code",
        "colab": {}
      },
      "source": [
        "vt_high =sales[sales['노출(분)']>=30]"
      ],
      "execution_count": 123,
      "outputs": []
    },
    {
      "cell_type": "code",
      "metadata": {
        "colab_type": "code",
        "id": "OFkBqO-mDJc3",
        "colab": {
          "base_uri": "https://localhost:8080/",
          "height": 35
        },
        "outputId": "efeec4b2-def5-4559-e225-65e0dce8f80c"
      },
      "source": [
        "from sklearn.model_selection import train_test_split\n",
        "x = vt_high[['노출(분)', '시청률']]\n",
        "y = vt_high[['취급액']]\n",
        "x_train, x_test, y_train, y_test = train_test_split(x, y, train_size=0.8, test_size=0.2)\n",
        "\n",
        "from sklearn.linear_model import LinearRegression\n",
        "model = LinearRegression()\n",
        "model.fit(x_train, y_train)"
      ],
      "execution_count": 116,
      "outputs": [
        {
          "output_type": "execute_result",
          "data": {
            "text/plain": [
              "LinearRegression(copy_X=True, fit_intercept=True, n_jobs=None, normalize=False)"
            ]
          },
          "metadata": {
            "tags": []
          },
          "execution_count": 116
        }
      ]
    },
    {
      "cell_type": "code",
      "metadata": {
        "colab_type": "code",
        "id": "yoQtX_xoDJc_",
        "colab": {}
      },
      "source": [
        "y_predicted = model.predict(x_test)"
      ],
      "execution_count": 124,
      "outputs": []
    },
    {
      "cell_type": "code",
      "metadata": {
        "colab_type": "code",
        "id": "_ZCteZC_DJdE",
        "colab": {
          "base_uri": "https://localhost:8080/",
          "height": 53
        },
        "outputId": "06e2a18d-6b6a-477a-d9ab-d2ff11bfbe23"
      },
      "source": [
        "print(model.intercept_)\n",
        "print('노출시간, 시청률 : ', model.coef_[[0]])"
      ],
      "execution_count": 125,
      "outputs": [
        {
          "output_type": "stream",
          "text": [
            "[1.45489631e+08]\n",
            "노출시간, 시청률 :  [[-4137936.75724962 49244867.3183258 ]]\n"
          ],
          "name": "stdout"
        }
      ]
    },
    {
      "cell_type": "code",
      "metadata": {
        "colab_type": "code",
        "id": "KMgM72ESDJdI",
        "colab": {
          "base_uri": "https://localhost:8080/",
          "height": 286
        },
        "outputId": "7fbeef78-6d6f-4a7c-f2fe-653183f0445e"
      },
      "source": [
        "#잔차\n",
        "residuals =y_test-y_predicted\n",
        "residuals.describe()"
      ],
      "execution_count": 126,
      "outputs": [
        {
          "output_type": "execute_result",
          "data": {
            "text/html": [
              "<div>\n",
              "<style scoped>\n",
              "    .dataframe tbody tr th:only-of-type {\n",
              "        vertical-align: middle;\n",
              "    }\n",
              "\n",
              "    .dataframe tbody tr th {\n",
              "        vertical-align: top;\n",
              "    }\n",
              "\n",
              "    .dataframe thead th {\n",
              "        text-align: right;\n",
              "    }\n",
              "</style>\n",
              "<table border=\"1\" class=\"dataframe\">\n",
              "  <thead>\n",
              "    <tr style=\"text-align: right;\">\n",
              "      <th></th>\n",
              "      <th>취급액</th>\n",
              "    </tr>\n",
              "  </thead>\n",
              "  <tbody>\n",
              "    <tr>\n",
              "      <th>count</th>\n",
              "      <td>5.260000e+02</td>\n",
              "    </tr>\n",
              "    <tr>\n",
              "      <th>mean</th>\n",
              "      <td>-2.413549e+05</td>\n",
              "    </tr>\n",
              "    <tr>\n",
              "      <th>std</th>\n",
              "      <td>2.328971e+07</td>\n",
              "    </tr>\n",
              "    <tr>\n",
              "      <th>min</th>\n",
              "      <td>-2.326698e+07</td>\n",
              "    </tr>\n",
              "    <tr>\n",
              "      <th>25%</th>\n",
              "      <td>-1.713153e+07</td>\n",
              "    </tr>\n",
              "    <tr>\n",
              "      <th>50%</th>\n",
              "      <td>-9.217528e+06</td>\n",
              "    </tr>\n",
              "    <tr>\n",
              "      <th>75%</th>\n",
              "      <td>1.028034e+07</td>\n",
              "    </tr>\n",
              "    <tr>\n",
              "      <th>max</th>\n",
              "      <td>1.253500e+08</td>\n",
              "    </tr>\n",
              "  </tbody>\n",
              "</table>\n",
              "</div>"
            ],
            "text/plain": [
              "                취급액\n",
              "count  5.260000e+02\n",
              "mean  -2.413549e+05\n",
              "std    2.328971e+07\n",
              "min   -2.326698e+07\n",
              "25%   -1.713153e+07\n",
              "50%   -9.217528e+06\n",
              "75%    1.028034e+07\n",
              "max    1.253500e+08"
            ]
          },
          "metadata": {
            "tags": []
          },
          "execution_count": 126
        }
      ]
    },
    {
      "cell_type": "code",
      "metadata": {
        "colab_type": "code",
        "id": "VNOIk1CeDJdM",
        "colab": {
          "base_uri": "https://localhost:8080/",
          "height": 53
        },
        "outputId": "44ae3159-0659-44d0-8659-aa6347855455"
      },
      "source": [
        "# 적합도 검증 - 결정계수\n",
        "SSE = (residuals**2).sum()\n",
        "SST = ((y_test-y_test.mean())**2).sum()\n",
        "R_squared = 1 - (SSE/SST)\n",
        "print('R_squared = ', R_squared)"
      ],
      "execution_count": 127,
      "outputs": [
        {
          "output_type": "stream",
          "text": [
            "R_squared =  취급액    0.003724\n",
            "dtype: float64\n"
          ],
          "name": "stdout"
        }
      ]
    },
    {
      "cell_type": "code",
      "metadata": {
        "colab_type": "code",
        "id": "ZJ2mkjCGDJdO",
        "colab": {
          "base_uri": "https://localhost:8080/",
          "height": 71
        },
        "outputId": "4837671e-cd0d-4aeb-fcc7-921c1cb77f96"
      },
      "source": [
        "from sklearn.metrics import mean_squared_error\n",
        "print('score = ',model.score(X = x, y=y))\n",
        "print('Mean_Squared_Error = ', mean_squared_error(y_predicted, y_test))\n",
        "print('RMSE = ', mean_squared_error(y_predicted, y_test)**0.5)\n"
      ],
      "execution_count": 128,
      "outputs": [
        {
          "output_type": "stream",
          "text": [
            "score =  0.003555027901740005\n",
            "Mean_Squared_Error =  541437805419853.06\n",
            "RMSE =  23268816.1585383\n"
          ],
          "name": "stdout"
        }
      ]
    },
    {
      "cell_type": "code",
      "metadata": {
        "colab_type": "code",
        "id": "YegDcdOfDJdR",
        "colab": {
          "base_uri": "https://localhost:8080/",
          "height": 295
        },
        "outputId": "aee7e90e-55cf-4796-a9ce-f12450fb42ca"
      },
      "source": [
        "import matplotlib.pyplot as plt\n",
        "plt.scatter(y_test, y_predicted, alpha=0.4)\n",
        "plt.xlabel(\"Actual\")\n",
        "plt.ylabel(\"Predicted\")\n",
        "plt.title(\"MULTIPLE LINEAR REGRESSION\")\n",
        "plt.show()"
      ],
      "execution_count": 129,
      "outputs": [
        {
          "output_type": "display_data",
          "data": {
            "image/png": "[encoded data removed]",
            "text/plain": [
              "<Figure size 432x288 with 1 Axes>"
            ]
          },
          "metadata": {
            "tags": [],
            "needs_background": "light"
          }
        }
      ]
    },
    {
      "cell_type": "markdown",
      "metadata": {
        "id": "3x4nsrzTH-n3",
        "colab_type": "text"
      },
      "source": [
        "**다항 회귀**"
      ]
    },
    {
      "cell_type": "code",
      "metadata": {
        "colab_type": "code",
        "id": "yHhH0XimIlC5",
        "colab": {}
      },
      "source": [
        "vr_high_poly =vr_high"
      ],
      "execution_count": 130,
      "outputs": []
    },
    {
      "cell_type": "code",
      "metadata": {
        "colab_type": "code",
        "id": "aO9MbT-oIlDC",
        "colab": {}
      },
      "source": [
        "from sklearn.model_selection import train_test_split\n",
        "x = vr_high_poly[['시청률']]\n",
        "y = vr_high_poly[['취급액']]\n",
        "x_train, x_test, y_train, y_test = train_test_split(x, y, train_size=0.8, test_size=0.2)\n"
      ],
      "execution_count": 131,
      "outputs": []
    },
    {
      "cell_type": "code",
      "metadata": {
        "id": "Z4eKixyTHkUc",
        "colab_type": "code",
        "colab": {}
      },
      "source": [
        "from sklearn.preprocessing import PolynomialFeatures\n",
        "\n",
        "poly_features = PolynomialFeatures(degree=2, include_bias=False)\n",
        "X = poly_features.fit_transform(x)\n",
        "X_poly_train = poly_features.fit_transform(x_train)\n",
        "X_poly_test = poly_features.fit_transform(x_test)"
      ],
      "execution_count": 132,
      "outputs": []
    },
    {
      "cell_type": "code",
      "metadata": {
        "id": "ou32n6sAI-Hz",
        "colab_type": "code",
        "colab": {
          "base_uri": "https://localhost:8080/",
          "height": 35
        },
        "outputId": "2664e40d-e1e0-4a89-9855-bd0c234aaed9"
      },
      "source": [
        "from sklearn.linear_model import LinearRegression\n",
        "model = LinearRegression()\n",
        "model.fit(X_poly_train, y_train)"
      ],
      "execution_count": 133,
      "outputs": [
        {
          "output_type": "execute_result",
          "data": {
            "text/plain": [
              "LinearRegression(copy_X=True, fit_intercept=True, n_jobs=None, normalize=False)"
            ]
          },
          "metadata": {
            "tags": []
          },
          "execution_count": 133
        }
      ]
    },
    {
      "cell_type": "code",
      "metadata": {
        "colab_type": "code",
        "id": "hvrIKJkLIlDK",
        "colab": {}
      },
      "source": [
        "y_predicted = model.predict(X_poly_test)"
      ],
      "execution_count": 134,
      "outputs": []
    },
    {
      "cell_type": "code",
      "metadata": {
        "id": "loYqgmSVIZcM",
        "colab_type": "code",
        "colab": {
          "base_uri": "https://localhost:8080/",
          "height": 295
        },
        "outputId": "21271370-30fc-4b4d-e0f4-213a0ec8163f"
      },
      "source": [
        "import matplotlib.pyplot as plt\n",
        "plt.scatter(y_test, y_predicted, alpha=0.4)\n",
        "plt.xlabel(\"Actual\")\n",
        "plt.ylabel(\"Predicted\")\n",
        "plt.title(\"MULTIPLE LINEAR REGRESSION\")\n",
        "plt.show()"
      ],
      "execution_count": 135,
      "outputs": [
        {
          "output_type": "display_data",
          "data": {
            "image/png": "[encoded data removed]",
            "text/plain": [
              "<Figure size 432x288 with 1 Axes>"
            ]
          },
          "metadata": {
            "tags": [],
            "needs_background": "light"
          }
        }
      ]
    },
    {
      "cell_type": "code",
      "metadata": {
        "id": "QRnqqP4qJr0C",
        "colab_type": "code",
        "colab": {
          "base_uri": "https://localhost:8080/",
          "height": 286
        },
        "outputId": "b4924fa0-d097-43c2-ca8f-d838554c7add"
      },
      "source": [
        "#잔차\n",
        "residuals =y_test-y_predicted\n",
        "residuals.describe()"
      ],
      "execution_count": 136,
      "outputs": [
        {
          "output_type": "execute_result",
          "data": {
            "text/html": [
              "<div>\n",
              "<style scoped>\n",
              "    .dataframe tbody tr th:only-of-type {\n",
              "        vertical-align: middle;\n",
              "    }\n",
              "\n",
              "    .dataframe tbody tr th {\n",
              "        vertical-align: top;\n",
              "    }\n",
              "\n",
              "    .dataframe thead th {\n",
              "        text-align: right;\n",
              "    }\n",
              "</style>\n",
              "<table border=\"1\" class=\"dataframe\">\n",
              "  <thead>\n",
              "    <tr style=\"text-align: right;\">\n",
              "      <th></th>\n",
              "      <th>취급액</th>\n",
              "    </tr>\n",
              "  </thead>\n",
              "  <tbody>\n",
              "    <tr>\n",
              "      <th>count</th>\n",
              "      <td>1.861000e+03</td>\n",
              "    </tr>\n",
              "    <tr>\n",
              "      <th>mean</th>\n",
              "      <td>2.366687e+05</td>\n",
              "    </tr>\n",
              "    <tr>\n",
              "      <th>std</th>\n",
              "      <td>2.152612e+07</td>\n",
              "    </tr>\n",
              "    <tr>\n",
              "      <th>min</th>\n",
              "      <td>-2.620261e+07</td>\n",
              "    </tr>\n",
              "    <tr>\n",
              "      <th>25%</th>\n",
              "      <td>-1.604564e+07</td>\n",
              "    </tr>\n",
              "    <tr>\n",
              "      <th>50%</th>\n",
              "      <td>-5.505842e+06</td>\n",
              "    </tr>\n",
              "    <tr>\n",
              "      <th>75%</th>\n",
              "      <td>1.071121e+07</td>\n",
              "    </tr>\n",
              "    <tr>\n",
              "      <th>max</th>\n",
              "      <td>1.898869e+08</td>\n",
              "    </tr>\n",
              "  </tbody>\n",
              "</table>\n",
              "</div>"
            ],
            "text/plain": [
              "                취급액\n",
              "count  1.861000e+03\n",
              "mean   2.366687e+05\n",
              "std    2.152612e+07\n",
              "min   -2.620261e+07\n",
              "25%   -1.604564e+07\n",
              "50%   -5.505842e+06\n",
              "75%    1.071121e+07\n",
              "max    1.898869e+08"
            ]
          },
          "metadata": {
            "tags": []
          },
          "execution_count": 136
        }
      ]
    },
    {
      "cell_type": "code",
      "metadata": {
        "id": "KpAezGUdJv4r",
        "colab_type": "code",
        "colab": {
          "base_uri": "https://localhost:8080/",
          "height": 71
        },
        "outputId": "8ea2e447-706e-4143-ab61-b917824974e2"
      },
      "source": [
        "from sklearn.metrics import mean_squared_error\n",
        "print('score = ',model.score(X = X, y=y))\n",
        "print('Mean_Squared_Error = ', mean_squared_error(y_predicted, y_test))\n",
        "print('RMSE = ', mean_squared_error(y_predicted, y_test)**0.5)"
      ],
      "execution_count": 137,
      "outputs": [
        {
          "output_type": "stream",
          "text": [
            "score =  0.0016714651037895711\n",
            "Mean_Squared_Error =  463180886894424.3\n",
            "RMSE =  21521637.644343525\n"
          ],
          "name": "stdout"
        }
      ]
    }
  ]
}
