{
  "nbformat": 4,
  "nbformat_minor": 0,
  "metadata": {
    "colab": {
      "name": "외부시청률데이터크롤링.ipynb",
      "provenance": []
    },
    "kernelspec": {
      "name": "python3",
      "display_name": "Python 3"
    }
  },
  "cells": [
    {
      "cell_type": "code",
      "metadata": {
        "id": "Z6KT2aTpwbS7",
        "colab_type": "code",
        "colab": {}
      },
      "source": [
        "import pandas as pd\n",
        "import numpy as np\n",
        "import requests\n",
        "from bs4 import BeautifulSoup"
      ],
      "execution_count": 22,
      "outputs": []
    },
    {
      "cell_type": "code",
      "metadata": {
        "id": "mhqxMvbhob9M",
        "colab_type": "code",
        "colab": {}
      },
      "source": [
        "view_rate = pd.read_excel(\"/content/view_ratings.xlsx\",header =1, index_col= 0)\n",
        "vr_time = pd.DataFrame([],index=view_rate.index[:-1],columns=view_rate.columns[:-1])"
      ],
      "execution_count": 23,
      "outputs": []
    },
    {
      "cell_type": "markdown",
      "metadata": {
        "id": "6l10W_hmeRI7",
        "colab_type": "text"
      },
      "source": [
        "시청률 데이터"
      ]
    },
    {
      "cell_type": "code",
      "metadata": {
        "id": "0Txz4HH9oMBO",
        "colab_type": "code",
        "colab": {}
      },
      "source": [
        "def get_table(date):\n",
        "  jisangpa =pd.read_html((\"https://www.nielsenkorea.co.kr/tv_terrestrial_day.asp?menu=Tit_1&sub_menu=1_1&area=01&begin_date={}\").format(date))[8].iloc[3:][[2,3]]\n",
        "  jongpyeon =pd.read_html((\"https://www.nielsenkorea.co.kr/tv_terrestrial_day.asp?menu=Tit_1&sub_menu=2_1&area=01&begin_date={}\").format(date))[8].iloc[3:][[2,3]]\n",
        "  cable=pd.read_html((\"https://www.nielsenkorea.co.kr/tv_terrestrial_day.asp?menu=Tit_1&sub_menu=3_1&area=01&begin_date={}\").format(date))[8].iloc[3:][[2,3]]\n",
        "  table=pd.concat([jisangpa,jongpyeon,cable])\n",
        "  table.columns= ['program','view_rate']\n",
        "  vr_list = []\n",
        "  for vr in table['view_rate']:\n",
        "    vr_list.append(float(vr))\n",
        "  table['view_rate']=vr_list\n",
        "  table=table.groupby(by=['program']).mean()\n",
        "  table=table.sort_values(by=['view_rate'],ascending=False)\n",
        "  table=table[:10]\n",
        "  table['date']=date\n",
        "  return table"
      ],
      "execution_count": 25,
      "outputs": []
    },
    {
      "cell_type": "code",
      "metadata": {
        "id": "1DJ1opH8tRiX",
        "colab_type": "code",
        "colab": {}
      },
      "source": [
        "def rename(table):\n",
        "  reindex=[] \n",
        "  for i in range(len(table.index)):\n",
        "    program = table.index[i]\n",
        "    if '1부' in program:\n",
        "      program=program.replace('1부','')\n",
        "    if '2부' in program:\n",
        "      program=program.replace('2부','')\n",
        "    req = requests.get('https://www.google.com/search?q={} 위키백과'.format(program))\n",
        "    html = req.text\n",
        "    soup = BeautifulSoup(html, 'html.parser')\n",
        "    reindex.append(soup.select(\"a > h3\")[0].text.split('-')[0][:-1])\n",
        "  table.index=reindex\n",
        "  return table"
      ],
      "execution_count": 27,
      "outputs": []
    },
    {
      "cell_type": "code",
      "metadata": {
        "id": "nRiDqYAHurG7",
        "colab_type": "code",
        "colab": {}
      },
      "source": [
        "new_table= rename(table)"
      ],
      "execution_count": 28,
      "outputs": []
    },
    {
      "cell_type": "code",
      "metadata": {
        "id": "x1l_S4IUv0s1",
        "colab_type": "code",
        "colab": {}
      },
      "source": [
        "def sf_time(program):\n",
        "  req = requests.get('https://ko.wikipedia.org/wiki/{}'.format(program))\n",
        "  html = req.text\n",
        "  soup = BeautifulSoup(html, 'html.parser')\n",
        "  find_time = soup.find(\"table\", class_=\"infobox\").findAll('td')\n",
        "  \n",
        "  for contents in find_time:\n",
        "    if (contents.text[:2]=='매주'):\n",
        "      start_info =contents.text.strip().split(\"~\")[0].split(\" \")\n",
        "      start_time = start_info[-3]+start_info[-2]\n",
        "      finish_time = contents.text.strip().split(\"~\")[1]\n",
        "      return start_time,finish_time"
      ],
      "execution_count": 29,
      "outputs": []
    },
    {
      "cell_type": "code",
      "metadata": {
        "id": "54QUwbyjeMtJ",
        "colab_type": "code",
        "colab": {}
      },
      "source": [
        "def sf_time_error(program):\n",
        "  req = requests.get('https://ko.wikipedia.org/wiki/{}'.format(program))\n",
        "  html = req.text\n",
        "  soup = BeautifulSoup(html, 'html.parser')\n",
        "  find_time = soup.find(\"table\", class_=\"infobox\").findAll('td')\n",
        "  \n",
        "  for contents in find_time:\n",
        "    if (contents.text[:2]=='매주'):\n",
        "      return contents.text.strip()"
      ],
      "execution_count": 30,
      "outputs": []
    },
    {
      "cell_type": "code",
      "metadata": {
        "id": "g9AMYiextZJn",
        "colab_type": "code",
        "colab": {}
      },
      "source": [
        "def jjin(date):\n",
        "  table = get_table(date)\n",
        "  new_table= rename(table)\n",
        "  start_time =[]\n",
        "  finish_time=[]\n",
        "  for i in range(len(new_table.index)):\n",
        "    program = new_table.index[i]\n",
        "    try:\n",
        "      start_time.append(sf_time(program)[0])\n",
        "      finish_time.append(sf_time(program)[1])\n",
        "    except:\n",
        "      start_time.append(sf_time_error(program))\n",
        "      finish_time.append('에러')\n",
        "  new_table['start time']=start_time \n",
        "  new_table['finish time']=finish_time\n",
        "  return new_table\n"
      ],
      "execution_count": 31,
      "outputs": []
    },
    {
      "cell_type": "code",
      "metadata": {
        "id": "wF_zJ-DegZkE",
        "colab_type": "code",
        "colab": {}
      },
      "source": [
        "vr_table =pd.DataFrame([])\n",
        "for date in vr_time.columns:\n",
        "  date = date.replace('-','')\n",
        "  vr_table= pd.concat([vr_table,jjin(date)])\n",
        "\n"
      ],
      "execution_count": 34,
      "outputs": []
    }
  ]
}