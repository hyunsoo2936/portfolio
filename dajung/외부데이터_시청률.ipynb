{
  "nbformat": 4,
  "nbformat_minor": 0,
  "metadata": {
    "colab": {
      "name": "외부데이터_시청률.ipynb",
      "provenance": []
    },
    "kernelspec": {
      "name": "python3",
      "display_name": "Python 3"
    }
  },
  "cells": [
    {
      "cell_type": "code",
      "metadata": {
        "id": "Z6KT2aTpwbS7",
        "colab_type": "code",
        "colab": {}
      },
      "source": [
        "import pandas as pd\n",
        "import numpy as np\n",
        "import requests\n",
        "from bs4 import BeautifulSoup"
      ],
      "execution_count": null,
      "outputs": []
    },
    {
      "cell_type": "code",
      "metadata": {
        "id": "mhqxMvbhob9M",
        "colab_type": "code",
        "colab": {}
      },
      "source": [
        "view_rate = pd.read_excel(\"/content/view_ratings.xlsx\",header =1, index_col= 0)\n",
        "vr_time = pd.DataFrame([],index=view_rate.index[:-1],columns=view_rate.columns[:-1])"
      ],
      "execution_count": null,
      "outputs": []
    },
    {
      "cell_type": "markdown",
      "metadata": {
        "id": "6l10W_hmeRI7",
        "colab_type": "text"
      },
      "source": [
        "시청률 데이터"
      ]
    },
    {
      "cell_type": "code",
      "metadata": {
        "id": "0Txz4HH9oMBO",
        "colab_type": "code",
        "colab": {}
      },
      "source": [
        "def get_table(date):\n",
        "  jisangpa =pd.read_html((\"https://www.nielsenkorea.co.kr/tv_terrestrial_day.asp?menu=Tit_1&sub_menu=1_1&area=01&begin_date={}\").format(date))[8].iloc[3:][[2,3]]\n",
        "  jongpyeon =pd.read_html((\"https://www.nielsenkorea.co.kr/tv_terrestrial_day.asp?menu=Tit_1&sub_menu=2_1&area=01&begin_date={}\").format(date))[8].iloc[3:][[2,3]]\n",
        "  cable=pd.read_html((\"https://www.nielsenkorea.co.kr/tv_terrestrial_day.asp?menu=Tit_1&sub_menu=3_1&area=01&begin_date={}\").format(date))[8].iloc[3:][[2,3]]\n",
        "  table=pd.concat([jisangpa,jongpyeon,cable])\n",
        "  table.columns= ['program','view_rate']\n",
        "  vr_list = []\n",
        "  for vr in table['view_rate']:\n",
        "    vr_list.append(float(vr))\n",
        "  table['view_rate']=vr_list\n",
        "  table=table.groupby(by=['program']).mean()\n",
        "  table=table.sort_values(by=['view_rate'],ascending=False)\n",
        "  table=table[:3]\n",
        "  table['date']=date\n",
        "  return table"
      ],
      "execution_count": null,
      "outputs": []
    },
    {
      "cell_type": "code",
      "metadata": {
        "id": "1DJ1opH8tRiX",
        "colab_type": "code",
        "colab": {}
      },
      "source": [
        "def rename(table):\n",
        "  reindex=[] \n",
        "  for i in range(len(table.index)):\n",
        "    program = table.index[i]\n",
        "    if '1부' in program:\n",
        "      program=program.replace('1부','')\n",
        "    if '2부' in program:\n",
        "      program=program.replace('2부','')\n",
        "    req = requests.get('https://www.google.com/search?q={} 위키백과'.format(program))\n",
        "    html = req.text\n",
        "    soup = BeautifulSoup(html, 'html.parser')\n",
        "    reindex.append(soup.select(\"a > h3\")[0].text.split('-')[0][:-1])\n",
        "  table.index=reindex\n",
        "  return table"
      ],
      "execution_count": null,
      "outputs": []
    },
    {
      "cell_type": "code",
      "metadata": {
        "id": "x1l_S4IUv0s1",
        "colab_type": "code",
        "colab": {}
      },
      "source": [
        "def sf_time(program):\n",
        "  req = requests.get('https://ko.wikipedia.org/wiki/{}'.format(program))\n",
        "  html = req.text\n",
        "  soup = BeautifulSoup(html, 'html.parser')\n",
        "  find_time = soup.find(\"table\", class_=\"infobox\").findAll('td')\n",
        "  \n",
        "  for contents in find_time:\n",
        "    if (contents.text[:2]=='매주'):\n",
        "      start_info =contents.text.strip().split(\"~\")[0].split(\" \")\n",
        "      start_time = start_info[-3]+start_info[-2]\n",
        "      finish_time = contents.text.strip().split(\"~\")[1]\n",
        "      return start_time,finish_time"
      ],
      "execution_count": null,
      "outputs": []
    },
    {
      "cell_type": "code",
      "metadata": {
        "id": "54QUwbyjeMtJ",
        "colab_type": "code",
        "colab": {}
      },
      "source": [
        "def sf_time_error(program):\n",
        "  req = requests.get('https://ko.wikipedia.org/wiki/{}'.format(program))\n",
        "  html = req.text\n",
        "  soup = BeautifulSoup(html, 'html.parser')\n",
        "  find_time = soup.find(\"table\", class_=\"infobox\").findAll('td')\n",
        "  \n",
        "  for contents in find_time:\n",
        "    if (contents.text[:2]=='매주'):\n",
        "      return contents.text.strip()"
      ],
      "execution_count": null,
      "outputs": []
    },
    {
      "cell_type": "code",
      "metadata": {
        "id": "g9AMYiextZJn",
        "colab_type": "code",
        "colab": {}
      },
      "source": [
        "def jjin(date):\n",
        "  table = get_table(date)\n",
        "  new_table= rename(table)\n",
        "  start_time =[]\n",
        "  finish_time=[]\n",
        "  for i in range(len(new_table.index)):\n",
        "    program = new_table.index[i]\n",
        "    try:\n",
        "      start_time.append(sf_time(program)[0])\n",
        "      finish_time.append(sf_time(program)[1])\n",
        "    except:\n",
        "      try:\n",
        "        start_time.append(sf_time_error(program))\n",
        "        finish_time.append('에러')\n",
        "      except:\n",
        "        start_time.append('에러')\n",
        "        finish_time.append('에러')\n",
        "  new_table['start time']=start_time \n",
        "  new_table['finish time']=finish_time\n",
        "  return new_table\n"
      ],
      "execution_count": null,
      "outputs": []
    },
    {
      "cell_type": "code",
      "metadata": {
        "id": "gM1T90Fxijbc",
        "colab_type": "code",
        "colab": {}
      },
      "source": [
        "def data():\n",
        "  vr_table =pd.DataFrame([])\n",
        "  for date in vr_time.columns:\n",
        "    print(date)\n",
        "    date = date.replace('-','')\n",
        "    try:\n",
        "      vr_table= pd.concat([vr_table,jjin(date)])\n",
        "    except:\n",
        "      vr_table= pd.concat([vr_table,pd.DataFrame([{'date':date,'start time':'에러','finish time':'에러','view_rate':'에러'}])])\n",
        "  \n",
        "  vr_table.to_csv('2019_daily_top3.csv',encoding='euc-kr')    "
      ],
      "execution_count": null,
      "outputs": []
    },
    {
      "cell_type": "code",
      "metadata": {
        "id": "VnqfatpWFcXl",
        "colab_type": "code",
        "colab": {}
      },
      "source": [
        "data()"
      ],
      "execution_count": null,
      "outputs": []
    },
    {
      "cell_type": "code",
      "metadata": {
        "id": "Ph8qDf8LFwzp",
        "colab_type": "code",
        "colab": {}
      },
      "source": [
        "from google.colab import files"
      ],
      "execution_count": null,
      "outputs": []
    },
    {
      "cell_type": "code",
      "metadata": {
        "id": "PpN81DbdTHkA",
        "colab_type": "code",
        "colab": {}
      },
      "source": [
        "files.download('2019_daily_top3.csv')"
      ],
      "execution_count": null,
      "outputs": []
    },
    {
      "cell_type": "code",
      "metadata": {
        "id": "iP4Gkj1WNnR8",
        "colab_type": "code",
        "colab": {}
      },
      "source": [
        "def data_2020():\n",
        "  vr_table =pd.DataFrame([])\n",
        "  for date in vr_time.columns:\n",
        "    print(date)\n",
        "    date = date.replace('-','').replace('2019','2020')\n",
        "    try:\n",
        "      vr_table= pd.concat([vr_table,jjin(date)])\n",
        "    except:\n",
        "      vr_table= pd.concat([vr_table,pd.DataFrame([{'date':date,'start time':'에러','finish time':'에러','view_rate':'에러'}])])\n",
        "\n",
        "    if(date=='20200228'):\n",
        "      try:\n",
        "        vr_table= pd.concat([vr_table,jjin('2020029')])\n",
        "      except:\n",
        "        vr_table= pd.concat([vr_table,pd.DataFrame([{'date':date,'start time':'에러','finish time':'에러','view_rate':'에러'}])])\n",
        "    elif(date=='20200630'):\n",
        "      break\n",
        "  vr_table.to_csv('2020_daily_top3.csv',encoding='euc-kr')"
      ],
      "execution_count": null,
      "outputs": []
    },
    {
      "cell_type": "code",
      "metadata": {
        "id": "Rul3sQtUO8oa",
        "colab_type": "code",
        "colab": {}
      },
      "source": [
        "data_2020()"
      ],
      "execution_count": null,
      "outputs": []
    },
    {
      "cell_type": "code",
      "metadata": {
        "id": "ea443STPOxn6",
        "colab_type": "code",
        "colab": {
          "base_uri": "https://localhost:8080/",
          "height": 34
        },
        "outputId": "e534d844-3971-45e8-a779-f97ac66714c0"
      },
      "source": [
        "files.download('2020_daily_top3.csv')"
      ],
      "execution_count": null,
      "outputs": [
        {
          "output_type": "display_data",
          "data": {
            "application/javascript": [
              "\n",
              "    async function download(id, filename, size) {\n",
              "      if (!google.colab.kernel.accessAllowed) {\n",
              "        return;\n",
              "      }\n",
              "      const div = document.createElement('div');\n",
              "      const label = document.createElement('label');\n",
              "      label.textContent = `Downloading \"${filename}\": `;\n",
              "      div.appendChild(label);\n",
              "      const progress = document.createElement('progress');\n",
              "      progress.max = size;\n",
              "      div.appendChild(progress);\n",
              "      document.body.appendChild(div);\n",
              "\n",
              "      const buffers = [];\n",
              "      let downloaded = 0;\n",
              "\n",
              "      const channel = await google.colab.kernel.comms.open(id);\n",
              "      // Send a message to notify the kernel that we're ready.\n",
              "      channel.send({})\n",
              "\n",
              "      for await (const message of channel.messages) {\n",
              "        // Send a message to notify the kernel that we're ready.\n",
              "        channel.send({})\n",
              "        if (message.buffers) {\n",
              "          for (const buffer of message.buffers) {\n",
              "            buffers.push(buffer);\n",
              "            downloaded += buffer.byteLength;\n",
              "            progress.value = downloaded;\n",
              "          }\n",
              "        }\n",
              "      }\n",
              "      const blob = new Blob(buffers, {type: 'application/binary'});\n",
              "      const a = document.createElement('a');\n",
              "      a.href = window.URL.createObjectURL(blob);\n",
              "      a.download = filename;\n",
              "      div.appendChild(a);\n",
              "      a.click();\n",
              "      div.remove();\n",
              "    }\n",
              "  "
            ],
            "text/plain": [
              "<IPython.core.display.Javascript object>"
            ]
          },
          "metadata": {
            "tags": []
          }
        },
        {
          "output_type": "display_data",
          "data": {
            "application/javascript": [
              "download(\"download_81eb5350-f226-4050-bc6c-db065d34036b\", \"2020_daily_top3.csv\", 27003)"
            ],
            "text/plain": [
              "<IPython.core.display.Javascript object>"
            ]
          },
          "metadata": {
            "tags": []
          }
        }
      ]
    }
  ]
}