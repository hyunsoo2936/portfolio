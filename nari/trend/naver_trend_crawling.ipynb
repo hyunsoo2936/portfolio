{
 "cells": [
  {
   "cell_type": "markdown",
   "metadata": {},
   "source": [
    "## 네이버 트렌드 클롤링\n",
    "\n",
    "### 크롤링 목적\n",
    "#### 카테고리별 7일단위 상위 20개의 검색어를 NLP를 사용하여 '상품명'과 비교한다\n",
    "\n",
    "### 분류기준\n",
    "#### 1. 카테고리\n",
    "#### 2. 성별(남/여) 모두\n",
    "#### 3. 연령 (40, 50, 60대) \n",
    "\n",
    "### 크롤링 사용 플랜\n",
    "#### 1. previous 6 days + current day = 7 days\n",
    "#### 2. crawl Top 20\n",
    "#### 3. make a list of words for each day\n",
    "#### 4. use NLP to find distance between '상품명'\n",
    "#### 5. use the distance as a new feature\n"
   ]
  },
  {
   "cell_type": "code",
   "execution_count": 199,
   "metadata": {},
   "outputs": [],
   "source": [
    "import requests\n",
    "import pandas as pd\n",
    "from datetime import datetime, timedelta"
   ]
  },
  {
   "cell_type": "code",
   "execution_count": 200,
   "metadata": {},
   "outputs": [],
   "source": [
    "url = \"https://datalab.naver.com/shoppingInsight/getCategoryKeywordRank.naver\"\n",
    "headers = {\n",
    "    \"user-agent\": \"Mozilla/5.0 (Macintosh; Intel Mac OS X 10_14_6) AppleWebKit/537.36 (KHTML, like Gecko) Chrome/84.0.4147.105 Safari/537.36\",\n",
    "    \"x-requested-with\": \"XMLHttpRequest\"\n",
    "}\n",
    "data = {\n",
    "    \"cid\": \"50000000\",\n",
    "    \"timeUnit\": \"date\",\n",
    "    \"startDate\": \"2019-01-01\",\n",
    "    \"endDate\": \"2019-01-07\",\n",
    "    \"age\": [40,50],\n",
    "    \"gender\": \"\",\n",
    "    \"device\": \"\",\n",
    "    \"page\": \"1\",\n",
    "    \"count\": \"20\"\n",
    "}"
   ]
  },
  {
   "cell_type": "code",
   "execution_count": 201,
   "metadata": {},
   "outputs": [],
   "source": [
    "df = pd.DataFrame(columns = [\"date\", \"keyWords\"])\n",
    "df = df.iloc[0:0]"
   ]
  },
  {
   "cell_type": "code",
   "execution_count": 202,
   "metadata": {},
   "outputs": [],
   "source": [
    "# add data for 1/1/2019 - 1/6/2019\n",
    "for i in range(6):\n",
    "    startDate = datetime(2019,1,1)\n",
    "    endDate = startDate + timedelta(days=i)\n",
    "    data[\"startDate\"] = startDate.strftime('%Y') + \"-\" + startDate.strftime('%m') + \"-\" + startDate.strftime('%d')\n",
    "    data[\"endDate\"] = endDate.strftime('%Y') + \"-\" + endDate.strftime('%m') + \"-\" + endDate.strftime('%d')\n",
    "    response = requests.post(url, headers=headers, data=data).json()\n",
    "    ranks = response[\"ranks\"] \n",
    "    keyWords = []\n",
    "    for item in ranks:\n",
    "        keyWords.append(item[\"keyword\"])\n",
    "        \n",
    "    df = df.append({'date': endDate, 'keyWords': keyWords}, ignore_index=True)\n",
    "      "
   ]
  },
  {
   "cell_type": "code",
   "execution_count": 203,
   "metadata": {},
   "outputs": [
    {
     "data": {
      "text/html": [
       "<div>\n",
       "<style scoped>\n",
       "    .dataframe tbody tr th:only-of-type {\n",
       "        vertical-align: middle;\n",
       "    }\n",
       "\n",
       "    .dataframe tbody tr th {\n",
       "        vertical-align: top;\n",
       "    }\n",
       "\n",
       "    .dataframe thead th {\n",
       "        text-align: right;\n",
       "    }\n",
       "</style>\n",
       "<table border=\"1\" class=\"dataframe\">\n",
       "  <thead>\n",
       "    <tr style=\"text-align: right;\">\n",
       "      <th></th>\n",
       "      <th>date</th>\n",
       "      <th>keyWords</th>\n",
       "    </tr>\n",
       "  </thead>\n",
       "  <tbody>\n",
       "    <tr>\n",
       "      <th>0</th>\n",
       "      <td>2019-01-01</td>\n",
       "      <td>[롱패딩, 여성롱패딩, 남자롱패딩, 키즈롱패딩, 여자롱패딩, 몽클레어여성패딩, 여자...</td>\n",
       "    </tr>\n",
       "    <tr>\n",
       "      <th>1</th>\n",
       "      <td>2019-01-02</td>\n",
       "      <td>[롱패딩, 여성롱패딩, 남자롱패딩, 키즈롱패딩, 여자롱패딩, 몽클레어여성패딩, 여성...</td>\n",
       "    </tr>\n",
       "    <tr>\n",
       "      <th>2</th>\n",
       "      <td>2019-01-03</td>\n",
       "      <td>[롱패딩, 여성롱패딩, 남자롱패딩, 키즈롱패딩, 여자롱패딩, 몽클레어여성패딩, 여성...</td>\n",
       "    </tr>\n",
       "    <tr>\n",
       "      <th>3</th>\n",
       "      <td>2019-01-04</td>\n",
       "      <td>[롱패딩, 여성롱패딩, 남자롱패딩, 키즈롱패딩, 몽클레어여성패딩, 여자롱패딩, 여성...</td>\n",
       "    </tr>\n",
       "    <tr>\n",
       "      <th>4</th>\n",
       "      <td>2019-01-05</td>\n",
       "      <td>[롱패딩, 여성롱패딩, 남자롱패딩, 몽클레어여성패딩, 키즈롱패딩, 여자롱패딩, 니트...</td>\n",
       "    </tr>\n",
       "    <tr>\n",
       "      <th>5</th>\n",
       "      <td>2019-01-06</td>\n",
       "      <td>[롱패딩, 여성롱패딩, 남자롱패딩, 몽클레어여성패딩, 키즈롱패딩, 니트원피스, 여자...</td>\n",
       "    </tr>\n",
       "  </tbody>\n",
       "</table>\n",
       "</div>"
      ],
      "text/plain": [
       "        date                                           keyWords\n",
       "0 2019-01-01  [롱패딩, 여성롱패딩, 남자롱패딩, 키즈롱패딩, 여자롱패딩, 몽클레어여성패딩, 여자...\n",
       "1 2019-01-02  [롱패딩, 여성롱패딩, 남자롱패딩, 키즈롱패딩, 여자롱패딩, 몽클레어여성패딩, 여성...\n",
       "2 2019-01-03  [롱패딩, 여성롱패딩, 남자롱패딩, 키즈롱패딩, 여자롱패딩, 몽클레어여성패딩, 여성...\n",
       "3 2019-01-04  [롱패딩, 여성롱패딩, 남자롱패딩, 키즈롱패딩, 몽클레어여성패딩, 여자롱패딩, 여성...\n",
       "4 2019-01-05  [롱패딩, 여성롱패딩, 남자롱패딩, 몽클레어여성패딩, 키즈롱패딩, 여자롱패딩, 니트...\n",
       "5 2019-01-06  [롱패딩, 여성롱패딩, 남자롱패딩, 몽클레어여성패딩, 키즈롱패딩, 니트원피스, 여자..."
      ]
     },
     "execution_count": 203,
     "metadata": {},
     "output_type": "execute_result"
    }
   ],
   "source": [
    "df"
   ]
  },
  {
   "cell_type": "code",
   "execution_count": 204,
   "metadata": {},
   "outputs": [],
   "source": [
    "startDate = datetime(2019,1,1)\n",
    "endDate = datetime(2019,1,7)\n",
    "keyWords = []"
   ]
  },
  {
   "cell_type": "code",
   "execution_count": 232,
   "metadata": {},
   "outputs": [],
   "source": [
    "while endDate.year < 2020: \n",
    "    data[\"startDate\"] = startDate.strftime('%Y') + \"-\" + startDate.strftime('%m') + \"-\" + startDate.strftime('%d')\n",
    "    data[\"endDate\"] = endDate.strftime('%Y') + \"-\" + endDate.strftime('%m') + \"-\" + endDate.strftime('%d')\n",
    "    response = requests.post(url, headers=headers, data=data).json()\n",
    "    ranks = response[\"ranks\"]\n",
    "\n",
    "    for item in ranks:\n",
    "        keyWords.append(item[\"keyword\"])\n",
    "        \n",
    "    \n",
    "    df = df.append({'date': endDate, 'keyWords': keyWords}, ignore_index=True)\n",
    "    \n",
    "    keyWords = []\n",
    "    startDate += timedelta(days=1)\n",
    "    endDate += timedelta(days=1)        \n",
    "    "
   ]
  },
  {
   "cell_type": "code",
   "execution_count": 235,
   "metadata": {},
   "outputs": [
    {
     "data": {
      "text/html": [
       "<div>\n",
       "<style scoped>\n",
       "    .dataframe tbody tr th:only-of-type {\n",
       "        vertical-align: middle;\n",
       "    }\n",
       "\n",
       "    .dataframe tbody tr th {\n",
       "        vertical-align: top;\n",
       "    }\n",
       "\n",
       "    .dataframe thead th {\n",
       "        text-align: right;\n",
       "    }\n",
       "</style>\n",
       "<table border=\"1\" class=\"dataframe\">\n",
       "  <thead>\n",
       "    <tr style=\"text-align: right;\">\n",
       "      <th></th>\n",
       "      <th>date</th>\n",
       "      <th>keyWords</th>\n",
       "    </tr>\n",
       "  </thead>\n",
       "  <tbody>\n",
       "    <tr>\n",
       "      <th>0</th>\n",
       "      <td>2019-01-01</td>\n",
       "      <td>[롱패딩, 여성롱패딩, 남자롱패딩, 키즈롱패딩, 여자롱패딩, 몽클레어여성패딩, 여자...</td>\n",
       "    </tr>\n",
       "    <tr>\n",
       "      <th>1</th>\n",
       "      <td>2019-01-02</td>\n",
       "      <td>[롱패딩, 여성롱패딩, 남자롱패딩, 키즈롱패딩, 여자롱패딩, 몽클레어여성패딩, 여성...</td>\n",
       "    </tr>\n",
       "    <tr>\n",
       "      <th>2</th>\n",
       "      <td>2019-01-03</td>\n",
       "      <td>[롱패딩, 여성롱패딩, 남자롱패딩, 키즈롱패딩, 여자롱패딩, 몽클레어여성패딩, 여성...</td>\n",
       "    </tr>\n",
       "    <tr>\n",
       "      <th>3</th>\n",
       "      <td>2019-01-04</td>\n",
       "      <td>[롱패딩, 여성롱패딩, 남자롱패딩, 키즈롱패딩, 몽클레어여성패딩, 여자롱패딩, 여성...</td>\n",
       "    </tr>\n",
       "    <tr>\n",
       "      <th>4</th>\n",
       "      <td>2019-01-05</td>\n",
       "      <td>[롱패딩, 여성롱패딩, 남자롱패딩, 몽클레어여성패딩, 키즈롱패딩, 여자롱패딩, 니트...</td>\n",
       "    </tr>\n",
       "    <tr>\n",
       "      <th>...</th>\n",
       "      <td>...</td>\n",
       "      <td>...</td>\n",
       "    </tr>\n",
       "    <tr>\n",
       "      <th>360</th>\n",
       "      <td>2019-12-27</td>\n",
       "      <td>[여성숏패딩, 핸드메이드코트, 원피스, 여성패딩, 롱패딩, 여성롱패딩, 니트원피스,...</td>\n",
       "    </tr>\n",
       "    <tr>\n",
       "      <th>361</th>\n",
       "      <td>2019-12-28</td>\n",
       "      <td>[여성숏패딩, 핸드메이드코트, 원피스, 여성패딩, 롱패딩, 여성롱패딩, 니트원피스,...</td>\n",
       "    </tr>\n",
       "    <tr>\n",
       "      <th>362</th>\n",
       "      <td>2019-12-29</td>\n",
       "      <td>[여성숏패딩, 핸드메이드코트, 원피스, 여성패딩, 롱패딩, 여성롱패딩, 니트원피스,...</td>\n",
       "    </tr>\n",
       "    <tr>\n",
       "      <th>363</th>\n",
       "      <td>2019-12-30</td>\n",
       "      <td>[여성숏패딩, 핸드메이드코트, 원피스, 여성패딩, 롱패딩, 여성롱패딩, 니트원피스,...</td>\n",
       "    </tr>\n",
       "    <tr>\n",
       "      <th>364</th>\n",
       "      <td>2019-12-31</td>\n",
       "      <td>[여성숏패딩, 핸드메이드코트, 원피스, 롱패딩, 여성패딩, 여성롱패딩, 몽클레어여성...</td>\n",
       "    </tr>\n",
       "  </tbody>\n",
       "</table>\n",
       "<p>365 rows × 2 columns</p>\n",
       "</div>"
      ],
      "text/plain": [
       "          date                                           keyWords\n",
       "0   2019-01-01  [롱패딩, 여성롱패딩, 남자롱패딩, 키즈롱패딩, 여자롱패딩, 몽클레어여성패딩, 여자...\n",
       "1   2019-01-02  [롱패딩, 여성롱패딩, 남자롱패딩, 키즈롱패딩, 여자롱패딩, 몽클레어여성패딩, 여성...\n",
       "2   2019-01-03  [롱패딩, 여성롱패딩, 남자롱패딩, 키즈롱패딩, 여자롱패딩, 몽클레어여성패딩, 여성...\n",
       "3   2019-01-04  [롱패딩, 여성롱패딩, 남자롱패딩, 키즈롱패딩, 몽클레어여성패딩, 여자롱패딩, 여성...\n",
       "4   2019-01-05  [롱패딩, 여성롱패딩, 남자롱패딩, 몽클레어여성패딩, 키즈롱패딩, 여자롱패딩, 니트...\n",
       "..         ...                                                ...\n",
       "360 2019-12-27  [여성숏패딩, 핸드메이드코트, 원피스, 여성패딩, 롱패딩, 여성롱패딩, 니트원피스,...\n",
       "361 2019-12-28  [여성숏패딩, 핸드메이드코트, 원피스, 여성패딩, 롱패딩, 여성롱패딩, 니트원피스,...\n",
       "362 2019-12-29  [여성숏패딩, 핸드메이드코트, 원피스, 여성패딩, 롱패딩, 여성롱패딩, 니트원피스,...\n",
       "363 2019-12-30  [여성숏패딩, 핸드메이드코트, 원피스, 여성패딩, 롱패딩, 여성롱패딩, 니트원피스,...\n",
       "364 2019-12-31  [여성숏패딩, 핸드메이드코트, 원피스, 롱패딩, 여성패딩, 여성롱패딩, 몽클레어여성...\n",
       "\n",
       "[365 rows x 2 columns]"
      ]
     },
     "execution_count": 235,
     "metadata": {},
     "output_type": "execute_result"
    }
   ],
   "source": [
    "df"
   ]
  },
  {
   "cell_type": "code",
   "execution_count": 237,
   "metadata": {},
   "outputs": [],
   "source": [
    "df.to_csv(r'의류트렌드키워드.csv', index = False)"
   ]
  },
  {
   "cell_type": "code",
   "execution_count": 239,
   "metadata": {},
   "outputs": [
    {
     "data": {
      "text/plain": [
       "['롱패딩',\n",
       " '여성롱패딩',\n",
       " '남자롱패딩',\n",
       " '키즈롱패딩',\n",
       " '여자롱패딩',\n",
       " '몽클레어여성패딩',\n",
       " '여자무스탕',\n",
       " '여성패딩',\n",
       " '니트원피스',\n",
       " '원피스',\n",
       " '핸드메이드코트',\n",
       " '밍크코트',\n",
       " '써스데이아일랜드',\n",
       " '아디다스롱패딩',\n",
       " '남자패딩',\n",
       " '아동롱패딩',\n",
       " '무스탕',\n",
       " '패딩',\n",
       " '여성경량패딩',\n",
       " '여성코트']"
      ]
     },
     "execution_count": 239,
     "metadata": {},
     "output_type": "execute_result"
    }
   ],
   "source": [
    "df.iloc[0][\"keyWords\"]"
   ]
  }
 ],
 "metadata": {
  "kernelspec": {
   "display_name": "Python 3",
   "language": "python",
   "name": "python3"
  },
  "language_info": {
   "codemirror_mode": {
    "name": "ipython",
    "version": 3
   },
   "file_extension": ".py",
   "mimetype": "text/x-python",
   "name": "python",
   "nbconvert_exporter": "python",
   "pygments_lexer": "ipython3",
   "version": "3.7.6"
  }
 },
 "nbformat": 4,
 "nbformat_minor": 4
}
