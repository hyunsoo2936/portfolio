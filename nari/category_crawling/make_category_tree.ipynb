{
 "cells": [
  {
   "cell_type": "code",
   "execution_count": 13,
   "metadata": {},
   "outputs": [],
   "source": [
    "import pandas as pd\n",
    "import numpy as np\n",
    "import re"
   ]
  },
  {
   "cell_type": "code",
   "execution_count": 14,
   "metadata": {},
   "outputs": [
    {
     "data": {
      "text/html": [
       "<div>\n",
       "<style scoped>\n",
       "    .dataframe tbody tr th:only-of-type {\n",
       "        vertical-align: middle;\n",
       "    }\n",
       "\n",
       "    .dataframe tbody tr th {\n",
       "        vertical-align: top;\n",
       "    }\n",
       "\n",
       "    .dataframe thead th {\n",
       "        text-align: right;\n",
       "    }\n",
       "</style>\n",
       "<table border=\"1\" class=\"dataframe\">\n",
       "  <thead>\n",
       "    <tr style=\"text-align: right;\">\n",
       "      <th></th>\n",
       "      <th>Unnamed: 0</th>\n",
       "      <th>상품명</th>\n",
       "      <th>상품군</th>\n",
       "      <th>cat_1</th>\n",
       "      <th>cat_2</th>\n",
       "      <th>cat_3</th>\n",
       "    </tr>\n",
       "  </thead>\n",
       "  <tbody>\n",
       "    <tr>\n",
       "      <th>0</th>\n",
       "      <td>0</td>\n",
       "      <td>잭필드 남성  반팔셔츠 4종</td>\n",
       "      <td>의류</td>\n",
       "      <td>남성패션</td>\n",
       "      <td>셔츠</td>\n",
       "      <td>캐주얼</td>\n",
       "    </tr>\n",
       "    <tr>\n",
       "      <th>1</th>\n",
       "      <td>1</td>\n",
       "      <td>쿠미투니카 쿨 레이시 란쥬쉐이퍼&amp;팬티</td>\n",
       "      <td>속옷</td>\n",
       "      <td>여성패션</td>\n",
       "      <td>속옷/잠옷</td>\n",
       "      <td>보정속옷</td>\n",
       "    </tr>\n",
       "    <tr>\n",
       "      <th>2</th>\n",
       "      <td>2</td>\n",
       "      <td>바비리스 퍼펙트 볼륨스타일러</td>\n",
       "      <td>이미용</td>\n",
       "      <td>가전디지털</td>\n",
       "      <td>이미용가전</td>\n",
       "      <td>헤어스타일러</td>\n",
       "    </tr>\n",
       "    <tr>\n",
       "      <th>3</th>\n",
       "      <td>3</td>\n",
       "      <td>램프쿡 자동회전냄비</td>\n",
       "      <td>주방</td>\n",
       "      <td>결혼준비</td>\n",
       "      <td>주방용품</td>\n",
       "      <td>쿡웨어</td>\n",
       "    </tr>\n",
       "    <tr>\n",
       "      <th>4</th>\n",
       "      <td>4</td>\n",
       "      <td>벨레즈온 심리스 원피스 4종 패키지</td>\n",
       "      <td>속옷</td>\n",
       "      <td>여성패션</td>\n",
       "      <td>속옷/잠옷</td>\n",
       "      <td>잠옷</td>\n",
       "    </tr>\n",
       "    <tr>\n",
       "      <th>...</th>\n",
       "      <td>...</td>\n",
       "      <td>...</td>\n",
       "      <td>...</td>\n",
       "      <td>...</td>\n",
       "      <td>...</td>\n",
       "      <td>...</td>\n",
       "    </tr>\n",
       "    <tr>\n",
       "      <th>344</th>\n",
       "      <td>344</td>\n",
       "      <td>[루이띠에] 24K 999 순금 11.25g 샤인 볼륨 반지</td>\n",
       "      <td>잡화</td>\n",
       "      <td>여성패션</td>\n",
       "      <td>가방/잡화</td>\n",
       "      <td>주얼리</td>\n",
       "    </tr>\n",
       "    <tr>\n",
       "      <th>345</th>\n",
       "      <td>345</td>\n",
       "      <td>(특대사이즈) 안동간고등어 13팩</td>\n",
       "      <td>농수축</td>\n",
       "      <td>미세먼지용품</td>\n",
       "      <td>건강식품과</td>\n",
       "      <td>고기/해산물</td>\n",
       "    </tr>\n",
       "    <tr>\n",
       "      <th>346</th>\n",
       "      <td>346</td>\n",
       "      <td>AAC녹두삼계탕8팩</td>\n",
       "      <td>농수축</td>\n",
       "      <td>식품</td>\n",
       "      <td>쌀/잡곡</td>\n",
       "      <td>쌀/잡곡</td>\n",
       "    </tr>\n",
       "    <tr>\n",
       "      <th>347</th>\n",
       "      <td>347</td>\n",
       "      <td>AAC녹두삼계탕죽세트</td>\n",
       "      <td>농수축</td>\n",
       "      <td>싱글라이프</td>\n",
       "      <td>즉석식품/라면</td>\n",
       "      <td>즉석죽/스프</td>\n",
       "    </tr>\n",
       "    <tr>\n",
       "      <th>348</th>\n",
       "      <td>348</td>\n",
       "      <td>아놀드파마 티셔츠레깅스세트</td>\n",
       "      <td>의류</td>\n",
       "      <td>남성패션</td>\n",
       "      <td>티셔츠</td>\n",
       "      <td>반소매</td>\n",
       "    </tr>\n",
       "  </tbody>\n",
       "</table>\n",
       "<p>349 rows × 6 columns</p>\n",
       "</div>"
      ],
      "text/plain": [
       "     Unnamed: 0                                상품명  상품군   cat_1    cat_2  \\\n",
       "0             0                    잭필드 남성  반팔셔츠 4종   의류    남성패션       셔츠   \n",
       "1             1               쿠미투니카 쿨 레이시 란쥬쉐이퍼&팬티   속옷    여성패션    속옷/잠옷   \n",
       "2             2                    바비리스 퍼펙트 볼륨스타일러  이미용   가전디지털    이미용가전   \n",
       "3             3                         램프쿡 자동회전냄비   주방    결혼준비     주방용품   \n",
       "4             4                벨레즈온 심리스 원피스 4종 패키지   속옷    여성패션    속옷/잠옷   \n",
       "..          ...                                ...  ...     ...      ...   \n",
       "344         344  [루이띠에] 24K 999 순금 11.25g 샤인 볼륨 반지   잡화    여성패션    가방/잡화   \n",
       "345         345                 (특대사이즈) 안동간고등어 13팩  농수축  미세먼지용품    건강식품과   \n",
       "346         346                         AAC녹두삼계탕8팩  농수축      식품     쌀/잡곡   \n",
       "347         347                        AAC녹두삼계탕죽세트  농수축   싱글라이프  즉석식품/라면   \n",
       "348         348                     아놀드파마 티셔츠레깅스세트   의류    남성패션      티셔츠   \n",
       "\n",
       "      cat_3  \n",
       "0       캐주얼  \n",
       "1      보정속옷  \n",
       "2    헤어스타일러  \n",
       "3       쿡웨어  \n",
       "4        잠옷  \n",
       "..      ...  \n",
       "344     주얼리  \n",
       "345  고기/해산물  \n",
       "346    쌀/잡곡  \n",
       "347  즉석죽/스프  \n",
       "348     반소매  \n",
       "\n",
       "[349 rows x 6 columns]"
      ]
     },
     "execution_count": 14,
     "metadata": {},
     "output_type": "execute_result"
    }
   ],
   "source": [
    "df = pd.read_excel(\"test_data_categories_draft.xlsx\")\n",
    "df"
   ]
  },
  {
   "cell_type": "code",
   "execution_count": 15,
   "metadata": {},
   "outputs": [],
   "source": [
    "from anytree import Node, RenderTree"
   ]
  },
  {
   "cell_type": "code",
   "execution_count": 16,
   "metadata": {},
   "outputs": [
    {
     "data": {
      "text/plain": [
       "[Node('/남성패션'),\n",
       " Node('/여성패션'),\n",
       " Node('/가전디지털'),\n",
       " Node('/결혼준비'),\n",
       " Node('/식품'),\n",
       " Node('/뷰티'),\n",
       " Node('/스포츠/레저'),\n",
       " Node('/생활용품'),\n",
       " Node('/nan'),\n",
       " Node('/여행용품'),\n",
       " Node('/싱글라이프'),\n",
       " Node('/홈인테리어'),\n",
       " Node('/출산/유아동'),\n",
       " Node('/주방용품'),\n",
       " Node('/스포츠패션'),\n",
       " Node('/가방/잡화'),\n",
       " Node('/미세먼지용품'),\n",
       " Node('/헬스/건강식품'),\n",
       " Node('/신발'),\n",
       " Node('/오피스&사업자관'),\n",
       " Node('/실버스토어')]"
      ]
     },
     "execution_count": 16,
     "metadata": {},
     "output_type": "execute_result"
    }
   ],
   "source": [
    "cat_1_nodes = [Node(x) for x in df['cat_1'].unique()]\n",
    "cat_1_nodes"
   ]
  },
  {
   "cell_type": "code",
   "execution_count": 17,
   "metadata": {},
   "outputs": [],
   "source": [
    "def print_tree():\n",
    "    for c1 in cat_1_nodes:\n",
    "        for pre, fill, node in RenderTree(c1):\n",
    "            print(\"%s%s\" % (pre, node.name))"
   ]
  },
  {
   "cell_type": "code",
   "execution_count": 12,
   "metadata": {},
   "outputs": [
    {
     "ename": "NameError",
     "evalue": "name 'cat_2' is not defined",
     "output_type": "error",
     "traceback": [
      "\u001b[0;31m---------------------------------------------------------------------------\u001b[0m",
      "\u001b[0;31mNameError\u001b[0m                                 Traceback (most recent call last)",
      "\u001b[0;32m<ipython-input-12-df68846ac957>\u001b[0m in \u001b[0;36m<module>\u001b[0;34m\u001b[0m\n\u001b[1;32m      1\u001b[0m \u001b[0mcat_2_nodes\u001b[0m \u001b[0;34m=\u001b[0m \u001b[0;34m[\u001b[0m\u001b[0;34m]\u001b[0m\u001b[0;34m\u001b[0m\u001b[0;34m\u001b[0m\u001b[0m\n\u001b[1;32m      2\u001b[0m \u001b[0mcat_2_bool\u001b[0m \u001b[0;34m=\u001b[0m \u001b[0;34m{\u001b[0m\u001b[0;34m}\u001b[0m\u001b[0;34m\u001b[0m\u001b[0;34m\u001b[0m\u001b[0m\n\u001b[0;32m----> 3\u001b[0;31m \u001b[0;32mfor\u001b[0m \u001b[0mele\u001b[0m \u001b[0;32min\u001b[0m \u001b[0mcat_2\u001b[0m\u001b[0;34m.\u001b[0m\u001b[0munique\u001b[0m\u001b[0;34m(\u001b[0m\u001b[0;34m)\u001b[0m\u001b[0;34m:\u001b[0m\u001b[0;34m\u001b[0m\u001b[0;34m\u001b[0m\u001b[0m\n\u001b[0m\u001b[1;32m      4\u001b[0m     \u001b[0mcat_2_bool\u001b[0m\u001b[0;34m[\u001b[0m\u001b[0mele\u001b[0m\u001b[0;34m]\u001b[0m \u001b[0;34m=\u001b[0m \u001b[0;36m0\u001b[0m\u001b[0;34m\u001b[0m\u001b[0;34m\u001b[0m\u001b[0m\n\u001b[1;32m      5\u001b[0m \u001b[0;34m\u001b[0m\u001b[0m\n",
      "\u001b[0;31mNameError\u001b[0m: name 'cat_2' is not defined"
     ]
    }
   ],
   "source": [
    "cat_2_nodes = []\n",
    "cat_2_bool = {}\n",
    "for ele in df['cat_2'].unique():\n",
    "    cat_2_bool[ele] = 0\n",
    "    \n",
    "cat_3_nodes = []\n",
    "cat_3_bool = {}\n",
    "for ele in df['cat_3'].unique():\n",
    "    cat_3_bool[ele] = 0\n",
    "    \n",
    "print(cat_2_bool)"
   ]
  },
  {
   "cell_type": "code",
   "execution_count": null,
   "metadata": {},
   "outputs": [],
   "source": []
  }
 ],
 "metadata": {
  "kernelspec": {
   "display_name": "Python 3",
   "language": "python",
   "name": "python3"
  },
  "language_info": {
   "codemirror_mode": {
    "name": "ipython",
    "version": 3
   },
   "file_extension": ".py",
   "mimetype": "text/x-python",
   "name": "python",
   "nbconvert_exporter": "python",
   "pygments_lexer": "ipython3",
   "version": "3.7.6"
  }
 },
 "nbformat": 4,
 "nbformat_minor": 4
}
