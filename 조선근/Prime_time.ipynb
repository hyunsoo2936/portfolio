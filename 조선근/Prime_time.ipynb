{
 "cells": [
  {
   "cell_type": "markdown",
   "metadata": {},
   "source": [
    "# 1. 데이터 로드"
   ]
  },
  {
   "cell_type": "code",
   "execution_count": 1,
   "metadata": {
    "hide_input": false,
    "scrolled": true
   },
   "outputs": [
    {
     "data": {
      "text/html": [
       "        <script type=\"text/javascript\">\n",
       "        window.PlotlyConfig = {MathJaxConfig: 'local'};\n",
       "        if (window.MathJax) {MathJax.Hub.Config({SVG: {font: \"STIX-Web\"}});}\n",
       "        if (typeof require !== 'undefined') {\n",
       "        require.undef(\"plotly\");\n",
       "        requirejs.config({\n",
       "            paths: {\n",
       "                'plotly': ['https://cdn.plot.ly/plotly-latest.min']\n",
       "            }\n",
       "        });\n",
       "        require(['plotly'], function(Plotly) {\n",
       "            window._Plotly = Plotly;\n",
       "        });\n",
       "        }\n",
       "        </script>\n",
       "        "
      ]
     },
     "metadata": {},
     "output_type": "display_data"
    }
   ],
   "source": [
    "import pandas as pd\n",
    "pd.set_option('display.float_format', '{:.2f}'.format) # 항상 float 형식으로\n",
    "\n",
    "import numpy as np \n",
    "\n",
    "# df plot\n",
    "import cufflinks as cf \n",
    "import plotly.plotly as py \n",
    "import matplotlib.pyplot as plt \n",
    "import seaborn as sns \n",
    "\n",
    "# warnings \n",
    "import warnings ; warnings.filterwarnings(\"ignore\")\n",
    "\n",
    "# style\n",
    "plt.style.use(\"ggplot\")\n",
    "cf.go_offline()"
   ]
  },
  {
   "cell_type": "code",
   "execution_count": 2,
   "metadata": {
    "hide_input": false
   },
   "outputs": [],
   "source": [
    "# 한글 폰트 출력 \n",
    "import matplotlib\n",
    "from matplotlib import font_manager, rc \n",
    "import platform \n",
    "\n",
    "font_name=font_manager.FontProperties(fname=\"c:/Windows/Fonts/malgun.ttf\").get_name()\n",
    "rc(\"font\",family=font_name)\n",
    "matplotlib.rcParams['axes.unicode_minus']=False"
   ]
  },
  {
   "cell_type": "code",
   "execution_count": 3,
   "metadata": {
    "hide_input": false
   },
   "outputs": [],
   "source": [
    "# 데이터 로드 \n",
    "path = \"C:/Users/sk_jo/Desktop/Project/titanic/\"\n",
    "\n",
    "def load_dataset(): \n",
    "    sales = pd.read_excel(path+\"sales.xlsx\",header =1)\n",
    "    view_rate = pd.read_excel(path+\"view_rate.xlsx\",header =1, index_col= 0)\n",
    "    return sales, view_rate\n",
    "\n",
    "sales = load_dataset()[0]\n",
    "view_rate = load_dataset()[1]"
   ]
  },
  {
   "cell_type": "markdown",
   "metadata": {},
   "source": [
    "# 2. 데이터 전처리 "
   ]
  },
  {
   "cell_type": "code",
   "execution_count": 15,
   "metadata": {
    "hide_input": true,
    "scrolled": true
   },
   "outputs": [
    {
     "data": {
      "text/html": [
       "<div>\n",
       "<style scoped>\n",
       "    .dataframe tbody tr th:only-of-type {\n",
       "        vertical-align: middle;\n",
       "    }\n",
       "\n",
       "    .dataframe tbody tr th {\n",
       "        vertical-align: top;\n",
       "    }\n",
       "\n",
       "    .dataframe thead th {\n",
       "        text-align: right;\n",
       "    }\n",
       "</style>\n",
       "<table border=\"1\" class=\"dataframe\">\n",
       "  <thead>\n",
       "    <tr style=\"text-align: right;\">\n",
       "      <th></th>\n",
       "      <th>방송일시</th>\n",
       "      <th>노출(분)</th>\n",
       "      <th>마더코드</th>\n",
       "      <th>상품코드</th>\n",
       "      <th>상품명</th>\n",
       "      <th>상품군</th>\n",
       "      <th>판매단가</th>\n",
       "      <th>취급액</th>\n",
       "      <th>month</th>\n",
       "      <th>day</th>\n",
       "      <th>hour</th>\n",
       "      <th>minute</th>\n",
       "      <th>weekday</th>\n",
       "      <th>holiday</th>\n",
       "    </tr>\n",
       "  </thead>\n",
       "  <tbody>\n",
       "    <tr>\n",
       "      <th>0</th>\n",
       "      <td>2019-01-01 06:00:00</td>\n",
       "      <td>20.00</td>\n",
       "      <td>100346</td>\n",
       "      <td>201072</td>\n",
       "      <td>테이트 남성 셀린니트3종</td>\n",
       "      <td>의류</td>\n",
       "      <td>39900</td>\n",
       "      <td>2099000.00</td>\n",
       "      <td>1</td>\n",
       "      <td>1</td>\n",
       "      <td>6</td>\n",
       "      <td>0</td>\n",
       "      <td>1</td>\n",
       "      <td>1</td>\n",
       "    </tr>\n",
       "    <tr>\n",
       "      <th>1</th>\n",
       "      <td>2019-01-01 06:00:00</td>\n",
       "      <td>20.00</td>\n",
       "      <td>100346</td>\n",
       "      <td>201079</td>\n",
       "      <td>테이트 여성 셀린니트3종</td>\n",
       "      <td>의류</td>\n",
       "      <td>39900</td>\n",
       "      <td>4371000.00</td>\n",
       "      <td>1</td>\n",
       "      <td>1</td>\n",
       "      <td>6</td>\n",
       "      <td>0</td>\n",
       "      <td>1</td>\n",
       "      <td>1</td>\n",
       "    </tr>\n",
       "    <tr>\n",
       "      <th>2</th>\n",
       "      <td>2019-01-01 06:20:00</td>\n",
       "      <td>20.00</td>\n",
       "      <td>100346</td>\n",
       "      <td>201072</td>\n",
       "      <td>테이트 남성 셀린니트3종</td>\n",
       "      <td>의류</td>\n",
       "      <td>39900</td>\n",
       "      <td>3262000.00</td>\n",
       "      <td>1</td>\n",
       "      <td>1</td>\n",
       "      <td>6</td>\n",
       "      <td>20</td>\n",
       "      <td>1</td>\n",
       "      <td>1</td>\n",
       "    </tr>\n",
       "    <tr>\n",
       "      <th>3</th>\n",
       "      <td>2019-01-01 06:20:00</td>\n",
       "      <td>20.00</td>\n",
       "      <td>100346</td>\n",
       "      <td>201079</td>\n",
       "      <td>테이트 여성 셀린니트3종</td>\n",
       "      <td>의류</td>\n",
       "      <td>39900</td>\n",
       "      <td>6955000.00</td>\n",
       "      <td>1</td>\n",
       "      <td>1</td>\n",
       "      <td>6</td>\n",
       "      <td>20</td>\n",
       "      <td>1</td>\n",
       "      <td>1</td>\n",
       "    </tr>\n",
       "    <tr>\n",
       "      <th>4</th>\n",
       "      <td>2019-01-01 06:40:00</td>\n",
       "      <td>20.00</td>\n",
       "      <td>100346</td>\n",
       "      <td>201072</td>\n",
       "      <td>테이트 남성 셀린니트3종</td>\n",
       "      <td>의류</td>\n",
       "      <td>39900</td>\n",
       "      <td>6672000.00</td>\n",
       "      <td>1</td>\n",
       "      <td>1</td>\n",
       "      <td>6</td>\n",
       "      <td>40</td>\n",
       "      <td>1</td>\n",
       "      <td>1</td>\n",
       "    </tr>\n",
       "  </tbody>\n",
       "</table>\n",
       "</div>"
      ],
      "text/plain": [
       "                 방송일시  노출(분)    마더코드    상품코드            상품명 상품군   판매단가  \\\n",
       "0 2019-01-01 06:00:00  20.00  100346  201072  테이트 남성 셀린니트3종  의류  39900   \n",
       "1 2019-01-01 06:00:00  20.00  100346  201079  테이트 여성 셀린니트3종  의류  39900   \n",
       "2 2019-01-01 06:20:00  20.00  100346  201072  테이트 남성 셀린니트3종  의류  39900   \n",
       "3 2019-01-01 06:20:00  20.00  100346  201079  테이트 여성 셀린니트3종  의류  39900   \n",
       "4 2019-01-01 06:40:00  20.00  100346  201072  테이트 남성 셀린니트3종  의류  39900   \n",
       "\n",
       "         취급액  month  day  hour  minute  weekday  holiday  \n",
       "0 2099000.00      1    1     6       0        1        1  \n",
       "1 4371000.00      1    1     6       0        1        1  \n",
       "2 3262000.00      1    1     6      20        1        1  \n",
       "3 6955000.00      1    1     6      20        1        1  \n",
       "4 6672000.00      1    1     6      40        1        1  "
      ]
     },
     "execution_count": 15,
     "metadata": {},
     "output_type": "execute_result"
    }
   ],
   "source": [
    "import datetime \n",
    "## TODO \n",
    "## 1.무형 상품은 추정 제외 \n",
    "## 2.결측된 노출분 채우기 (직전의 값 집어넣기) \n",
    "## 3. 판매단가 > 취급액이면 취급액 0 \n",
    "## 4. 시간 데이터 처리\n",
    "## 5. 취급액이 50000인경우와 0인 경우 삭제 \n",
    "\n",
    "\n",
    "def filling_missing_exposure(df):\n",
    "    #2번 전처리\n",
    "    for i,row in df.iterrows():\n",
    "        val = row[\"노출(분)\"]\n",
    "        if i == 0:\n",
    "            continue \n",
    "        if np.isnan(val):\n",
    "            if df.loc[i,\"방송일시\"] == df.loc[i-1,\"방송일시\"]:\n",
    "                df.loc[i,\"노출(분)\"] = df.loc[i-1,\"노출(분)\"]\n",
    "            else :\n",
    "                continue \n",
    "    return df \n",
    "\n",
    "def custom(price, total):\n",
    "    # 3전처리 \n",
    "    if price > total: return 0\n",
    "    else: return total\n",
    "    \n",
    "def handle_date(df):\n",
    "    # 4번 전처리\n",
    "    df[\"방송일시\"] = pd.to_datetime(df[\"방송일시\"])\n",
    "    df['month'] = pd.DatetimeIndex(df['방송일시']).month\n",
    "    df['day'] = pd.DatetimeIndex(df['방송일시']).day\n",
    "    df['hour'] = pd.DatetimeIndex(df['방송일시']).hour\n",
    "    df['minute'] = pd.DatetimeIndex(df['방송일시']).minute\n",
    "    df['weekday'] = pd.DatetimeIndex(df['방송일시']).weekday\n",
    "    \n",
    "    return df \n",
    "\n",
    "def deleting_data(df):\n",
    "    df.drop(df[df[\"취급액\"]==50000].index,axis=0,inplace=True)\n",
    "    df.drop(df[df[\"취급액\"]==0].index,axis=0,inplace=True)\n",
    "    return df \n",
    "    \n",
    "\n",
    "def handle_holiday(df):\n",
    "    # 5번 전처리 \n",
    "    hol = ['2019-01-01','2019-02-04','2019-02-05','2019-02-06','2019-03-01','2019-05-05','2019-05-06'\n",
    "           ,'2019-05-12','2019-06-06','2019-08-15','2019-09-12','2019-09-13','2019-09-14','2019-10-03','2019-10-09'\n",
    "           ,'2019-12-25','2020-01-01']\n",
    "    df[\"holiday\"] = df[\"방송일시\"].apply(lambda x : 1 if ((datetime.datetime.strftime(x,\"%Y-%m-%d\")) in hol) else 0 )\n",
    "    \n",
    "    return df\n",
    "\n",
    "    \n",
    "def pre_processing(df): \n",
    "    # 1. 무형 상품 추정 제외 \n",
    "    df = df.drop(df[df[\"상품군\"]==\"무형\"].index,axis = 0)\n",
    "    # 2. 결측된 노출분 채우기 \n",
    "    df = filling_missing_exposure(df)\n",
    "                \n",
    "    # 3. 판매단가 > 취급액이면 취급액 0 \n",
    "    df[\"취급액\"] = df.apply(lambda x : custom(x[\"판매단가\"], x[\"취급액\"]),axis=1)\n",
    "    # 4. month, day, hour, minute, weekday 열 추가 \n",
    "    df = handle_date(df)\n",
    "    # 5. 공휴일 처리\n",
    "    df = handle_holiday(df)\n",
    "    \n",
    "    # 6. data 삭제 \n",
    "    df = deleting_data(df)\n",
    "    \n",
    "    # reset_index\n",
    "    df = df.reset_index(drop=True)\n",
    "    \n",
    "    return df \n",
    "\n",
    "sales = pre_processing(sales)\n",
    "sales.head()"
   ]
  },
  {
   "cell_type": "markdown",
   "metadata": {},
   "source": [
    "# 3. 외부 데이터 가지고 오기"
   ]
  },
  {
   "cell_type": "markdown",
   "metadata": {},
   "source": [
    "## 3-1 날씨 데이터"
   ]
  },
  {
   "cell_type": "code",
   "execution_count": 30,
   "metadata": {
    "hide_input": true,
    "scrolled": false
   },
   "outputs": [
    {
     "data": {
      "text/html": [
       "<div>\n",
       "<style scoped>\n",
       "    .dataframe tbody tr th:only-of-type {\n",
       "        vertical-align: middle;\n",
       "    }\n",
       "\n",
       "    .dataframe tbody tr th {\n",
       "        vertical-align: top;\n",
       "    }\n",
       "\n",
       "    .dataframe thead th {\n",
       "        text-align: right;\n",
       "    }\n",
       "</style>\n",
       "<table border=\"1\" class=\"dataframe\">\n",
       "  <thead>\n",
       "    <tr style=\"text-align: right;\">\n",
       "      <th></th>\n",
       "      <th>방송일시</th>\n",
       "      <th>미세먼지(㎍/㎥)</th>\n",
       "      <th>초미세먼지(㎍/㎥)</th>\n",
       "      <th>오존(ppm)</th>\n",
       "      <th>이산화질소농도(ppm)</th>\n",
       "      <th>일산화탄소농도(ppm)</th>\n",
       "      <th>아황산가스농도(ppm)</th>\n",
       "      <th>미세먼지 주의보 및 경보</th>\n",
       "      <th>평균기온(℃)</th>\n",
       "      <th>최고기온(℃)</th>\n",
       "      <th>최저기온(℃)</th>\n",
       "      <th>season</th>\n",
       "    </tr>\n",
       "  </thead>\n",
       "  <tbody>\n",
       "    <tr>\n",
       "      <th>0</th>\n",
       "      <td>2019-01-01</td>\n",
       "      <td>39.36</td>\n",
       "      <td>26.12</td>\n",
       "      <td>0.01</td>\n",
       "      <td>0.03</td>\n",
       "      <td>0.69</td>\n",
       "      <td>0.00</td>\n",
       "      <td>0</td>\n",
       "      <td>-5.00</td>\n",
       "      <td>-0.60</td>\n",
       "      <td>-8.20</td>\n",
       "      <td>겨울</td>\n",
       "    </tr>\n",
       "    <tr>\n",
       "      <th>1</th>\n",
       "      <td>2019-01-02</td>\n",
       "      <td>33.08</td>\n",
       "      <td>21.36</td>\n",
       "      <td>0.01</td>\n",
       "      <td>0.04</td>\n",
       "      <td>0.68</td>\n",
       "      <td>0.00</td>\n",
       "      <td>0</td>\n",
       "      <td>-4.90</td>\n",
       "      <td>0.20</td>\n",
       "      <td>-8.80</td>\n",
       "      <td>겨울</td>\n",
       "    </tr>\n",
       "    <tr>\n",
       "      <th>2</th>\n",
       "      <td>2019-01-03</td>\n",
       "      <td>38.80</td>\n",
       "      <td>23.36</td>\n",
       "      <td>0.01</td>\n",
       "      <td>0.04</td>\n",
       "      <td>0.74</td>\n",
       "      <td>0.01</td>\n",
       "      <td>0</td>\n",
       "      <td>-3.50</td>\n",
       "      <td>3.20</td>\n",
       "      <td>-8.40</td>\n",
       "      <td>겨울</td>\n",
       "    </tr>\n",
       "    <tr>\n",
       "      <th>3</th>\n",
       "      <td>2019-01-04</td>\n",
       "      <td>59.44</td>\n",
       "      <td>40.36</td>\n",
       "      <td>0.00</td>\n",
       "      <td>0.06</td>\n",
       "      <td>1.06</td>\n",
       "      <td>0.01</td>\n",
       "      <td>0</td>\n",
       "      <td>-1.10</td>\n",
       "      <td>4.10</td>\n",
       "      <td>-6.20</td>\n",
       "      <td>겨울</td>\n",
       "    </tr>\n",
       "    <tr>\n",
       "      <th>4</th>\n",
       "      <td>2019-01-05</td>\n",
       "      <td>65.72</td>\n",
       "      <td>42.52</td>\n",
       "      <td>0.02</td>\n",
       "      <td>0.03</td>\n",
       "      <td>0.64</td>\n",
       "      <td>0.01</td>\n",
       "      <td>1</td>\n",
       "      <td>-2.80</td>\n",
       "      <td>1.10</td>\n",
       "      <td>-5.50</td>\n",
       "      <td>겨울</td>\n",
       "    </tr>\n",
       "  </tbody>\n",
       "</table>\n",
       "</div>"
      ],
      "text/plain": [
       "         방송일시  미세먼지(㎍/㎥)  초미세먼지(㎍/㎥)  오존(ppm)  이산화질소농도(ppm)  일산화탄소농도(ppm)  \\\n",
       "0  2019-01-01      39.36       26.12     0.01          0.03          0.69   \n",
       "1  2019-01-02      33.08       21.36     0.01          0.04          0.68   \n",
       "2  2019-01-03      38.80       23.36     0.01          0.04          0.74   \n",
       "3  2019-01-04      59.44       40.36     0.00          0.06          1.06   \n",
       "4  2019-01-05      65.72       42.52     0.02          0.03          0.64   \n",
       "\n",
       "   아황산가스농도(ppm)  미세먼지 주의보 및 경보  평균기온(℃)  최고기온(℃)  최저기온(℃) season  \n",
       "0          0.00              0    -5.00    -0.60    -8.20     겨울  \n",
       "1          0.00              0    -4.90     0.20    -8.80     겨울  \n",
       "2          0.01              0    -3.50     3.20    -8.40     겨울  \n",
       "3          0.01              0    -1.10     4.10    -6.20     겨울  \n",
       "4          0.01              1    -2.80     1.10    -5.50     겨울  "
      ]
     },
     "execution_count": 30,
     "metadata": {},
     "output_type": "execute_result"
    }
   ],
   "source": [
    "weather = pd.read_csv(\"./weathers.csv\")\n",
    "weather.head()"
   ]
  },
  {
   "cell_type": "markdown",
   "metadata": {},
   "source": [
    "## 3-2 카테고리 데이터 "
   ]
  },
  {
   "cell_type": "markdown",
   "metadata": {},
   "source": [
    "## 3-3 시청률 데이터"
   ]
  },
  {
   "cell_type": "markdown",
   "metadata": {},
   "source": [
    "## 3-4 경제지표 데이터"
   ]
  },
  {
   "cell_type": "markdown",
   "metadata": {},
   "source": [
    "# 4. Feature engineering "
   ]
  },
  {
   "cell_type": "code",
   "execution_count": 32,
   "metadata": {},
   "outputs": [],
   "source": [
    "sales[\"판매량\"] = sales[\"취급액\"]/sales[\"판매단가\"]\n",
    "sales = sales[[\"판매량\",\"취급액\",\"weekday\",\"방송일시\",\"방송날짜\",\"holiday\"]]\n",
    "weather = weather[[\"방송일시\",\"season\"]]"
   ]
  },
  {
   "cell_type": "code",
   "execution_count": 33,
   "metadata": {},
   "outputs": [],
   "source": [
    "weather = weather.rename(columns = {\"방송일시\":\"방송날짜\"})"
   ]
  },
  {
   "cell_type": "code",
   "execution_count": 34,
   "metadata": {},
   "outputs": [
    {
     "data": {
      "text/html": [
       "<div>\n",
       "<style scoped>\n",
       "    .dataframe tbody tr th:only-of-type {\n",
       "        vertical-align: middle;\n",
       "    }\n",
       "\n",
       "    .dataframe tbody tr th {\n",
       "        vertical-align: top;\n",
       "    }\n",
       "\n",
       "    .dataframe thead th {\n",
       "        text-align: right;\n",
       "    }\n",
       "</style>\n",
       "<table border=\"1\" class=\"dataframe\">\n",
       "  <thead>\n",
       "    <tr style=\"text-align: right;\">\n",
       "      <th></th>\n",
       "      <th>판매량</th>\n",
       "      <th>취급액</th>\n",
       "      <th>weekday</th>\n",
       "      <th>방송일시</th>\n",
       "      <th>방송날짜</th>\n",
       "      <th>holiday</th>\n",
       "    </tr>\n",
       "  </thead>\n",
       "  <tbody>\n",
       "    <tr>\n",
       "      <th>0</th>\n",
       "      <td>52.61</td>\n",
       "      <td>2099000.00</td>\n",
       "      <td>1</td>\n",
       "      <td>2019-01-01 06:00:00</td>\n",
       "      <td>2019-01-01</td>\n",
       "      <td>1</td>\n",
       "    </tr>\n",
       "    <tr>\n",
       "      <th>1</th>\n",
       "      <td>109.55</td>\n",
       "      <td>4371000.00</td>\n",
       "      <td>1</td>\n",
       "      <td>2019-01-01 06:00:00</td>\n",
       "      <td>2019-01-01</td>\n",
       "      <td>1</td>\n",
       "    </tr>\n",
       "    <tr>\n",
       "      <th>2</th>\n",
       "      <td>81.75</td>\n",
       "      <td>3262000.00</td>\n",
       "      <td>1</td>\n",
       "      <td>2019-01-01 06:20:00</td>\n",
       "      <td>2019-01-01</td>\n",
       "      <td>1</td>\n",
       "    </tr>\n",
       "    <tr>\n",
       "      <th>3</th>\n",
       "      <td>174.31</td>\n",
       "      <td>6955000.00</td>\n",
       "      <td>1</td>\n",
       "      <td>2019-01-01 06:20:00</td>\n",
       "      <td>2019-01-01</td>\n",
       "      <td>1</td>\n",
       "    </tr>\n",
       "    <tr>\n",
       "      <th>4</th>\n",
       "      <td>167.22</td>\n",
       "      <td>6672000.00</td>\n",
       "      <td>1</td>\n",
       "      <td>2019-01-01 06:40:00</td>\n",
       "      <td>2019-01-01</td>\n",
       "      <td>1</td>\n",
       "    </tr>\n",
       "  </tbody>\n",
       "</table>\n",
       "</div>"
      ],
      "text/plain": [
       "     판매량        취급액  weekday                방송일시        방송날짜  holiday\n",
       "0  52.61 2099000.00        1 2019-01-01 06:00:00  2019-01-01        1\n",
       "1 109.55 4371000.00        1 2019-01-01 06:00:00  2019-01-01        1\n",
       "2  81.75 3262000.00        1 2019-01-01 06:20:00  2019-01-01        1\n",
       "3 174.31 6955000.00        1 2019-01-01 06:20:00  2019-01-01        1\n",
       "4 167.22 6672000.00        1 2019-01-01 06:40:00  2019-01-01        1"
      ]
     },
     "execution_count": 34,
     "metadata": {},
     "output_type": "execute_result"
    }
   ],
   "source": [
    "sales.head()"
   ]
  },
  {
   "cell_type": "code",
   "execution_count": 62,
   "metadata": {},
   "outputs": [],
   "source": [
    "new_df = pd.merge(sales,weather,how = \"inner\", on = \"방송날짜\")"
   ]
  },
  {
   "cell_type": "code",
   "execution_count": 63,
   "metadata": {},
   "outputs": [
    {
     "data": {
      "text/html": [
       "<div>\n",
       "<style scoped>\n",
       "    .dataframe tbody tr th:only-of-type {\n",
       "        vertical-align: middle;\n",
       "    }\n",
       "\n",
       "    .dataframe tbody tr th {\n",
       "        vertical-align: top;\n",
       "    }\n",
       "\n",
       "    .dataframe thead th {\n",
       "        text-align: right;\n",
       "    }\n",
       "</style>\n",
       "<table border=\"1\" class=\"dataframe\">\n",
       "  <thead>\n",
       "    <tr style=\"text-align: right;\">\n",
       "      <th></th>\n",
       "      <th>판매량</th>\n",
       "      <th>취급액</th>\n",
       "      <th>weekday</th>\n",
       "      <th>방송일시</th>\n",
       "      <th>방송날짜</th>\n",
       "      <th>holiday</th>\n",
       "      <th>season</th>\n",
       "      <th>방송시간</th>\n",
       "    </tr>\n",
       "  </thead>\n",
       "  <tbody>\n",
       "    <tr>\n",
       "      <th>0</th>\n",
       "      <td>52.61</td>\n",
       "      <td>2099000.00</td>\n",
       "      <td>1</td>\n",
       "      <td>2019-01-01 06:00:00</td>\n",
       "      <td>2019-01-01</td>\n",
       "      <td>1</td>\n",
       "      <td>겨울</td>\n",
       "      <td>06:00</td>\n",
       "    </tr>\n",
       "    <tr>\n",
       "      <th>1</th>\n",
       "      <td>109.55</td>\n",
       "      <td>4371000.00</td>\n",
       "      <td>1</td>\n",
       "      <td>2019-01-01 06:00:00</td>\n",
       "      <td>2019-01-01</td>\n",
       "      <td>1</td>\n",
       "      <td>겨울</td>\n",
       "      <td>06:00</td>\n",
       "    </tr>\n",
       "    <tr>\n",
       "      <th>2</th>\n",
       "      <td>81.75</td>\n",
       "      <td>3262000.00</td>\n",
       "      <td>1</td>\n",
       "      <td>2019-01-01 06:20:00</td>\n",
       "      <td>2019-01-01</td>\n",
       "      <td>1</td>\n",
       "      <td>겨울</td>\n",
       "      <td>06:20</td>\n",
       "    </tr>\n",
       "    <tr>\n",
       "      <th>3</th>\n",
       "      <td>174.31</td>\n",
       "      <td>6955000.00</td>\n",
       "      <td>1</td>\n",
       "      <td>2019-01-01 06:20:00</td>\n",
       "      <td>2019-01-01</td>\n",
       "      <td>1</td>\n",
       "      <td>겨울</td>\n",
       "      <td>06:20</td>\n",
       "    </tr>\n",
       "    <tr>\n",
       "      <th>4</th>\n",
       "      <td>167.22</td>\n",
       "      <td>6672000.00</td>\n",
       "      <td>1</td>\n",
       "      <td>2019-01-01 06:40:00</td>\n",
       "      <td>2019-01-01</td>\n",
       "      <td>1</td>\n",
       "      <td>겨울</td>\n",
       "      <td>06:40</td>\n",
       "    </tr>\n",
       "  </tbody>\n",
       "</table>\n",
       "</div>"
      ],
      "text/plain": [
       "     판매량        취급액  weekday                방송일시        방송날짜  holiday season  \\\n",
       "0  52.61 2099000.00        1 2019-01-01 06:00:00  2019-01-01        1     겨울   \n",
       "1 109.55 4371000.00        1 2019-01-01 06:00:00  2019-01-01        1     겨울   \n",
       "2  81.75 3262000.00        1 2019-01-01 06:20:00  2019-01-01        1     겨울   \n",
       "3 174.31 6955000.00        1 2019-01-01 06:20:00  2019-01-01        1     겨울   \n",
       "4 167.22 6672000.00        1 2019-01-01 06:40:00  2019-01-01        1     겨울   \n",
       "\n",
       "    방송시간  \n",
       "0  06:00  \n",
       "1  06:00  \n",
       "2  06:20  \n",
       "3  06:20  \n",
       "4  06:40  "
      ]
     },
     "execution_count": 63,
     "metadata": {},
     "output_type": "execute_result"
    }
   ],
   "source": [
    "new_df[\"방송시간\"] = new_df[\"방송일시\"].apply(lambda x : datetime.datetime.strftime(x,\"%H:%M\"))\n",
    "new_df.head()"
   ]
  },
  {
   "cell_type": "code",
   "execution_count": 64,
   "metadata": {},
   "outputs": [
    {
     "data": {
      "text/html": [
       "<div>\n",
       "<style scoped>\n",
       "    .dataframe tbody tr th:only-of-type {\n",
       "        vertical-align: middle;\n",
       "    }\n",
       "\n",
       "    .dataframe tbody tr th {\n",
       "        vertical-align: top;\n",
       "    }\n",
       "\n",
       "    .dataframe thead th {\n",
       "        text-align: right;\n",
       "    }\n",
       "</style>\n",
       "<table border=\"1\" class=\"dataframe\">\n",
       "  <thead>\n",
       "    <tr style=\"text-align: right;\">\n",
       "      <th></th>\n",
       "      <th>판매량</th>\n",
       "      <th>취급액</th>\n",
       "      <th>weekday</th>\n",
       "      <th>방송일시</th>\n",
       "      <th>방송날짜</th>\n",
       "      <th>holiday</th>\n",
       "      <th>season</th>\n",
       "      <th>방송시간</th>\n",
       "      <th>Day_off</th>\n",
       "    </tr>\n",
       "  </thead>\n",
       "  <tbody>\n",
       "    <tr>\n",
       "      <th>0</th>\n",
       "      <td>52.61</td>\n",
       "      <td>2099000.00</td>\n",
       "      <td>1</td>\n",
       "      <td>2019-01-01 06:00:00</td>\n",
       "      <td>2019-01-01</td>\n",
       "      <td>1</td>\n",
       "      <td>겨울</td>\n",
       "      <td>06:00</td>\n",
       "      <td>1</td>\n",
       "    </tr>\n",
       "    <tr>\n",
       "      <th>1</th>\n",
       "      <td>109.55</td>\n",
       "      <td>4371000.00</td>\n",
       "      <td>1</td>\n",
       "      <td>2019-01-01 06:00:00</td>\n",
       "      <td>2019-01-01</td>\n",
       "      <td>1</td>\n",
       "      <td>겨울</td>\n",
       "      <td>06:00</td>\n",
       "      <td>1</td>\n",
       "    </tr>\n",
       "    <tr>\n",
       "      <th>2</th>\n",
       "      <td>81.75</td>\n",
       "      <td>3262000.00</td>\n",
       "      <td>1</td>\n",
       "      <td>2019-01-01 06:20:00</td>\n",
       "      <td>2019-01-01</td>\n",
       "      <td>1</td>\n",
       "      <td>겨울</td>\n",
       "      <td>06:20</td>\n",
       "      <td>1</td>\n",
       "    </tr>\n",
       "    <tr>\n",
       "      <th>3</th>\n",
       "      <td>174.31</td>\n",
       "      <td>6955000.00</td>\n",
       "      <td>1</td>\n",
       "      <td>2019-01-01 06:20:00</td>\n",
       "      <td>2019-01-01</td>\n",
       "      <td>1</td>\n",
       "      <td>겨울</td>\n",
       "      <td>06:20</td>\n",
       "      <td>1</td>\n",
       "    </tr>\n",
       "    <tr>\n",
       "      <th>4</th>\n",
       "      <td>167.22</td>\n",
       "      <td>6672000.00</td>\n",
       "      <td>1</td>\n",
       "      <td>2019-01-01 06:40:00</td>\n",
       "      <td>2019-01-01</td>\n",
       "      <td>1</td>\n",
       "      <td>겨울</td>\n",
       "      <td>06:40</td>\n",
       "      <td>1</td>\n",
       "    </tr>\n",
       "  </tbody>\n",
       "</table>\n",
       "</div>"
      ],
      "text/plain": [
       "     판매량        취급액  weekday                방송일시        방송날짜  holiday season  \\\n",
       "0  52.61 2099000.00        1 2019-01-01 06:00:00  2019-01-01        1     겨울   \n",
       "1 109.55 4371000.00        1 2019-01-01 06:00:00  2019-01-01        1     겨울   \n",
       "2  81.75 3262000.00        1 2019-01-01 06:20:00  2019-01-01        1     겨울   \n",
       "3 174.31 6955000.00        1 2019-01-01 06:20:00  2019-01-01        1     겨울   \n",
       "4 167.22 6672000.00        1 2019-01-01 06:40:00  2019-01-01        1     겨울   \n",
       "\n",
       "    방송시간  Day_off  \n",
       "0  06:00        1  \n",
       "1  06:00        1  \n",
       "2  06:20        1  \n",
       "3  06:20        1  \n",
       "4  06:40        1  "
      ]
     },
     "execution_count": 64,
     "metadata": {},
     "output_type": "execute_result"
    }
   ],
   "source": [
    "#쉬는날과 안쉬는날의 데이터로 만들어 봅니다.\n",
    "def check_off(weekday, holiday):\n",
    "    if (weekday in [5,6] ) or (holiday == 1) : \n",
    "        return 1 \n",
    "    else:\n",
    "        return 0 \n",
    "    \n",
    "new_df[\"Day_off\"] = new_df.apply(lambda x: check_off(x[\"weekday\"],x[\"holiday\"]) ,axis=1)\n",
    "new_df.head()    "
   ]
  },
  {
   "cell_type": "markdown",
   "metadata": {},
   "source": [
    "season별 주중 주말 데이터의 시간대별 판매량 및 취급액 차이"
   ]
  },
  {
   "cell_type": "code",
   "execution_count": 65,
   "metadata": {
    "scrolled": true
   },
   "outputs": [
    {
     "data": {
      "text/html": [
       "<div>\n",
       "<style scoped>\n",
       "    .dataframe tbody tr th:only-of-type {\n",
       "        vertical-align: middle;\n",
       "    }\n",
       "\n",
       "    .dataframe tbody tr th {\n",
       "        vertical-align: top;\n",
       "    }\n",
       "\n",
       "    .dataframe thead th {\n",
       "        text-align: right;\n",
       "    }\n",
       "</style>\n",
       "<table border=\"1\" class=\"dataframe\">\n",
       "  <thead>\n",
       "    <tr style=\"text-align: right;\">\n",
       "      <th></th>\n",
       "      <th>판매량</th>\n",
       "      <th>취급액</th>\n",
       "      <th>weekday</th>\n",
       "      <th>방송일시</th>\n",
       "      <th>방송날짜</th>\n",
       "      <th>holiday</th>\n",
       "      <th>season</th>\n",
       "      <th>방송시간</th>\n",
       "      <th>Day_off</th>\n",
       "      <th>hour</th>\n",
       "    </tr>\n",
       "  </thead>\n",
       "  <tbody>\n",
       "    <tr>\n",
       "      <th>0</th>\n",
       "      <td>52.61</td>\n",
       "      <td>2099000.00</td>\n",
       "      <td>1</td>\n",
       "      <td>2019-01-01 06:00:00</td>\n",
       "      <td>2019-01-01</td>\n",
       "      <td>1</td>\n",
       "      <td>겨울</td>\n",
       "      <td>06:00</td>\n",
       "      <td>1</td>\n",
       "      <td>06</td>\n",
       "    </tr>\n",
       "    <tr>\n",
       "      <th>1</th>\n",
       "      <td>109.55</td>\n",
       "      <td>4371000.00</td>\n",
       "      <td>1</td>\n",
       "      <td>2019-01-01 06:00:00</td>\n",
       "      <td>2019-01-01</td>\n",
       "      <td>1</td>\n",
       "      <td>겨울</td>\n",
       "      <td>06:00</td>\n",
       "      <td>1</td>\n",
       "      <td>06</td>\n",
       "    </tr>\n",
       "    <tr>\n",
       "      <th>2</th>\n",
       "      <td>81.75</td>\n",
       "      <td>3262000.00</td>\n",
       "      <td>1</td>\n",
       "      <td>2019-01-01 06:20:00</td>\n",
       "      <td>2019-01-01</td>\n",
       "      <td>1</td>\n",
       "      <td>겨울</td>\n",
       "      <td>06:20</td>\n",
       "      <td>1</td>\n",
       "      <td>06</td>\n",
       "    </tr>\n",
       "    <tr>\n",
       "      <th>3</th>\n",
       "      <td>174.31</td>\n",
       "      <td>6955000.00</td>\n",
       "      <td>1</td>\n",
       "      <td>2019-01-01 06:20:00</td>\n",
       "      <td>2019-01-01</td>\n",
       "      <td>1</td>\n",
       "      <td>겨울</td>\n",
       "      <td>06:20</td>\n",
       "      <td>1</td>\n",
       "      <td>06</td>\n",
       "    </tr>\n",
       "    <tr>\n",
       "      <th>4</th>\n",
       "      <td>167.22</td>\n",
       "      <td>6672000.00</td>\n",
       "      <td>1</td>\n",
       "      <td>2019-01-01 06:40:00</td>\n",
       "      <td>2019-01-01</td>\n",
       "      <td>1</td>\n",
       "      <td>겨울</td>\n",
       "      <td>06:40</td>\n",
       "      <td>1</td>\n",
       "      <td>06</td>\n",
       "    </tr>\n",
       "  </tbody>\n",
       "</table>\n",
       "</div>"
      ],
      "text/plain": [
       "     판매량        취급액  weekday                방송일시        방송날짜  holiday season  \\\n",
       "0  52.61 2099000.00        1 2019-01-01 06:00:00  2019-01-01        1     겨울   \n",
       "1 109.55 4371000.00        1 2019-01-01 06:00:00  2019-01-01        1     겨울   \n",
       "2  81.75 3262000.00        1 2019-01-01 06:20:00  2019-01-01        1     겨울   \n",
       "3 174.31 6955000.00        1 2019-01-01 06:20:00  2019-01-01        1     겨울   \n",
       "4 167.22 6672000.00        1 2019-01-01 06:40:00  2019-01-01        1     겨울   \n",
       "\n",
       "    방송시간  Day_off hour  \n",
       "0  06:00        1   06  \n",
       "1  06:00        1   06  \n",
       "2  06:20        1   06  \n",
       "3  06:20        1   06  \n",
       "4  06:40        1   06  "
      ]
     },
     "execution_count": 65,
     "metadata": {},
     "output_type": "execute_result"
    }
   ],
   "source": [
    "new_df[\"hour\"] = new_df[\"방송시간\"].apply(lambda x:x.split(\":\")[0] )\n",
    "new_df.head()"
   ]
  },
  {
   "cell_type": "code",
   "execution_count": null,
   "metadata": {},
   "outputs": [],
   "source": []
  },
  {
   "cell_type": "code",
   "execution_count": 158,
   "metadata": {},
   "outputs": [
    {
     "data": {
      "application/vnd.plotly.v1+json": {
       "config": {
        "linkText": "Export to plot.ly",
        "plotlyServerURL": "https://plot.ly",
        "showLink": true
       },
       "data": [
        {
         "marker": {
          "color": "rgba(255, 153, 51, 0.6)",
          "line": {
           "color": "rgba(255, 153, 51, 1.0)",
           "width": 1
          }
         },
         "name": "취급액",
         "orientation": "v",
         "text": "",
         "type": "bar",
         "uid": "0d372eed-b050-4504-84e3-38f6682f7b20",
         "x": [
          "00",
          "01",
          "02",
          "06",
          "07",
          "08",
          "09",
          "10",
          "11",
          "12",
          "13",
          "14",
          "15",
          "16",
          "17",
          "18",
          "19",
          "20",
          "21",
          "22",
          "23"
         ],
         "y": [
          2366477000,
          1560082000,
          289133000,
          1861628000,
          3251712000,
          3062186000,
          3863468000,
          4123315000,
          4283244000,
          2898075000,
          3462926000,
          3304302000,
          4185332000,
          4362418000,
          4682159000,
          4148905000,
          5253102000,
          6123985000,
          7526297000,
          6163010000,
          3441897000
         ]
        }
       ],
       "layout": {
        "legend": {
         "bgcolor": "#F5F6F9",
         "font": {
          "color": "#4D5663"
         }
        },
        "paper_bgcolor": "#F5F6F9",
        "plot_bgcolor": "#F5F6F9",
        "title": {
         "font": {
          "color": "#4D5663"
         },
         "text": "가을의 쉬지 않는날 시간별 취급액 총합"
        },
        "xaxis": {
         "gridcolor": "#E1E5ED",
         "showgrid": true,
         "tickfont": {
          "color": "#4D5663"
         },
         "title": {
          "font": {
           "color": "#4D5663"
          },
          "text": ""
         },
         "zerolinecolor": "#E1E5ED"
        },
        "yaxis": {
         "gridcolor": "#E1E5ED",
         "showgrid": true,
         "tickfont": {
          "color": "#4D5663"
         },
         "title": {
          "font": {
           "color": "#4D5663"
          },
          "text": ""
         },
         "zerolinecolor": "#E1E5ED"
        }
       }
      },
      "text/html": [
       "<div>\n",
       "        \n",
       "        \n",
       "            <div id=\"febf1683-3962-40b8-b588-4754c6447e2b\" class=\"plotly-graph-div\" style=\"height:525px; width:100%;\"></div>\n",
       "            <script type=\"text/javascript\">\n",
       "                require([\"plotly\"], function(Plotly) {\n",
       "                    window.PLOTLYENV=window.PLOTLYENV || {};\n",
       "                    window.PLOTLYENV.BASE_URL='https://plot.ly';\n",
       "                    \n",
       "                if (document.getElementById(\"febf1683-3962-40b8-b588-4754c6447e2b\")) {\n",
       "                    Plotly.newPlot(\n",
       "                        'febf1683-3962-40b8-b588-4754c6447e2b',\n",
       "                        [{\"marker\": {\"color\": \"rgba(255, 153, 51, 0.6)\", \"line\": {\"color\": \"rgba(255, 153, 51, 1.0)\", \"width\": 1}}, \"name\": \"\\ucde8\\uae09\\uc561\", \"orientation\": \"v\", \"text\": \"\", \"type\": \"bar\", \"uid\": \"0d372eed-b050-4504-84e3-38f6682f7b20\", \"x\": [\"00\", \"01\", \"02\", \"06\", \"07\", \"08\", \"09\", \"10\", \"11\", \"12\", \"13\", \"14\", \"15\", \"16\", \"17\", \"18\", \"19\", \"20\", \"21\", \"22\", \"23\"], \"y\": [2366477000.0, 1560082000.0, 289133000.0, 1861628000.0, 3251712000.0, 3062186000.0, 3863468000.0, 4123315000.0, 4283244000.0, 2898075000.0, 3462926000.0, 3304302000.0, 4185332000.0, 4362418000.0, 4682159000.0, 4148905000.0, 5253102000.0, 6123985000.0, 7526297000.0, 6163010000.0, 3441897000.0]}],\n",
       "                        {\"legend\": {\"bgcolor\": \"#F5F6F9\", \"font\": {\"color\": \"#4D5663\"}}, \"paper_bgcolor\": \"#F5F6F9\", \"plot_bgcolor\": \"#F5F6F9\", \"title\": {\"font\": {\"color\": \"#4D5663\"}, \"text\": \"\\uac00\\uc744\\uc758 \\uc26c\\uc9c0 \\uc54a\\ub294\\ub0a0 \\uc2dc\\uac04\\ubcc4 \\ucde8\\uae09\\uc561 \\ucd1d\\ud569\"}, \"xaxis\": {\"gridcolor\": \"#E1E5ED\", \"showgrid\": true, \"tickfont\": {\"color\": \"#4D5663\"}, \"title\": {\"font\": {\"color\": \"#4D5663\"}, \"text\": \"\"}, \"zerolinecolor\": \"#E1E5ED\"}, \"yaxis\": {\"gridcolor\": \"#E1E5ED\", \"showgrid\": true, \"tickfont\": {\"color\": \"#4D5663\"}, \"title\": {\"font\": {\"color\": \"#4D5663\"}, \"text\": \"\"}, \"zerolinecolor\": \"#E1E5ED\"}},\n",
       "                        {\"showLink\": true, \"linkText\": \"Export to plot.ly\", \"plotlyServerURL\": \"https://plot.ly\", \"responsive\": true}\n",
       "                    ).then(function(){\n",
       "                            \n",
       "var gd = document.getElementById('febf1683-3962-40b8-b588-4754c6447e2b');\n",
       "var x = new MutationObserver(function (mutations, observer) {{\n",
       "        var display = window.getComputedStyle(gd).display;\n",
       "        if (!display || display === 'none') {{\n",
       "            console.log([gd, 'removed!']);\n",
       "            Plotly.purge(gd);\n",
       "            observer.disconnect();\n",
       "        }}\n",
       "}});\n",
       "\n",
       "// Listen for the removal of the full notebook cells\n",
       "var notebookContainer = gd.closest('#notebook-container');\n",
       "if (notebookContainer) {{\n",
       "    x.observe(notebookContainer, {childList: true});\n",
       "}}\n",
       "\n",
       "// Listen for the clearing of the current output cell\n",
       "var outputEl = gd.closest('.output');\n",
       "if (outputEl) {{\n",
       "    x.observe(outputEl, {childList: true});\n",
       "}}\n",
       "\n",
       "                        })\n",
       "                };\n",
       "                });\n",
       "            </script>\n",
       "        </div>"
      ]
     },
     "metadata": {},
     "output_type": "display_data"
    },
    {
     "data": {
      "application/vnd.plotly.v1+json": {
       "config": {
        "linkText": "Export to plot.ly",
        "plotlyServerURL": "https://plot.ly",
        "showLink": true
       },
       "data": [
        {
         "marker": {
          "color": "rgba(55, 128, 191, 0.6)",
          "line": {
           "color": "rgba(55, 128, 191, 1.0)",
           "width": 1
          }
         },
         "name": "취급액",
         "orientation": "v",
         "text": "",
         "type": "bar",
         "uid": "2c0c7095-e5cf-4673-8267-0acc3e7ca847",
         "x": [
          "00",
          "01",
          "02",
          "06",
          "07",
          "08",
          "09",
          "10",
          "11",
          "12",
          "13",
          "14",
          "15",
          "16",
          "17",
          "18",
          "19",
          "20",
          "21",
          "22",
          "23"
         ],
         "y": [
          527254000,
          870039000,
          193154000,
          995449000,
          2020992000,
          2892255000,
          2846984000,
          2653772000,
          2505773000,
          2426524000,
          2793686000,
          2812899000,
          2879803000,
          3521006000,
          3414653000,
          560356000,
          595047000,
          2250967000,
          3472471000,
          2914307000,
          2251340000
         ]
        }
       ],
       "layout": {
        "legend": {
         "bgcolor": "#F5F6F9",
         "font": {
          "color": "#4D5663"
         }
        },
        "paper_bgcolor": "#F5F6F9",
        "plot_bgcolor": "#F5F6F9",
        "title": {
         "font": {
          "color": "#4D5663"
         },
         "text": "가을의 쉬는날 시간별 취급액 총합"
        },
        "xaxis": {
         "gridcolor": "#E1E5ED",
         "showgrid": true,
         "tickfont": {
          "color": "#4D5663"
         },
         "title": {
          "font": {
           "color": "#4D5663"
          },
          "text": ""
         },
         "zerolinecolor": "#E1E5ED"
        },
        "yaxis": {
         "gridcolor": "#E1E5ED",
         "showgrid": true,
         "tickfont": {
          "color": "#4D5663"
         },
         "title": {
          "font": {
           "color": "#4D5663"
          },
          "text": ""
         },
         "zerolinecolor": "#E1E5ED"
        }
       }
      },
      "text/html": [
       "<div>\n",
       "        \n",
       "        \n",
       "            <div id=\"24ffe881-cb4f-431a-8123-c2e4d03dec73\" class=\"plotly-graph-div\" style=\"height:525px; width:100%;\"></div>\n",
       "            <script type=\"text/javascript\">\n",
       "                require([\"plotly\"], function(Plotly) {\n",
       "                    window.PLOTLYENV=window.PLOTLYENV || {};\n",
       "                    window.PLOTLYENV.BASE_URL='https://plot.ly';\n",
       "                    \n",
       "                if (document.getElementById(\"24ffe881-cb4f-431a-8123-c2e4d03dec73\")) {\n",
       "                    Plotly.newPlot(\n",
       "                        '24ffe881-cb4f-431a-8123-c2e4d03dec73',\n",
       "                        [{\"marker\": {\"color\": \"rgba(55, 128, 191, 0.6)\", \"line\": {\"color\": \"rgba(55, 128, 191, 1.0)\", \"width\": 1}}, \"name\": \"\\ucde8\\uae09\\uc561\", \"orientation\": \"v\", \"text\": \"\", \"type\": \"bar\", \"uid\": \"2c0c7095-e5cf-4673-8267-0acc3e7ca847\", \"x\": [\"00\", \"01\", \"02\", \"06\", \"07\", \"08\", \"09\", \"10\", \"11\", \"12\", \"13\", \"14\", \"15\", \"16\", \"17\", \"18\", \"19\", \"20\", \"21\", \"22\", \"23\"], \"y\": [527254000.0, 870039000.0, 193154000.0, 995449000.0, 2020992000.0, 2892255000.0, 2846984000.0, 2653772000.0, 2505773000.0, 2426524000.0, 2793686000.0, 2812899000.0, 2879803000.0, 3521006000.0, 3414653000.0, 560356000.0, 595047000.0, 2250967000.0, 3472471000.0, 2914307000.0, 2251340000.0]}],\n",
       "                        {\"legend\": {\"bgcolor\": \"#F5F6F9\", \"font\": {\"color\": \"#4D5663\"}}, \"paper_bgcolor\": \"#F5F6F9\", \"plot_bgcolor\": \"#F5F6F9\", \"title\": {\"font\": {\"color\": \"#4D5663\"}, \"text\": \"\\uac00\\uc744\\uc758 \\uc26c\\ub294\\ub0a0 \\uc2dc\\uac04\\ubcc4 \\ucde8\\uae09\\uc561 \\ucd1d\\ud569\"}, \"xaxis\": {\"gridcolor\": \"#E1E5ED\", \"showgrid\": true, \"tickfont\": {\"color\": \"#4D5663\"}, \"title\": {\"font\": {\"color\": \"#4D5663\"}, \"text\": \"\"}, \"zerolinecolor\": \"#E1E5ED\"}, \"yaxis\": {\"gridcolor\": \"#E1E5ED\", \"showgrid\": true, \"tickfont\": {\"color\": \"#4D5663\"}, \"title\": {\"font\": {\"color\": \"#4D5663\"}, \"text\": \"\"}, \"zerolinecolor\": \"#E1E5ED\"}},\n",
       "                        {\"showLink\": true, \"linkText\": \"Export to plot.ly\", \"plotlyServerURL\": \"https://plot.ly\", \"responsive\": true}\n",
       "                    ).then(function(){\n",
       "                            \n",
       "var gd = document.getElementById('24ffe881-cb4f-431a-8123-c2e4d03dec73');\n",
       "var x = new MutationObserver(function (mutations, observer) {{\n",
       "        var display = window.getComputedStyle(gd).display;\n",
       "        if (!display || display === 'none') {{\n",
       "            console.log([gd, 'removed!']);\n",
       "            Plotly.purge(gd);\n",
       "            observer.disconnect();\n",
       "        }}\n",
       "}});\n",
       "\n",
       "// Listen for the removal of the full notebook cells\n",
       "var notebookContainer = gd.closest('#notebook-container');\n",
       "if (notebookContainer) {{\n",
       "    x.observe(notebookContainer, {childList: true});\n",
       "}}\n",
       "\n",
       "// Listen for the clearing of the current output cell\n",
       "var outputEl = gd.closest('.output');\n",
       "if (outputEl) {{\n",
       "    x.observe(outputEl, {childList: true});\n",
       "}}\n",
       "\n",
       "                        })\n",
       "                };\n",
       "                });\n",
       "            </script>\n",
       "        </div>"
      ]
     },
     "metadata": {},
     "output_type": "display_data"
    }
   ],
   "source": [
    "def visualize(df,season, y = \"판매량\"):\n",
    "    # new_df \n",
    "    # season이름 \n",
    "    df = df[df[\"season\"]==season]\n",
    "    day_on = df[df[\"Day_off\"]==0]\n",
    "    day_off = df[df[\"Day_off\"]==1]\n",
    "    \n",
    "    \n",
    "    day_on.groupby([\"hour\"]).sum()[y].iplot(kind = \"bar\",title= \"{}의 쉬지 않는날 시간별 {} 총합\".format(season,y))\n",
    "    day_off.groupby([\"hour\"]).sum()[y].iplot(kind = \"bar\",colors = \"blue\",title= \"{}의 쉬는날 시간별 {} 총합\".format(season,y))\n",
    "    \n",
    "    return  day_on.groupby([\"hour\"]).sum()[y], day_off.groupby([\"hour\"]).sum()[y]\n",
    "        \n",
    "\n",
    "day_on, day_off = visualize(new_df,\"가을\",y=\"취급액\")"
   ]
  },
  {
   "cell_type": "code",
   "execution_count": 154,
   "metadata": {},
   "outputs": [
    {
     "data": {
      "application/vnd.plotly.v1+json": {
       "config": {
        "linkText": "Export to plot.ly",
        "plotlyServerURL": "https://plot.ly",
        "showLink": true
       },
       "data": [
        {
         "marker": {
          "color": "rgba(255, 153, 51, 0.6)",
          "line": {
           "color": "rgba(255, 153, 51, 1.0)",
           "width": 1
          }
         },
         "name": "취급액",
         "orientation": "v",
         "text": "",
         "type": "bar",
         "uid": "f991e54b-7dc0-46c6-bce7-c648c92a6682",
         "x": [
          "00",
          "01",
          "02",
          "06",
          "07",
          "08",
          "09",
          "10",
          "11",
          "12",
          "13",
          "14",
          "15",
          "16",
          "17",
          "18",
          "19",
          "20",
          "21",
          "22",
          "23"
         ],
         "y": [
          4846104000,
          2485437000,
          408481000,
          2187452000,
          4459412000,
          4553636000,
          5937538000,
          6869511000,
          6888576000,
          5903961000,
          5357413000,
          6117081000,
          6808336000,
          6960652000,
          7053369000,
          7193680000,
          7879312000,
          9929959000,
          11062073000,
          9537033000,
          8039051000
         ]
        }
       ],
       "layout": {
        "legend": {
         "bgcolor": "#F5F6F9",
         "font": {
          "color": "#4D5663"
         }
        },
        "paper_bgcolor": "#F5F6F9",
        "plot_bgcolor": "#F5F6F9",
        "title": {
         "font": {
          "color": "#4D5663"
         },
         "text": "겨울의 쉬지 않는날 시간별 취급액 총합"
        },
        "xaxis": {
         "gridcolor": "#E1E5ED",
         "showgrid": true,
         "tickfont": {
          "color": "#4D5663"
         },
         "title": {
          "font": {
           "color": "#4D5663"
          },
          "text": ""
         },
         "zerolinecolor": "#E1E5ED"
        },
        "yaxis": {
         "gridcolor": "#E1E5ED",
         "showgrid": true,
         "tickfont": {
          "color": "#4D5663"
         },
         "title": {
          "font": {
           "color": "#4D5663"
          },
          "text": ""
         },
         "zerolinecolor": "#E1E5ED"
        }
       }
      },
      "text/html": [
       "<div>\n",
       "        \n",
       "        \n",
       "            <div id=\"3c58a479-d0db-43f3-9b56-c83a0a0a9ae2\" class=\"plotly-graph-div\" style=\"height:525px; width:100%;\"></div>\n",
       "            <script type=\"text/javascript\">\n",
       "                require([\"plotly\"], function(Plotly) {\n",
       "                    window.PLOTLYENV=window.PLOTLYENV || {};\n",
       "                    window.PLOTLYENV.BASE_URL='https://plot.ly';\n",
       "                    \n",
       "                if (document.getElementById(\"3c58a479-d0db-43f3-9b56-c83a0a0a9ae2\")) {\n",
       "                    Plotly.newPlot(\n",
       "                        '3c58a479-d0db-43f3-9b56-c83a0a0a9ae2',\n",
       "                        [{\"marker\": {\"color\": \"rgba(255, 153, 51, 0.6)\", \"line\": {\"color\": \"rgba(255, 153, 51, 1.0)\", \"width\": 1}}, \"name\": \"\\ucde8\\uae09\\uc561\", \"orientation\": \"v\", \"text\": \"\", \"type\": \"bar\", \"uid\": \"f991e54b-7dc0-46c6-bce7-c648c92a6682\", \"x\": [\"00\", \"01\", \"02\", \"06\", \"07\", \"08\", \"09\", \"10\", \"11\", \"12\", \"13\", \"14\", \"15\", \"16\", \"17\", \"18\", \"19\", \"20\", \"21\", \"22\", \"23\"], \"y\": [4846104000.0, 2485437000.0, 408481000.0, 2187452000.0, 4459412000.0, 4553636000.0, 5937538000.0, 6869511000.0, 6888576000.0, 5903961000.0, 5357413000.0, 6117081000.0, 6808336000.0, 6960652000.0, 7053369000.0, 7193680000.0, 7879312000.0, 9929959000.0, 11062073000.0, 9537033000.0, 8039051000.0]}],\n",
       "                        {\"legend\": {\"bgcolor\": \"#F5F6F9\", \"font\": {\"color\": \"#4D5663\"}}, \"paper_bgcolor\": \"#F5F6F9\", \"plot_bgcolor\": \"#F5F6F9\", \"title\": {\"font\": {\"color\": \"#4D5663\"}, \"text\": \"\\uaca8\\uc6b8\\uc758 \\uc26c\\uc9c0 \\uc54a\\ub294\\ub0a0 \\uc2dc\\uac04\\ubcc4 \\ucde8\\uae09\\uc561 \\ucd1d\\ud569\"}, \"xaxis\": {\"gridcolor\": \"#E1E5ED\", \"showgrid\": true, \"tickfont\": {\"color\": \"#4D5663\"}, \"title\": {\"font\": {\"color\": \"#4D5663\"}, \"text\": \"\"}, \"zerolinecolor\": \"#E1E5ED\"}, \"yaxis\": {\"gridcolor\": \"#E1E5ED\", \"showgrid\": true, \"tickfont\": {\"color\": \"#4D5663\"}, \"title\": {\"font\": {\"color\": \"#4D5663\"}, \"text\": \"\"}, \"zerolinecolor\": \"#E1E5ED\"}},\n",
       "                        {\"showLink\": true, \"linkText\": \"Export to plot.ly\", \"plotlyServerURL\": \"https://plot.ly\", \"responsive\": true}\n",
       "                    ).then(function(){\n",
       "                            \n",
       "var gd = document.getElementById('3c58a479-d0db-43f3-9b56-c83a0a0a9ae2');\n",
       "var x = new MutationObserver(function (mutations, observer) {{\n",
       "        var display = window.getComputedStyle(gd).display;\n",
       "        if (!display || display === 'none') {{\n",
       "            console.log([gd, 'removed!']);\n",
       "            Plotly.purge(gd);\n",
       "            observer.disconnect();\n",
       "        }}\n",
       "}});\n",
       "\n",
       "// Listen for the removal of the full notebook cells\n",
       "var notebookContainer = gd.closest('#notebook-container');\n",
       "if (notebookContainer) {{\n",
       "    x.observe(notebookContainer, {childList: true});\n",
       "}}\n",
       "\n",
       "// Listen for the clearing of the current output cell\n",
       "var outputEl = gd.closest('.output');\n",
       "if (outputEl) {{\n",
       "    x.observe(outputEl, {childList: true});\n",
       "}}\n",
       "\n",
       "                        })\n",
       "                };\n",
       "                });\n",
       "            </script>\n",
       "        </div>"
      ]
     },
     "metadata": {},
     "output_type": "display_data"
    },
    {
     "data": {
      "application/vnd.plotly.v1+json": {
       "config": {
        "linkText": "Export to plot.ly",
        "plotlyServerURL": "https://plot.ly",
        "showLink": true
       },
       "data": [
        {
         "marker": {
          "color": "rgba(55, 128, 191, 0.6)",
          "line": {
           "color": "rgba(55, 128, 191, 1.0)",
           "width": 1
          }
         },
         "name": "취급액",
         "orientation": "v",
         "text": "",
         "type": "bar",
         "uid": "e4ca3952-810e-4e7d-861c-3713cbe68726",
         "x": [
          "00",
          "01",
          "02",
          "06",
          "07",
          "08",
          "09",
          "10",
          "11",
          "12",
          "13",
          "14",
          "15",
          "16",
          "17",
          "18",
          "19",
          "20",
          "21",
          "22",
          "23"
         ],
         "y": [
          1602752000,
          1806119000,
          173554000,
          1100247000,
          2481235000,
          3763437000,
          3825905000,
          4694126000,
          4017866000,
          4414305000,
          4721693000,
          4019089000,
          4173821000,
          5464041000,
          4604348000,
          2333490000,
          3373978000,
          3650310000,
          4847800000,
          4403073000,
          3444734000
         ]
        }
       ],
       "layout": {
        "legend": {
         "bgcolor": "#F5F6F9",
         "font": {
          "color": "#4D5663"
         }
        },
        "paper_bgcolor": "#F5F6F9",
        "plot_bgcolor": "#F5F6F9",
        "title": {
         "font": {
          "color": "#4D5663"
         },
         "text": "겨울의 쉬는날 시간별 취급액 총합"
        },
        "xaxis": {
         "gridcolor": "#E1E5ED",
         "showgrid": true,
         "tickfont": {
          "color": "#4D5663"
         },
         "title": {
          "font": {
           "color": "#4D5663"
          },
          "text": ""
         },
         "zerolinecolor": "#E1E5ED"
        },
        "yaxis": {
         "gridcolor": "#E1E5ED",
         "showgrid": true,
         "tickfont": {
          "color": "#4D5663"
         },
         "title": {
          "font": {
           "color": "#4D5663"
          },
          "text": ""
         },
         "zerolinecolor": "#E1E5ED"
        }
       }
      },
      "text/html": [
       "<div>\n",
       "        \n",
       "        \n",
       "            <div id=\"9775062d-6c28-4ad2-b636-fb1bff9e8a66\" class=\"plotly-graph-div\" style=\"height:525px; width:100%;\"></div>\n",
       "            <script type=\"text/javascript\">\n",
       "                require([\"plotly\"], function(Plotly) {\n",
       "                    window.PLOTLYENV=window.PLOTLYENV || {};\n",
       "                    window.PLOTLYENV.BASE_URL='https://plot.ly';\n",
       "                    \n",
       "                if (document.getElementById(\"9775062d-6c28-4ad2-b636-fb1bff9e8a66\")) {\n",
       "                    Plotly.newPlot(\n",
       "                        '9775062d-6c28-4ad2-b636-fb1bff9e8a66',\n",
       "                        [{\"marker\": {\"color\": \"rgba(55, 128, 191, 0.6)\", \"line\": {\"color\": \"rgba(55, 128, 191, 1.0)\", \"width\": 1}}, \"name\": \"\\ucde8\\uae09\\uc561\", \"orientation\": \"v\", \"text\": \"\", \"type\": \"bar\", \"uid\": \"e4ca3952-810e-4e7d-861c-3713cbe68726\", \"x\": [\"00\", \"01\", \"02\", \"06\", \"07\", \"08\", \"09\", \"10\", \"11\", \"12\", \"13\", \"14\", \"15\", \"16\", \"17\", \"18\", \"19\", \"20\", \"21\", \"22\", \"23\"], \"y\": [1602752000.0, 1806119000.0, 173554000.0, 1100247000.0, 2481235000.0, 3763437000.0, 3825905000.0, 4694126000.0, 4017866000.0, 4414305000.0, 4721693000.0, 4019089000.0, 4173821000.0, 5464041000.0, 4604348000.0, 2333490000.0, 3373978000.0, 3650310000.0, 4847800000.0, 4403073000.0, 3444734000.0]}],\n",
       "                        {\"legend\": {\"bgcolor\": \"#F5F6F9\", \"font\": {\"color\": \"#4D5663\"}}, \"paper_bgcolor\": \"#F5F6F9\", \"plot_bgcolor\": \"#F5F6F9\", \"title\": {\"font\": {\"color\": \"#4D5663\"}, \"text\": \"\\uaca8\\uc6b8\\uc758 \\uc26c\\ub294\\ub0a0 \\uc2dc\\uac04\\ubcc4 \\ucde8\\uae09\\uc561 \\ucd1d\\ud569\"}, \"xaxis\": {\"gridcolor\": \"#E1E5ED\", \"showgrid\": true, \"tickfont\": {\"color\": \"#4D5663\"}, \"title\": {\"font\": {\"color\": \"#4D5663\"}, \"text\": \"\"}, \"zerolinecolor\": \"#E1E5ED\"}, \"yaxis\": {\"gridcolor\": \"#E1E5ED\", \"showgrid\": true, \"tickfont\": {\"color\": \"#4D5663\"}, \"title\": {\"font\": {\"color\": \"#4D5663\"}, \"text\": \"\"}, \"zerolinecolor\": \"#E1E5ED\"}},\n",
       "                        {\"showLink\": true, \"linkText\": \"Export to plot.ly\", \"plotlyServerURL\": \"https://plot.ly\", \"responsive\": true}\n",
       "                    ).then(function(){\n",
       "                            \n",
       "var gd = document.getElementById('9775062d-6c28-4ad2-b636-fb1bff9e8a66');\n",
       "var x = new MutationObserver(function (mutations, observer) {{\n",
       "        var display = window.getComputedStyle(gd).display;\n",
       "        if (!display || display === 'none') {{\n",
       "            console.log([gd, 'removed!']);\n",
       "            Plotly.purge(gd);\n",
       "            observer.disconnect();\n",
       "        }}\n",
       "}});\n",
       "\n",
       "// Listen for the removal of the full notebook cells\n",
       "var notebookContainer = gd.closest('#notebook-container');\n",
       "if (notebookContainer) {{\n",
       "    x.observe(notebookContainer, {childList: true});\n",
       "}}\n",
       "\n",
       "// Listen for the clearing of the current output cell\n",
       "var outputEl = gd.closest('.output');\n",
       "if (outputEl) {{\n",
       "    x.observe(outputEl, {childList: true});\n",
       "}}\n",
       "\n",
       "                        })\n",
       "                };\n",
       "                });\n",
       "            </script>\n",
       "        </div>"
      ]
     },
     "metadata": {},
     "output_type": "display_data"
    }
   ],
   "source": [
    "day_on, day_off = visualize(new_df,\"겨울\",y=\"취급액\")"
   ]
  },
  {
   "cell_type": "code",
   "execution_count": 49,
   "metadata": {},
   "outputs": [
    {
     "data": {
      "text/html": [
       "<div>\n",
       "<style scoped>\n",
       "    .dataframe tbody tr th:only-of-type {\n",
       "        vertical-align: middle;\n",
       "    }\n",
       "\n",
       "    .dataframe tbody tr th {\n",
       "        vertical-align: top;\n",
       "    }\n",
       "\n",
       "    .dataframe thead th {\n",
       "        text-align: right;\n",
       "    }\n",
       "</style>\n",
       "<table border=\"1\" class=\"dataframe\">\n",
       "  <thead>\n",
       "    <tr style=\"text-align: right;\">\n",
       "      <th></th>\n",
       "      <th>취급액</th>\n",
       "    </tr>\n",
       "    <tr>\n",
       "      <th>hour</th>\n",
       "      <th></th>\n",
       "    </tr>\n",
       "  </thead>\n",
       "  <tbody>\n",
       "    <tr>\n",
       "      <th>21</th>\n",
       "      <td>11062073000.00</td>\n",
       "    </tr>\n",
       "    <tr>\n",
       "      <th>20</th>\n",
       "      <td>9929959000.00</td>\n",
       "    </tr>\n",
       "    <tr>\n",
       "      <th>22</th>\n",
       "      <td>9537033000.00</td>\n",
       "    </tr>\n",
       "    <tr>\n",
       "      <th>23</th>\n",
       "      <td>8039051000.00</td>\n",
       "    </tr>\n",
       "    <tr>\n",
       "      <th>19</th>\n",
       "      <td>7879312000.00</td>\n",
       "    </tr>\n",
       "    <tr>\n",
       "      <th>18</th>\n",
       "      <td>7193680000.00</td>\n",
       "    </tr>\n",
       "    <tr>\n",
       "      <th>17</th>\n",
       "      <td>7053369000.00</td>\n",
       "    </tr>\n",
       "    <tr>\n",
       "      <th>16</th>\n",
       "      <td>6960652000.00</td>\n",
       "    </tr>\n",
       "    <tr>\n",
       "      <th>11</th>\n",
       "      <td>6888576000.00</td>\n",
       "    </tr>\n",
       "    <tr>\n",
       "      <th>10</th>\n",
       "      <td>6869511000.00</td>\n",
       "    </tr>\n",
       "    <tr>\n",
       "      <th>15</th>\n",
       "      <td>6808336000.00</td>\n",
       "    </tr>\n",
       "    <tr>\n",
       "      <th>14</th>\n",
       "      <td>6117081000.00</td>\n",
       "    </tr>\n",
       "    <tr>\n",
       "      <th>09</th>\n",
       "      <td>5937538000.00</td>\n",
       "    </tr>\n",
       "    <tr>\n",
       "      <th>12</th>\n",
       "      <td>5903961000.00</td>\n",
       "    </tr>\n",
       "    <tr>\n",
       "      <th>13</th>\n",
       "      <td>5357413000.00</td>\n",
       "    </tr>\n",
       "    <tr>\n",
       "      <th>00</th>\n",
       "      <td>4846104000.00</td>\n",
       "    </tr>\n",
       "    <tr>\n",
       "      <th>08</th>\n",
       "      <td>4553636000.00</td>\n",
       "    </tr>\n",
       "    <tr>\n",
       "      <th>07</th>\n",
       "      <td>4459412000.00</td>\n",
       "    </tr>\n",
       "    <tr>\n",
       "      <th>01</th>\n",
       "      <td>2485437000.00</td>\n",
       "    </tr>\n",
       "    <tr>\n",
       "      <th>06</th>\n",
       "      <td>2187452000.00</td>\n",
       "    </tr>\n",
       "    <tr>\n",
       "      <th>02</th>\n",
       "      <td>408481000.00</td>\n",
       "    </tr>\n",
       "  </tbody>\n",
       "</table>\n",
       "</div>"
      ],
      "text/plain": [
       "                취급액\n",
       "hour               \n",
       "21   11062073000.00\n",
       "20    9929959000.00\n",
       "22    9537033000.00\n",
       "23    8039051000.00\n",
       "19    7879312000.00\n",
       "18    7193680000.00\n",
       "17    7053369000.00\n",
       "16    6960652000.00\n",
       "11    6888576000.00\n",
       "10    6869511000.00\n",
       "15    6808336000.00\n",
       "14    6117081000.00\n",
       "09    5937538000.00\n",
       "12    5903961000.00\n",
       "13    5357413000.00\n",
       "00    4846104000.00\n",
       "08    4553636000.00\n",
       "07    4459412000.00\n",
       "01    2485437000.00\n",
       "06    2187452000.00\n",
       "02     408481000.00"
      ]
     },
     "execution_count": 49,
     "metadata": {},
     "output_type": "execute_result"
    }
   ],
   "source": [
    "pd.DataFrame(day_on, index = day_on.index, columns = [\"취급액\"]).sort_values(by=\"취급액\",ascending=False)"
   ]
  },
  {
   "cell_type": "code",
   "execution_count": 84,
   "metadata": {},
   "outputs": [
    {
     "data": {
      "application/vnd.plotly.v1+json": {
       "config": {
        "linkText": "Export to plot.ly",
        "plotlyServerURL": "https://plot.ly",
        "showLink": true
       },
       "data": [
        {
         "marker": {
          "color": "rgba(255, 153, 51, 0.6)",
          "line": {
           "color": "rgba(255, 153, 51, 1.0)",
           "width": 1
          }
         },
         "name": "취급액",
         "orientation": "v",
         "text": "",
         "type": "bar",
         "uid": "feedc55b-fc28-4f0c-97d6-acdb2d475a8e",
         "x": [
          "00",
          "01",
          "02",
          "06",
          "07",
          "08",
          "09",
          "10",
          "11",
          "12",
          "13",
          "14",
          "15",
          "16",
          "17",
          "18",
          "19",
          "20",
          "21",
          "22",
          "23"
         ],
         "y": [
          0.037141138824504503,
          0.01904869574746229,
          0.0031306487702642007,
          0.016764901950915626,
          0.03417748363792054,
          0.03489962799648159,
          0.04550602362924337,
          0.05264877966041603,
          0.05279489617208998,
          0.0452486853595095,
          0.04105987407063595,
          0.046882063327930816,
          0.052179926914459884,
          0.05334729552668802,
          0.05405789005136013,
          0.05513325086276761,
          0.0603880190836978,
          0.07610443063967218,
          0.08478109198230228,
          0.0730929973081223,
          0.061612278483555404
         ]
        }
       ],
       "layout": {
        "legend": {
         "bgcolor": "#F5F6F9",
         "font": {
          "color": "#4D5663"
         }
        },
        "paper_bgcolor": "#F5F6F9",
        "plot_bgcolor": "#F5F6F9",
        "title": {
         "font": {
          "color": "#4D5663"
         },
         "text": "겨울의 주중 시간별 취급액 총합"
        },
        "xaxis": {
         "gridcolor": "#E1E5ED",
         "showgrid": true,
         "tickfont": {
          "color": "#4D5663"
         },
         "title": {
          "font": {
           "color": "#4D5663"
          },
          "text": ""
         },
         "zerolinecolor": "#E1E5ED"
        },
        "yaxis": {
         "gridcolor": "#E1E5ED",
         "showgrid": true,
         "tickfont": {
          "color": "#4D5663"
         },
         "title": {
          "font": {
           "color": "#4D5663"
          },
          "text": ""
         },
         "zerolinecolor": "#E1E5ED"
        }
       }
      },
      "text/html": [
       "<div>\n",
       "        \n",
       "        \n",
       "            <div id=\"7803617c-70f0-4e0c-b264-6db11a46012b\" class=\"plotly-graph-div\" style=\"height:525px; width:100%;\"></div>\n",
       "            <script type=\"text/javascript\">\n",
       "                require([\"plotly\"], function(Plotly) {\n",
       "                    window.PLOTLYENV=window.PLOTLYENV || {};\n",
       "                    window.PLOTLYENV.BASE_URL='https://plot.ly';\n",
       "                    \n",
       "                if (document.getElementById(\"7803617c-70f0-4e0c-b264-6db11a46012b\")) {\n",
       "                    Plotly.newPlot(\n",
       "                        '7803617c-70f0-4e0c-b264-6db11a46012b',\n",
       "                        [{\"marker\": {\"color\": \"rgba(255, 153, 51, 0.6)\", \"line\": {\"color\": \"rgba(255, 153, 51, 1.0)\", \"width\": 1}}, \"name\": \"\\ucde8\\uae09\\uc561\", \"orientation\": \"v\", \"text\": \"\", \"type\": \"bar\", \"uid\": \"feedc55b-fc28-4f0c-97d6-acdb2d475a8e\", \"x\": [\"00\", \"01\", \"02\", \"06\", \"07\", \"08\", \"09\", \"10\", \"11\", \"12\", \"13\", \"14\", \"15\", \"16\", \"17\", \"18\", \"19\", \"20\", \"21\", \"22\", \"23\"], \"y\": [0.037141138824504503, 0.01904869574746229, 0.0031306487702642007, 0.016764901950915626, 0.03417748363792054, 0.03489962799648159, 0.04550602362924337, 0.05264877966041603, 0.05279489617208998, 0.0452486853595095, 0.04105987407063595, 0.046882063327930816, 0.052179926914459884, 0.05334729552668802, 0.05405789005136013, 0.05513325086276761, 0.0603880190836978, 0.07610443063967218, 0.08478109198230228, 0.0730929973081223, 0.061612278483555404]}],\n",
       "                        {\"legend\": {\"bgcolor\": \"#F5F6F9\", \"font\": {\"color\": \"#4D5663\"}}, \"paper_bgcolor\": \"#F5F6F9\", \"plot_bgcolor\": \"#F5F6F9\", \"title\": {\"font\": {\"color\": \"#4D5663\"}, \"text\": \"\\uaca8\\uc6b8\\uc758 \\uc8fc\\uc911 \\uc2dc\\uac04\\ubcc4 \\ucde8\\uae09\\uc561 \\ucd1d\\ud569\"}, \"xaxis\": {\"gridcolor\": \"#E1E5ED\", \"showgrid\": true, \"tickfont\": {\"color\": \"#4D5663\"}, \"title\": {\"font\": {\"color\": \"#4D5663\"}, \"text\": \"\"}, \"zerolinecolor\": \"#E1E5ED\"}, \"yaxis\": {\"gridcolor\": \"#E1E5ED\", \"showgrid\": true, \"tickfont\": {\"color\": \"#4D5663\"}, \"title\": {\"font\": {\"color\": \"#4D5663\"}, \"text\": \"\"}, \"zerolinecolor\": \"#E1E5ED\"}},\n",
       "                        {\"showLink\": true, \"linkText\": \"Export to plot.ly\", \"plotlyServerURL\": \"https://plot.ly\", \"responsive\": true}\n",
       "                    ).then(function(){\n",
       "                            \n",
       "var gd = document.getElementById('7803617c-70f0-4e0c-b264-6db11a46012b');\n",
       "var x = new MutationObserver(function (mutations, observer) {{\n",
       "        var display = window.getComputedStyle(gd).display;\n",
       "        if (!display || display === 'none') {{\n",
       "            console.log([gd, 'removed!']);\n",
       "            Plotly.purge(gd);\n",
       "            observer.disconnect();\n",
       "        }}\n",
       "}});\n",
       "\n",
       "// Listen for the removal of the full notebook cells\n",
       "var notebookContainer = gd.closest('#notebook-container');\n",
       "if (notebookContainer) {{\n",
       "    x.observe(notebookContainer, {childList: true});\n",
       "}}\n",
       "\n",
       "// Listen for the clearing of the current output cell\n",
       "var outputEl = gd.closest('.output');\n",
       "if (outputEl) {{\n",
       "    x.observe(outputEl, {childList: true});\n",
       "}}\n",
       "\n",
       "                        })\n",
       "                };\n",
       "                });\n",
       "            </script>\n",
       "        </div>"
      ]
     },
     "metadata": {},
     "output_type": "display_data"
    },
    {
     "data": {
      "application/vnd.plotly.v1+json": {
       "config": {
        "linkText": "Export to plot.ly",
        "plotlyServerURL": "https://plot.ly",
        "showLink": true
       },
       "data": [
        {
         "marker": {
          "color": "rgba(55, 128, 191, 0.6)",
          "line": {
           "color": "rgba(55, 128, 191, 1.0)",
           "width": 1
          }
         },
         "name": "취급액",
         "orientation": "v",
         "text": "",
         "type": "bar",
         "uid": "4da025c7-cd90-45c3-ae44-dbc27f54a5e6",
         "x": [
          "00",
          "01",
          "02",
          "06",
          "07",
          "08",
          "09",
          "10",
          "11",
          "12",
          "13",
          "14",
          "15",
          "16",
          "17",
          "18",
          "19",
          "20",
          "21",
          "22",
          "23"
         ],
         "y": [
          0.02198080796370913,
          0.02477055336009848,
          0.0023801917859616302,
          0.015089245260431483,
          0.034028689434069545,
          0.05161334129080332,
          0.05247005344082839,
          0.06437719757233439,
          0.055102686485442635,
          0.06053961592201478,
          0.06475526288320942,
          0.05511945921643259,
          0.05724151826102629,
          0.07493613230670322,
          0.06314594471639294,
          0.032002453015335885,
          0.046272138479177945,
          0.050061870531440344,
          0.06648474676460808,
          0.06038557559946433,
          0.04724251571051517
         ]
        }
       ],
       "layout": {
        "legend": {
         "bgcolor": "#F5F6F9",
         "font": {
          "color": "#4D5663"
         }
        },
        "paper_bgcolor": "#F5F6F9",
        "plot_bgcolor": "#F5F6F9",
        "title": {
         "font": {
          "color": "#4D5663"
         },
         "text": "겨울의 주말 시간별 취급액 총합"
        },
        "xaxis": {
         "gridcolor": "#E1E5ED",
         "showgrid": true,
         "tickfont": {
          "color": "#4D5663"
         },
         "title": {
          "font": {
           "color": "#4D5663"
          },
          "text": ""
         },
         "zerolinecolor": "#E1E5ED"
        },
        "yaxis": {
         "gridcolor": "#E1E5ED",
         "showgrid": true,
         "tickfont": {
          "color": "#4D5663"
         },
         "title": {
          "font": {
           "color": "#4D5663"
          },
          "text": ""
         },
         "zerolinecolor": "#E1E5ED"
        }
       }
      },
      "text/html": [
       "<div>\n",
       "        \n",
       "        \n",
       "            <div id=\"49c993bb-dce3-4d04-93e1-583e8ee4ace2\" class=\"plotly-graph-div\" style=\"height:525px; width:100%;\"></div>\n",
       "            <script type=\"text/javascript\">\n",
       "                require([\"plotly\"], function(Plotly) {\n",
       "                    window.PLOTLYENV=window.PLOTLYENV || {};\n",
       "                    window.PLOTLYENV.BASE_URL='https://plot.ly';\n",
       "                    \n",
       "                if (document.getElementById(\"49c993bb-dce3-4d04-93e1-583e8ee4ace2\")) {\n",
       "                    Plotly.newPlot(\n",
       "                        '49c993bb-dce3-4d04-93e1-583e8ee4ace2',\n",
       "                        [{\"marker\": {\"color\": \"rgba(55, 128, 191, 0.6)\", \"line\": {\"color\": \"rgba(55, 128, 191, 1.0)\", \"width\": 1}}, \"name\": \"\\ucde8\\uae09\\uc561\", \"orientation\": \"v\", \"text\": \"\", \"type\": \"bar\", \"uid\": \"4da025c7-cd90-45c3-ae44-dbc27f54a5e6\", \"x\": [\"00\", \"01\", \"02\", \"06\", \"07\", \"08\", \"09\", \"10\", \"11\", \"12\", \"13\", \"14\", \"15\", \"16\", \"17\", \"18\", \"19\", \"20\", \"21\", \"22\", \"23\"], \"y\": [0.02198080796370913, 0.02477055336009848, 0.0023801917859616302, 0.015089245260431483, 0.034028689434069545, 0.05161334129080332, 0.05247005344082839, 0.06437719757233439, 0.055102686485442635, 0.06053961592201478, 0.06475526288320942, 0.05511945921643259, 0.05724151826102629, 0.07493613230670322, 0.06314594471639294, 0.032002453015335885, 0.046272138479177945, 0.050061870531440344, 0.06648474676460808, 0.06038557559946433, 0.04724251571051517]}],\n",
       "                        {\"legend\": {\"bgcolor\": \"#F5F6F9\", \"font\": {\"color\": \"#4D5663\"}}, \"paper_bgcolor\": \"#F5F6F9\", \"plot_bgcolor\": \"#F5F6F9\", \"title\": {\"font\": {\"color\": \"#4D5663\"}, \"text\": \"\\uaca8\\uc6b8\\uc758 \\uc8fc\\ub9d0 \\uc2dc\\uac04\\ubcc4 \\ucde8\\uae09\\uc561 \\ucd1d\\ud569\"}, \"xaxis\": {\"gridcolor\": \"#E1E5ED\", \"showgrid\": true, \"tickfont\": {\"color\": \"#4D5663\"}, \"title\": {\"font\": {\"color\": \"#4D5663\"}, \"text\": \"\"}, \"zerolinecolor\": \"#E1E5ED\"}, \"yaxis\": {\"gridcolor\": \"#E1E5ED\", \"showgrid\": true, \"tickfont\": {\"color\": \"#4D5663\"}, \"title\": {\"font\": {\"color\": \"#4D5663\"}, \"text\": \"\"}, \"zerolinecolor\": \"#E1E5ED\"}},\n",
       "                        {\"showLink\": true, \"linkText\": \"Export to plot.ly\", \"plotlyServerURL\": \"https://plot.ly\", \"responsive\": true}\n",
       "                    ).then(function(){\n",
       "                            \n",
       "var gd = document.getElementById('49c993bb-dce3-4d04-93e1-583e8ee4ace2');\n",
       "var x = new MutationObserver(function (mutations, observer) {{\n",
       "        var display = window.getComputedStyle(gd).display;\n",
       "        if (!display || display === 'none') {{\n",
       "            console.log([gd, 'removed!']);\n",
       "            Plotly.purge(gd);\n",
       "            observer.disconnect();\n",
       "        }}\n",
       "}});\n",
       "\n",
       "// Listen for the removal of the full notebook cells\n",
       "var notebookContainer = gd.closest('#notebook-container');\n",
       "if (notebookContainer) {{\n",
       "    x.observe(notebookContainer, {childList: true});\n",
       "}}\n",
       "\n",
       "// Listen for the clearing of the current output cell\n",
       "var outputEl = gd.closest('.output');\n",
       "if (outputEl) {{\n",
       "    x.observe(outputEl, {childList: true});\n",
       "}}\n",
       "\n",
       "                        })\n",
       "                };\n",
       "                });\n",
       "            </script>\n",
       "        </div>"
      ]
     },
     "metadata": {},
     "output_type": "display_data"
    }
   ],
   "source": [
    "def visualize_ratio(df,season, y = \"판매량\"):\n",
    "    # new_df \n",
    "    # season이름 \n",
    "    df = df[df[\"season\"]==season]\n",
    "    day_on = df[df[\"Day_off\"]==0]\n",
    "    day_off = df[df[\"Day_off\"]==1]\n",
    "    \n",
    "    total_day_on =  day_on.groupby([\"hour\"]).sum()[y].sum()\n",
    "    total_day_off = day_off.groupby([\"hour\"]).sum()[y].sum()\n",
    "    \n",
    "    (day_on.groupby([\"hour\"]).sum()[y]/total_day_on).iplot(kind = \"bar\",title= \"{}의 주중 시간별 {} 총합\".format(season,y))\n",
    "    (day_off.groupby([\"hour\"]).sum()[y]/total_day_off).iplot(kind = \"bar\",colors = \"blue\",title= \"{}의 주말 시간별 {} 총합\".format(season,y))\n",
    "    \n",
    "    return  day_on.groupby([\"hour\"]).sum()[y], day_off.groupby([\"hour\"]).sum()[y]\n",
    "        \n",
    "\n",
    "day_on, day_off = visualize_ratio(new_df,\"겨울\",y=\"취급액\")"
   ]
  },
  {
   "cell_type": "code",
   "execution_count": 52,
   "metadata": {},
   "outputs": [
    {
     "data": {
      "text/html": [
       "<div>\n",
       "<style scoped>\n",
       "    .dataframe tbody tr th:only-of-type {\n",
       "        vertical-align: middle;\n",
       "    }\n",
       "\n",
       "    .dataframe tbody tr th {\n",
       "        vertical-align: top;\n",
       "    }\n",
       "\n",
       "    .dataframe thead th {\n",
       "        text-align: right;\n",
       "    }\n",
       "</style>\n",
       "<table border=\"1\" class=\"dataframe\">\n",
       "  <thead>\n",
       "    <tr style=\"text-align: right;\">\n",
       "      <th></th>\n",
       "      <th>판매량</th>\n",
       "    </tr>\n",
       "    <tr>\n",
       "      <th>hour</th>\n",
       "      <th></th>\n",
       "    </tr>\n",
       "  </thead>\n",
       "  <tbody>\n",
       "    <tr>\n",
       "      <th>17</th>\n",
       "      <td>100686.90</td>\n",
       "    </tr>\n",
       "    <tr>\n",
       "      <th>18</th>\n",
       "      <td>88702.23</td>\n",
       "    </tr>\n",
       "    <tr>\n",
       "      <th>16</th>\n",
       "      <td>87447.69</td>\n",
       "    </tr>\n",
       "    <tr>\n",
       "      <th>11</th>\n",
       "      <td>78470.99</td>\n",
       "    </tr>\n",
       "    <tr>\n",
       "      <th>19</th>\n",
       "      <td>77719.99</td>\n",
       "    </tr>\n",
       "    <tr>\n",
       "      <th>10</th>\n",
       "      <td>70340.79</td>\n",
       "    </tr>\n",
       "    <tr>\n",
       "      <th>13</th>\n",
       "      <td>60601.58</td>\n",
       "    </tr>\n",
       "    <tr>\n",
       "      <th>20</th>\n",
       "      <td>59892.50</td>\n",
       "    </tr>\n",
       "    <tr>\n",
       "      <th>09</th>\n",
       "      <td>59842.47</td>\n",
       "    </tr>\n",
       "    <tr>\n",
       "      <th>15</th>\n",
       "      <td>56922.43</td>\n",
       "    </tr>\n",
       "    <tr>\n",
       "      <th>07</th>\n",
       "      <td>56586.27</td>\n",
       "    </tr>\n",
       "    <tr>\n",
       "      <th>14</th>\n",
       "      <td>51800.05</td>\n",
       "    </tr>\n",
       "    <tr>\n",
       "      <th>12</th>\n",
       "      <td>51606.86</td>\n",
       "    </tr>\n",
       "    <tr>\n",
       "      <th>08</th>\n",
       "      <td>49971.97</td>\n",
       "    </tr>\n",
       "    <tr>\n",
       "      <th>21</th>\n",
       "      <td>42014.85</td>\n",
       "    </tr>\n",
       "    <tr>\n",
       "      <th>22</th>\n",
       "      <td>33718.95</td>\n",
       "    </tr>\n",
       "    <tr>\n",
       "      <th>00</th>\n",
       "      <td>31017.10</td>\n",
       "    </tr>\n",
       "    <tr>\n",
       "      <th>06</th>\n",
       "      <td>29649.58</td>\n",
       "    </tr>\n",
       "    <tr>\n",
       "      <th>01</th>\n",
       "      <td>21958.91</td>\n",
       "    </tr>\n",
       "    <tr>\n",
       "      <th>23</th>\n",
       "      <td>21656.30</td>\n",
       "    </tr>\n",
       "    <tr>\n",
       "      <th>02</th>\n",
       "      <td>3812.42</td>\n",
       "    </tr>\n",
       "  </tbody>\n",
       "</table>\n",
       "</div>"
      ],
      "text/plain": [
       "           판매량\n",
       "hour          \n",
       "17   100686.90\n",
       "18    88702.23\n",
       "16    87447.69\n",
       "11    78470.99\n",
       "19    77719.99\n",
       "10    70340.79\n",
       "13    60601.58\n",
       "20    59892.50\n",
       "09    59842.47\n",
       "15    56922.43\n",
       "07    56586.27\n",
       "14    51800.05\n",
       "12    51606.86\n",
       "08    49971.97\n",
       "21    42014.85\n",
       "22    33718.95\n",
       "00    31017.10\n",
       "06    29649.58\n",
       "01    21958.91\n",
       "23    21656.30\n",
       "02     3812.42"
      ]
     },
     "execution_count": 52,
     "metadata": {},
     "output_type": "execute_result"
    }
   ],
   "source": [
    "pd.DataFrame(day_on, index = day_on.index, columns = [\"판매량\"]).sort_values(by=\"판매량\",ascending=False)"
   ]
  },
  {
   "cell_type": "code",
   "execution_count": 139,
   "metadata": {},
   "outputs": [],
   "source": [
    "new_df = new_df[new_df[\"season\"].isin([\"겨울\",\"가을\"])].reset_index(drop=True)"
   ]
  },
  {
   "cell_type": "code",
   "execution_count": 140,
   "metadata": {},
   "outputs": [
    {
     "data": {
      "text/html": [
       "<div>\n",
       "<style scoped>\n",
       "    .dataframe tbody tr th:only-of-type {\n",
       "        vertical-align: middle;\n",
       "    }\n",
       "\n",
       "    .dataframe tbody tr th {\n",
       "        vertical-align: top;\n",
       "    }\n",
       "\n",
       "    .dataframe thead th {\n",
       "        text-align: right;\n",
       "    }\n",
       "</style>\n",
       "<table border=\"1\" class=\"dataframe\">\n",
       "  <thead>\n",
       "    <tr style=\"text-align: right;\">\n",
       "      <th></th>\n",
       "      <th>판매량</th>\n",
       "      <th>취급액</th>\n",
       "      <th>weekday</th>\n",
       "      <th>방송일시</th>\n",
       "      <th>방송날짜</th>\n",
       "      <th>holiday</th>\n",
       "      <th>season</th>\n",
       "      <th>방송시간</th>\n",
       "      <th>Day_off</th>\n",
       "      <th>hour</th>\n",
       "      <th>Prime</th>\n",
       "    </tr>\n",
       "  </thead>\n",
       "  <tbody>\n",
       "  </tbody>\n",
       "</table>\n",
       "</div>"
      ],
      "text/plain": [
       "Empty DataFrame\n",
       "Columns: [판매량, 취급액, weekday, 방송일시, 방송날짜, holiday, season, 방송시간, Day_off, hour, Prime]\n",
       "Index: []"
      ]
     },
     "execution_count": 140,
     "metadata": {},
     "output_type": "execute_result"
    }
   ],
   "source": [
    "new_df.drop(new_df[new_df[\"취급액\"]==0].index,axis=0,inplace=True)\n",
    "new_df.drop(new_df[new_df[\"취급액\"]==50000].index,axis=0,inplace=True)\n",
    "new_df[new_df[\"취급액\"]==0]"
   ]
  },
  {
   "cell_type": "code",
   "execution_count": 141,
   "metadata": {},
   "outputs": [
    {
     "data": {
      "text/html": [
       "<div>\n",
       "<style scoped>\n",
       "    .dataframe tbody tr th:only-of-type {\n",
       "        vertical-align: middle;\n",
       "    }\n",
       "\n",
       "    .dataframe tbody tr th {\n",
       "        vertical-align: top;\n",
       "    }\n",
       "\n",
       "    .dataframe thead th {\n",
       "        text-align: right;\n",
       "    }\n",
       "</style>\n",
       "<table border=\"1\" class=\"dataframe\">\n",
       "  <thead>\n",
       "    <tr style=\"text-align: right;\">\n",
       "      <th></th>\n",
       "      <th>판매량</th>\n",
       "      <th>취급액</th>\n",
       "      <th>weekday</th>\n",
       "      <th>방송일시</th>\n",
       "      <th>방송날짜</th>\n",
       "      <th>holiday</th>\n",
       "      <th>season</th>\n",
       "      <th>방송시간</th>\n",
       "      <th>Day_off</th>\n",
       "      <th>hour</th>\n",
       "      <th>Prime</th>\n",
       "    </tr>\n",
       "  </thead>\n",
       "  <tbody>\n",
       "    <tr>\n",
       "      <th>0</th>\n",
       "      <td>52.61</td>\n",
       "      <td>2099000.00</td>\n",
       "      <td>1</td>\n",
       "      <td>2019-01-01 06:00:00</td>\n",
       "      <td>2019-01-01</td>\n",
       "      <td>1</td>\n",
       "      <td>겨울</td>\n",
       "      <td>06:00</td>\n",
       "      <td>1</td>\n",
       "      <td>06</td>\n",
       "      <td>0</td>\n",
       "    </tr>\n",
       "    <tr>\n",
       "      <th>1</th>\n",
       "      <td>109.55</td>\n",
       "      <td>4371000.00</td>\n",
       "      <td>1</td>\n",
       "      <td>2019-01-01 06:00:00</td>\n",
       "      <td>2019-01-01</td>\n",
       "      <td>1</td>\n",
       "      <td>겨울</td>\n",
       "      <td>06:00</td>\n",
       "      <td>1</td>\n",
       "      <td>06</td>\n",
       "      <td>0</td>\n",
       "    </tr>\n",
       "    <tr>\n",
       "      <th>2</th>\n",
       "      <td>81.75</td>\n",
       "      <td>3262000.00</td>\n",
       "      <td>1</td>\n",
       "      <td>2019-01-01 06:20:00</td>\n",
       "      <td>2019-01-01</td>\n",
       "      <td>1</td>\n",
       "      <td>겨울</td>\n",
       "      <td>06:20</td>\n",
       "      <td>1</td>\n",
       "      <td>06</td>\n",
       "      <td>0</td>\n",
       "    </tr>\n",
       "    <tr>\n",
       "      <th>3</th>\n",
       "      <td>174.31</td>\n",
       "      <td>6955000.00</td>\n",
       "      <td>1</td>\n",
       "      <td>2019-01-01 06:20:00</td>\n",
       "      <td>2019-01-01</td>\n",
       "      <td>1</td>\n",
       "      <td>겨울</td>\n",
       "      <td>06:20</td>\n",
       "      <td>1</td>\n",
       "      <td>06</td>\n",
       "      <td>0</td>\n",
       "    </tr>\n",
       "    <tr>\n",
       "      <th>4</th>\n",
       "      <td>167.22</td>\n",
       "      <td>6672000.00</td>\n",
       "      <td>1</td>\n",
       "      <td>2019-01-01 06:40:00</td>\n",
       "      <td>2019-01-01</td>\n",
       "      <td>1</td>\n",
       "      <td>겨울</td>\n",
       "      <td>06:40</td>\n",
       "      <td>1</td>\n",
       "      <td>06</td>\n",
       "      <td>0</td>\n",
       "    </tr>\n",
       "  </tbody>\n",
       "</table>\n",
       "</div>"
      ],
      "text/plain": [
       "     판매량        취급액  weekday                방송일시        방송날짜  holiday season  \\\n",
       "0  52.61 2099000.00        1 2019-01-01 06:00:00  2019-01-01        1     겨울   \n",
       "1 109.55 4371000.00        1 2019-01-01 06:00:00  2019-01-01        1     겨울   \n",
       "2  81.75 3262000.00        1 2019-01-01 06:20:00  2019-01-01        1     겨울   \n",
       "3 174.31 6955000.00        1 2019-01-01 06:20:00  2019-01-01        1     겨울   \n",
       "4 167.22 6672000.00        1 2019-01-01 06:40:00  2019-01-01        1     겨울   \n",
       "\n",
       "    방송시간  Day_off hour  Prime  \n",
       "0  06:00        1   06      0  \n",
       "1  06:00        1   06      0  \n",
       "2  06:20        1   06      0  \n",
       "3  06:20        1   06      0  \n",
       "4  06:40        1   06      0  "
      ]
     },
     "execution_count": 141,
     "metadata": {},
     "output_type": "execute_result"
    }
   ],
   "source": [
    "def prime_or_not(season, hour, day_off):\n",
    "    \n",
    "    if season ==\"가을\":\n",
    "        if day_off == 1:\n",
    "            #휴일인경우\n",
    "            if hour in [\"16\",\"17\",\"21\",\"22\"]:\n",
    "                return 1 \n",
    "            else :\n",
    "                return 0 \n",
    "        else: \n",
    "            #아닌경우\n",
    "            if hour in [\"20\",\"21\",\"22\"]:\n",
    "                return 1 \n",
    "            else : \n",
    "                return 0\n",
    "            \n",
    "    elif season == \"겨울\":\n",
    "        if day_off == 1:\n",
    "            #휴일인경우\n",
    "            if hour in [\"16\",\"17\",\"21\",\"22\"]:\n",
    "                return 1\n",
    "            else : \n",
    "                return 0 \n",
    "            \n",
    "        else: \n",
    "            #아닌경우\n",
    "            if hour in [\"20\",\"21\",\"22\"]:\n",
    "                return 1 \n",
    "            else: \n",
    "                return 0 \n",
    "\n",
    "new_df[\"Prime\"] = new_df.apply(lambda x : prime_or_not(x[\"season\"],x[\"hour\"],x[\"Day_off\"]),axis=1)\n",
    "new_df.head()"
   ]
  },
  {
   "cell_type": "code",
   "execution_count": 156,
   "metadata": {},
   "outputs": [
    {
     "data": {
      "application/vnd.plotly.v1+json": {
       "config": {
        "linkText": "Export to plot.ly",
        "plotlyServerURL": "https://plot.ly",
        "showLink": true
       },
       "data": [
        {
         "marker": {
          "color": "rgba(255, 153, 51, 0.6)",
          "line": {
           "color": "rgba(255, 153, 51, 1.0)",
           "width": 1
          }
         },
         "name": "취급액",
         "orientation": "v",
         "text": "",
         "type": "bar",
         "uid": "0eae3268-0d31-442e-88d2-120aedc9be1a",
         "x": [
          "(가을,0)",
          "(가을,1)",
          "(겨울,0)",
          "(겨울,1)"
         ],
         "y": [
          24845957.818377215,
          26070597.16758458,
          24638264.281129654,
          27419321.78217822
         ]
        }
       ],
       "layout": {
        "legend": {
         "bgcolor": "#F5F6F9",
         "font": {
          "color": "#4D5663"
         }
        },
        "paper_bgcolor": "#F5F6F9",
        "plot_bgcolor": "#F5F6F9",
        "title": {
         "font": {
          "color": "#4D5663"
         }
        },
        "xaxis": {
         "gridcolor": "#E1E5ED",
         "showgrid": true,
         "tickfont": {
          "color": "#4D5663"
         },
         "title": {
          "font": {
           "color": "#4D5663"
          },
          "text": ""
         },
         "zerolinecolor": "#E1E5ED"
        },
        "yaxis": {
         "gridcolor": "#E1E5ED",
         "showgrid": true,
         "tickfont": {
          "color": "#4D5663"
         },
         "title": {
          "font": {
           "color": "#4D5663"
          },
          "text": ""
         },
         "zerolinecolor": "#E1E5ED"
        }
       }
      },
      "text/html": [
       "<div>\n",
       "        \n",
       "        \n",
       "            <div id=\"e3f7e0d5-5eca-48a4-8e96-2a337477550c\" class=\"plotly-graph-div\" style=\"height:525px; width:100%;\"></div>\n",
       "            <script type=\"text/javascript\">\n",
       "                require([\"plotly\"], function(Plotly) {\n",
       "                    window.PLOTLYENV=window.PLOTLYENV || {};\n",
       "                    window.PLOTLYENV.BASE_URL='https://plot.ly';\n",
       "                    \n",
       "                if (document.getElementById(\"e3f7e0d5-5eca-48a4-8e96-2a337477550c\")) {\n",
       "                    Plotly.newPlot(\n",
       "                        'e3f7e0d5-5eca-48a4-8e96-2a337477550c',\n",
       "                        [{\"marker\": {\"color\": \"rgba(255, 153, 51, 0.6)\", \"line\": {\"color\": \"rgba(255, 153, 51, 1.0)\", \"width\": 1}}, \"name\": \"\\ucde8\\uae09\\uc561\", \"orientation\": \"v\", \"text\": \"\", \"type\": \"bar\", \"uid\": \"0eae3268-0d31-442e-88d2-120aedc9be1a\", \"x\": [\"(\\uac00\\uc744,0)\", \"(\\uac00\\uc744,1)\", \"(\\uaca8\\uc6b8,0)\", \"(\\uaca8\\uc6b8,1)\"], \"y\": [24845957.818377215, 26070597.16758458, 24638264.281129654, 27419321.78217822]}],\n",
       "                        {\"legend\": {\"bgcolor\": \"#F5F6F9\", \"font\": {\"color\": \"#4D5663\"}}, \"paper_bgcolor\": \"#F5F6F9\", \"plot_bgcolor\": \"#F5F6F9\", \"title\": {\"font\": {\"color\": \"#4D5663\"}}, \"xaxis\": {\"gridcolor\": \"#E1E5ED\", \"showgrid\": true, \"tickfont\": {\"color\": \"#4D5663\"}, \"title\": {\"font\": {\"color\": \"#4D5663\"}, \"text\": \"\"}, \"zerolinecolor\": \"#E1E5ED\"}, \"yaxis\": {\"gridcolor\": \"#E1E5ED\", \"showgrid\": true, \"tickfont\": {\"color\": \"#4D5663\"}, \"title\": {\"font\": {\"color\": \"#4D5663\"}, \"text\": \"\"}, \"zerolinecolor\": \"#E1E5ED\"}},\n",
       "                        {\"showLink\": true, \"linkText\": \"Export to plot.ly\", \"plotlyServerURL\": \"https://plot.ly\", \"responsive\": true}\n",
       "                    ).then(function(){\n",
       "                            \n",
       "var gd = document.getElementById('e3f7e0d5-5eca-48a4-8e96-2a337477550c');\n",
       "var x = new MutationObserver(function (mutations, observer) {{\n",
       "        var display = window.getComputedStyle(gd).display;\n",
       "        if (!display || display === 'none') {{\n",
       "            console.log([gd, 'removed!']);\n",
       "            Plotly.purge(gd);\n",
       "            observer.disconnect();\n",
       "        }}\n",
       "}});\n",
       "\n",
       "// Listen for the removal of the full notebook cells\n",
       "var notebookContainer = gd.closest('#notebook-container');\n",
       "if (notebookContainer) {{\n",
       "    x.observe(notebookContainer, {childList: true});\n",
       "}}\n",
       "\n",
       "// Listen for the clearing of the current output cell\n",
       "var outputEl = gd.closest('.output');\n",
       "if (outputEl) {{\n",
       "    x.observe(outputEl, {childList: true});\n",
       "}}\n",
       "\n",
       "                        })\n",
       "                };\n",
       "                });\n",
       "            </script>\n",
       "        </div>"
      ]
     },
     "metadata": {},
     "output_type": "display_data"
    },
    {
     "data": {
      "application/vnd.plotly.v1+json": {
       "config": {
        "linkText": "Export to plot.ly",
        "plotlyServerURL": "https://plot.ly",
        "showLink": true
       },
       "data": [
        {
         "marker": {
          "color": "rgba(55, 128, 191, 0.6)",
          "line": {
           "color": "rgba(55, 128, 191, 1.0)",
           "width": 1
          }
         },
         "name": "취급액",
         "orientation": "v",
         "text": "",
         "type": "bar",
         "uid": "d2a5279c-0443-449b-b594-141be248bd95",
         "x": [
          "(가을,0)",
          "(가을,1)",
          "(겨울,0)",
          "(겨울,1)"
         ],
         "y": [
          20019866.541373827,
          25307586.32277766,
          21269497.14176931,
          26643888.250941362
         ]
        }
       ],
       "layout": {
        "legend": {
         "bgcolor": "#F5F6F9",
         "font": {
          "color": "#4D5663"
         }
        },
        "paper_bgcolor": "#F5F6F9",
        "plot_bgcolor": "#F5F6F9",
        "title": {
         "font": {
          "color": "#4D5663"
         }
        },
        "xaxis": {
         "gridcolor": "#E1E5ED",
         "showgrid": true,
         "tickfont": {
          "color": "#4D5663"
         },
         "title": {
          "font": {
           "color": "#4D5663"
          },
          "text": ""
         },
         "zerolinecolor": "#E1E5ED"
        },
        "yaxis": {
         "gridcolor": "#E1E5ED",
         "showgrid": true,
         "tickfont": {
          "color": "#4D5663"
         },
         "title": {
          "font": {
           "color": "#4D5663"
          },
          "text": ""
         },
         "zerolinecolor": "#E1E5ED"
        }
       }
      },
      "text/html": [
       "<div>\n",
       "        \n",
       "        \n",
       "            <div id=\"a258b584-1868-40b4-b1f5-5dc7c8e75e40\" class=\"plotly-graph-div\" style=\"height:525px; width:100%;\"></div>\n",
       "            <script type=\"text/javascript\">\n",
       "                require([\"plotly\"], function(Plotly) {\n",
       "                    window.PLOTLYENV=window.PLOTLYENV || {};\n",
       "                    window.PLOTLYENV.BASE_URL='https://plot.ly';\n",
       "                    \n",
       "                if (document.getElementById(\"a258b584-1868-40b4-b1f5-5dc7c8e75e40\")) {\n",
       "                    Plotly.newPlot(\n",
       "                        'a258b584-1868-40b4-b1f5-5dc7c8e75e40',\n",
       "                        [{\"marker\": {\"color\": \"rgba(55, 128, 191, 0.6)\", \"line\": {\"color\": \"rgba(55, 128, 191, 1.0)\", \"width\": 1}}, \"name\": \"\\ucde8\\uae09\\uc561\", \"orientation\": \"v\", \"text\": \"\", \"type\": \"bar\", \"uid\": \"d2a5279c-0443-449b-b594-141be248bd95\", \"x\": [\"(\\uac00\\uc744,0)\", \"(\\uac00\\uc744,1)\", \"(\\uaca8\\uc6b8,0)\", \"(\\uaca8\\uc6b8,1)\"], \"y\": [20019866.541373827, 25307586.32277766, 21269497.14176931, 26643888.250941362]}],\n",
       "                        {\"legend\": {\"bgcolor\": \"#F5F6F9\", \"font\": {\"color\": \"#4D5663\"}}, \"paper_bgcolor\": \"#F5F6F9\", \"plot_bgcolor\": \"#F5F6F9\", \"title\": {\"font\": {\"color\": \"#4D5663\"}}, \"xaxis\": {\"gridcolor\": \"#E1E5ED\", \"showgrid\": true, \"tickfont\": {\"color\": \"#4D5663\"}, \"title\": {\"font\": {\"color\": \"#4D5663\"}, \"text\": \"\"}, \"zerolinecolor\": \"#E1E5ED\"}, \"yaxis\": {\"gridcolor\": \"#E1E5ED\", \"showgrid\": true, \"tickfont\": {\"color\": \"#4D5663\"}, \"title\": {\"font\": {\"color\": \"#4D5663\"}, \"text\": \"\"}, \"zerolinecolor\": \"#E1E5ED\"}},\n",
       "                        {\"showLink\": true, \"linkText\": \"Export to plot.ly\", \"plotlyServerURL\": \"https://plot.ly\", \"responsive\": true}\n",
       "                    ).then(function(){\n",
       "                            \n",
       "var gd = document.getElementById('a258b584-1868-40b4-b1f5-5dc7c8e75e40');\n",
       "var x = new MutationObserver(function (mutations, observer) {{\n",
       "        var display = window.getComputedStyle(gd).display;\n",
       "        if (!display || display === 'none') {{\n",
       "            console.log([gd, 'removed!']);\n",
       "            Plotly.purge(gd);\n",
       "            observer.disconnect();\n",
       "        }}\n",
       "}});\n",
       "\n",
       "// Listen for the removal of the full notebook cells\n",
       "var notebookContainer = gd.closest('#notebook-container');\n",
       "if (notebookContainer) {{\n",
       "    x.observe(notebookContainer, {childList: true});\n",
       "}}\n",
       "\n",
       "// Listen for the clearing of the current output cell\n",
       "var outputEl = gd.closest('.output');\n",
       "if (outputEl) {{\n",
       "    x.observe(outputEl, {childList: true});\n",
       "}}\n",
       "\n",
       "                        })\n",
       "                };\n",
       "                });\n",
       "            </script>\n",
       "        </div>"
      ]
     },
     "metadata": {},
     "output_type": "display_data"
    }
   ],
   "source": [
    "import seaborn as sns \n",
    "\n",
    "new_df.groupby([\"season\",\"Prime\"]).mean()[\"취급액\"].iplot(kind=\"bar\")\n",
    "new_df.groupby([\"season\",\"Prime\"]).std()[\"취급액\"].iplot(kind=\"bar\",color = \"blue\")"
   ]
  },
  {
   "cell_type": "code",
   "execution_count": 165,
   "metadata": {},
   "outputs": [],
   "source": [
    "new_df.groupby([\"weekday\",\"hour\"]).describe()[\"취급액\"].to_csv(\"연습.xlsx\")"
   ]
  }
 ],
 "metadata": {
  "celltoolbar": "Raw Cell Format",
  "hide_input": false,
  "kernelspec": {
   "display_name": "Python 3",
   "language": "python",
   "name": "python3"
  },
  "language_info": {
   "codemirror_mode": {
    "name": "ipython",
    "version": 3
   },
   "file_extension": ".py",
   "mimetype": "text/x-python",
   "name": "python",
   "nbconvert_exporter": "python",
   "pygments_lexer": "ipython3",
   "version": "3.7.7"
  }
 },
 "nbformat": 4,
 "nbformat_minor": 4
}
