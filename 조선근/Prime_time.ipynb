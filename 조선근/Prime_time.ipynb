{
 "cells": [
  {
   "cell_type": "markdown",
   "metadata": {},
   "source": [
    "# 1. 데이터 로드"
   ]
  },
  {
   "cell_type": "code",
   "execution_count": 12,
   "metadata": {
    "hide_input": false,
    "scrolled": true
   },
   "outputs": [
    {
     "data": {
      "text/html": [
       "        <script type=\"text/javascript\">\n",
       "        window.PlotlyConfig = {MathJaxConfig: 'local'};\n",
       "        if (window.MathJax) {MathJax.Hub.Config({SVG: {font: \"STIX-Web\"}});}\n",
       "        if (typeof require !== 'undefined') {\n",
       "        require.undef(\"plotly\");\n",
       "        requirejs.config({\n",
       "            paths: {\n",
       "                'plotly': ['https://cdn.plot.ly/plotly-latest.min']\n",
       "            }\n",
       "        });\n",
       "        require(['plotly'], function(Plotly) {\n",
       "            window._Plotly = Plotly;\n",
       "        });\n",
       "        }\n",
       "        </script>\n",
       "        "
      ]
     },
     "metadata": {},
     "output_type": "display_data"
    }
   ],
   "source": [
    "import pandas as pd\n",
    "pd.set_option('display.float_format', '{:.2f}'.format) # 항상 float 형식으로\n",
    "pd.set_option(\"display.max_columns\",100)\n",
    "\n",
    "import numpy as np \n",
    "\n",
    "# df plot\n",
    "import cufflinks as cf \n",
    "import plotly.plotly as py \n",
    "import matplotlib.pyplot as plt \n",
    "import seaborn as sns \n",
    "\n",
    "# warnings \n",
    "import warnings ; warnings.filterwarnings(\"ignore\")\n",
    "\n",
    "# style\n",
    "plt.style.use(\"ggplot\")\n",
    "cf.go_offline()"
   ]
  },
  {
   "cell_type": "code",
   "execution_count": 2,
   "metadata": {
    "hide_input": false
   },
   "outputs": [],
   "source": [
    "# 한글 폰트 출력 \n",
    "import matplotlib\n",
    "from matplotlib import font_manager, rc \n",
    "import platform \n",
    "\n",
    "font_name=font_manager.FontProperties(fname=\"c:/Windows/Fonts/malgun.ttf\").get_name()\n",
    "rc(\"font\",family=font_name)\n",
    "matplotlib.rcParams['axes.unicode_minus']=False"
   ]
  },
  {
   "cell_type": "code",
   "execution_count": 3,
   "metadata": {
    "hide_input": false
   },
   "outputs": [],
   "source": [
    "# 데이터 로드 \n",
    "path = \"C:/Users/sk_jo/Desktop/Project/titanic/\"\n",
    "\n",
    "def load_dataset(): \n",
    "    sales = pd.read_excel(path+\"sales.xlsx\",header =1)\n",
    "    view_rate = pd.read_excel(path+\"view_rate.xlsx\",header =1, index_col= 0)\n",
    "    return sales, view_rate\n",
    "\n",
    "sales = load_dataset()[0]\n",
    "view_rate = load_dataset()[1]"
   ]
  },
  {
   "cell_type": "markdown",
   "metadata": {},
   "source": [
    "# 2. 데이터 전처리 "
   ]
  },
  {
   "cell_type": "code",
   "execution_count": 4,
   "metadata": {
    "hide_input": true,
    "scrolled": true
   },
   "outputs": [
    {
     "data": {
      "text/html": [
       "<div>\n",
       "<style scoped>\n",
       "    .dataframe tbody tr th:only-of-type {\n",
       "        vertical-align: middle;\n",
       "    }\n",
       "\n",
       "    .dataframe tbody tr th {\n",
       "        vertical-align: top;\n",
       "    }\n",
       "\n",
       "    .dataframe thead th {\n",
       "        text-align: right;\n",
       "    }\n",
       "</style>\n",
       "<table border=\"1\" class=\"dataframe\">\n",
       "  <thead>\n",
       "    <tr style=\"text-align: right;\">\n",
       "      <th></th>\n",
       "      <th>방송일시</th>\n",
       "      <th>노출(분)</th>\n",
       "      <th>상품명</th>\n",
       "      <th>상품군</th>\n",
       "      <th>판매단가</th>\n",
       "      <th>취급액</th>\n",
       "      <th>month</th>\n",
       "      <th>day</th>\n",
       "      <th>hour</th>\n",
       "      <th>minute</th>\n",
       "      <th>weekday</th>\n",
       "      <th>holiday</th>\n",
       "      <th>판매량</th>\n",
       "    </tr>\n",
       "  </thead>\n",
       "  <tbody>\n",
       "    <tr>\n",
       "      <th>0</th>\n",
       "      <td>2019-01-01 06:00:00</td>\n",
       "      <td>20.00</td>\n",
       "      <td>테이트 남성 셀린니트3종</td>\n",
       "      <td>의류</td>\n",
       "      <td>39900</td>\n",
       "      <td>2099000.00</td>\n",
       "      <td>1</td>\n",
       "      <td>1</td>\n",
       "      <td>6</td>\n",
       "      <td>0</td>\n",
       "      <td>1</td>\n",
       "      <td>1</td>\n",
       "      <td>52.61</td>\n",
       "    </tr>\n",
       "    <tr>\n",
       "      <th>1</th>\n",
       "      <td>2019-01-01 06:00:00</td>\n",
       "      <td>20.00</td>\n",
       "      <td>테이트 여성 셀린니트3종</td>\n",
       "      <td>의류</td>\n",
       "      <td>39900</td>\n",
       "      <td>4371000.00</td>\n",
       "      <td>1</td>\n",
       "      <td>1</td>\n",
       "      <td>6</td>\n",
       "      <td>0</td>\n",
       "      <td>1</td>\n",
       "      <td>1</td>\n",
       "      <td>109.55</td>\n",
       "    </tr>\n",
       "    <tr>\n",
       "      <th>2</th>\n",
       "      <td>2019-01-01 06:20:00</td>\n",
       "      <td>20.00</td>\n",
       "      <td>테이트 남성 셀린니트3종</td>\n",
       "      <td>의류</td>\n",
       "      <td>39900</td>\n",
       "      <td>3262000.00</td>\n",
       "      <td>1</td>\n",
       "      <td>1</td>\n",
       "      <td>6</td>\n",
       "      <td>20</td>\n",
       "      <td>1</td>\n",
       "      <td>1</td>\n",
       "      <td>81.75</td>\n",
       "    </tr>\n",
       "    <tr>\n",
       "      <th>3</th>\n",
       "      <td>2019-01-01 06:20:00</td>\n",
       "      <td>20.00</td>\n",
       "      <td>테이트 여성 셀린니트3종</td>\n",
       "      <td>의류</td>\n",
       "      <td>39900</td>\n",
       "      <td>6955000.00</td>\n",
       "      <td>1</td>\n",
       "      <td>1</td>\n",
       "      <td>6</td>\n",
       "      <td>20</td>\n",
       "      <td>1</td>\n",
       "      <td>1</td>\n",
       "      <td>174.31</td>\n",
       "    </tr>\n",
       "    <tr>\n",
       "      <th>4</th>\n",
       "      <td>2019-01-01 06:40:00</td>\n",
       "      <td>20.00</td>\n",
       "      <td>테이트 남성 셀린니트3종</td>\n",
       "      <td>의류</td>\n",
       "      <td>39900</td>\n",
       "      <td>6672000.00</td>\n",
       "      <td>1</td>\n",
       "      <td>1</td>\n",
       "      <td>6</td>\n",
       "      <td>40</td>\n",
       "      <td>1</td>\n",
       "      <td>1</td>\n",
       "      <td>167.22</td>\n",
       "    </tr>\n",
       "  </tbody>\n",
       "</table>\n",
       "</div>"
      ],
      "text/plain": [
       "                 방송일시  노출(분)            상품명 상품군   판매단가        취급액  month  day  \\\n",
       "0 2019-01-01 06:00:00  20.00  테이트 남성 셀린니트3종  의류  39900 2099000.00      1    1   \n",
       "1 2019-01-01 06:00:00  20.00  테이트 여성 셀린니트3종  의류  39900 4371000.00      1    1   \n",
       "2 2019-01-01 06:20:00  20.00  테이트 남성 셀린니트3종  의류  39900 3262000.00      1    1   \n",
       "3 2019-01-01 06:20:00  20.00  테이트 여성 셀린니트3종  의류  39900 6955000.00      1    1   \n",
       "4 2019-01-01 06:40:00  20.00  테이트 남성 셀린니트3종  의류  39900 6672000.00      1    1   \n",
       "\n",
       "   hour  minute  weekday  holiday    판매량  \n",
       "0     6       0        1        1  52.61  \n",
       "1     6       0        1        1 109.55  \n",
       "2     6      20        1        1  81.75  \n",
       "3     6      20        1        1 174.31  \n",
       "4     6      40        1        1 167.22  "
      ]
     },
     "execution_count": 4,
     "metadata": {},
     "output_type": "execute_result"
    }
   ],
   "source": [
    "import datetime \n",
    "## TODO \n",
    "## 1.무형 상품은 추정 제외 \n",
    "## 2.결측된 노출분 채우기 (직전의 값 집어넣기) \n",
    "## 3. 판매단가 > 취급액이면 취급액 0 \n",
    "## 4. 시간 데이터 처리\n",
    "## 5. 취급액이 50000인경우와 0인 경우 삭제 \n",
    "\n",
    "\n",
    "def filling_missing_exposure(df):\n",
    "    #2번 전처리\n",
    "    for i,row in df.iterrows():\n",
    "        val = row[\"노출(분)\"]\n",
    "        if i == 0:\n",
    "            continue \n",
    "        if np.isnan(val):\n",
    "            if df.loc[i,\"방송일시\"] == df.loc[i-1,\"방송일시\"]:\n",
    "                df.loc[i,\"노출(분)\"] = df.loc[i-1,\"노출(분)\"]\n",
    "            else :\n",
    "                continue \n",
    "    return df \n",
    "\n",
    "def custom(price, total):\n",
    "    # 3전처리 \n",
    "    if price > total: return 0\n",
    "    else: return total\n",
    "    \n",
    "def handle_date(df):\n",
    "    # 4번 전처리\n",
    "    df[\"방송일시\"] = pd.to_datetime(df[\"방송일시\"])\n",
    "    df['month'] = pd.DatetimeIndex(df['방송일시']).month\n",
    "    df['day'] = pd.DatetimeIndex(df['방송일시']).day\n",
    "    df['hour'] = pd.DatetimeIndex(df['방송일시']).hour\n",
    "    df['minute'] = pd.DatetimeIndex(df['방송일시']).minute\n",
    "    df['weekday'] = pd.DatetimeIndex(df['방송일시']).weekday\n",
    "    \n",
    "    return df \n",
    "\n",
    "def deleting_data(df):\n",
    "    df.drop(df[df[\"취급액\"]==50000].index,axis=0,inplace=True)\n",
    "    df.drop(df[df[\"취급액\"]==0].index,axis=0,inplace=True)\n",
    "    df.drop([\"마더코드\",\"상품코드\"],axis=1,inplace=True)\n",
    "    return df \n",
    "    \n",
    "\n",
    "def handle_holiday(df):\n",
    "    # 5번 전처리 \n",
    "    hol = ['2019-01-01','2019-02-04','2019-02-05','2019-02-06','2019-03-01','2019-05-05','2019-05-06'\n",
    "           ,'2019-05-12','2019-06-06','2019-08-15','2019-09-12','2019-09-13','2019-09-14','2019-10-03','2019-10-09'\n",
    "           ,'2019-12-25','2020-01-01']\n",
    "    df[\"holiday\"] = df[\"방송일시\"].apply(lambda x : 1 if ((datetime.datetime.strftime(x,\"%Y-%m-%d\")) in hol) else 0 )\n",
    "    \n",
    "    return df\n",
    "\n",
    "    \n",
    "def pre_processing(df): \n",
    "    # 1. 무형 상품 추정 제외 \n",
    "    df = df.drop(df[df[\"상품군\"]==\"무형\"].index,axis = 0)\n",
    "    # 2. 결측된 노출분 채우기 \n",
    "    df = filling_missing_exposure(df)\n",
    "                \n",
    "    # 3. 판매단가 > 취급액이면 취급액 0 \n",
    "    df[\"취급액\"] = df.apply(lambda x : custom(x[\"판매단가\"], x[\"취급액\"]),axis=1)\n",
    "    # 4. month, day, hour, minute, weekday 열 추가 \n",
    "    df = handle_date(df)\n",
    "    # 5. 공휴일 처리\n",
    "    df = handle_holiday(df)\n",
    "    \n",
    "    # 6. data 삭제 \n",
    "    df = deleting_data(df)\n",
    "    \n",
    "    #7. 판매량 \n",
    "    df[\"판매량\"] = df[\"취급액\"]/df[\"판매단가\"]\n",
    "    \n",
    "    # reset_index\n",
    "    df = df.reset_index(drop=True)\n",
    "    \n",
    "    return df \n",
    "\n",
    "sales = pre_processing(sales)\n",
    "sales.head()"
   ]
  },
  {
   "cell_type": "markdown",
   "metadata": {},
   "source": [
    "# 3. 외부 데이터 가지고 오기"
   ]
  },
  {
   "cell_type": "markdown",
   "metadata": {},
   "source": [
    "## 3-1 날씨 데이터"
   ]
  },
  {
   "cell_type": "code",
   "execution_count": 6,
   "metadata": {
    "hide_input": true,
    "scrolled": false
   },
   "outputs": [
    {
     "data": {
      "text/html": [
       "<div>\n",
       "<style scoped>\n",
       "    .dataframe tbody tr th:only-of-type {\n",
       "        vertical-align: middle;\n",
       "    }\n",
       "\n",
       "    .dataframe tbody tr th {\n",
       "        vertical-align: top;\n",
       "    }\n",
       "\n",
       "    .dataframe thead th {\n",
       "        text-align: right;\n",
       "    }\n",
       "</style>\n",
       "<table border=\"1\" class=\"dataframe\">\n",
       "  <thead>\n",
       "    <tr style=\"text-align: right;\">\n",
       "      <th></th>\n",
       "      <th>방송일시</th>\n",
       "      <th>미세먼지(㎍/㎥)</th>\n",
       "      <th>초미세먼지(㎍/㎥)</th>\n",
       "      <th>오존(ppm)</th>\n",
       "      <th>이산화질소농도(ppm)</th>\n",
       "      <th>일산화탄소농도(ppm)</th>\n",
       "      <th>아황산가스농도(ppm)</th>\n",
       "      <th>미세먼지 주의보 및 경보</th>\n",
       "      <th>평균기온(℃)</th>\n",
       "      <th>최고기온(℃)</th>\n",
       "      <th>최저기온(℃)</th>\n",
       "      <th>season</th>\n",
       "      <th>강수량(mm)</th>\n",
       "      <th>폭염주의보</th>\n",
       "      <th>한파주의보</th>\n",
       "      <th>대설주의보</th>\n",
       "      <th>호우주의보</th>\n",
       "    </tr>\n",
       "  </thead>\n",
       "  <tbody>\n",
       "    <tr>\n",
       "      <th>0</th>\n",
       "      <td>2019-01-01</td>\n",
       "      <td>39.36</td>\n",
       "      <td>26.12</td>\n",
       "      <td>0.01</td>\n",
       "      <td>0.03</td>\n",
       "      <td>0.69</td>\n",
       "      <td>0.00</td>\n",
       "      <td>0</td>\n",
       "      <td>-5.00</td>\n",
       "      <td>-0.60</td>\n",
       "      <td>-8.20</td>\n",
       "      <td>겨울</td>\n",
       "      <td>0.00</td>\n",
       "      <td>0</td>\n",
       "      <td>1</td>\n",
       "      <td>0</td>\n",
       "      <td>0</td>\n",
       "    </tr>\n",
       "    <tr>\n",
       "      <th>1</th>\n",
       "      <td>2019-01-02</td>\n",
       "      <td>33.08</td>\n",
       "      <td>21.36</td>\n",
       "      <td>0.01</td>\n",
       "      <td>0.04</td>\n",
       "      <td>0.68</td>\n",
       "      <td>0.00</td>\n",
       "      <td>0</td>\n",
       "      <td>-4.90</td>\n",
       "      <td>0.20</td>\n",
       "      <td>-8.80</td>\n",
       "      <td>겨울</td>\n",
       "      <td>0.00</td>\n",
       "      <td>0</td>\n",
       "      <td>1</td>\n",
       "      <td>0</td>\n",
       "      <td>0</td>\n",
       "    </tr>\n",
       "    <tr>\n",
       "      <th>2</th>\n",
       "      <td>2019-01-03</td>\n",
       "      <td>38.80</td>\n",
       "      <td>23.36</td>\n",
       "      <td>0.01</td>\n",
       "      <td>0.04</td>\n",
       "      <td>0.74</td>\n",
       "      <td>0.01</td>\n",
       "      <td>0</td>\n",
       "      <td>-3.50</td>\n",
       "      <td>3.20</td>\n",
       "      <td>-8.40</td>\n",
       "      <td>겨울</td>\n",
       "      <td>0.00</td>\n",
       "      <td>0</td>\n",
       "      <td>1</td>\n",
       "      <td>0</td>\n",
       "      <td>0</td>\n",
       "    </tr>\n",
       "    <tr>\n",
       "      <th>3</th>\n",
       "      <td>2019-01-04</td>\n",
       "      <td>59.44</td>\n",
       "      <td>40.36</td>\n",
       "      <td>0.00</td>\n",
       "      <td>0.06</td>\n",
       "      <td>1.06</td>\n",
       "      <td>0.01</td>\n",
       "      <td>0</td>\n",
       "      <td>-1.10</td>\n",
       "      <td>4.10</td>\n",
       "      <td>-6.20</td>\n",
       "      <td>겨울</td>\n",
       "      <td>0.00</td>\n",
       "      <td>0</td>\n",
       "      <td>1</td>\n",
       "      <td>0</td>\n",
       "      <td>0</td>\n",
       "    </tr>\n",
       "    <tr>\n",
       "      <th>4</th>\n",
       "      <td>2019-01-05</td>\n",
       "      <td>65.72</td>\n",
       "      <td>42.52</td>\n",
       "      <td>0.02</td>\n",
       "      <td>0.03</td>\n",
       "      <td>0.64</td>\n",
       "      <td>0.01</td>\n",
       "      <td>1</td>\n",
       "      <td>-2.80</td>\n",
       "      <td>1.10</td>\n",
       "      <td>-5.50</td>\n",
       "      <td>겨울</td>\n",
       "      <td>0.00</td>\n",
       "      <td>0</td>\n",
       "      <td>1</td>\n",
       "      <td>0</td>\n",
       "      <td>0</td>\n",
       "    </tr>\n",
       "  </tbody>\n",
       "</table>\n",
       "</div>"
      ],
      "text/plain": [
       "         방송일시  미세먼지(㎍/㎥)  초미세먼지(㎍/㎥)  오존(ppm)  이산화질소농도(ppm)  일산화탄소농도(ppm)  \\\n",
       "0  2019-01-01      39.36       26.12     0.01          0.03          0.69   \n",
       "1  2019-01-02      33.08       21.36     0.01          0.04          0.68   \n",
       "2  2019-01-03      38.80       23.36     0.01          0.04          0.74   \n",
       "3  2019-01-04      59.44       40.36     0.00          0.06          1.06   \n",
       "4  2019-01-05      65.72       42.52     0.02          0.03          0.64   \n",
       "\n",
       "   아황산가스농도(ppm)  미세먼지 주의보 및 경보  평균기온(℃)  최고기온(℃)  최저기온(℃) season  강수량(mm)  \\\n",
       "0          0.00              0    -5.00    -0.60    -8.20     겨울     0.00   \n",
       "1          0.00              0    -4.90     0.20    -8.80     겨울     0.00   \n",
       "2          0.01              0    -3.50     3.20    -8.40     겨울     0.00   \n",
       "3          0.01              0    -1.10     4.10    -6.20     겨울     0.00   \n",
       "4          0.01              1    -2.80     1.10    -5.50     겨울     0.00   \n",
       "\n",
       "   폭염주의보  한파주의보   대설주의보  호우주의보  \n",
       "0      0      1       0      0  \n",
       "1      0      1       0      0  \n",
       "2      0      1       0      0  \n",
       "3      0      1       0      0  \n",
       "4      0      1       0      0  "
      ]
     },
     "execution_count": 6,
     "metadata": {},
     "output_type": "execute_result"
    }
   ],
   "source": [
    "weather = pd.read_csv(\"./weathers_train.csv\")\n",
    "weather.head()"
   ]
  },
  {
   "cell_type": "markdown",
   "metadata": {},
   "source": [
    "## 3-2 카테고리 데이터 "
   ]
  },
  {
   "cell_type": "markdown",
   "metadata": {},
   "source": [
    "## 3-3 시청률 데이터"
   ]
  },
  {
   "cell_type": "markdown",
   "metadata": {},
   "source": [
    "## 3-4 경제지표 데이터"
   ]
  },
  {
   "cell_type": "markdown",
   "metadata": {},
   "source": [
    "# 4. Feature engineering "
   ]
  },
  {
   "cell_type": "markdown",
   "metadata": {},
   "source": [
    "## 4-1. 상품군 카테고리 데이터"
   ]
  },
  {
   "cell_type": "code",
   "execution_count": 11,
   "metadata": {
    "hide_input": true,
    "scrolled": true
   },
   "outputs": [
    {
     "data": {
      "text/html": [
       "<div>\n",
       "<style scoped>\n",
       "    .dataframe tbody tr th:only-of-type {\n",
       "        vertical-align: middle;\n",
       "    }\n",
       "\n",
       "    .dataframe tbody tr th {\n",
       "        vertical-align: top;\n",
       "    }\n",
       "\n",
       "    .dataframe thead th {\n",
       "        text-align: right;\n",
       "    }\n",
       "</style>\n",
       "<table border=\"1\" class=\"dataframe\">\n",
       "  <thead>\n",
       "    <tr style=\"text-align: right;\">\n",
       "      <th></th>\n",
       "      <th>방송일시</th>\n",
       "      <th>노출(분)</th>\n",
       "      <th>상품명</th>\n",
       "      <th>상품군</th>\n",
       "      <th>판매단가</th>\n",
       "      <th>취급액</th>\n",
       "      <th>month</th>\n",
       "      <th>day</th>\n",
       "      <th>hour</th>\n",
       "      <th>minute</th>\n",
       "      <th>...</th>\n",
       "      <th>상품군_가전</th>\n",
       "      <th>상품군_건강기능</th>\n",
       "      <th>상품군_농수축</th>\n",
       "      <th>상품군_생활용품</th>\n",
       "      <th>상품군_속옷</th>\n",
       "      <th>상품군_의류</th>\n",
       "      <th>상품군_이미용</th>\n",
       "      <th>상품군_잡화</th>\n",
       "      <th>상품군_주방</th>\n",
       "      <th>상품군_침구</th>\n",
       "    </tr>\n",
       "  </thead>\n",
       "  <tbody>\n",
       "    <tr>\n",
       "      <th>0</th>\n",
       "      <td>2019-01-01 06:00:00</td>\n",
       "      <td>20.00</td>\n",
       "      <td>테이트 남성 셀린니트3종</td>\n",
       "      <td>의류</td>\n",
       "      <td>39900</td>\n",
       "      <td>2099000.00</td>\n",
       "      <td>1</td>\n",
       "      <td>1</td>\n",
       "      <td>6</td>\n",
       "      <td>0</td>\n",
       "      <td>...</td>\n",
       "      <td>0</td>\n",
       "      <td>0</td>\n",
       "      <td>0</td>\n",
       "      <td>0</td>\n",
       "      <td>0</td>\n",
       "      <td>1</td>\n",
       "      <td>0</td>\n",
       "      <td>0</td>\n",
       "      <td>0</td>\n",
       "      <td>0</td>\n",
       "    </tr>\n",
       "    <tr>\n",
       "      <th>1</th>\n",
       "      <td>2019-01-01 06:00:00</td>\n",
       "      <td>20.00</td>\n",
       "      <td>테이트 여성 셀린니트3종</td>\n",
       "      <td>의류</td>\n",
       "      <td>39900</td>\n",
       "      <td>4371000.00</td>\n",
       "      <td>1</td>\n",
       "      <td>1</td>\n",
       "      <td>6</td>\n",
       "      <td>0</td>\n",
       "      <td>...</td>\n",
       "      <td>0</td>\n",
       "      <td>0</td>\n",
       "      <td>0</td>\n",
       "      <td>0</td>\n",
       "      <td>0</td>\n",
       "      <td>1</td>\n",
       "      <td>0</td>\n",
       "      <td>0</td>\n",
       "      <td>0</td>\n",
       "      <td>0</td>\n",
       "    </tr>\n",
       "    <tr>\n",
       "      <th>2</th>\n",
       "      <td>2019-01-01 06:20:00</td>\n",
       "      <td>20.00</td>\n",
       "      <td>테이트 남성 셀린니트3종</td>\n",
       "      <td>의류</td>\n",
       "      <td>39900</td>\n",
       "      <td>3262000.00</td>\n",
       "      <td>1</td>\n",
       "      <td>1</td>\n",
       "      <td>6</td>\n",
       "      <td>20</td>\n",
       "      <td>...</td>\n",
       "      <td>0</td>\n",
       "      <td>0</td>\n",
       "      <td>0</td>\n",
       "      <td>0</td>\n",
       "      <td>0</td>\n",
       "      <td>1</td>\n",
       "      <td>0</td>\n",
       "      <td>0</td>\n",
       "      <td>0</td>\n",
       "      <td>0</td>\n",
       "    </tr>\n",
       "    <tr>\n",
       "      <th>3</th>\n",
       "      <td>2019-01-01 06:20:00</td>\n",
       "      <td>20.00</td>\n",
       "      <td>테이트 여성 셀린니트3종</td>\n",
       "      <td>의류</td>\n",
       "      <td>39900</td>\n",
       "      <td>6955000.00</td>\n",
       "      <td>1</td>\n",
       "      <td>1</td>\n",
       "      <td>6</td>\n",
       "      <td>20</td>\n",
       "      <td>...</td>\n",
       "      <td>0</td>\n",
       "      <td>0</td>\n",
       "      <td>0</td>\n",
       "      <td>0</td>\n",
       "      <td>0</td>\n",
       "      <td>1</td>\n",
       "      <td>0</td>\n",
       "      <td>0</td>\n",
       "      <td>0</td>\n",
       "      <td>0</td>\n",
       "    </tr>\n",
       "    <tr>\n",
       "      <th>4</th>\n",
       "      <td>2019-01-01 06:40:00</td>\n",
       "      <td>20.00</td>\n",
       "      <td>테이트 남성 셀린니트3종</td>\n",
       "      <td>의류</td>\n",
       "      <td>39900</td>\n",
       "      <td>6672000.00</td>\n",
       "      <td>1</td>\n",
       "      <td>1</td>\n",
       "      <td>6</td>\n",
       "      <td>40</td>\n",
       "      <td>...</td>\n",
       "      <td>0</td>\n",
       "      <td>0</td>\n",
       "      <td>0</td>\n",
       "      <td>0</td>\n",
       "      <td>0</td>\n",
       "      <td>1</td>\n",
       "      <td>0</td>\n",
       "      <td>0</td>\n",
       "      <td>0</td>\n",
       "      <td>0</td>\n",
       "    </tr>\n",
       "  </tbody>\n",
       "</table>\n",
       "<p>5 rows × 24 columns</p>\n",
       "</div>"
      ],
      "text/plain": [
       "                 방송일시  노출(분)            상품명 상품군   판매단가        취급액  month  day  \\\n",
       "0 2019-01-01 06:00:00  20.00  테이트 남성 셀린니트3종  의류  39900 2099000.00      1    1   \n",
       "1 2019-01-01 06:00:00  20.00  테이트 여성 셀린니트3종  의류  39900 4371000.00      1    1   \n",
       "2 2019-01-01 06:20:00  20.00  테이트 남성 셀린니트3종  의류  39900 3262000.00      1    1   \n",
       "3 2019-01-01 06:20:00  20.00  테이트 여성 셀린니트3종  의류  39900 6955000.00      1    1   \n",
       "4 2019-01-01 06:40:00  20.00  테이트 남성 셀린니트3종  의류  39900 6672000.00      1    1   \n",
       "\n",
       "   hour  minute  ...  상품군_가전  상품군_건강기능  상품군_농수축  상품군_생활용품  상품군_속옷  상품군_의류  \\\n",
       "0     6       0  ...       0         0        0         0       0       1   \n",
       "1     6       0  ...       0         0        0         0       0       1   \n",
       "2     6      20  ...       0         0        0         0       0       1   \n",
       "3     6      20  ...       0         0        0         0       0       1   \n",
       "4     6      40  ...       0         0        0         0       0       1   \n",
       "\n",
       "   상품군_이미용  상품군_잡화  상품군_주방  상품군_침구  \n",
       "0        0       0       0       0  \n",
       "1        0       0       0       0  \n",
       "2        0       0       0       0  \n",
       "3        0       0       0       0  \n",
       "4        0       0       0       0  \n",
       "\n",
       "[5 rows x 24 columns]"
      ]
     },
     "execution_count": 11,
     "metadata": {},
     "output_type": "execute_result"
    }
   ],
   "source": [
    "# pd.get_dummies(sales[\"상품군\"],prefix = \"상품군\")\n",
    "sales = pd.concat([sales,pd.get_dummies(sales[\"상품군\"],prefix = \"상품군\")],axis=1)\n",
    "sales.head()\n",
    "\n"
   ]
  },
  {
   "cell_type": "code",
   "execution_count": null,
   "metadata": {},
   "outputs": [],
   "source": []
  },
  {
   "cell_type": "code",
   "execution_count": null,
   "metadata": {},
   "outputs": [],
   "source": []
  },
  {
   "cell_type": "code",
   "execution_count": null,
   "metadata": {},
   "outputs": [],
   "source": []
  },
  {
   "cell_type": "code",
   "execution_count": null,
   "metadata": {},
   "outputs": [],
   "source": []
  },
  {
   "cell_type": "code",
   "execution_count": null,
   "metadata": {},
   "outputs": [],
   "source": []
  },
  {
   "cell_type": "code",
   "execution_count": null,
   "metadata": {},
   "outputs": [],
   "source": []
  },
  {
   "cell_type": "code",
   "execution_count": null,
   "metadata": {},
   "outputs": [],
   "source": []
  },
  {
   "cell_type": "code",
   "execution_count": 69,
   "metadata": {},
   "outputs": [
    {
     "data": {
      "text/plain": [
       "hour\n",
       "0     1407\n",
       "1     1498\n",
       "2       70\n",
       "6     1329\n",
       "7     1460\n",
       "8     1599\n",
       "9     1553\n",
       "10    1875\n",
       "11    1823\n",
       "12    1746\n",
       "13    1649\n",
       "14    1654\n",
       "15    1592\n",
       "16    1372\n",
       "17    1350\n",
       "18    1162\n",
       "19    1746\n",
       "20    2262\n",
       "21    3013\n",
       "22    3153\n",
       "23    2066\n",
       "Name: 노출(분), dtype: int64"
      ]
     },
     "execution_count": 69,
     "metadata": {},
     "output_type": "execute_result"
    }
   ],
   "source": [
    "sales.groupby([\"hour\"]).count()[\"노출(분)\"]"
   ]
  },
  {
   "cell_type": "code",
   "execution_count": 32,
   "metadata": {},
   "outputs": [],
   "source": [
    "sales[\"판매량\"] = sales[\"취급액\"]/sales[\"판매단가\"]\n",
    "sales = sales[[\"판매량\",\"취급액\",\"weekday\",\"방송일시\",\"방송날짜\",\"holiday\"]]\n",
    "weather = weather[[\"방송일시\",\"season\"]]"
   ]
  },
  {
   "cell_type": "markdown",
   "metadata": {},
   "source": [
    "__상품명이 같은데 판매단가가 다른 경우를 확인해서 price adjustment가 있는지 없는지를 확인__"
   ]
  },
  {
   "cell_type": "code",
   "execution_count": 16,
   "metadata": {
    "hide_input": true,
    "scrolled": true
   },
   "outputs": [
    {
     "data": {
      "text/html": [
       "<div>\n",
       "<style scoped>\n",
       "    .dataframe tbody tr th:only-of-type {\n",
       "        vertical-align: middle;\n",
       "    }\n",
       "\n",
       "    .dataframe tbody tr th {\n",
       "        vertical-align: top;\n",
       "    }\n",
       "\n",
       "    .dataframe thead th {\n",
       "        text-align: right;\n",
       "    }\n",
       "</style>\n",
       "<table border=\"1\" class=\"dataframe\">\n",
       "  <thead>\n",
       "    <tr style=\"text-align: right;\">\n",
       "      <th></th>\n",
       "      <th></th>\n",
       "      <th>month</th>\n",
       "    </tr>\n",
       "    <tr>\n",
       "      <th>상품명</th>\n",
       "      <th>판매단가</th>\n",
       "      <th></th>\n",
       "    </tr>\n",
       "  </thead>\n",
       "  <tbody>\n",
       "    <tr>\n",
       "      <th>뉴트리원 다이어트 구미</th>\n",
       "      <th>59000</th>\n",
       "      <td>60</td>\n",
       "    </tr>\n",
       "    <tr>\n",
       "      <th>[가이거] 블랙 에디션 다이아몬드 워치(남성용)</th>\n",
       "      <th>178000</th>\n",
       "      <td>3</td>\n",
       "    </tr>\n",
       "    <tr>\n",
       "      <th>[가이거] 블랙 에디션 다이아몬드 워치(여성용)</th>\n",
       "      <th>178000</th>\n",
       "      <td>3</td>\n",
       "    </tr>\n",
       "    <tr>\n",
       "      <th>[맛있는 제주]손질 생선 3대세트+흑돼지구이(광어+갈치+고등어</th>\n",
       "      <th>59900</th>\n",
       "      <td>3</td>\n",
       "    </tr>\n",
       "    <tr>\n",
       "      <th>국내제조 오슬로 IH 프라이팬 세트</th>\n",
       "      <th>99000</th>\n",
       "      <td>12</td>\n",
       "    </tr>\n",
       "    <tr>\n",
       "      <th>...</th>\n",
       "      <th>...</th>\n",
       "      <td>...</td>\n",
       "    </tr>\n",
       "    <tr>\n",
       "      <th>효재 화원 자수 광목워싱 침구세트 킹</th>\n",
       "      <th>179000</th>\n",
       "      <td>3</td>\n",
       "    </tr>\n",
       "    <tr>\n",
       "      <th rowspan=\"2\" valign=\"top\">히트융 극세사 퍼융기모 남성 동내의 패키지</th>\n",
       "      <th>49900</th>\n",
       "      <td>3</td>\n",
       "    </tr>\n",
       "    <tr>\n",
       "      <th>69900</th>\n",
       "      <td>42</td>\n",
       "    </tr>\n",
       "    <tr>\n",
       "      <th rowspan=\"2\" valign=\"top\">히트융 극세사 퍼융기모 여성 동내의 패키지</th>\n",
       "      <th>49900</th>\n",
       "      <td>3</td>\n",
       "    </tr>\n",
       "    <tr>\n",
       "      <th>69900</th>\n",
       "      <td>42</td>\n",
       "    </tr>\n",
       "  </tbody>\n",
       "</table>\n",
       "<p>1871 rows × 1 columns</p>\n",
       "</div>"
      ],
      "text/plain": [
       "                                            month\n",
       "상품명                                 판매단가         \n",
       "  뉴트리원 다이어트 구미                      59000      60\n",
       " [가이거] 블랙 에디션 다이아몬드 워치(남성용)         178000      3\n",
       " [가이거] 블랙 에디션 다이아몬드 워치(여성용)         178000      3\n",
       " [맛있는 제주]손질 생선 3대세트+흑돼지구이(광어+갈치+고등어 59900       3\n",
       " 국내제조 오슬로 IH 프라이팬 세트                99000      12\n",
       "...                                           ...\n",
       "효재 화원 자수 광목워싱 침구세트 킹                179000      3\n",
       "히트융 극세사 퍼융기모 남성 동내의 패키지             49900       3\n",
       "                                    69900      42\n",
       "히트융 극세사 퍼융기모 여성 동내의 패키지             49900       3\n",
       "                                    69900      42\n",
       "\n",
       "[1871 rows x 1 columns]"
      ]
     },
     "execution_count": 16,
     "metadata": {},
     "output_type": "execute_result"
    }
   ],
   "source": [
    "sales.groupby([\"상품명\",\"판매단가\"]).count()[[\"month\"]]."
   ]
  },
  {
   "cell_type": "code",
   "execution_count": 35,
   "metadata": {},
   "outputs": [
    {
     "data": {
      "text/html": [
       "<div>\n",
       "<style scoped>\n",
       "    .dataframe tbody tr th:only-of-type {\n",
       "        vertical-align: middle;\n",
       "    }\n",
       "\n",
       "    .dataframe tbody tr th {\n",
       "        vertical-align: top;\n",
       "    }\n",
       "\n",
       "    .dataframe thead th {\n",
       "        text-align: right;\n",
       "    }\n",
       "</style>\n",
       "<table border=\"1\" class=\"dataframe\">\n",
       "  <thead>\n",
       "    <tr style=\"text-align: right;\">\n",
       "      <th></th>\n",
       "      <th>상품명</th>\n",
       "      <th>판매단가</th>\n",
       "    </tr>\n",
       "  </thead>\n",
       "  <tbody>\n",
       "    <tr>\n",
       "      <th>0</th>\n",
       "      <td>테이트 남성 셀린니트3종</td>\n",
       "      <td>39900</td>\n",
       "    </tr>\n",
       "    <tr>\n",
       "      <th>1</th>\n",
       "      <td>테이트 여성 셀린니트3종</td>\n",
       "      <td>39900</td>\n",
       "    </tr>\n",
       "    <tr>\n",
       "      <th>2</th>\n",
       "      <td>테이트 남성 셀린니트3종</td>\n",
       "      <td>39900</td>\n",
       "    </tr>\n",
       "    <tr>\n",
       "      <th>3</th>\n",
       "      <td>테이트 여성 셀린니트3종</td>\n",
       "      <td>39900</td>\n",
       "    </tr>\n",
       "    <tr>\n",
       "      <th>4</th>\n",
       "      <td>테이트 남성 셀린니트3종</td>\n",
       "      <td>39900</td>\n",
       "    </tr>\n",
       "    <tr>\n",
       "      <th>...</th>\n",
       "      <td>...</td>\n",
       "      <td>...</td>\n",
       "    </tr>\n",
       "    <tr>\n",
       "      <th>35374</th>\n",
       "      <td>일시불쿠첸압력밥솥 6인용</td>\n",
       "      <td>148000</td>\n",
       "    </tr>\n",
       "    <tr>\n",
       "      <th>35375</th>\n",
       "      <td>무이자쿠첸압력밥솥 10인용</td>\n",
       "      <td>178000</td>\n",
       "    </tr>\n",
       "    <tr>\n",
       "      <th>35376</th>\n",
       "      <td>일시불쿠첸압력밥솥 10인용</td>\n",
       "      <td>168000</td>\n",
       "    </tr>\n",
       "    <tr>\n",
       "      <th>35377</th>\n",
       "      <td>무이자쿠첸압력밥솥 6인용</td>\n",
       "      <td>158000</td>\n",
       "    </tr>\n",
       "    <tr>\n",
       "      <th>35378</th>\n",
       "      <td>일시불쿠첸압력밥솥 6인용</td>\n",
       "      <td>148000</td>\n",
       "    </tr>\n",
       "  </tbody>\n",
       "</table>\n",
       "<p>35379 rows × 2 columns</p>\n",
       "</div>"
      ],
      "text/plain": [
       "                  상품명    판매단가\n",
       "0       테이트 남성 셀린니트3종   39900\n",
       "1       테이트 여성 셀린니트3종   39900\n",
       "2       테이트 남성 셀린니트3종   39900\n",
       "3       테이트 여성 셀린니트3종   39900\n",
       "4       테이트 남성 셀린니트3종   39900\n",
       "...               ...     ...\n",
       "35374   일시불쿠첸압력밥솥 6인용  148000\n",
       "35375  무이자쿠첸압력밥솥 10인용  178000\n",
       "35376  일시불쿠첸압력밥솥 10인용  168000\n",
       "35377   무이자쿠첸압력밥솥 6인용  158000\n",
       "35378   일시불쿠첸압력밥솥 6인용  148000\n",
       "\n",
       "[35379 rows x 2 columns]"
      ]
     },
     "execution_count": 35,
     "metadata": {},
     "output_type": "execute_result"
    }
   ],
   "source": [
    "new_df = sales[[\"상품명\",\"판매단가\"]]\n",
    "new_df"
   ]
  },
  {
   "cell_type": "code",
   "execution_count": 45,
   "metadata": {},
   "outputs": [
    {
     "data": {
      "application/vnd.plotly.v1+json": {
       "config": {
        "linkText": "Export to plot.ly",
        "plotlyServerURL": "https://plot.ly",
        "showLink": true
       },
       "data": [
        {
         "marker": {
          "color": "rgba(255, 153, 51, 0.6)",
          "line": {
           "color": "rgba(255, 153, 51, 1.0)",
           "width": 1
          }
         },
         "name": "판매량",
         "orientation": "v",
         "text": "",
         "type": "bar",
         "uid": "9749e614-6a40-45b6-8866-8fbb2978783e",
         "x": [
          0,
          1
         ],
         "y": [
          10437143.800132485,
          700069.9126114494
         ]
        }
       ],
       "layout": {
        "legend": {
         "bgcolor": "#F5F6F9",
         "font": {
          "color": "#4D5663"
         }
        },
        "paper_bgcolor": "#F5F6F9",
        "plot_bgcolor": "#F5F6F9",
        "title": {
         "font": {
          "color": "#4D5663"
         }
        },
        "xaxis": {
         "gridcolor": "#E1E5ED",
         "showgrid": true,
         "tickfont": {
          "color": "#4D5663"
         },
         "title": {
          "font": {
           "color": "#4D5663"
          },
          "text": ""
         },
         "zerolinecolor": "#E1E5ED"
        },
        "yaxis": {
         "gridcolor": "#E1E5ED",
         "showgrid": true,
         "tickfont": {
          "color": "#4D5663"
         },
         "title": {
          "font": {
           "color": "#4D5663"
          },
          "text": ""
         },
         "zerolinecolor": "#E1E5ED"
        }
       }
      },
      "text/html": [
       "<div>\n",
       "        \n",
       "        \n",
       "            <div id=\"0ac8d5f3-16a2-4995-8612-e61a16ec920b\" class=\"plotly-graph-div\" style=\"height:525px; width:100%;\"></div>\n",
       "            <script type=\"text/javascript\">\n",
       "                require([\"plotly\"], function(Plotly) {\n",
       "                    window.PLOTLYENV=window.PLOTLYENV || {};\n",
       "                    window.PLOTLYENV.BASE_URL='https://plot.ly';\n",
       "                    \n",
       "                if (document.getElementById(\"0ac8d5f3-16a2-4995-8612-e61a16ec920b\")) {\n",
       "                    Plotly.newPlot(\n",
       "                        '0ac8d5f3-16a2-4995-8612-e61a16ec920b',\n",
       "                        [{\"marker\": {\"color\": \"rgba(255, 153, 51, 0.6)\", \"line\": {\"color\": \"rgba(255, 153, 51, 1.0)\", \"width\": 1}}, \"name\": \"\\ud310\\ub9e4\\ub7c9\", \"orientation\": \"v\", \"text\": \"\", \"type\": \"bar\", \"uid\": \"9749e614-6a40-45b6-8866-8fbb2978783e\", \"x\": [0.0, 1.0], \"y\": [10437143.800132485, 700069.9126114494]}],\n",
       "                        {\"legend\": {\"bgcolor\": \"#F5F6F9\", \"font\": {\"color\": \"#4D5663\"}}, \"paper_bgcolor\": \"#F5F6F9\", \"plot_bgcolor\": \"#F5F6F9\", \"title\": {\"font\": {\"color\": \"#4D5663\"}}, \"xaxis\": {\"gridcolor\": \"#E1E5ED\", \"showgrid\": true, \"tickfont\": {\"color\": \"#4D5663\"}, \"title\": {\"font\": {\"color\": \"#4D5663\"}, \"text\": \"\"}, \"zerolinecolor\": \"#E1E5ED\"}, \"yaxis\": {\"gridcolor\": \"#E1E5ED\", \"showgrid\": true, \"tickfont\": {\"color\": \"#4D5663\"}, \"title\": {\"font\": {\"color\": \"#4D5663\"}, \"text\": \"\"}, \"zerolinecolor\": \"#E1E5ED\"}},\n",
       "                        {\"showLink\": true, \"linkText\": \"Export to plot.ly\", \"plotlyServerURL\": \"https://plot.ly\", \"responsive\": true}\n",
       "                    ).then(function(){\n",
       "                            \n",
       "var gd = document.getElementById('0ac8d5f3-16a2-4995-8612-e61a16ec920b');\n",
       "var x = new MutationObserver(function (mutations, observer) {{\n",
       "        var display = window.getComputedStyle(gd).display;\n",
       "        if (!display || display === 'none') {{\n",
       "            console.log([gd, 'removed!']);\n",
       "            Plotly.purge(gd);\n",
       "            observer.disconnect();\n",
       "        }}\n",
       "}});\n",
       "\n",
       "// Listen for the removal of the full notebook cells\n",
       "var notebookContainer = gd.closest('#notebook-container');\n",
       "if (notebookContainer) {{\n",
       "    x.observe(notebookContainer, {childList: true});\n",
       "}}\n",
       "\n",
       "// Listen for the clearing of the current output cell\n",
       "var outputEl = gd.closest('.output');\n",
       "if (outputEl) {{\n",
       "    x.observe(outputEl, {childList: true});\n",
       "}}\n",
       "\n",
       "                        })\n",
       "                };\n",
       "                });\n",
       "            </script>\n",
       "        </div>"
      ]
     },
     "metadata": {},
     "output_type": "display_data"
    },
    {
     "data": {
      "application/vnd.plotly.v1+json": {
       "config": {
        "linkText": "Export to plot.ly",
        "plotlyServerURL": "https://plot.ly",
        "showLink": true
       },
       "data": [
        {
         "marker": {
          "color": "rgba(255, 153, 51, 0.6)",
          "line": {
           "color": "rgba(255, 153, 51, 1.0)",
           "width": 1
          }
         },
         "name": "판매량",
         "orientation": "v",
         "text": "",
         "type": "bar",
         "uid": "8afb6423-5431-477e-b30e-c4623f545109",
         "x": [
          0,
          1
         ],
         "y": [
          430.564215501643,
          383.7424299432062
         ]
        }
       ],
       "layout": {
        "legend": {
         "bgcolor": "#F5F6F9",
         "font": {
          "color": "#4D5663"
         }
        },
        "paper_bgcolor": "#F5F6F9",
        "plot_bgcolor": "#F5F6F9",
        "title": {
         "font": {
          "color": "#4D5663"
         }
        },
        "xaxis": {
         "gridcolor": "#E1E5ED",
         "showgrid": true,
         "tickfont": {
          "color": "#4D5663"
         },
         "title": {
          "font": {
           "color": "#4D5663"
          },
          "text": ""
         },
         "zerolinecolor": "#E1E5ED"
        },
        "yaxis": {
         "gridcolor": "#E1E5ED",
         "showgrid": true,
         "tickfont": {
          "color": "#4D5663"
         },
         "title": {
          "font": {
           "color": "#4D5663"
          },
          "text": ""
         },
         "zerolinecolor": "#E1E5ED"
        }
       }
      },
      "text/html": [
       "<div>\n",
       "        \n",
       "        \n",
       "            <div id=\"09c17f17-11fe-4ef1-b10c-36a80da63045\" class=\"plotly-graph-div\" style=\"height:525px; width:100%;\"></div>\n",
       "            <script type=\"text/javascript\">\n",
       "                require([\"plotly\"], function(Plotly) {\n",
       "                    window.PLOTLYENV=window.PLOTLYENV || {};\n",
       "                    window.PLOTLYENV.BASE_URL='https://plot.ly';\n",
       "                    \n",
       "                if (document.getElementById(\"09c17f17-11fe-4ef1-b10c-36a80da63045\")) {\n",
       "                    Plotly.newPlot(\n",
       "                        '09c17f17-11fe-4ef1-b10c-36a80da63045',\n",
       "                        [{\"marker\": {\"color\": \"rgba(255, 153, 51, 0.6)\", \"line\": {\"color\": \"rgba(255, 153, 51, 1.0)\", \"width\": 1}}, \"name\": \"\\ud310\\ub9e4\\ub7c9\", \"orientation\": \"v\", \"text\": \"\", \"type\": \"bar\", \"uid\": \"8afb6423-5431-477e-b30e-c4623f545109\", \"x\": [0.0, 1.0], \"y\": [430.564215501643, 383.7424299432062]}],\n",
       "                        {\"legend\": {\"bgcolor\": \"#F5F6F9\", \"font\": {\"color\": \"#4D5663\"}}, \"paper_bgcolor\": \"#F5F6F9\", \"plot_bgcolor\": \"#F5F6F9\", \"title\": {\"font\": {\"color\": \"#4D5663\"}}, \"xaxis\": {\"gridcolor\": \"#E1E5ED\", \"showgrid\": true, \"tickfont\": {\"color\": \"#4D5663\"}, \"title\": {\"font\": {\"color\": \"#4D5663\"}, \"text\": \"\"}, \"zerolinecolor\": \"#E1E5ED\"}, \"yaxis\": {\"gridcolor\": \"#E1E5ED\", \"showgrid\": true, \"tickfont\": {\"color\": \"#4D5663\"}, \"title\": {\"font\": {\"color\": \"#4D5663\"}, \"text\": \"\"}, \"zerolinecolor\": \"#E1E5ED\"}},\n",
       "                        {\"showLink\": true, \"linkText\": \"Export to plot.ly\", \"plotlyServerURL\": \"https://plot.ly\", \"responsive\": true}\n",
       "                    ).then(function(){\n",
       "                            \n",
       "var gd = document.getElementById('09c17f17-11fe-4ef1-b10c-36a80da63045');\n",
       "var x = new MutationObserver(function (mutations, observer) {{\n",
       "        var display = window.getComputedStyle(gd).display;\n",
       "        if (!display || display === 'none') {{\n",
       "            console.log([gd, 'removed!']);\n",
       "            Plotly.purge(gd);\n",
       "            observer.disconnect();\n",
       "        }}\n",
       "}});\n",
       "\n",
       "// Listen for the removal of the full notebook cells\n",
       "var notebookContainer = gd.closest('#notebook-container');\n",
       "if (notebookContainer) {{\n",
       "    x.observe(notebookContainer, {childList: true});\n",
       "}}\n",
       "\n",
       "// Listen for the clearing of the current output cell\n",
       "var outputEl = gd.closest('.output');\n",
       "if (outputEl) {{\n",
       "    x.observe(outputEl, {childList: true});\n",
       "}}\n",
       "\n",
       "                        })\n",
       "                };\n",
       "                });\n",
       "            </script>\n",
       "        </div>"
      ]
     },
     "metadata": {},
     "output_type": "display_data"
    }
   ],
   "source": [
    "\n",
    "name_dict= {}\n",
    "change_dict={}\n",
    "for i,row in sales.iterrows():\n",
    "    product_name = row[\"상품명\"]\n",
    "    product_price = row[\"판매단가\"]\n",
    "    if (product_name in name_dict.keys()) :\n",
    "        if  (product_price >= name_dict[product_name]):\n",
    "            sales.loc[i,\"price_adj여부\"] = 0 \n",
    "            continue\n",
    "        else : \n",
    "            sales.loc[i,\"price_adj여부\"] = 1\n",
    "            change_dict[product_name] = product_price\n",
    "\n",
    "    else : \n",
    "        sales.loc[i,\"price_adj여부\"] = 0 \n",
    "        name_dict[product_name] = product_price\n",
    "\n",
    "\n",
    "sales.groupby([\"price_adj여부\"]).sum()[\"판매량\"].iplot(kind=\"bar\")\n",
    "sales.groupby([\"price_adj여부\"]).std()[\"판매량\"].iplot(kind=\"bar\")"
   ]
  },
  {
   "cell_type": "code",
   "execution_count": 52,
   "metadata": {
    "scrolled": true
   },
   "outputs": [
    {
     "data": {
      "application/vnd.plotly.v1+json": {
       "config": {
        "linkText": "Export to plot.ly",
        "plotlyServerURL": "https://plot.ly",
        "showLink": true
       },
       "data": [
        {
         "marker": {
          "color": "rgba(255, 153, 51, 0.6)",
          "line": {
           "color": "rgba(255, 153, 51, 1.0)",
           "width": 1
          }
         },
         "name": "판매량",
         "orientation": "v",
         "text": "",
         "type": "bar",
         "uid": "5f21824e-71f6-4f69-a899-0d661b119815",
         "x": [
          0,
          1
         ],
         "y": [
          327.142170264935,
          201.45896765797104
         ]
        }
       ],
       "layout": {
        "legend": {
         "bgcolor": "#F5F6F9",
         "font": {
          "color": "#4D5663"
         }
        },
        "paper_bgcolor": "#F5F6F9",
        "plot_bgcolor": "#F5F6F9",
        "title": {
         "font": {
          "color": "#4D5663"
         }
        },
        "xaxis": {
         "gridcolor": "#E1E5ED",
         "showgrid": true,
         "tickfont": {
          "color": "#4D5663"
         },
         "title": {
          "font": {
           "color": "#4D5663"
          },
          "text": ""
         },
         "zerolinecolor": "#E1E5ED"
        },
        "yaxis": {
         "gridcolor": "#E1E5ED",
         "showgrid": true,
         "tickfont": {
          "color": "#4D5663"
         },
         "title": {
          "font": {
           "color": "#4D5663"
          },
          "text": ""
         },
         "zerolinecolor": "#E1E5ED"
        }
       }
      },
      "text/html": [
       "<div>\n",
       "        \n",
       "        \n",
       "            <div id=\"5c9c5283-bfdc-4f22-8915-6489da1f0999\" class=\"plotly-graph-div\" style=\"height:525px; width:100%;\"></div>\n",
       "            <script type=\"text/javascript\">\n",
       "                require([\"plotly\"], function(Plotly) {\n",
       "                    window.PLOTLYENV=window.PLOTLYENV || {};\n",
       "                    window.PLOTLYENV.BASE_URL='https://plot.ly';\n",
       "                    \n",
       "                if (document.getElementById(\"5c9c5283-bfdc-4f22-8915-6489da1f0999\")) {\n",
       "                    Plotly.newPlot(\n",
       "                        '5c9c5283-bfdc-4f22-8915-6489da1f0999',\n",
       "                        [{\"marker\": {\"color\": \"rgba(255, 153, 51, 0.6)\", \"line\": {\"color\": \"rgba(255, 153, 51, 1.0)\", \"width\": 1}}, \"name\": \"\\ud310\\ub9e4\\ub7c9\", \"orientation\": \"v\", \"text\": \"\", \"type\": \"bar\", \"uid\": \"5f21824e-71f6-4f69-a899-0d661b119815\", \"x\": [0.0, 1.0], \"y\": [327.142170264935, 201.45896765797104]}],\n",
       "                        {\"legend\": {\"bgcolor\": \"#F5F6F9\", \"font\": {\"color\": \"#4D5663\"}}, \"paper_bgcolor\": \"#F5F6F9\", \"plot_bgcolor\": \"#F5F6F9\", \"title\": {\"font\": {\"color\": \"#4D5663\"}}, \"xaxis\": {\"gridcolor\": \"#E1E5ED\", \"showgrid\": true, \"tickfont\": {\"color\": \"#4D5663\"}, \"title\": {\"font\": {\"color\": \"#4D5663\"}, \"text\": \"\"}, \"zerolinecolor\": \"#E1E5ED\"}, \"yaxis\": {\"gridcolor\": \"#E1E5ED\", \"showgrid\": true, \"tickfont\": {\"color\": \"#4D5663\"}, \"title\": {\"font\": {\"color\": \"#4D5663\"}, \"text\": \"\"}, \"zerolinecolor\": \"#E1E5ED\"}},\n",
       "                        {\"showLink\": true, \"linkText\": \"Export to plot.ly\", \"plotlyServerURL\": \"https://plot.ly\", \"responsive\": true}\n",
       "                    ).then(function(){\n",
       "                            \n",
       "var gd = document.getElementById('5c9c5283-bfdc-4f22-8915-6489da1f0999');\n",
       "var x = new MutationObserver(function (mutations, observer) {{\n",
       "        var display = window.getComputedStyle(gd).display;\n",
       "        if (!display || display === 'none') {{\n",
       "            console.log([gd, 'removed!']);\n",
       "            Plotly.purge(gd);\n",
       "            observer.disconnect();\n",
       "        }}\n",
       "}});\n",
       "\n",
       "// Listen for the removal of the full notebook cells\n",
       "var notebookContainer = gd.closest('#notebook-container');\n",
       "if (notebookContainer) {{\n",
       "    x.observe(notebookContainer, {childList: true});\n",
       "}}\n",
       "\n",
       "// Listen for the clearing of the current output cell\n",
       "var outputEl = gd.closest('.output');\n",
       "if (outputEl) {{\n",
       "    x.observe(outputEl, {childList: true});\n",
       "}}\n",
       "\n",
       "                        })\n",
       "                };\n",
       "                });\n",
       "            </script>\n",
       "        </div>"
      ]
     },
     "metadata": {},
     "output_type": "display_data"
    },
    {
     "data": {
      "application/vnd.plotly.v1+json": {
       "config": {
        "linkText": "Export to plot.ly",
        "plotlyServerURL": "https://plot.ly",
        "showLink": true
       },
       "data": [
        {
         "marker": {
          "color": "rgba(255, 153, 51, 0.6)",
          "line": {
           "color": "rgba(255, 153, 51, 1.0)",
           "width": 1
          }
         },
         "name": "판매량",
         "orientation": "v",
         "text": "",
         "type": "bar",
         "uid": "d91aa15a-2746-4ba4-9672-2b360830df9a",
         "x": [
          0,
          1
         ],
         "y": [
          430.564215501643,
          383.7424299432062
         ]
        }
       ],
       "layout": {
        "legend": {
         "bgcolor": "#F5F6F9",
         "font": {
          "color": "#4D5663"
         }
        },
        "paper_bgcolor": "#F5F6F9",
        "plot_bgcolor": "#F5F6F9",
        "title": {
         "font": {
          "color": "#4D5663"
         }
        },
        "xaxis": {
         "gridcolor": "#E1E5ED",
         "showgrid": true,
         "tickfont": {
          "color": "#4D5663"
         },
         "title": {
          "font": {
           "color": "#4D5663"
          },
          "text": ""
         },
         "zerolinecolor": "#E1E5ED"
        },
        "yaxis": {
         "gridcolor": "#E1E5ED",
         "showgrid": true,
         "tickfont": {
          "color": "#4D5663"
         },
         "title": {
          "font": {
           "color": "#4D5663"
          },
          "text": ""
         },
         "zerolinecolor": "#E1E5ED"
        }
       }
      },
      "text/html": [
       "<div>\n",
       "        \n",
       "        \n",
       "            <div id=\"14b01388-8eb9-45c2-acca-5d0cea9fc610\" class=\"plotly-graph-div\" style=\"height:525px; width:100%;\"></div>\n",
       "            <script type=\"text/javascript\">\n",
       "                require([\"plotly\"], function(Plotly) {\n",
       "                    window.PLOTLYENV=window.PLOTLYENV || {};\n",
       "                    window.PLOTLYENV.BASE_URL='https://plot.ly';\n",
       "                    \n",
       "                if (document.getElementById(\"14b01388-8eb9-45c2-acca-5d0cea9fc610\")) {\n",
       "                    Plotly.newPlot(\n",
       "                        '14b01388-8eb9-45c2-acca-5d0cea9fc610',\n",
       "                        [{\"marker\": {\"color\": \"rgba(255, 153, 51, 0.6)\", \"line\": {\"color\": \"rgba(255, 153, 51, 1.0)\", \"width\": 1}}, \"name\": \"\\ud310\\ub9e4\\ub7c9\", \"orientation\": \"v\", \"text\": \"\", \"type\": \"bar\", \"uid\": \"d91aa15a-2746-4ba4-9672-2b360830df9a\", \"x\": [0.0, 1.0], \"y\": [430.564215501643, 383.7424299432062]}],\n",
       "                        {\"legend\": {\"bgcolor\": \"#F5F6F9\", \"font\": {\"color\": \"#4D5663\"}}, \"paper_bgcolor\": \"#F5F6F9\", \"plot_bgcolor\": \"#F5F6F9\", \"title\": {\"font\": {\"color\": \"#4D5663\"}}, \"xaxis\": {\"gridcolor\": \"#E1E5ED\", \"showgrid\": true, \"tickfont\": {\"color\": \"#4D5663\"}, \"title\": {\"font\": {\"color\": \"#4D5663\"}, \"text\": \"\"}, \"zerolinecolor\": \"#E1E5ED\"}, \"yaxis\": {\"gridcolor\": \"#E1E5ED\", \"showgrid\": true, \"tickfont\": {\"color\": \"#4D5663\"}, \"title\": {\"font\": {\"color\": \"#4D5663\"}, \"text\": \"\"}, \"zerolinecolor\": \"#E1E5ED\"}},\n",
       "                        {\"showLink\": true, \"linkText\": \"Export to plot.ly\", \"plotlyServerURL\": \"https://plot.ly\", \"responsive\": true}\n",
       "                    ).then(function(){\n",
       "                            \n",
       "var gd = document.getElementById('14b01388-8eb9-45c2-acca-5d0cea9fc610');\n",
       "var x = new MutationObserver(function (mutations, observer) {{\n",
       "        var display = window.getComputedStyle(gd).display;\n",
       "        if (!display || display === 'none') {{\n",
       "            console.log([gd, 'removed!']);\n",
       "            Plotly.purge(gd);\n",
       "            observer.disconnect();\n",
       "        }}\n",
       "}});\n",
       "\n",
       "// Listen for the removal of the full notebook cells\n",
       "var notebookContainer = gd.closest('#notebook-container');\n",
       "if (notebookContainer) {{\n",
       "    x.observe(notebookContainer, {childList: true});\n",
       "}}\n",
       "\n",
       "// Listen for the clearing of the current output cell\n",
       "var outputEl = gd.closest('.output');\n",
       "if (outputEl) {{\n",
       "    x.observe(outputEl, {childList: true});\n",
       "}}\n",
       "\n",
       "                        })\n",
       "                };\n",
       "                });\n",
       "            </script>\n",
       "        </div>"
      ]
     },
     "metadata": {},
     "output_type": "display_data"
    }
   ],
   "source": [
    "sales.groupby([\"price_adj여부\"]).mean()[\"판매량\"].iplot(kind=\"bar\")\n",
    "sales.groupby([\"price_adj여부\"]).std()[\"판매량\"].iplot(kind=\"bar\")"
   ]
  },
  {
   "cell_type": "code",
   "execution_count": null,
   "metadata": {},
   "outputs": [],
   "source": []
  },
  {
   "cell_type": "code",
   "execution_count": null,
   "metadata": {},
   "outputs": [],
   "source": []
  },
  {
   "cell_type": "code",
   "execution_count": null,
   "metadata": {},
   "outputs": [],
   "source": []
  },
  {
   "cell_type": "code",
   "execution_count": null,
   "metadata": {},
   "outputs": [],
   "source": [
    "cha"
   ]
  },
  {
   "cell_type": "code",
   "execution_count": 65,
   "metadata": {},
   "outputs": [
    {
     "data": {
      "application/vnd.plotly.v1+json": {
       "config": {
        "linkText": "Export to plot.ly",
        "plotlyServerURL": "https://plot.ly",
        "showLink": true
       },
       "data": [
        {
         "marker": {
          "color": "rgba(255, 153, 51, 0.6)",
          "line": {
           "color": "rgba(255, 153, 51, 1.0)",
           "width": 1
          }
         },
         "name": "판매량",
         "orientation": "v",
         "text": "",
         "type": "bar",
         "uid": "1be3db26-a236-4dc0-ae3b-386eb2b0ef54",
         "x": [
          29800,
          39800
         ],
         "y": [
          698.255033557047,
          429.748743718593
         ]
        }
       ],
       "layout": {
        "legend": {
         "bgcolor": "#F5F6F9",
         "font": {
          "color": "#4D5663"
         }
        },
        "paper_bgcolor": "#F5F6F9",
        "plot_bgcolor": "#F5F6F9",
        "title": {
         "font": {
          "color": "#4D5663"
         }
        },
        "xaxis": {
         "gridcolor": "#E1E5ED",
         "showgrid": true,
         "tickfont": {
          "color": "#4D5663"
         },
         "title": {
          "font": {
           "color": "#4D5663"
          },
          "text": ""
         },
         "zerolinecolor": "#E1E5ED"
        },
        "yaxis": {
         "gridcolor": "#E1E5ED",
         "showgrid": true,
         "tickfont": {
          "color": "#4D5663"
         },
         "title": {
          "font": {
           "color": "#4D5663"
          },
          "text": ""
         },
         "zerolinecolor": "#E1E5ED"
        }
       }
      },
      "text/html": [
       "<div>\n",
       "        \n",
       "        \n",
       "            <div id=\"26f4d1f2-7e3c-4d58-bdcf-2bbb292e779f\" class=\"plotly-graph-div\" style=\"height:525px; width:100%;\"></div>\n",
       "            <script type=\"text/javascript\">\n",
       "                require([\"plotly\"], function(Plotly) {\n",
       "                    window.PLOTLYENV=window.PLOTLYENV || {};\n",
       "                    window.PLOTLYENV.BASE_URL='https://plot.ly';\n",
       "                    \n",
       "                if (document.getElementById(\"26f4d1f2-7e3c-4d58-bdcf-2bbb292e779f\")) {\n",
       "                    Plotly.newPlot(\n",
       "                        '26f4d1f2-7e3c-4d58-bdcf-2bbb292e779f',\n",
       "                        [{\"marker\": {\"color\": \"rgba(255, 153, 51, 0.6)\", \"line\": {\"color\": \"rgba(255, 153, 51, 1.0)\", \"width\": 1}}, \"name\": \"\\ud310\\ub9e4\\ub7c9\", \"orientation\": \"v\", \"text\": \"\", \"type\": \"bar\", \"uid\": \"1be3db26-a236-4dc0-ae3b-386eb2b0ef54\", \"x\": [29800, 39800], \"y\": [698.255033557047, 429.748743718593]}],\n",
       "                        {\"legend\": {\"bgcolor\": \"#F5F6F9\", \"font\": {\"color\": \"#4D5663\"}}, \"paper_bgcolor\": \"#F5F6F9\", \"plot_bgcolor\": \"#F5F6F9\", \"title\": {\"font\": {\"color\": \"#4D5663\"}}, \"xaxis\": {\"gridcolor\": \"#E1E5ED\", \"showgrid\": true, \"tickfont\": {\"color\": \"#4D5663\"}, \"title\": {\"font\": {\"color\": \"#4D5663\"}, \"text\": \"\"}, \"zerolinecolor\": \"#E1E5ED\"}, \"yaxis\": {\"gridcolor\": \"#E1E5ED\", \"showgrid\": true, \"tickfont\": {\"color\": \"#4D5663\"}, \"title\": {\"font\": {\"color\": \"#4D5663\"}, \"text\": \"\"}, \"zerolinecolor\": \"#E1E5ED\"}},\n",
       "                        {\"showLink\": true, \"linkText\": \"Export to plot.ly\", \"plotlyServerURL\": \"https://plot.ly\", \"responsive\": true}\n",
       "                    ).then(function(){\n",
       "                            \n",
       "var gd = document.getElementById('26f4d1f2-7e3c-4d58-bdcf-2bbb292e779f');\n",
       "var x = new MutationObserver(function (mutations, observer) {{\n",
       "        var display = window.getComputedStyle(gd).display;\n",
       "        if (!display || display === 'none') {{\n",
       "            console.log([gd, 'removed!']);\n",
       "            Plotly.purge(gd);\n",
       "            observer.disconnect();\n",
       "        }}\n",
       "}});\n",
       "\n",
       "// Listen for the removal of the full notebook cells\n",
       "var notebookContainer = gd.closest('#notebook-container');\n",
       "if (notebookContainer) {{\n",
       "    x.observe(notebookContainer, {childList: true});\n",
       "}}\n",
       "\n",
       "// Listen for the clearing of the current output cell\n",
       "var outputEl = gd.closest('.output');\n",
       "if (outputEl) {{\n",
       "    x.observe(outputEl, {childList: true});\n",
       "}}\n",
       "\n",
       "                        })\n",
       "                };\n",
       "                });\n",
       "            </script>\n",
       "        </div>"
      ]
     },
     "metadata": {},
     "output_type": "display_data"
    }
   ],
   "source": [
    "sales[sales[\"상품명\"]==\"에펨 여성 미들퍼부츠\"][[\"판매단가\",\"판매량\"]].groupby([\"판매단가\"]).sum()[\"판매량\"].iplot(kind=\"bar\")"
   ]
  },
  {
   "cell_type": "code",
   "execution_count": null,
   "metadata": {},
   "outputs": [],
   "source": []
  },
  {
   "cell_type": "code",
   "execution_count": 55,
   "metadata": {},
   "outputs": [
    {
     "data": {
      "text/plain": [
       "{'천수봉명인 선재 전통 메주세트': 96000,\n",
       " '마리노블 밍크 롱코트': 399000,\n",
       " '에펨 여성 미들퍼부츠': 29800,\n",
       " '에펨 남성 미들퍼부츠': 39800,\n",
       " '보코 리버시블 무스탕': 69000,\n",
       " '메시제이 퀼팅코트+퍼베스트': 59000,\n",
       " '보코 폭스퍼구스다운 롱패딩': 159000,\n",
       " 'K-SWISS 남성약기모팬츠3종': 49900,\n",
       " '보코 니트웨어 풀코디': 49000,\n",
       " '무이자 LG 울트라HD TV 55UK6800HNC': 1330000,\n",
       " '일시불 LG 울트라HD TV 65UK6800HNC': 1690000,\n",
       " '무이자 LG 울트라HD TV 65UK6800HNC': 1920000,\n",
       " '일시불 LG 울트라HD TV 70UK7400KNA': 2400000,\n",
       " '무이자 LG 울트라HD TV 70UK7400KNA': 2690000,\n",
       " '그렉노먼 남성 봄 컬렉션 티셔츠 5종': 49900,\n",
       " '그렉노먼 여성 봄 컬렉션 티셔츠 5종': 49900,\n",
       " '엔셀라두스 밴딩팬츠 3종': 29000,\n",
       " 'CERINI by PAT 남성 어반 카라 티셔츠 4종': 59900,\n",
       " 'K-SWISS 남성에어핏트랙수트': 79900,\n",
       " 'K-SWISS 여성에어핏트랙수트': 79900,\n",
       " '쿠미투니카 퍼펙트클린 레이스 브라팬티': 89900,\n",
       " 'NNF SS트레이닝 세트': 39000,\n",
       " '오모떼 리얼스킨 쉐이핑 브라팬티': 79000,\n",
       " 'K-SWISS 남성이너티셔츠5종': 59900,\n",
       " 'K-SWISS 여성이너티셔츠5종': 59900,\n",
       " 'CERINI by PAT 남성 캐주얼 셔츠 4종': 59900,\n",
       " '스텔라테일러 컴포트 스트레치 팬츠 3종': 29800,\n",
       " '[안드레아바나]리얼카이만 악어 바디 숄더백': 158000,\n",
       " '[안드레아바나]리얼카이만 악어 테일 숄더백': 158000,\n",
       " '네페르티티 유기농 퀸 석류즙 6박스': 77000,\n",
       " '크로커다일 감탄 레이스 브라렛 패키지': 69900,\n",
       " '헤드 파이로라이트 드로즈 10종 패키지': 69000,\n",
       " '헤드 파이로라이트 트렁크 8종 패키지': 69000,\n",
       " '[DIOR] 선글라스 (SIDERAL)': 188000,\n",
       " '스포메틱스 트리플 샤이닝 쿠션(이데베논앰플)': 39900,\n",
       " '2019 S/S 엘리자베스아덴 선글라스 2종': 39900,\n",
       " '릴리젼 PK 남성 티셔츠세트': 39900,\n",
       " '릴리젼 PK 여성 티셔츠세트': 39900,\n",
       " '(일)[보루네오] 피올레 천연소가죽 소파 3인용': 699000,\n",
       " '(일)[보루네오] 피올레 천연소가죽 소파 4인용': 899000,\n",
       " '(무)[보루네오] 피올레 천연소가죽 소파 4인용': 949000,\n",
       " '(무)[보루네오] 피올레 천연소가죽 소파 3인용': 749000,\n",
       " '(일)[보루네오] 피올레 천연소가죽 소파 6인용': 1199000,\n",
       " '(무)[보루네오] 피올레 천연소가죽 소파 6인용': 1249000,\n",
       " '오렐리안 풍기인견 란쥬패키지': 89900,\n",
       " 'K-SWISS 남성PK티셔츠4종': 59900,\n",
       " 'K-SWISS 여성PK티셔츠4종': 59900,\n",
       " '2019 S/S 로베르타 디 까메리노 선글라스': 69800,\n",
       " 'USPA  남성 폴로셔츠 위켄드 컬렉션 3종': 69000,\n",
       " 'USPA  여성 폴로셔츠 위켄드 컬렉션 3종': 69000,\n",
       " 'USPA  남성 아동 반팔 폴로셔츠 3종': 59000,\n",
       " 'USPA  여성 아동 반팔 폴로셔츠 3종': 59000,\n",
       " 'CERINI by PAT 남성 여름 에어윈디 릴렉스 팬츠 3종': 49900,\n",
       " '뷰티플렉스 풍기인견 란쥬패키지': 69900,\n",
       " '뷰티플렉스 풍기인견 브라패키지': 69900,\n",
       " '그렉노먼 여성 폴로셔츠 5종': 49000,\n",
       " '일시불 LG 울트라HD TV 55UK6800HNC': 1200000,\n",
       " '일시불 LG 울트라HD TV 75UK6200KNB': 2700000,\n",
       " '일시불 대우전자 벽걸이 에어컨 DOZ-S06JK': 459000,\n",
       " '무이자 대우전자 벽걸이 에어컨 DOZ-S06JK': 499000,\n",
       " '일시불 대우전자 벽걸이 에어컨TDOZ-S10JK': 759000,\n",
       " '일시불 LG전자 매직스페이스 냉장고': 1359000,\n",
       " '무이자 LG전자 매직스페이스 냉장고': 1499000,\n",
       " '마르엘라로사티 썸머 레이스 블라우스 3종': 49900,\n",
       " '무이자 LG 울트라HD TV 75UK6200KNB': 2990000,\n",
       " '도스문도스 카이만 엠보 소가죽 토트백 1종': 79000,\n",
       " '도스문도스 카이만 엠보 소가죽 체인 숄더백 1종': 59000,\n",
       " '크리스티나앤코 썸머플리츠세트': 39000,\n",
       " '2019 USPA 남성 썸머 화이트라벨 폴로셔츠 3종': 69000,\n",
       " '2019 USPA 여성 썸머 화이트라벨 폴로셔츠 3종': 69000,\n",
       " 'NNF 쉬폰 썸머 앙상블세트': 29000,\n",
       " '푸마 언더셔츠 7종 패키지(1-1차)': 79000,\n",
       " '벨레즈온 브라캡 심리스 원피스 패키지': 29900,\n",
       " '코펜하겐럭스 세미와이드팬츠': 39900,\n",
       " '테이트 남성 오가닉티셔츠6종': 59000,\n",
       " '테이트 여성 오가닉티셔츠8종': 59000,\n",
       " '젠트웰 스트레치 통풍 메쉬 자켓 1종': 39000,\n",
       " '시스마르스 보헤미안 소가죽 샌들+뮬 슬리퍼': 39800,\n",
       " '키친플라워 대용량 디지털 에어프라이어 5L': 79800,\n",
       " '오렐리안 풍기인견 원피스 2종세트': 69900,\n",
       " '마르엘라로사티 린넨 베스트 세트': 39900,\n",
       " '실크트리 풍기인견 쿨란쥬 패키지(19SS)': 69900,\n",
       " '보코 여성 티 블라우스 3종': 29000,\n",
       " '레이프릴 풍기인견 복부 쉐이핑 거들팬티 10종': 49900,\n",
       " '젠트웰 남성 쿨 썸머 티셔츠 4종': 39000,\n",
       " '마르엘라로사티 쿨썸머 데님 3종': 49900,\n",
       " '에펨 남성 소가죽 체인지 샌들': 29800,\n",
       " '에펨 여성 글로스 샌들': 29800,\n",
       " '헤스티지 그레이스 양가죽 코트': 189000,\n",
       " '헤스티지 마론 양가죽 남성집업재킷': 189000,\n",
       " '오가닉뷰티 쿨 번아웃 레이스 란쥬세트': 69900,\n",
       " '아가타 썸머 샌들세트': 39000,\n",
       " '헤드 액티브 브라탑 패키지': 59000,\n",
       " '어반시크릿 썸머 풀코디 3종세트': 29800,\n",
       " 'NNF 와이드데님팬츠 2종': 29000,\n",
       " '[광동제약] 석류 100, 총 5박스': 69900,\n",
       " '실크트리 풍기인견 썸머 풀코디 이지웨어세트': 44000,\n",
       " '바바코코 젤네일스트립 SET': 54800,\n",
       " '레코바 남성 다이얼워킹화세트': 39900,\n",
       " '레코바 여성 다이얼워킹화세트': 39900,\n",
       " '오가닉뷰티 쿨 번아웃 레이스 브라세트': 59900,\n",
       " '레이프릴 퍼펙트 핏 란쥬패키지': 49900,\n",
       " '효재 화원 자수 광목워싱 침구세트 킹': 149000,\n",
       " '효재 화원 자수 광목워싱 침구세트 퀸': 129000,\n",
       " '효재 화원 자수 광목워싱 침구세트 슈퍼싱글': 109000,\n",
       " '[유리진] 19Fall 코튼블렌딩 실켓티블라우스5종': 49000,\n",
       " '예천청결 고춧가루 2kg': 65900,\n",
       " '크리스티나앤코 가디건세트': 29000,\n",
       " '보코 배색 사파리재킷': 39000,\n",
       " '무이자 송도순의 2세대 홈밀맷돌': 158000,\n",
       " '일시불 송도순의 2세대 홈밀맷돌': 149000,\n",
       " \"[페플럼제이] 19Fall' 시그니처 수트+베스트 컬렉션 3종 set\": 89000,\n",
       " '트레스패스 남성 에어 워킹화 + 러닝화 2종': 39800,\n",
       " '트레스패스 여성 에어 워킹화 + 러닝화 2종': 39800,\n",
       " '무이자 LG 울트라HD TV 55UM7900BNA': 1250000,\n",
       " \"[페플럼제이] 19Fall' 소프트 루즈 니트 풀오버 4종\": 59900,\n",
       " '마르엘라로사티 휘메일 풀스킨 밍크 후드코트(앱할인)': 1490000,\n",
       " '마르엘라로사티 나파 휘메일 풀스킨 밍크하프코트 1종': 1490000,\n",
       " '보몽드 엘리 소프트플란넬 침구세트 SK(슈퍼킹)': 69900,\n",
       " '보몽드 엘리 소프트플란넬 침구세트 K(킹)': 59900,\n",
       " '보몽드 엘리 소프트플란넬 침구세트 Q(퀸)': 49900,\n",
       " '보몽드 엘리 소프트플란넬 침구세트 SS(슈퍼싱글)': 39900,\n",
       " '로베르타 디 까메리노 에어 라이트 업 프론트 후크 브라팬티': 59900,\n",
       " 'CERINI by PAT 남성 어반 릴렉스 팬츠3종': 59900,\n",
       " '멋진밥상 흥양농협 햅쌀 20kg': 58900,\n",
       " '쓰임 마호가니 원목도마 4종 세트': 49000,\n",
       " '코치 플라이트백': 159000,\n",
       " '임페리얼 남성 니트4종': 59000,\n",
       " '임페리얼 여성 니트 4종': 59000,\n",
       " '무이자 매직쉐프 10리터 듀얼쿡 에어프라이어': 149000,\n",
       " '일시불 매직쉐프 10리터 듀얼쿡 에어프라이어': 139000,\n",
       " '[K-SWISS] 19 F/W 남성 패딩 트랙수트 2종': 59900,\n",
       " '[K-SWISS] 19 F/W 여성 패딩 트랙수트 2종': 59900,\n",
       " '스튜디오럭스 밴딩팬츠 4종': 39000,\n",
       " '제주바다 7분 손질문어': 49900,\n",
       " '(퀸+퀸)일월 품안애 온수매트': 248000,\n",
       " '(퀸+싱글)일월 품안애 온수매트': 218000,\n",
       " '(킹사이즈)일월 품안애 온수매트': 168000,\n",
       " '(퀸사이즈)일월 품안애 온수매트': 148000,\n",
       " '(싱글사이즈)일월 품안애 온수매트': 118000,\n",
       " '피시원 국내산 손질 대구 8팩 * 매운탕 양념 8팩': 49900,\n",
       " '코몽트 덤블 플리스 자켓 2종': 39900,\n",
       " '알렉스하운드 양모 퀼팅 패딩 자켓': 29900,\n",
       " '알렉스하운드 양모 퀼팅 패딩 세트': 49800,\n",
       " ' 메디아글램 카이만엠보 소가죽 체인숄더백 (+클러치백+폼폼이)': 59000,\n",
       " '아가타 올인원 에디션(앵클부츠1종+플랫슈즈1종)': 49000,\n",
       " '코몽트 기모 웜웨어 4종': 39900,\n",
       " '임페리얼 여성 패딩코트세트': 79000,\n",
       " '임페리얼 남성 패딩코트세트': 79000,\n",
       " '히트융 극세사 퍼융기모 남성 동내의 패키지': 49900,\n",
       " '히트융 극세사 퍼융기모 여성 동내의 패키지': 49900,\n",
       " '크리스티나앤코 이지웨어세트': 59000,\n",
       " '마르엘라로사티 에코무스탕1종': 79000,\n",
       " '아가타 컬러풀에디션(앵클부츠1종+플랫슈즈1종)': 49000,\n",
       " '[RYN] 린 남성 다이얼락 히트 웜 퍼 방한화 2종': 49000,\n",
       " '[RYN] 린 여성 다이얼락 히트 웜 퍼 방한화 2종': 49000,\n",
       " '뉴트리원 다이어트 구미 시즌2': 69000,\n",
       " '루시헨느 레이스 홀리데이 란쥬 패키지': 89900,\n",
       " '크리스티나앤코 리버시블 패딩': 49000,\n",
       " '레스토닉 블루투스 LED 서랍 침대 슈퍼싱글': 599000,\n",
       " '레스토닉 블루투스 LED 서랍 침대 퀸': 649000,\n",
       " '레스토닉 블루투스 LED 서랍 침대 킹': 699000}"
      ]
     },
     "execution_count": 55,
     "metadata": {},
     "output_type": "execute_result"
    }
   ],
   "source": [
    "change_dict"
   ]
  },
  {
   "cell_type": "code",
   "execution_count": 62,
   "metadata": {},
   "outputs": [],
   "source": [
    "new_df = pd.merge(sales,weather,how = \"inner\", on = \"방송날짜\")"
   ]
  },
  {
   "cell_type": "code",
   "execution_count": 63,
   "metadata": {},
   "outputs": [
    {
     "data": {
      "text/html": [
       "<div>\n",
       "<style scoped>\n",
       "    .dataframe tbody tr th:only-of-type {\n",
       "        vertical-align: middle;\n",
       "    }\n",
       "\n",
       "    .dataframe tbody tr th {\n",
       "        vertical-align: top;\n",
       "    }\n",
       "\n",
       "    .dataframe thead th {\n",
       "        text-align: right;\n",
       "    }\n",
       "</style>\n",
       "<table border=\"1\" class=\"dataframe\">\n",
       "  <thead>\n",
       "    <tr style=\"text-align: right;\">\n",
       "      <th></th>\n",
       "      <th>판매량</th>\n",
       "      <th>취급액</th>\n",
       "      <th>weekday</th>\n",
       "      <th>방송일시</th>\n",
       "      <th>방송날짜</th>\n",
       "      <th>holiday</th>\n",
       "      <th>season</th>\n",
       "      <th>방송시간</th>\n",
       "    </tr>\n",
       "  </thead>\n",
       "  <tbody>\n",
       "    <tr>\n",
       "      <th>0</th>\n",
       "      <td>52.61</td>\n",
       "      <td>2099000.00</td>\n",
       "      <td>1</td>\n",
       "      <td>2019-01-01 06:00:00</td>\n",
       "      <td>2019-01-01</td>\n",
       "      <td>1</td>\n",
       "      <td>겨울</td>\n",
       "      <td>06:00</td>\n",
       "    </tr>\n",
       "    <tr>\n",
       "      <th>1</th>\n",
       "      <td>109.55</td>\n",
       "      <td>4371000.00</td>\n",
       "      <td>1</td>\n",
       "      <td>2019-01-01 06:00:00</td>\n",
       "      <td>2019-01-01</td>\n",
       "      <td>1</td>\n",
       "      <td>겨울</td>\n",
       "      <td>06:00</td>\n",
       "    </tr>\n",
       "    <tr>\n",
       "      <th>2</th>\n",
       "      <td>81.75</td>\n",
       "      <td>3262000.00</td>\n",
       "      <td>1</td>\n",
       "      <td>2019-01-01 06:20:00</td>\n",
       "      <td>2019-01-01</td>\n",
       "      <td>1</td>\n",
       "      <td>겨울</td>\n",
       "      <td>06:20</td>\n",
       "    </tr>\n",
       "    <tr>\n",
       "      <th>3</th>\n",
       "      <td>174.31</td>\n",
       "      <td>6955000.00</td>\n",
       "      <td>1</td>\n",
       "      <td>2019-01-01 06:20:00</td>\n",
       "      <td>2019-01-01</td>\n",
       "      <td>1</td>\n",
       "      <td>겨울</td>\n",
       "      <td>06:20</td>\n",
       "    </tr>\n",
       "    <tr>\n",
       "      <th>4</th>\n",
       "      <td>167.22</td>\n",
       "      <td>6672000.00</td>\n",
       "      <td>1</td>\n",
       "      <td>2019-01-01 06:40:00</td>\n",
       "      <td>2019-01-01</td>\n",
       "      <td>1</td>\n",
       "      <td>겨울</td>\n",
       "      <td>06:40</td>\n",
       "    </tr>\n",
       "  </tbody>\n",
       "</table>\n",
       "</div>"
      ],
      "text/plain": [
       "     판매량        취급액  weekday                방송일시        방송날짜  holiday season  \\\n",
       "0  52.61 2099000.00        1 2019-01-01 06:00:00  2019-01-01        1     겨울   \n",
       "1 109.55 4371000.00        1 2019-01-01 06:00:00  2019-01-01        1     겨울   \n",
       "2  81.75 3262000.00        1 2019-01-01 06:20:00  2019-01-01        1     겨울   \n",
       "3 174.31 6955000.00        1 2019-01-01 06:20:00  2019-01-01        1     겨울   \n",
       "4 167.22 6672000.00        1 2019-01-01 06:40:00  2019-01-01        1     겨울   \n",
       "\n",
       "    방송시간  \n",
       "0  06:00  \n",
       "1  06:00  \n",
       "2  06:20  \n",
       "3  06:20  \n",
       "4  06:40  "
      ]
     },
     "execution_count": 63,
     "metadata": {},
     "output_type": "execute_result"
    }
   ],
   "source": [
    "new_df[\"방송시간\"] = new_df[\"방송일시\"].apply(lambda x : datetime.datetime.strftime(x,\"%H:%M\"))\n",
    "new_df.head()"
   ]
  },
  {
   "cell_type": "code",
   "execution_count": 64,
   "metadata": {},
   "outputs": [
    {
     "data": {
      "text/html": [
       "<div>\n",
       "<style scoped>\n",
       "    .dataframe tbody tr th:only-of-type {\n",
       "        vertical-align: middle;\n",
       "    }\n",
       "\n",
       "    .dataframe tbody tr th {\n",
       "        vertical-align: top;\n",
       "    }\n",
       "\n",
       "    .dataframe thead th {\n",
       "        text-align: right;\n",
       "    }\n",
       "</style>\n",
       "<table border=\"1\" class=\"dataframe\">\n",
       "  <thead>\n",
       "    <tr style=\"text-align: right;\">\n",
       "      <th></th>\n",
       "      <th>판매량</th>\n",
       "      <th>취급액</th>\n",
       "      <th>weekday</th>\n",
       "      <th>방송일시</th>\n",
       "      <th>방송날짜</th>\n",
       "      <th>holiday</th>\n",
       "      <th>season</th>\n",
       "      <th>방송시간</th>\n",
       "      <th>Day_off</th>\n",
       "    </tr>\n",
       "  </thead>\n",
       "  <tbody>\n",
       "    <tr>\n",
       "      <th>0</th>\n",
       "      <td>52.61</td>\n",
       "      <td>2099000.00</td>\n",
       "      <td>1</td>\n",
       "      <td>2019-01-01 06:00:00</td>\n",
       "      <td>2019-01-01</td>\n",
       "      <td>1</td>\n",
       "      <td>겨울</td>\n",
       "      <td>06:00</td>\n",
       "      <td>1</td>\n",
       "    </tr>\n",
       "    <tr>\n",
       "      <th>1</th>\n",
       "      <td>109.55</td>\n",
       "      <td>4371000.00</td>\n",
       "      <td>1</td>\n",
       "      <td>2019-01-01 06:00:00</td>\n",
       "      <td>2019-01-01</td>\n",
       "      <td>1</td>\n",
       "      <td>겨울</td>\n",
       "      <td>06:00</td>\n",
       "      <td>1</td>\n",
       "    </tr>\n",
       "    <tr>\n",
       "      <th>2</th>\n",
       "      <td>81.75</td>\n",
       "      <td>3262000.00</td>\n",
       "      <td>1</td>\n",
       "      <td>2019-01-01 06:20:00</td>\n",
       "      <td>2019-01-01</td>\n",
       "      <td>1</td>\n",
       "      <td>겨울</td>\n",
       "      <td>06:20</td>\n",
       "      <td>1</td>\n",
       "    </tr>\n",
       "    <tr>\n",
       "      <th>3</th>\n",
       "      <td>174.31</td>\n",
       "      <td>6955000.00</td>\n",
       "      <td>1</td>\n",
       "      <td>2019-01-01 06:20:00</td>\n",
       "      <td>2019-01-01</td>\n",
       "      <td>1</td>\n",
       "      <td>겨울</td>\n",
       "      <td>06:20</td>\n",
       "      <td>1</td>\n",
       "    </tr>\n",
       "    <tr>\n",
       "      <th>4</th>\n",
       "      <td>167.22</td>\n",
       "      <td>6672000.00</td>\n",
       "      <td>1</td>\n",
       "      <td>2019-01-01 06:40:00</td>\n",
       "      <td>2019-01-01</td>\n",
       "      <td>1</td>\n",
       "      <td>겨울</td>\n",
       "      <td>06:40</td>\n",
       "      <td>1</td>\n",
       "    </tr>\n",
       "  </tbody>\n",
       "</table>\n",
       "</div>"
      ],
      "text/plain": [
       "     판매량        취급액  weekday                방송일시        방송날짜  holiday season  \\\n",
       "0  52.61 2099000.00        1 2019-01-01 06:00:00  2019-01-01        1     겨울   \n",
       "1 109.55 4371000.00        1 2019-01-01 06:00:00  2019-01-01        1     겨울   \n",
       "2  81.75 3262000.00        1 2019-01-01 06:20:00  2019-01-01        1     겨울   \n",
       "3 174.31 6955000.00        1 2019-01-01 06:20:00  2019-01-01        1     겨울   \n",
       "4 167.22 6672000.00        1 2019-01-01 06:40:00  2019-01-01        1     겨울   \n",
       "\n",
       "    방송시간  Day_off  \n",
       "0  06:00        1  \n",
       "1  06:00        1  \n",
       "2  06:20        1  \n",
       "3  06:20        1  \n",
       "4  06:40        1  "
      ]
     },
     "execution_count": 64,
     "metadata": {},
     "output_type": "execute_result"
    }
   ],
   "source": [
    "#쉬는날과 안쉬는날의 데이터로 만들어 봅니다.\n",
    "def check_off(weekday, holiday):\n",
    "    if (weekday in [5,6] ) or (holiday == 1) : \n",
    "        return 1 \n",
    "    else:\n",
    "        return 0 \n",
    "    \n",
    "new_df[\"Day_off\"] = new_df.apply(lambda x: check_off(x[\"weekday\"],x[\"holiday\"]) ,axis=1)\n",
    "new_df.head()    "
   ]
  },
  {
   "cell_type": "markdown",
   "metadata": {},
   "source": [
    "season별 주중 주말 데이터의 시간대별 판매량 및 취급액 차이"
   ]
  },
  {
   "cell_type": "code",
   "execution_count": 65,
   "metadata": {
    "scrolled": true
   },
   "outputs": [
    {
     "data": {
      "text/html": [
       "<div>\n",
       "<style scoped>\n",
       "    .dataframe tbody tr th:only-of-type {\n",
       "        vertical-align: middle;\n",
       "    }\n",
       "\n",
       "    .dataframe tbody tr th {\n",
       "        vertical-align: top;\n",
       "    }\n",
       "\n",
       "    .dataframe thead th {\n",
       "        text-align: right;\n",
       "    }\n",
       "</style>\n",
       "<table border=\"1\" class=\"dataframe\">\n",
       "  <thead>\n",
       "    <tr style=\"text-align: right;\">\n",
       "      <th></th>\n",
       "      <th>판매량</th>\n",
       "      <th>취급액</th>\n",
       "      <th>weekday</th>\n",
       "      <th>방송일시</th>\n",
       "      <th>방송날짜</th>\n",
       "      <th>holiday</th>\n",
       "      <th>season</th>\n",
       "      <th>방송시간</th>\n",
       "      <th>Day_off</th>\n",
       "      <th>hour</th>\n",
       "    </tr>\n",
       "  </thead>\n",
       "  <tbody>\n",
       "    <tr>\n",
       "      <th>0</th>\n",
       "      <td>52.61</td>\n",
       "      <td>2099000.00</td>\n",
       "      <td>1</td>\n",
       "      <td>2019-01-01 06:00:00</td>\n",
       "      <td>2019-01-01</td>\n",
       "      <td>1</td>\n",
       "      <td>겨울</td>\n",
       "      <td>06:00</td>\n",
       "      <td>1</td>\n",
       "      <td>06</td>\n",
       "    </tr>\n",
       "    <tr>\n",
       "      <th>1</th>\n",
       "      <td>109.55</td>\n",
       "      <td>4371000.00</td>\n",
       "      <td>1</td>\n",
       "      <td>2019-01-01 06:00:00</td>\n",
       "      <td>2019-01-01</td>\n",
       "      <td>1</td>\n",
       "      <td>겨울</td>\n",
       "      <td>06:00</td>\n",
       "      <td>1</td>\n",
       "      <td>06</td>\n",
       "    </tr>\n",
       "    <tr>\n",
       "      <th>2</th>\n",
       "      <td>81.75</td>\n",
       "      <td>3262000.00</td>\n",
       "      <td>1</td>\n",
       "      <td>2019-01-01 06:20:00</td>\n",
       "      <td>2019-01-01</td>\n",
       "      <td>1</td>\n",
       "      <td>겨울</td>\n",
       "      <td>06:20</td>\n",
       "      <td>1</td>\n",
       "      <td>06</td>\n",
       "    </tr>\n",
       "    <tr>\n",
       "      <th>3</th>\n",
       "      <td>174.31</td>\n",
       "      <td>6955000.00</td>\n",
       "      <td>1</td>\n",
       "      <td>2019-01-01 06:20:00</td>\n",
       "      <td>2019-01-01</td>\n",
       "      <td>1</td>\n",
       "      <td>겨울</td>\n",
       "      <td>06:20</td>\n",
       "      <td>1</td>\n",
       "      <td>06</td>\n",
       "    </tr>\n",
       "    <tr>\n",
       "      <th>4</th>\n",
       "      <td>167.22</td>\n",
       "      <td>6672000.00</td>\n",
       "      <td>1</td>\n",
       "      <td>2019-01-01 06:40:00</td>\n",
       "      <td>2019-01-01</td>\n",
       "      <td>1</td>\n",
       "      <td>겨울</td>\n",
       "      <td>06:40</td>\n",
       "      <td>1</td>\n",
       "      <td>06</td>\n",
       "    </tr>\n",
       "  </tbody>\n",
       "</table>\n",
       "</div>"
      ],
      "text/plain": [
       "     판매량        취급액  weekday                방송일시        방송날짜  holiday season  \\\n",
       "0  52.61 2099000.00        1 2019-01-01 06:00:00  2019-01-01        1     겨울   \n",
       "1 109.55 4371000.00        1 2019-01-01 06:00:00  2019-01-01        1     겨울   \n",
       "2  81.75 3262000.00        1 2019-01-01 06:20:00  2019-01-01        1     겨울   \n",
       "3 174.31 6955000.00        1 2019-01-01 06:20:00  2019-01-01        1     겨울   \n",
       "4 167.22 6672000.00        1 2019-01-01 06:40:00  2019-01-01        1     겨울   \n",
       "\n",
       "    방송시간  Day_off hour  \n",
       "0  06:00        1   06  \n",
       "1  06:00        1   06  \n",
       "2  06:20        1   06  \n",
       "3  06:20        1   06  \n",
       "4  06:40        1   06  "
      ]
     },
     "execution_count": 65,
     "metadata": {},
     "output_type": "execute_result"
    }
   ],
   "source": [
    "new_df[\"hour\"] = new_df[\"방송시간\"].apply(lambda x:x.split(\":\")[0] )\n",
    "new_df.head()"
   ]
  },
  {
   "cell_type": "code",
   "execution_count": null,
   "metadata": {},
   "outputs": [],
   "source": []
  },
  {
   "cell_type": "code",
   "execution_count": 158,
   "metadata": {},
   "outputs": [
    {
     "data": {
      "application/vnd.plotly.v1+json": {
       "config": {
        "linkText": "Export to plot.ly",
        "plotlyServerURL": "https://plot.ly",
        "showLink": true
       },
       "data": [
        {
         "marker": {
          "color": "rgba(255, 153, 51, 0.6)",
          "line": {
           "color": "rgba(255, 153, 51, 1.0)",
           "width": 1
          }
         },
         "name": "취급액",
         "orientation": "v",
         "text": "",
         "type": "bar",
         "uid": "0d372eed-b050-4504-84e3-38f6682f7b20",
         "x": [
          "00",
          "01",
          "02",
          "06",
          "07",
          "08",
          "09",
          "10",
          "11",
          "12",
          "13",
          "14",
          "15",
          "16",
          "17",
          "18",
          "19",
          "20",
          "21",
          "22",
          "23"
         ],
         "y": [
          2366477000,
          1560082000,
          289133000,
          1861628000,
          3251712000,
          3062186000,
          3863468000,
          4123315000,
          4283244000,
          2898075000,
          3462926000,
          3304302000,
          4185332000,
          4362418000,
          4682159000,
          4148905000,
          5253102000,
          6123985000,
          7526297000,
          6163010000,
          3441897000
         ]
        }
       ],
       "layout": {
        "legend": {
         "bgcolor": "#F5F6F9",
         "font": {
          "color": "#4D5663"
         }
        },
        "paper_bgcolor": "#F5F6F9",
        "plot_bgcolor": "#F5F6F9",
        "title": {
         "font": {
          "color": "#4D5663"
         },
         "text": "가을의 쉬지 않는날 시간별 취급액 총합"
        },
        "xaxis": {
         "gridcolor": "#E1E5ED",
         "showgrid": true,
         "tickfont": {
          "color": "#4D5663"
         },
         "title": {
          "font": {
           "color": "#4D5663"
          },
          "text": ""
         },
         "zerolinecolor": "#E1E5ED"
        },
        "yaxis": {
         "gridcolor": "#E1E5ED",
         "showgrid": true,
         "tickfont": {
          "color": "#4D5663"
         },
         "title": {
          "font": {
           "color": "#4D5663"
          },
          "text": ""
         },
         "zerolinecolor": "#E1E5ED"
        }
       }
      },
      "text/html": [
       "<div>\n",
       "        \n",
       "        \n",
       "            <div id=\"febf1683-3962-40b8-b588-4754c6447e2b\" class=\"plotly-graph-div\" style=\"height:525px; width:100%;\"></div>\n",
       "            <script type=\"text/javascript\">\n",
       "                require([\"plotly\"], function(Plotly) {\n",
       "                    window.PLOTLYENV=window.PLOTLYENV || {};\n",
       "                    window.PLOTLYENV.BASE_URL='https://plot.ly';\n",
       "                    \n",
       "                if (document.getElementById(\"febf1683-3962-40b8-b588-4754c6447e2b\")) {\n",
       "                    Plotly.newPlot(\n",
       "                        'febf1683-3962-40b8-b588-4754c6447e2b',\n",
       "                        [{\"marker\": {\"color\": \"rgba(255, 153, 51, 0.6)\", \"line\": {\"color\": \"rgba(255, 153, 51, 1.0)\", \"width\": 1}}, \"name\": \"\\ucde8\\uae09\\uc561\", \"orientation\": \"v\", \"text\": \"\", \"type\": \"bar\", \"uid\": \"0d372eed-b050-4504-84e3-38f6682f7b20\", \"x\": [\"00\", \"01\", \"02\", \"06\", \"07\", \"08\", \"09\", \"10\", \"11\", \"12\", \"13\", \"14\", \"15\", \"16\", \"17\", \"18\", \"19\", \"20\", \"21\", \"22\", \"23\"], \"y\": [2366477000.0, 1560082000.0, 289133000.0, 1861628000.0, 3251712000.0, 3062186000.0, 3863468000.0, 4123315000.0, 4283244000.0, 2898075000.0, 3462926000.0, 3304302000.0, 4185332000.0, 4362418000.0, 4682159000.0, 4148905000.0, 5253102000.0, 6123985000.0, 7526297000.0, 6163010000.0, 3441897000.0]}],\n",
       "                        {\"legend\": {\"bgcolor\": \"#F5F6F9\", \"font\": {\"color\": \"#4D5663\"}}, \"paper_bgcolor\": \"#F5F6F9\", \"plot_bgcolor\": \"#F5F6F9\", \"title\": {\"font\": {\"color\": \"#4D5663\"}, \"text\": \"\\uac00\\uc744\\uc758 \\uc26c\\uc9c0 \\uc54a\\ub294\\ub0a0 \\uc2dc\\uac04\\ubcc4 \\ucde8\\uae09\\uc561 \\ucd1d\\ud569\"}, \"xaxis\": {\"gridcolor\": \"#E1E5ED\", \"showgrid\": true, \"tickfont\": {\"color\": \"#4D5663\"}, \"title\": {\"font\": {\"color\": \"#4D5663\"}, \"text\": \"\"}, \"zerolinecolor\": \"#E1E5ED\"}, \"yaxis\": {\"gridcolor\": \"#E1E5ED\", \"showgrid\": true, \"tickfont\": {\"color\": \"#4D5663\"}, \"title\": {\"font\": {\"color\": \"#4D5663\"}, \"text\": \"\"}, \"zerolinecolor\": \"#E1E5ED\"}},\n",
       "                        {\"showLink\": true, \"linkText\": \"Export to plot.ly\", \"plotlyServerURL\": \"https://plot.ly\", \"responsive\": true}\n",
       "                    ).then(function(){\n",
       "                            \n",
       "var gd = document.getElementById('febf1683-3962-40b8-b588-4754c6447e2b');\n",
       "var x = new MutationObserver(function (mutations, observer) {{\n",
       "        var display = window.getComputedStyle(gd).display;\n",
       "        if (!display || display === 'none') {{\n",
       "            console.log([gd, 'removed!']);\n",
       "            Plotly.purge(gd);\n",
       "            observer.disconnect();\n",
       "        }}\n",
       "}});\n",
       "\n",
       "// Listen for the removal of the full notebook cells\n",
       "var notebookContainer = gd.closest('#notebook-container');\n",
       "if (notebookContainer) {{\n",
       "    x.observe(notebookContainer, {childList: true});\n",
       "}}\n",
       "\n",
       "// Listen for the clearing of the current output cell\n",
       "var outputEl = gd.closest('.output');\n",
       "if (outputEl) {{\n",
       "    x.observe(outputEl, {childList: true});\n",
       "}}\n",
       "\n",
       "                        })\n",
       "                };\n",
       "                });\n",
       "            </script>\n",
       "        </div>"
      ]
     },
     "metadata": {},
     "output_type": "display_data"
    },
    {
     "data": {
      "application/vnd.plotly.v1+json": {
       "config": {
        "linkText": "Export to plot.ly",
        "plotlyServerURL": "https://plot.ly",
        "showLink": true
       },
       "data": [
        {
         "marker": {
          "color": "rgba(55, 128, 191, 0.6)",
          "line": {
           "color": "rgba(55, 128, 191, 1.0)",
           "width": 1
          }
         },
         "name": "취급액",
         "orientation": "v",
         "text": "",
         "type": "bar",
         "uid": "2c0c7095-e5cf-4673-8267-0acc3e7ca847",
         "x": [
          "00",
          "01",
          "02",
          "06",
          "07",
          "08",
          "09",
          "10",
          "11",
          "12",
          "13",
          "14",
          "15",
          "16",
          "17",
          "18",
          "19",
          "20",
          "21",
          "22",
          "23"
         ],
         "y": [
          527254000,
          870039000,
          193154000,
          995449000,
          2020992000,
          2892255000,
          2846984000,
          2653772000,
          2505773000,
          2426524000,
          2793686000,
          2812899000,
          2879803000,
          3521006000,
          3414653000,
          560356000,
          595047000,
          2250967000,
          3472471000,
          2914307000,
          2251340000
         ]
        }
       ],
       "layout": {
        "legend": {
         "bgcolor": "#F5F6F9",
         "font": {
          "color": "#4D5663"
         }
        },
        "paper_bgcolor": "#F5F6F9",
        "plot_bgcolor": "#F5F6F9",
        "title": {
         "font": {
          "color": "#4D5663"
         },
         "text": "가을의 쉬는날 시간별 취급액 총합"
        },
        "xaxis": {
         "gridcolor": "#E1E5ED",
         "showgrid": true,
         "tickfont": {
          "color": "#4D5663"
         },
         "title": {
          "font": {
           "color": "#4D5663"
          },
          "text": ""
         },
         "zerolinecolor": "#E1E5ED"
        },
        "yaxis": {
         "gridcolor": "#E1E5ED",
         "showgrid": true,
         "tickfont": {
          "color": "#4D5663"
         },
         "title": {
          "font": {
           "color": "#4D5663"
          },
          "text": ""
         },
         "zerolinecolor": "#E1E5ED"
        }
       }
      },
      "text/html": [
       "<div>\n",
       "        \n",
       "        \n",
       "            <div id=\"24ffe881-cb4f-431a-8123-c2e4d03dec73\" class=\"plotly-graph-div\" style=\"height:525px; width:100%;\"></div>\n",
       "            <script type=\"text/javascript\">\n",
       "                require([\"plotly\"], function(Plotly) {\n",
       "                    window.PLOTLYENV=window.PLOTLYENV || {};\n",
       "                    window.PLOTLYENV.BASE_URL='https://plot.ly';\n",
       "                    \n",
       "                if (document.getElementById(\"24ffe881-cb4f-431a-8123-c2e4d03dec73\")) {\n",
       "                    Plotly.newPlot(\n",
       "                        '24ffe881-cb4f-431a-8123-c2e4d03dec73',\n",
       "                        [{\"marker\": {\"color\": \"rgba(55, 128, 191, 0.6)\", \"line\": {\"color\": \"rgba(55, 128, 191, 1.0)\", \"width\": 1}}, \"name\": \"\\ucde8\\uae09\\uc561\", \"orientation\": \"v\", \"text\": \"\", \"type\": \"bar\", \"uid\": \"2c0c7095-e5cf-4673-8267-0acc3e7ca847\", \"x\": [\"00\", \"01\", \"02\", \"06\", \"07\", \"08\", \"09\", \"10\", \"11\", \"12\", \"13\", \"14\", \"15\", \"16\", \"17\", \"18\", \"19\", \"20\", \"21\", \"22\", \"23\"], \"y\": [527254000.0, 870039000.0, 193154000.0, 995449000.0, 2020992000.0, 2892255000.0, 2846984000.0, 2653772000.0, 2505773000.0, 2426524000.0, 2793686000.0, 2812899000.0, 2879803000.0, 3521006000.0, 3414653000.0, 560356000.0, 595047000.0, 2250967000.0, 3472471000.0, 2914307000.0, 2251340000.0]}],\n",
       "                        {\"legend\": {\"bgcolor\": \"#F5F6F9\", \"font\": {\"color\": \"#4D5663\"}}, \"paper_bgcolor\": \"#F5F6F9\", \"plot_bgcolor\": \"#F5F6F9\", \"title\": {\"font\": {\"color\": \"#4D5663\"}, \"text\": \"\\uac00\\uc744\\uc758 \\uc26c\\ub294\\ub0a0 \\uc2dc\\uac04\\ubcc4 \\ucde8\\uae09\\uc561 \\ucd1d\\ud569\"}, \"xaxis\": {\"gridcolor\": \"#E1E5ED\", \"showgrid\": true, \"tickfont\": {\"color\": \"#4D5663\"}, \"title\": {\"font\": {\"color\": \"#4D5663\"}, \"text\": \"\"}, \"zerolinecolor\": \"#E1E5ED\"}, \"yaxis\": {\"gridcolor\": \"#E1E5ED\", \"showgrid\": true, \"tickfont\": {\"color\": \"#4D5663\"}, \"title\": {\"font\": {\"color\": \"#4D5663\"}, \"text\": \"\"}, \"zerolinecolor\": \"#E1E5ED\"}},\n",
       "                        {\"showLink\": true, \"linkText\": \"Export to plot.ly\", \"plotlyServerURL\": \"https://plot.ly\", \"responsive\": true}\n",
       "                    ).then(function(){\n",
       "                            \n",
       "var gd = document.getElementById('24ffe881-cb4f-431a-8123-c2e4d03dec73');\n",
       "var x = new MutationObserver(function (mutations, observer) {{\n",
       "        var display = window.getComputedStyle(gd).display;\n",
       "        if (!display || display === 'none') {{\n",
       "            console.log([gd, 'removed!']);\n",
       "            Plotly.purge(gd);\n",
       "            observer.disconnect();\n",
       "        }}\n",
       "}});\n",
       "\n",
       "// Listen for the removal of the full notebook cells\n",
       "var notebookContainer = gd.closest('#notebook-container');\n",
       "if (notebookContainer) {{\n",
       "    x.observe(notebookContainer, {childList: true});\n",
       "}}\n",
       "\n",
       "// Listen for the clearing of the current output cell\n",
       "var outputEl = gd.closest('.output');\n",
       "if (outputEl) {{\n",
       "    x.observe(outputEl, {childList: true});\n",
       "}}\n",
       "\n",
       "                        })\n",
       "                };\n",
       "                });\n",
       "            </script>\n",
       "        </div>"
      ]
     },
     "metadata": {},
     "output_type": "display_data"
    }
   ],
   "source": [
    "def visualize(df,season, y = \"판매량\"):\n",
    "    # new_df \n",
    "    # season이름 \n",
    "    df = df[df[\"season\"]==season]\n",
    "    day_on = df[df[\"Day_off\"]==0]\n",
    "    day_off = df[df[\"Day_off\"]==1]\n",
    "    \n",
    "    \n",
    "    day_on.groupby([\"hour\"]).sum()[y].iplot(kind = \"bar\",title= \"{}의 쉬지 않는날 시간별 {} 총합\".format(season,y))\n",
    "    day_off.groupby([\"hour\"]).sum()[y].iplot(kind = \"bar\",colors = \"blue\",title= \"{}의 쉬는날 시간별 {} 총합\".format(season,y))\n",
    "    \n",
    "    return  day_on.groupby([\"hour\"]).sum()[y], day_off.groupby([\"hour\"]).sum()[y]\n",
    "        \n",
    "\n",
    "day_on, day_off = visualize(new_df,\"가을\",y=\"취급액\")"
   ]
  },
  {
   "cell_type": "code",
   "execution_count": 154,
   "metadata": {},
   "outputs": [
    {
     "data": {
      "application/vnd.plotly.v1+json": {
       "config": {
        "linkText": "Export to plot.ly",
        "plotlyServerURL": "https://plot.ly",
        "showLink": true
       },
       "data": [
        {
         "marker": {
          "color": "rgba(255, 153, 51, 0.6)",
          "line": {
           "color": "rgba(255, 153, 51, 1.0)",
           "width": 1
          }
         },
         "name": "취급액",
         "orientation": "v",
         "text": "",
         "type": "bar",
         "uid": "f991e54b-7dc0-46c6-bce7-c648c92a6682",
         "x": [
          "00",
          "01",
          "02",
          "06",
          "07",
          "08",
          "09",
          "10",
          "11",
          "12",
          "13",
          "14",
          "15",
          "16",
          "17",
          "18",
          "19",
          "20",
          "21",
          "22",
          "23"
         ],
         "y": [
          4846104000,
          2485437000,
          408481000,
          2187452000,
          4459412000,
          4553636000,
          5937538000,
          6869511000,
          6888576000,
          5903961000,
          5357413000,
          6117081000,
          6808336000,
          6960652000,
          7053369000,
          7193680000,
          7879312000,
          9929959000,
          11062073000,
          9537033000,
          8039051000
         ]
        }
       ],
       "layout": {
        "legend": {
         "bgcolor": "#F5F6F9",
         "font": {
          "color": "#4D5663"
         }
        },
        "paper_bgcolor": "#F5F6F9",
        "plot_bgcolor": "#F5F6F9",
        "title": {
         "font": {
          "color": "#4D5663"
         },
         "text": "겨울의 쉬지 않는날 시간별 취급액 총합"
        },
        "xaxis": {
         "gridcolor": "#E1E5ED",
         "showgrid": true,
         "tickfont": {
          "color": "#4D5663"
         },
         "title": {
          "font": {
           "color": "#4D5663"
          },
          "text": ""
         },
         "zerolinecolor": "#E1E5ED"
        },
        "yaxis": {
         "gridcolor": "#E1E5ED",
         "showgrid": true,
         "tickfont": {
          "color": "#4D5663"
         },
         "title": {
          "font": {
           "color": "#4D5663"
          },
          "text": ""
         },
         "zerolinecolor": "#E1E5ED"
        }
       }
      },
      "text/html": [
       "<div>\n",
       "        \n",
       "        \n",
       "            <div id=\"3c58a479-d0db-43f3-9b56-c83a0a0a9ae2\" class=\"plotly-graph-div\" style=\"height:525px; width:100%;\"></div>\n",
       "            <script type=\"text/javascript\">\n",
       "                require([\"plotly\"], function(Plotly) {\n",
       "                    window.PLOTLYENV=window.PLOTLYENV || {};\n",
       "                    window.PLOTLYENV.BASE_URL='https://plot.ly';\n",
       "                    \n",
       "                if (document.getElementById(\"3c58a479-d0db-43f3-9b56-c83a0a0a9ae2\")) {\n",
       "                    Plotly.newPlot(\n",
       "                        '3c58a479-d0db-43f3-9b56-c83a0a0a9ae2',\n",
       "                        [{\"marker\": {\"color\": \"rgba(255, 153, 51, 0.6)\", \"line\": {\"color\": \"rgba(255, 153, 51, 1.0)\", \"width\": 1}}, \"name\": \"\\ucde8\\uae09\\uc561\", \"orientation\": \"v\", \"text\": \"\", \"type\": \"bar\", \"uid\": \"f991e54b-7dc0-46c6-bce7-c648c92a6682\", \"x\": [\"00\", \"01\", \"02\", \"06\", \"07\", \"08\", \"09\", \"10\", \"11\", \"12\", \"13\", \"14\", \"15\", \"16\", \"17\", \"18\", \"19\", \"20\", \"21\", \"22\", \"23\"], \"y\": [4846104000.0, 2485437000.0, 408481000.0, 2187452000.0, 4459412000.0, 4553636000.0, 5937538000.0, 6869511000.0, 6888576000.0, 5903961000.0, 5357413000.0, 6117081000.0, 6808336000.0, 6960652000.0, 7053369000.0, 7193680000.0, 7879312000.0, 9929959000.0, 11062073000.0, 9537033000.0, 8039051000.0]}],\n",
       "                        {\"legend\": {\"bgcolor\": \"#F5F6F9\", \"font\": {\"color\": \"#4D5663\"}}, \"paper_bgcolor\": \"#F5F6F9\", \"plot_bgcolor\": \"#F5F6F9\", \"title\": {\"font\": {\"color\": \"#4D5663\"}, \"text\": \"\\uaca8\\uc6b8\\uc758 \\uc26c\\uc9c0 \\uc54a\\ub294\\ub0a0 \\uc2dc\\uac04\\ubcc4 \\ucde8\\uae09\\uc561 \\ucd1d\\ud569\"}, \"xaxis\": {\"gridcolor\": \"#E1E5ED\", \"showgrid\": true, \"tickfont\": {\"color\": \"#4D5663\"}, \"title\": {\"font\": {\"color\": \"#4D5663\"}, \"text\": \"\"}, \"zerolinecolor\": \"#E1E5ED\"}, \"yaxis\": {\"gridcolor\": \"#E1E5ED\", \"showgrid\": true, \"tickfont\": {\"color\": \"#4D5663\"}, \"title\": {\"font\": {\"color\": \"#4D5663\"}, \"text\": \"\"}, \"zerolinecolor\": \"#E1E5ED\"}},\n",
       "                        {\"showLink\": true, \"linkText\": \"Export to plot.ly\", \"plotlyServerURL\": \"https://plot.ly\", \"responsive\": true}\n",
       "                    ).then(function(){\n",
       "                            \n",
       "var gd = document.getElementById('3c58a479-d0db-43f3-9b56-c83a0a0a9ae2');\n",
       "var x = new MutationObserver(function (mutations, observer) {{\n",
       "        var display = window.getComputedStyle(gd).display;\n",
       "        if (!display || display === 'none') {{\n",
       "            console.log([gd, 'removed!']);\n",
       "            Plotly.purge(gd);\n",
       "            observer.disconnect();\n",
       "        }}\n",
       "}});\n",
       "\n",
       "// Listen for the removal of the full notebook cells\n",
       "var notebookContainer = gd.closest('#notebook-container');\n",
       "if (notebookContainer) {{\n",
       "    x.observe(notebookContainer, {childList: true});\n",
       "}}\n",
       "\n",
       "// Listen for the clearing of the current output cell\n",
       "var outputEl = gd.closest('.output');\n",
       "if (outputEl) {{\n",
       "    x.observe(outputEl, {childList: true});\n",
       "}}\n",
       "\n",
       "                        })\n",
       "                };\n",
       "                });\n",
       "            </script>\n",
       "        </div>"
      ]
     },
     "metadata": {},
     "output_type": "display_data"
    },
    {
     "data": {
      "application/vnd.plotly.v1+json": {
       "config": {
        "linkText": "Export to plot.ly",
        "plotlyServerURL": "https://plot.ly",
        "showLink": true
       },
       "data": [
        {
         "marker": {
          "color": "rgba(55, 128, 191, 0.6)",
          "line": {
           "color": "rgba(55, 128, 191, 1.0)",
           "width": 1
          }
         },
         "name": "취급액",
         "orientation": "v",
         "text": "",
         "type": "bar",
         "uid": "e4ca3952-810e-4e7d-861c-3713cbe68726",
         "x": [
          "00",
          "01",
          "02",
          "06",
          "07",
          "08",
          "09",
          "10",
          "11",
          "12",
          "13",
          "14",
          "15",
          "16",
          "17",
          "18",
          "19",
          "20",
          "21",
          "22",
          "23"
         ],
         "y": [
          1602752000,
          1806119000,
          173554000,
          1100247000,
          2481235000,
          3763437000,
          3825905000,
          4694126000,
          4017866000,
          4414305000,
          4721693000,
          4019089000,
          4173821000,
          5464041000,
          4604348000,
          2333490000,
          3373978000,
          3650310000,
          4847800000,
          4403073000,
          3444734000
         ]
        }
       ],
       "layout": {
        "legend": {
         "bgcolor": "#F5F6F9",
         "font": {
          "color": "#4D5663"
         }
        },
        "paper_bgcolor": "#F5F6F9",
        "plot_bgcolor": "#F5F6F9",
        "title": {
         "font": {
          "color": "#4D5663"
         },
         "text": "겨울의 쉬는날 시간별 취급액 총합"
        },
        "xaxis": {
         "gridcolor": "#E1E5ED",
         "showgrid": true,
         "tickfont": {
          "color": "#4D5663"
         },
         "title": {
          "font": {
           "color": "#4D5663"
          },
          "text": ""
         },
         "zerolinecolor": "#E1E5ED"
        },
        "yaxis": {
         "gridcolor": "#E1E5ED",
         "showgrid": true,
         "tickfont": {
          "color": "#4D5663"
         },
         "title": {
          "font": {
           "color": "#4D5663"
          },
          "text": ""
         },
         "zerolinecolor": "#E1E5ED"
        }
       }
      },
      "text/html": [
       "<div>\n",
       "        \n",
       "        \n",
       "            <div id=\"9775062d-6c28-4ad2-b636-fb1bff9e8a66\" class=\"plotly-graph-div\" style=\"height:525px; width:100%;\"></div>\n",
       "            <script type=\"text/javascript\">\n",
       "                require([\"plotly\"], function(Plotly) {\n",
       "                    window.PLOTLYENV=window.PLOTLYENV || {};\n",
       "                    window.PLOTLYENV.BASE_URL='https://plot.ly';\n",
       "                    \n",
       "                if (document.getElementById(\"9775062d-6c28-4ad2-b636-fb1bff9e8a66\")) {\n",
       "                    Plotly.newPlot(\n",
       "                        '9775062d-6c28-4ad2-b636-fb1bff9e8a66',\n",
       "                        [{\"marker\": {\"color\": \"rgba(55, 128, 191, 0.6)\", \"line\": {\"color\": \"rgba(55, 128, 191, 1.0)\", \"width\": 1}}, \"name\": \"\\ucde8\\uae09\\uc561\", \"orientation\": \"v\", \"text\": \"\", \"type\": \"bar\", \"uid\": \"e4ca3952-810e-4e7d-861c-3713cbe68726\", \"x\": [\"00\", \"01\", \"02\", \"06\", \"07\", \"08\", \"09\", \"10\", \"11\", \"12\", \"13\", \"14\", \"15\", \"16\", \"17\", \"18\", \"19\", \"20\", \"21\", \"22\", \"23\"], \"y\": [1602752000.0, 1806119000.0, 173554000.0, 1100247000.0, 2481235000.0, 3763437000.0, 3825905000.0, 4694126000.0, 4017866000.0, 4414305000.0, 4721693000.0, 4019089000.0, 4173821000.0, 5464041000.0, 4604348000.0, 2333490000.0, 3373978000.0, 3650310000.0, 4847800000.0, 4403073000.0, 3444734000.0]}],\n",
       "                        {\"legend\": {\"bgcolor\": \"#F5F6F9\", \"font\": {\"color\": \"#4D5663\"}}, \"paper_bgcolor\": \"#F5F6F9\", \"plot_bgcolor\": \"#F5F6F9\", \"title\": {\"font\": {\"color\": \"#4D5663\"}, \"text\": \"\\uaca8\\uc6b8\\uc758 \\uc26c\\ub294\\ub0a0 \\uc2dc\\uac04\\ubcc4 \\ucde8\\uae09\\uc561 \\ucd1d\\ud569\"}, \"xaxis\": {\"gridcolor\": \"#E1E5ED\", \"showgrid\": true, \"tickfont\": {\"color\": \"#4D5663\"}, \"title\": {\"font\": {\"color\": \"#4D5663\"}, \"text\": \"\"}, \"zerolinecolor\": \"#E1E5ED\"}, \"yaxis\": {\"gridcolor\": \"#E1E5ED\", \"showgrid\": true, \"tickfont\": {\"color\": \"#4D5663\"}, \"title\": {\"font\": {\"color\": \"#4D5663\"}, \"text\": \"\"}, \"zerolinecolor\": \"#E1E5ED\"}},\n",
       "                        {\"showLink\": true, \"linkText\": \"Export to plot.ly\", \"plotlyServerURL\": \"https://plot.ly\", \"responsive\": true}\n",
       "                    ).then(function(){\n",
       "                            \n",
       "var gd = document.getElementById('9775062d-6c28-4ad2-b636-fb1bff9e8a66');\n",
       "var x = new MutationObserver(function (mutations, observer) {{\n",
       "        var display = window.getComputedStyle(gd).display;\n",
       "        if (!display || display === 'none') {{\n",
       "            console.log([gd, 'removed!']);\n",
       "            Plotly.purge(gd);\n",
       "            observer.disconnect();\n",
       "        }}\n",
       "}});\n",
       "\n",
       "// Listen for the removal of the full notebook cells\n",
       "var notebookContainer = gd.closest('#notebook-container');\n",
       "if (notebookContainer) {{\n",
       "    x.observe(notebookContainer, {childList: true});\n",
       "}}\n",
       "\n",
       "// Listen for the clearing of the current output cell\n",
       "var outputEl = gd.closest('.output');\n",
       "if (outputEl) {{\n",
       "    x.observe(outputEl, {childList: true});\n",
       "}}\n",
       "\n",
       "                        })\n",
       "                };\n",
       "                });\n",
       "            </script>\n",
       "        </div>"
      ]
     },
     "metadata": {},
     "output_type": "display_data"
    }
   ],
   "source": [
    "day_on, day_off = visualize(new_df,\"겨울\",y=\"취급액\")"
   ]
  },
  {
   "cell_type": "code",
   "execution_count": 49,
   "metadata": {},
   "outputs": [
    {
     "data": {
      "text/html": [
       "<div>\n",
       "<style scoped>\n",
       "    .dataframe tbody tr th:only-of-type {\n",
       "        vertical-align: middle;\n",
       "    }\n",
       "\n",
       "    .dataframe tbody tr th {\n",
       "        vertical-align: top;\n",
       "    }\n",
       "\n",
       "    .dataframe thead th {\n",
       "        text-align: right;\n",
       "    }\n",
       "</style>\n",
       "<table border=\"1\" class=\"dataframe\">\n",
       "  <thead>\n",
       "    <tr style=\"text-align: right;\">\n",
       "      <th></th>\n",
       "      <th>취급액</th>\n",
       "    </tr>\n",
       "    <tr>\n",
       "      <th>hour</th>\n",
       "      <th></th>\n",
       "    </tr>\n",
       "  </thead>\n",
       "  <tbody>\n",
       "    <tr>\n",
       "      <th>21</th>\n",
       "      <td>11062073000.00</td>\n",
       "    </tr>\n",
       "    <tr>\n",
       "      <th>20</th>\n",
       "      <td>9929959000.00</td>\n",
       "    </tr>\n",
       "    <tr>\n",
       "      <th>22</th>\n",
       "      <td>9537033000.00</td>\n",
       "    </tr>\n",
       "    <tr>\n",
       "      <th>23</th>\n",
       "      <td>8039051000.00</td>\n",
       "    </tr>\n",
       "    <tr>\n",
       "      <th>19</th>\n",
       "      <td>7879312000.00</td>\n",
       "    </tr>\n",
       "    <tr>\n",
       "      <th>18</th>\n",
       "      <td>7193680000.00</td>\n",
       "    </tr>\n",
       "    <tr>\n",
       "      <th>17</th>\n",
       "      <td>7053369000.00</td>\n",
       "    </tr>\n",
       "    <tr>\n",
       "      <th>16</th>\n",
       "      <td>6960652000.00</td>\n",
       "    </tr>\n",
       "    <tr>\n",
       "      <th>11</th>\n",
       "      <td>6888576000.00</td>\n",
       "    </tr>\n",
       "    <tr>\n",
       "      <th>10</th>\n",
       "      <td>6869511000.00</td>\n",
       "    </tr>\n",
       "    <tr>\n",
       "      <th>15</th>\n",
       "      <td>6808336000.00</td>\n",
       "    </tr>\n",
       "    <tr>\n",
       "      <th>14</th>\n",
       "      <td>6117081000.00</td>\n",
       "    </tr>\n",
       "    <tr>\n",
       "      <th>09</th>\n",
       "      <td>5937538000.00</td>\n",
       "    </tr>\n",
       "    <tr>\n",
       "      <th>12</th>\n",
       "      <td>5903961000.00</td>\n",
       "    </tr>\n",
       "    <tr>\n",
       "      <th>13</th>\n",
       "      <td>5357413000.00</td>\n",
       "    </tr>\n",
       "    <tr>\n",
       "      <th>00</th>\n",
       "      <td>4846104000.00</td>\n",
       "    </tr>\n",
       "    <tr>\n",
       "      <th>08</th>\n",
       "      <td>4553636000.00</td>\n",
       "    </tr>\n",
       "    <tr>\n",
       "      <th>07</th>\n",
       "      <td>4459412000.00</td>\n",
       "    </tr>\n",
       "    <tr>\n",
       "      <th>01</th>\n",
       "      <td>2485437000.00</td>\n",
       "    </tr>\n",
       "    <tr>\n",
       "      <th>06</th>\n",
       "      <td>2187452000.00</td>\n",
       "    </tr>\n",
       "    <tr>\n",
       "      <th>02</th>\n",
       "      <td>408481000.00</td>\n",
       "    </tr>\n",
       "  </tbody>\n",
       "</table>\n",
       "</div>"
      ],
      "text/plain": [
       "                취급액\n",
       "hour               \n",
       "21   11062073000.00\n",
       "20    9929959000.00\n",
       "22    9537033000.00\n",
       "23    8039051000.00\n",
       "19    7879312000.00\n",
       "18    7193680000.00\n",
       "17    7053369000.00\n",
       "16    6960652000.00\n",
       "11    6888576000.00\n",
       "10    6869511000.00\n",
       "15    6808336000.00\n",
       "14    6117081000.00\n",
       "09    5937538000.00\n",
       "12    5903961000.00\n",
       "13    5357413000.00\n",
       "00    4846104000.00\n",
       "08    4553636000.00\n",
       "07    4459412000.00\n",
       "01    2485437000.00\n",
       "06    2187452000.00\n",
       "02     408481000.00"
      ]
     },
     "execution_count": 49,
     "metadata": {},
     "output_type": "execute_result"
    }
   ],
   "source": [
    "pd.DataFrame(day_on, index = day_on.index, columns = [\"취급액\"]).sort_values(by=\"취급액\",ascending=False)"
   ]
  },
  {
   "cell_type": "code",
   "execution_count": 84,
   "metadata": {},
   "outputs": [
    {
     "data": {
      "application/vnd.plotly.v1+json": {
       "config": {
        "linkText": "Export to plot.ly",
        "plotlyServerURL": "https://plot.ly",
        "showLink": true
       },
       "data": [
        {
         "marker": {
          "color": "rgba(255, 153, 51, 0.6)",
          "line": {
           "color": "rgba(255, 153, 51, 1.0)",
           "width": 1
          }
         },
         "name": "취급액",
         "orientation": "v",
         "text": "",
         "type": "bar",
         "uid": "feedc55b-fc28-4f0c-97d6-acdb2d475a8e",
         "x": [
          "00",
          "01",
          "02",
          "06",
          "07",
          "08",
          "09",
          "10",
          "11",
          "12",
          "13",
          "14",
          "15",
          "16",
          "17",
          "18",
          "19",
          "20",
          "21",
          "22",
          "23"
         ],
         "y": [
          0.037141138824504503,
          0.01904869574746229,
          0.0031306487702642007,
          0.016764901950915626,
          0.03417748363792054,
          0.03489962799648159,
          0.04550602362924337,
          0.05264877966041603,
          0.05279489617208998,
          0.0452486853595095,
          0.04105987407063595,
          0.046882063327930816,
          0.052179926914459884,
          0.05334729552668802,
          0.05405789005136013,
          0.05513325086276761,
          0.0603880190836978,
          0.07610443063967218,
          0.08478109198230228,
          0.0730929973081223,
          0.061612278483555404
         ]
        }
       ],
       "layout": {
        "legend": {
         "bgcolor": "#F5F6F9",
         "font": {
          "color": "#4D5663"
         }
        },
        "paper_bgcolor": "#F5F6F9",
        "plot_bgcolor": "#F5F6F9",
        "title": {
         "font": {
          "color": "#4D5663"
         },
         "text": "겨울의 주중 시간별 취급액 총합"
        },
        "xaxis": {
         "gridcolor": "#E1E5ED",
         "showgrid": true,
         "tickfont": {
          "color": "#4D5663"
         },
         "title": {
          "font": {
           "color": "#4D5663"
          },
          "text": ""
         },
         "zerolinecolor": "#E1E5ED"
        },
        "yaxis": {
         "gridcolor": "#E1E5ED",
         "showgrid": true,
         "tickfont": {
          "color": "#4D5663"
         },
         "title": {
          "font": {
           "color": "#4D5663"
          },
          "text": ""
         },
         "zerolinecolor": "#E1E5ED"
        }
       }
      },
      "text/html": [
       "<div>\n",
       "        \n",
       "        \n",
       "            <div id=\"7803617c-70f0-4e0c-b264-6db11a46012b\" class=\"plotly-graph-div\" style=\"height:525px; width:100%;\"></div>\n",
       "            <script type=\"text/javascript\">\n",
       "                require([\"plotly\"], function(Plotly) {\n",
       "                    window.PLOTLYENV=window.PLOTLYENV || {};\n",
       "                    window.PLOTLYENV.BASE_URL='https://plot.ly';\n",
       "                    \n",
       "                if (document.getElementById(\"7803617c-70f0-4e0c-b264-6db11a46012b\")) {\n",
       "                    Plotly.newPlot(\n",
       "                        '7803617c-70f0-4e0c-b264-6db11a46012b',\n",
       "                        [{\"marker\": {\"color\": \"rgba(255, 153, 51, 0.6)\", \"line\": {\"color\": \"rgba(255, 153, 51, 1.0)\", \"width\": 1}}, \"name\": \"\\ucde8\\uae09\\uc561\", \"orientation\": \"v\", \"text\": \"\", \"type\": \"bar\", \"uid\": \"feedc55b-fc28-4f0c-97d6-acdb2d475a8e\", \"x\": [\"00\", \"01\", \"02\", \"06\", \"07\", \"08\", \"09\", \"10\", \"11\", \"12\", \"13\", \"14\", \"15\", \"16\", \"17\", \"18\", \"19\", \"20\", \"21\", \"22\", \"23\"], \"y\": [0.037141138824504503, 0.01904869574746229, 0.0031306487702642007, 0.016764901950915626, 0.03417748363792054, 0.03489962799648159, 0.04550602362924337, 0.05264877966041603, 0.05279489617208998, 0.0452486853595095, 0.04105987407063595, 0.046882063327930816, 0.052179926914459884, 0.05334729552668802, 0.05405789005136013, 0.05513325086276761, 0.0603880190836978, 0.07610443063967218, 0.08478109198230228, 0.0730929973081223, 0.061612278483555404]}],\n",
       "                        {\"legend\": {\"bgcolor\": \"#F5F6F9\", \"font\": {\"color\": \"#4D5663\"}}, \"paper_bgcolor\": \"#F5F6F9\", \"plot_bgcolor\": \"#F5F6F9\", \"title\": {\"font\": {\"color\": \"#4D5663\"}, \"text\": \"\\uaca8\\uc6b8\\uc758 \\uc8fc\\uc911 \\uc2dc\\uac04\\ubcc4 \\ucde8\\uae09\\uc561 \\ucd1d\\ud569\"}, \"xaxis\": {\"gridcolor\": \"#E1E5ED\", \"showgrid\": true, \"tickfont\": {\"color\": \"#4D5663\"}, \"title\": {\"font\": {\"color\": \"#4D5663\"}, \"text\": \"\"}, \"zerolinecolor\": \"#E1E5ED\"}, \"yaxis\": {\"gridcolor\": \"#E1E5ED\", \"showgrid\": true, \"tickfont\": {\"color\": \"#4D5663\"}, \"title\": {\"font\": {\"color\": \"#4D5663\"}, \"text\": \"\"}, \"zerolinecolor\": \"#E1E5ED\"}},\n",
       "                        {\"showLink\": true, \"linkText\": \"Export to plot.ly\", \"plotlyServerURL\": \"https://plot.ly\", \"responsive\": true}\n",
       "                    ).then(function(){\n",
       "                            \n",
       "var gd = document.getElementById('7803617c-70f0-4e0c-b264-6db11a46012b');\n",
       "var x = new MutationObserver(function (mutations, observer) {{\n",
       "        var display = window.getComputedStyle(gd).display;\n",
       "        if (!display || display === 'none') {{\n",
       "            console.log([gd, 'removed!']);\n",
       "            Plotly.purge(gd);\n",
       "            observer.disconnect();\n",
       "        }}\n",
       "}});\n",
       "\n",
       "// Listen for the removal of the full notebook cells\n",
       "var notebookContainer = gd.closest('#notebook-container');\n",
       "if (notebookContainer) {{\n",
       "    x.observe(notebookContainer, {childList: true});\n",
       "}}\n",
       "\n",
       "// Listen for the clearing of the current output cell\n",
       "var outputEl = gd.closest('.output');\n",
       "if (outputEl) {{\n",
       "    x.observe(outputEl, {childList: true});\n",
       "}}\n",
       "\n",
       "                        })\n",
       "                };\n",
       "                });\n",
       "            </script>\n",
       "        </div>"
      ]
     },
     "metadata": {},
     "output_type": "display_data"
    },
    {
     "data": {
      "application/vnd.plotly.v1+json": {
       "config": {
        "linkText": "Export to plot.ly",
        "plotlyServerURL": "https://plot.ly",
        "showLink": true
       },
       "data": [
        {
         "marker": {
          "color": "rgba(55, 128, 191, 0.6)",
          "line": {
           "color": "rgba(55, 128, 191, 1.0)",
           "width": 1
          }
         },
         "name": "취급액",
         "orientation": "v",
         "text": "",
         "type": "bar",
         "uid": "4da025c7-cd90-45c3-ae44-dbc27f54a5e6",
         "x": [
          "00",
          "01",
          "02",
          "06",
          "07",
          "08",
          "09",
          "10",
          "11",
          "12",
          "13",
          "14",
          "15",
          "16",
          "17",
          "18",
          "19",
          "20",
          "21",
          "22",
          "23"
         ],
         "y": [
          0.02198080796370913,
          0.02477055336009848,
          0.0023801917859616302,
          0.015089245260431483,
          0.034028689434069545,
          0.05161334129080332,
          0.05247005344082839,
          0.06437719757233439,
          0.055102686485442635,
          0.06053961592201478,
          0.06475526288320942,
          0.05511945921643259,
          0.05724151826102629,
          0.07493613230670322,
          0.06314594471639294,
          0.032002453015335885,
          0.046272138479177945,
          0.050061870531440344,
          0.06648474676460808,
          0.06038557559946433,
          0.04724251571051517
         ]
        }
       ],
       "layout": {
        "legend": {
         "bgcolor": "#F5F6F9",
         "font": {
          "color": "#4D5663"
         }
        },
        "paper_bgcolor": "#F5F6F9",
        "plot_bgcolor": "#F5F6F9",
        "title": {
         "font": {
          "color": "#4D5663"
         },
         "text": "겨울의 주말 시간별 취급액 총합"
        },
        "xaxis": {
         "gridcolor": "#E1E5ED",
         "showgrid": true,
         "tickfont": {
          "color": "#4D5663"
         },
         "title": {
          "font": {
           "color": "#4D5663"
          },
          "text": ""
         },
         "zerolinecolor": "#E1E5ED"
        },
        "yaxis": {
         "gridcolor": "#E1E5ED",
         "showgrid": true,
         "tickfont": {
          "color": "#4D5663"
         },
         "title": {
          "font": {
           "color": "#4D5663"
          },
          "text": ""
         },
         "zerolinecolor": "#E1E5ED"
        }
       }
      },
      "text/html": [
       "<div>\n",
       "        \n",
       "        \n",
       "            <div id=\"49c993bb-dce3-4d04-93e1-583e8ee4ace2\" class=\"plotly-graph-div\" style=\"height:525px; width:100%;\"></div>\n",
       "            <script type=\"text/javascript\">\n",
       "                require([\"plotly\"], function(Plotly) {\n",
       "                    window.PLOTLYENV=window.PLOTLYENV || {};\n",
       "                    window.PLOTLYENV.BASE_URL='https://plot.ly';\n",
       "                    \n",
       "                if (document.getElementById(\"49c993bb-dce3-4d04-93e1-583e8ee4ace2\")) {\n",
       "                    Plotly.newPlot(\n",
       "                        '49c993bb-dce3-4d04-93e1-583e8ee4ace2',\n",
       "                        [{\"marker\": {\"color\": \"rgba(55, 128, 191, 0.6)\", \"line\": {\"color\": \"rgba(55, 128, 191, 1.0)\", \"width\": 1}}, \"name\": \"\\ucde8\\uae09\\uc561\", \"orientation\": \"v\", \"text\": \"\", \"type\": \"bar\", \"uid\": \"4da025c7-cd90-45c3-ae44-dbc27f54a5e6\", \"x\": [\"00\", \"01\", \"02\", \"06\", \"07\", \"08\", \"09\", \"10\", \"11\", \"12\", \"13\", \"14\", \"15\", \"16\", \"17\", \"18\", \"19\", \"20\", \"21\", \"22\", \"23\"], \"y\": [0.02198080796370913, 0.02477055336009848, 0.0023801917859616302, 0.015089245260431483, 0.034028689434069545, 0.05161334129080332, 0.05247005344082839, 0.06437719757233439, 0.055102686485442635, 0.06053961592201478, 0.06475526288320942, 0.05511945921643259, 0.05724151826102629, 0.07493613230670322, 0.06314594471639294, 0.032002453015335885, 0.046272138479177945, 0.050061870531440344, 0.06648474676460808, 0.06038557559946433, 0.04724251571051517]}],\n",
       "                        {\"legend\": {\"bgcolor\": \"#F5F6F9\", \"font\": {\"color\": \"#4D5663\"}}, \"paper_bgcolor\": \"#F5F6F9\", \"plot_bgcolor\": \"#F5F6F9\", \"title\": {\"font\": {\"color\": \"#4D5663\"}, \"text\": \"\\uaca8\\uc6b8\\uc758 \\uc8fc\\ub9d0 \\uc2dc\\uac04\\ubcc4 \\ucde8\\uae09\\uc561 \\ucd1d\\ud569\"}, \"xaxis\": {\"gridcolor\": \"#E1E5ED\", \"showgrid\": true, \"tickfont\": {\"color\": \"#4D5663\"}, \"title\": {\"font\": {\"color\": \"#4D5663\"}, \"text\": \"\"}, \"zerolinecolor\": \"#E1E5ED\"}, \"yaxis\": {\"gridcolor\": \"#E1E5ED\", \"showgrid\": true, \"tickfont\": {\"color\": \"#4D5663\"}, \"title\": {\"font\": {\"color\": \"#4D5663\"}, \"text\": \"\"}, \"zerolinecolor\": \"#E1E5ED\"}},\n",
       "                        {\"showLink\": true, \"linkText\": \"Export to plot.ly\", \"plotlyServerURL\": \"https://plot.ly\", \"responsive\": true}\n",
       "                    ).then(function(){\n",
       "                            \n",
       "var gd = document.getElementById('49c993bb-dce3-4d04-93e1-583e8ee4ace2');\n",
       "var x = new MutationObserver(function (mutations, observer) {{\n",
       "        var display = window.getComputedStyle(gd).display;\n",
       "        if (!display || display === 'none') {{\n",
       "            console.log([gd, 'removed!']);\n",
       "            Plotly.purge(gd);\n",
       "            observer.disconnect();\n",
       "        }}\n",
       "}});\n",
       "\n",
       "// Listen for the removal of the full notebook cells\n",
       "var notebookContainer = gd.closest('#notebook-container');\n",
       "if (notebookContainer) {{\n",
       "    x.observe(notebookContainer, {childList: true});\n",
       "}}\n",
       "\n",
       "// Listen for the clearing of the current output cell\n",
       "var outputEl = gd.closest('.output');\n",
       "if (outputEl) {{\n",
       "    x.observe(outputEl, {childList: true});\n",
       "}}\n",
       "\n",
       "                        })\n",
       "                };\n",
       "                });\n",
       "            </script>\n",
       "        </div>"
      ]
     },
     "metadata": {},
     "output_type": "display_data"
    }
   ],
   "source": [
    "def visualize_ratio(df,season, y = \"판매량\"):\n",
    "    # new_df \n",
    "    # season이름 \n",
    "    df = df[df[\"season\"]==season]\n",
    "    day_on = df[df[\"Day_off\"]==0]\n",
    "    day_off = df[df[\"Day_off\"]==1]\n",
    "    \n",
    "    total_day_on =  day_on.groupby([\"hour\"]).sum()[y].sum()\n",
    "    total_day_off = day_off.groupby([\"hour\"]).sum()[y].sum()\n",
    "    \n",
    "    (day_on.groupby([\"hour\"]).sum()[y]/total_day_on).iplot(kind = \"bar\",title= \"{}의 주중 시간별 {} 총합\".format(season,y))\n",
    "    (day_off.groupby([\"hour\"]).sum()[y]/total_day_off).iplot(kind = \"bar\",colors = \"blue\",title= \"{}의 주말 시간별 {} 총합\".format(season,y))\n",
    "    \n",
    "    return  day_on.groupby([\"hour\"]).sum()[y], day_off.groupby([\"hour\"]).sum()[y]\n",
    "        \n",
    "\n",
    "day_on, day_off = visualize_ratio(new_df,\"겨울\",y=\"취급액\")"
   ]
  },
  {
   "cell_type": "code",
   "execution_count": 52,
   "metadata": {},
   "outputs": [
    {
     "data": {
      "text/html": [
       "<div>\n",
       "<style scoped>\n",
       "    .dataframe tbody tr th:only-of-type {\n",
       "        vertical-align: middle;\n",
       "    }\n",
       "\n",
       "    .dataframe tbody tr th {\n",
       "        vertical-align: top;\n",
       "    }\n",
       "\n",
       "    .dataframe thead th {\n",
       "        text-align: right;\n",
       "    }\n",
       "</style>\n",
       "<table border=\"1\" class=\"dataframe\">\n",
       "  <thead>\n",
       "    <tr style=\"text-align: right;\">\n",
       "      <th></th>\n",
       "      <th>판매량</th>\n",
       "    </tr>\n",
       "    <tr>\n",
       "      <th>hour</th>\n",
       "      <th></th>\n",
       "    </tr>\n",
       "  </thead>\n",
       "  <tbody>\n",
       "    <tr>\n",
       "      <th>17</th>\n",
       "      <td>100686.90</td>\n",
       "    </tr>\n",
       "    <tr>\n",
       "      <th>18</th>\n",
       "      <td>88702.23</td>\n",
       "    </tr>\n",
       "    <tr>\n",
       "      <th>16</th>\n",
       "      <td>87447.69</td>\n",
       "    </tr>\n",
       "    <tr>\n",
       "      <th>11</th>\n",
       "      <td>78470.99</td>\n",
       "    </tr>\n",
       "    <tr>\n",
       "      <th>19</th>\n",
       "      <td>77719.99</td>\n",
       "    </tr>\n",
       "    <tr>\n",
       "      <th>10</th>\n",
       "      <td>70340.79</td>\n",
       "    </tr>\n",
       "    <tr>\n",
       "      <th>13</th>\n",
       "      <td>60601.58</td>\n",
       "    </tr>\n",
       "    <tr>\n",
       "      <th>20</th>\n",
       "      <td>59892.50</td>\n",
       "    </tr>\n",
       "    <tr>\n",
       "      <th>09</th>\n",
       "      <td>59842.47</td>\n",
       "    </tr>\n",
       "    <tr>\n",
       "      <th>15</th>\n",
       "      <td>56922.43</td>\n",
       "    </tr>\n",
       "    <tr>\n",
       "      <th>07</th>\n",
       "      <td>56586.27</td>\n",
       "    </tr>\n",
       "    <tr>\n",
       "      <th>14</th>\n",
       "      <td>51800.05</td>\n",
       "    </tr>\n",
       "    <tr>\n",
       "      <th>12</th>\n",
       "      <td>51606.86</td>\n",
       "    </tr>\n",
       "    <tr>\n",
       "      <th>08</th>\n",
       "      <td>49971.97</td>\n",
       "    </tr>\n",
       "    <tr>\n",
       "      <th>21</th>\n",
       "      <td>42014.85</td>\n",
       "    </tr>\n",
       "    <tr>\n",
       "      <th>22</th>\n",
       "      <td>33718.95</td>\n",
       "    </tr>\n",
       "    <tr>\n",
       "      <th>00</th>\n",
       "      <td>31017.10</td>\n",
       "    </tr>\n",
       "    <tr>\n",
       "      <th>06</th>\n",
       "      <td>29649.58</td>\n",
       "    </tr>\n",
       "    <tr>\n",
       "      <th>01</th>\n",
       "      <td>21958.91</td>\n",
       "    </tr>\n",
       "    <tr>\n",
       "      <th>23</th>\n",
       "      <td>21656.30</td>\n",
       "    </tr>\n",
       "    <tr>\n",
       "      <th>02</th>\n",
       "      <td>3812.42</td>\n",
       "    </tr>\n",
       "  </tbody>\n",
       "</table>\n",
       "</div>"
      ],
      "text/plain": [
       "           판매량\n",
       "hour          \n",
       "17   100686.90\n",
       "18    88702.23\n",
       "16    87447.69\n",
       "11    78470.99\n",
       "19    77719.99\n",
       "10    70340.79\n",
       "13    60601.58\n",
       "20    59892.50\n",
       "09    59842.47\n",
       "15    56922.43\n",
       "07    56586.27\n",
       "14    51800.05\n",
       "12    51606.86\n",
       "08    49971.97\n",
       "21    42014.85\n",
       "22    33718.95\n",
       "00    31017.10\n",
       "06    29649.58\n",
       "01    21958.91\n",
       "23    21656.30\n",
       "02     3812.42"
      ]
     },
     "execution_count": 52,
     "metadata": {},
     "output_type": "execute_result"
    }
   ],
   "source": [
    "pd.DataFrame(day_on, index = day_on.index, columns = [\"판매량\"]).sort_values(by=\"판매량\",ascending=False)"
   ]
  },
  {
   "cell_type": "code",
   "execution_count": 139,
   "metadata": {},
   "outputs": [],
   "source": [
    "new_df = new_df[new_df[\"season\"].isin([\"겨울\",\"가을\"])].reset_index(drop=True)"
   ]
  },
  {
   "cell_type": "code",
   "execution_count": 140,
   "metadata": {
    "hide_input": false
   },
   "outputs": [
    {
     "data": {
      "text/html": [
       "<div>\n",
       "<style scoped>\n",
       "    .dataframe tbody tr th:only-of-type {\n",
       "        vertical-align: middle;\n",
       "    }\n",
       "\n",
       "    .dataframe tbody tr th {\n",
       "        vertical-align: top;\n",
       "    }\n",
       "\n",
       "    .dataframe thead th {\n",
       "        text-align: right;\n",
       "    }\n",
       "</style>\n",
       "<table border=\"1\" class=\"dataframe\">\n",
       "  <thead>\n",
       "    <tr style=\"text-align: right;\">\n",
       "      <th></th>\n",
       "      <th>판매량</th>\n",
       "      <th>취급액</th>\n",
       "      <th>weekday</th>\n",
       "      <th>방송일시</th>\n",
       "      <th>방송날짜</th>\n",
       "      <th>holiday</th>\n",
       "      <th>season</th>\n",
       "      <th>방송시간</th>\n",
       "      <th>Day_off</th>\n",
       "      <th>hour</th>\n",
       "      <th>Prime</th>\n",
       "    </tr>\n",
       "  </thead>\n",
       "  <tbody>\n",
       "  </tbody>\n",
       "</table>\n",
       "</div>"
      ],
      "text/plain": [
       "Empty DataFrame\n",
       "Columns: [판매량, 취급액, weekday, 방송일시, 방송날짜, holiday, season, 방송시간, Day_off, hour, Prime]\n",
       "Index: []"
      ]
     },
     "execution_count": 140,
     "metadata": {},
     "output_type": "execute_result"
    }
   ],
   "source": [
    "new_df.drop(new_df[new_df[\"취급액\"]==0].index,axis=0,inplace=True)\n",
    "new_df.drop(new_df[new_df[\"취급액\"]==50000].index,axis=0,inplace=True)\n",
    "new_df[new_df[\"취급액\"]==0]"
   ]
  },
  {
   "cell_type": "code",
   "execution_count": 141,
   "metadata": {
    "hide_input": true
   },
   "outputs": [
    {
     "data": {
      "text/html": [
       "<div>\n",
       "<style scoped>\n",
       "    .dataframe tbody tr th:only-of-type {\n",
       "        vertical-align: middle;\n",
       "    }\n",
       "\n",
       "    .dataframe tbody tr th {\n",
       "        vertical-align: top;\n",
       "    }\n",
       "\n",
       "    .dataframe thead th {\n",
       "        text-align: right;\n",
       "    }\n",
       "</style>\n",
       "<table border=\"1\" class=\"dataframe\">\n",
       "  <thead>\n",
       "    <tr style=\"text-align: right;\">\n",
       "      <th></th>\n",
       "      <th>판매량</th>\n",
       "      <th>취급액</th>\n",
       "      <th>weekday</th>\n",
       "      <th>방송일시</th>\n",
       "      <th>방송날짜</th>\n",
       "      <th>holiday</th>\n",
       "      <th>season</th>\n",
       "      <th>방송시간</th>\n",
       "      <th>Day_off</th>\n",
       "      <th>hour</th>\n",
       "      <th>Prime</th>\n",
       "    </tr>\n",
       "  </thead>\n",
       "  <tbody>\n",
       "    <tr>\n",
       "      <th>0</th>\n",
       "      <td>52.61</td>\n",
       "      <td>2099000.00</td>\n",
       "      <td>1</td>\n",
       "      <td>2019-01-01 06:00:00</td>\n",
       "      <td>2019-01-01</td>\n",
       "      <td>1</td>\n",
       "      <td>겨울</td>\n",
       "      <td>06:00</td>\n",
       "      <td>1</td>\n",
       "      <td>06</td>\n",
       "      <td>0</td>\n",
       "    </tr>\n",
       "    <tr>\n",
       "      <th>1</th>\n",
       "      <td>109.55</td>\n",
       "      <td>4371000.00</td>\n",
       "      <td>1</td>\n",
       "      <td>2019-01-01 06:00:00</td>\n",
       "      <td>2019-01-01</td>\n",
       "      <td>1</td>\n",
       "      <td>겨울</td>\n",
       "      <td>06:00</td>\n",
       "      <td>1</td>\n",
       "      <td>06</td>\n",
       "      <td>0</td>\n",
       "    </tr>\n",
       "    <tr>\n",
       "      <th>2</th>\n",
       "      <td>81.75</td>\n",
       "      <td>3262000.00</td>\n",
       "      <td>1</td>\n",
       "      <td>2019-01-01 06:20:00</td>\n",
       "      <td>2019-01-01</td>\n",
       "      <td>1</td>\n",
       "      <td>겨울</td>\n",
       "      <td>06:20</td>\n",
       "      <td>1</td>\n",
       "      <td>06</td>\n",
       "      <td>0</td>\n",
       "    </tr>\n",
       "    <tr>\n",
       "      <th>3</th>\n",
       "      <td>174.31</td>\n",
       "      <td>6955000.00</td>\n",
       "      <td>1</td>\n",
       "      <td>2019-01-01 06:20:00</td>\n",
       "      <td>2019-01-01</td>\n",
       "      <td>1</td>\n",
       "      <td>겨울</td>\n",
       "      <td>06:20</td>\n",
       "      <td>1</td>\n",
       "      <td>06</td>\n",
       "      <td>0</td>\n",
       "    </tr>\n",
       "    <tr>\n",
       "      <th>4</th>\n",
       "      <td>167.22</td>\n",
       "      <td>6672000.00</td>\n",
       "      <td>1</td>\n",
       "      <td>2019-01-01 06:40:00</td>\n",
       "      <td>2019-01-01</td>\n",
       "      <td>1</td>\n",
       "      <td>겨울</td>\n",
       "      <td>06:40</td>\n",
       "      <td>1</td>\n",
       "      <td>06</td>\n",
       "      <td>0</td>\n",
       "    </tr>\n",
       "  </tbody>\n",
       "</table>\n",
       "</div>"
      ],
      "text/plain": [
       "     판매량        취급액  weekday                방송일시        방송날짜  holiday season  \\\n",
       "0  52.61 2099000.00        1 2019-01-01 06:00:00  2019-01-01        1     겨울   \n",
       "1 109.55 4371000.00        1 2019-01-01 06:00:00  2019-01-01        1     겨울   \n",
       "2  81.75 3262000.00        1 2019-01-01 06:20:00  2019-01-01        1     겨울   \n",
       "3 174.31 6955000.00        1 2019-01-01 06:20:00  2019-01-01        1     겨울   \n",
       "4 167.22 6672000.00        1 2019-01-01 06:40:00  2019-01-01        1     겨울   \n",
       "\n",
       "    방송시간  Day_off hour  Prime  \n",
       "0  06:00        1   06      0  \n",
       "1  06:00        1   06      0  \n",
       "2  06:20        1   06      0  \n",
       "3  06:20        1   06      0  \n",
       "4  06:40        1   06      0  "
      ]
     },
     "execution_count": 141,
     "metadata": {},
     "output_type": "execute_result"
    }
   ],
   "source": [
    "def prime_or_not(season, hour, day_off):\n",
    "    \n",
    "    if season ==\"가을\":\n",
    "        if day_off == 1:\n",
    "            #휴일인경우\n",
    "            if hour in [\"16\",\"17\",\"21\",\"22\"]:\n",
    "                return 1 \n",
    "            else :\n",
    "                return 0 \n",
    "        else: \n",
    "            #아닌경우\n",
    "            if hour in [\"20\",\"21\",\"22\"]:\n",
    "                return 1 \n",
    "            else : \n",
    "                return 0\n",
    "            \n",
    "    elif season == \"겨울\":\n",
    "        if day_off == 1:\n",
    "            #휴일인경우\n",
    "            if hour in [\"16\",\"17\",\"21\",\"22\"]:\n",
    "                return 1\n",
    "            else : \n",
    "                return 0 \n",
    "            \n",
    "        else: \n",
    "            #아닌경우\n",
    "            if hour in [\"20\",\"21\",\"22\"]:\n",
    "                return 1 \n",
    "            else: \n",
    "                return 0 \n",
    "\n",
    "new_df[\"Prime\"] = new_df.apply(lambda x : prime_or_not(x[\"season\"],x[\"hour\"],x[\"Day_off\"]),axis=1)\n",
    "new_df.head()"
   ]
  },
  {
   "cell_type": "code",
   "execution_count": 156,
   "metadata": {},
   "outputs": [
    {
     "data": {
      "application/vnd.plotly.v1+json": {
       "config": {
        "linkText": "Export to plot.ly",
        "plotlyServerURL": "https://plot.ly",
        "showLink": true
       },
       "data": [
        {
         "marker": {
          "color": "rgba(255, 153, 51, 0.6)",
          "line": {
           "color": "rgba(255, 153, 51, 1.0)",
           "width": 1
          }
         },
         "name": "취급액",
         "orientation": "v",
         "text": "",
         "type": "bar",
         "uid": "0eae3268-0d31-442e-88d2-120aedc9be1a",
         "x": [
          "(가을,0)",
          "(가을,1)",
          "(겨울,0)",
          "(겨울,1)"
         ],
         "y": [
          24845957.818377215,
          26070597.16758458,
          24638264.281129654,
          27419321.78217822
         ]
        }
       ],
       "layout": {
        "legend": {
         "bgcolor": "#F5F6F9",
         "font": {
          "color": "#4D5663"
         }
        },
        "paper_bgcolor": "#F5F6F9",
        "plot_bgcolor": "#F5F6F9",
        "title": {
         "font": {
          "color": "#4D5663"
         }
        },
        "xaxis": {
         "gridcolor": "#E1E5ED",
         "showgrid": true,
         "tickfont": {
          "color": "#4D5663"
         },
         "title": {
          "font": {
           "color": "#4D5663"
          },
          "text": ""
         },
         "zerolinecolor": "#E1E5ED"
        },
        "yaxis": {
         "gridcolor": "#E1E5ED",
         "showgrid": true,
         "tickfont": {
          "color": "#4D5663"
         },
         "title": {
          "font": {
           "color": "#4D5663"
          },
          "text": ""
         },
         "zerolinecolor": "#E1E5ED"
        }
       }
      },
      "text/html": [
       "<div>\n",
       "        \n",
       "        \n",
       "            <div id=\"e3f7e0d5-5eca-48a4-8e96-2a337477550c\" class=\"plotly-graph-div\" style=\"height:525px; width:100%;\"></div>\n",
       "            <script type=\"text/javascript\">\n",
       "                require([\"plotly\"], function(Plotly) {\n",
       "                    window.PLOTLYENV=window.PLOTLYENV || {};\n",
       "                    window.PLOTLYENV.BASE_URL='https://plot.ly';\n",
       "                    \n",
       "                if (document.getElementById(\"e3f7e0d5-5eca-48a4-8e96-2a337477550c\")) {\n",
       "                    Plotly.newPlot(\n",
       "                        'e3f7e0d5-5eca-48a4-8e96-2a337477550c',\n",
       "                        [{\"marker\": {\"color\": \"rgba(255, 153, 51, 0.6)\", \"line\": {\"color\": \"rgba(255, 153, 51, 1.0)\", \"width\": 1}}, \"name\": \"\\ucde8\\uae09\\uc561\", \"orientation\": \"v\", \"text\": \"\", \"type\": \"bar\", \"uid\": \"0eae3268-0d31-442e-88d2-120aedc9be1a\", \"x\": [\"(\\uac00\\uc744,0)\", \"(\\uac00\\uc744,1)\", \"(\\uaca8\\uc6b8,0)\", \"(\\uaca8\\uc6b8,1)\"], \"y\": [24845957.818377215, 26070597.16758458, 24638264.281129654, 27419321.78217822]}],\n",
       "                        {\"legend\": {\"bgcolor\": \"#F5F6F9\", \"font\": {\"color\": \"#4D5663\"}}, \"paper_bgcolor\": \"#F5F6F9\", \"plot_bgcolor\": \"#F5F6F9\", \"title\": {\"font\": {\"color\": \"#4D5663\"}}, \"xaxis\": {\"gridcolor\": \"#E1E5ED\", \"showgrid\": true, \"tickfont\": {\"color\": \"#4D5663\"}, \"title\": {\"font\": {\"color\": \"#4D5663\"}, \"text\": \"\"}, \"zerolinecolor\": \"#E1E5ED\"}, \"yaxis\": {\"gridcolor\": \"#E1E5ED\", \"showgrid\": true, \"tickfont\": {\"color\": \"#4D5663\"}, \"title\": {\"font\": {\"color\": \"#4D5663\"}, \"text\": \"\"}, \"zerolinecolor\": \"#E1E5ED\"}},\n",
       "                        {\"showLink\": true, \"linkText\": \"Export to plot.ly\", \"plotlyServerURL\": \"https://plot.ly\", \"responsive\": true}\n",
       "                    ).then(function(){\n",
       "                            \n",
       "var gd = document.getElementById('e3f7e0d5-5eca-48a4-8e96-2a337477550c');\n",
       "var x = new MutationObserver(function (mutations, observer) {{\n",
       "        var display = window.getComputedStyle(gd).display;\n",
       "        if (!display || display === 'none') {{\n",
       "            console.log([gd, 'removed!']);\n",
       "            Plotly.purge(gd);\n",
       "            observer.disconnect();\n",
       "        }}\n",
       "}});\n",
       "\n",
       "// Listen for the removal of the full notebook cells\n",
       "var notebookContainer = gd.closest('#notebook-container');\n",
       "if (notebookContainer) {{\n",
       "    x.observe(notebookContainer, {childList: true});\n",
       "}}\n",
       "\n",
       "// Listen for the clearing of the current output cell\n",
       "var outputEl = gd.closest('.output');\n",
       "if (outputEl) {{\n",
       "    x.observe(outputEl, {childList: true});\n",
       "}}\n",
       "\n",
       "                        })\n",
       "                };\n",
       "                });\n",
       "            </script>\n",
       "        </div>"
      ]
     },
     "metadata": {},
     "output_type": "display_data"
    },
    {
     "data": {
      "application/vnd.plotly.v1+json": {
       "config": {
        "linkText": "Export to plot.ly",
        "plotlyServerURL": "https://plot.ly",
        "showLink": true
       },
       "data": [
        {
         "marker": {
          "color": "rgba(55, 128, 191, 0.6)",
          "line": {
           "color": "rgba(55, 128, 191, 1.0)",
           "width": 1
          }
         },
         "name": "취급액",
         "orientation": "v",
         "text": "",
         "type": "bar",
         "uid": "d2a5279c-0443-449b-b594-141be248bd95",
         "x": [
          "(가을,0)",
          "(가을,1)",
          "(겨울,0)",
          "(겨울,1)"
         ],
         "y": [
          20019866.541373827,
          25307586.32277766,
          21269497.14176931,
          26643888.250941362
         ]
        }
       ],
       "layout": {
        "legend": {
         "bgcolor": "#F5F6F9",
         "font": {
          "color": "#4D5663"
         }
        },
        "paper_bgcolor": "#F5F6F9",
        "plot_bgcolor": "#F5F6F9",
        "title": {
         "font": {
          "color": "#4D5663"
         }
        },
        "xaxis": {
         "gridcolor": "#E1E5ED",
         "showgrid": true,
         "tickfont": {
          "color": "#4D5663"
         },
         "title": {
          "font": {
           "color": "#4D5663"
          },
          "text": ""
         },
         "zerolinecolor": "#E1E5ED"
        },
        "yaxis": {
         "gridcolor": "#E1E5ED",
         "showgrid": true,
         "tickfont": {
          "color": "#4D5663"
         },
         "title": {
          "font": {
           "color": "#4D5663"
          },
          "text": ""
         },
         "zerolinecolor": "#E1E5ED"
        }
       }
      },
      "text/html": [
       "<div>\n",
       "        \n",
       "        \n",
       "            <div id=\"a258b584-1868-40b4-b1f5-5dc7c8e75e40\" class=\"plotly-graph-div\" style=\"height:525px; width:100%;\"></div>\n",
       "            <script type=\"text/javascript\">\n",
       "                require([\"plotly\"], function(Plotly) {\n",
       "                    window.PLOTLYENV=window.PLOTLYENV || {};\n",
       "                    window.PLOTLYENV.BASE_URL='https://plot.ly';\n",
       "                    \n",
       "                if (document.getElementById(\"a258b584-1868-40b4-b1f5-5dc7c8e75e40\")) {\n",
       "                    Plotly.newPlot(\n",
       "                        'a258b584-1868-40b4-b1f5-5dc7c8e75e40',\n",
       "                        [{\"marker\": {\"color\": \"rgba(55, 128, 191, 0.6)\", \"line\": {\"color\": \"rgba(55, 128, 191, 1.0)\", \"width\": 1}}, \"name\": \"\\ucde8\\uae09\\uc561\", \"orientation\": \"v\", \"text\": \"\", \"type\": \"bar\", \"uid\": \"d2a5279c-0443-449b-b594-141be248bd95\", \"x\": [\"(\\uac00\\uc744,0)\", \"(\\uac00\\uc744,1)\", \"(\\uaca8\\uc6b8,0)\", \"(\\uaca8\\uc6b8,1)\"], \"y\": [20019866.541373827, 25307586.32277766, 21269497.14176931, 26643888.250941362]}],\n",
       "                        {\"legend\": {\"bgcolor\": \"#F5F6F9\", \"font\": {\"color\": \"#4D5663\"}}, \"paper_bgcolor\": \"#F5F6F9\", \"plot_bgcolor\": \"#F5F6F9\", \"title\": {\"font\": {\"color\": \"#4D5663\"}}, \"xaxis\": {\"gridcolor\": \"#E1E5ED\", \"showgrid\": true, \"tickfont\": {\"color\": \"#4D5663\"}, \"title\": {\"font\": {\"color\": \"#4D5663\"}, \"text\": \"\"}, \"zerolinecolor\": \"#E1E5ED\"}, \"yaxis\": {\"gridcolor\": \"#E1E5ED\", \"showgrid\": true, \"tickfont\": {\"color\": \"#4D5663\"}, \"title\": {\"font\": {\"color\": \"#4D5663\"}, \"text\": \"\"}, \"zerolinecolor\": \"#E1E5ED\"}},\n",
       "                        {\"showLink\": true, \"linkText\": \"Export to plot.ly\", \"plotlyServerURL\": \"https://plot.ly\", \"responsive\": true}\n",
       "                    ).then(function(){\n",
       "                            \n",
       "var gd = document.getElementById('a258b584-1868-40b4-b1f5-5dc7c8e75e40');\n",
       "var x = new MutationObserver(function (mutations, observer) {{\n",
       "        var display = window.getComputedStyle(gd).display;\n",
       "        if (!display || display === 'none') {{\n",
       "            console.log([gd, 'removed!']);\n",
       "            Plotly.purge(gd);\n",
       "            observer.disconnect();\n",
       "        }}\n",
       "}});\n",
       "\n",
       "// Listen for the removal of the full notebook cells\n",
       "var notebookContainer = gd.closest('#notebook-container');\n",
       "if (notebookContainer) {{\n",
       "    x.observe(notebookContainer, {childList: true});\n",
       "}}\n",
       "\n",
       "// Listen for the clearing of the current output cell\n",
       "var outputEl = gd.closest('.output');\n",
       "if (outputEl) {{\n",
       "    x.observe(outputEl, {childList: true});\n",
       "}}\n",
       "\n",
       "                        })\n",
       "                };\n",
       "                });\n",
       "            </script>\n",
       "        </div>"
      ]
     },
     "metadata": {},
     "output_type": "display_data"
    }
   ],
   "source": [
    "import seaborn as sns \n",
    "\n",
    "new_df.groupby([\"season\",\"Prime\"]).mean()[\"취급액\"].iplot(kind=\"bar\")\n",
    "new_df.groupby([\"season\",\"Prime\"]).std()[\"취급액\"].iplot(kind=\"bar\",color = \"blue\")"
   ]
  },
  {
   "cell_type": "code",
   "execution_count": 165,
   "metadata": {},
   "outputs": [],
   "source": [
    "new_df.groupby([\"weekday\",\"hour\"]).describe()[\"취급액\"].to_csv(\"연습.xlsx\")"
   ]
  }
 ],
 "metadata": {
  "celltoolbar": "Raw Cell Format",
  "hide_input": true,
  "kernelspec": {
   "display_name": "Python 3",
   "language": "python",
   "name": "python3"
  },
  "language_info": {
   "codemirror_mode": {
    "name": "ipython",
    "version": 3
   },
   "file_extension": ".py",
   "mimetype": "text/x-python",
   "name": "python",
   "nbconvert_exporter": "python",
   "pygments_lexer": "ipython3",
   "version": "3.7.6"
  }
 },
 "nbformat": 4,
 "nbformat_minor": 4
}
