{
 "cells": [
  {
   "cell_type": "code",
   "execution_count": 1,
   "metadata": {},
   "outputs": [
    {
     "data": {
      "text/html": [
       "        <script type=\"text/javascript\">\n",
       "        window.PlotlyConfig = {MathJaxConfig: 'local'};\n",
       "        if (window.MathJax) {MathJax.Hub.Config({SVG: {font: \"STIX-Web\"}});}\n",
       "        if (typeof require !== 'undefined') {\n",
       "        require.undef(\"plotly\");\n",
       "        requirejs.config({\n",
       "            paths: {\n",
       "                'plotly': ['https://cdn.plot.ly/plotly-latest.min']\n",
       "            }\n",
       "        });\n",
       "        require(['plotly'], function(Plotly) {\n",
       "            window._Plotly = Plotly;\n",
       "        });\n",
       "        }\n",
       "        </script>\n",
       "        "
      ]
     },
     "metadata": {},
     "output_type": "display_data"
    }
   ],
   "source": [
    "import pandas as pd\n",
    "pd.set_option('display.float_format', '{:.2f}'.format) # 항상 float 형식으로\n",
    "\n",
    "import numpy as np \n",
    "\n",
    "# df plot\n",
    "import cufflinks as cf \n",
    "import plotly.plotly as py \n",
    "import matplotlib.pyplot as plt \n",
    "import seaborn as sns \n",
    "\n",
    "# warnings \n",
    "import warnings ; warnings.filterwarnings(\"ignore\")\n",
    "\n",
    "# style\n",
    "plt.style.use(\"ggplot\")\n",
    "cf.go_offline()"
   ]
  },
  {
   "cell_type": "code",
   "execution_count": 2,
   "metadata": {},
   "outputs": [],
   "source": [
    "# 한글 폰트 출력 \n",
    "import matplotlib\n",
    "from matplotlib import font_manager, rc \n",
    "import platform \n",
    "\n",
    "font_name=font_manager.FontProperties(fname=\"c:/Windows/Fonts/malgun.ttf\").get_name()\n",
    "rc(\"font\",family=font_name)\n",
    "matplotlib.rcParams['axes.unicode_minus']=False"
   ]
  },
  {
   "cell_type": "code",
   "execution_count": 3,
   "metadata": {},
   "outputs": [],
   "source": [
    "# 데이터 로드 \n",
    "path = \"C:/Users/sk_jo/Desktop/Project/titanic/\"\n",
    "\n",
    "def load_dataset(): \n",
    "    sales = pd.read_excel(path+\"sales.xlsx\",header =1)\n",
    "    view_rate = pd.read_excel(path+\"view_rate.xlsx\",header =1, index_col= 0)\n",
    "    return sales, view_rate\n",
    "\n",
    "sales = load_dataset()[0]\n",
    "view_rate = load_dataset()[1]"
   ]
  },
  {
   "cell_type": "markdown",
   "metadata": {},
   "source": [
    "# 데이터 전처리 "
   ]
  },
  {
   "cell_type": "code",
   "execution_count": 4,
   "metadata": {
    "scrolled": true
   },
   "outputs": [
    {
     "name": "stdout",
     "output_type": "stream",
     "text": [
      "1990\n"
     ]
    }
   ],
   "source": [
    "## TODO \n",
    "## 1.무형 상품은 추정 제외 \n",
    "## 2.결측된 노출분 채우기 (직전의 값 집어넣기) \n",
    "## 3. 판매단가 > 취급액이면 취급액 0 \n",
    "##\n",
    "\n",
    "def custom(price, total):\n",
    "    # 3전처리 \n",
    "    if price > total: return 0\n",
    "    else: return total\n",
    "\n",
    "def pre_processing(df): \n",
    "    # 1. 무형 상품 추정 제외 \n",
    "    df = df.drop(df[df[\"상품군\"]==\"무형\"].index,axis = 0)\n",
    "    # 2. 결측된 노출분 채우기 \n",
    "    for i,row in df.iterrows():\n",
    "        val = row[\"노출(분)\"]\n",
    "        if i == 0:\n",
    "            continue \n",
    "        if np.isnan(val):\n",
    "            if df.loc[i,\"방송일시\"] == df.loc[i-1,\"방송일시\"]:\n",
    "                df.loc[i,\"노출(분)\"] = df.loc[i-1,\"노출(분)\"]\n",
    "            else :\n",
    "                continue \n",
    "                \n",
    "    # 3. 판매단가 > 취급액이면 취급액 0 \n",
    "    df[\"취급액\"] = df.apply(lambda x : custom(x[\"판매단가\"], x[\"취급액\"]),axis=1)\n",
    "    print(sum((sales[\"판매단가\"] > sales[\"취급액\"]) & (sales['취급액'] != 0)))\n",
    "    # 4. month, day, hour, minute, weekday 열 추가 \n",
    "    df[\"방송일시\"] = pd.to_datetime(df[\"방송일시\"])\n",
    "    df['month'] = pd.DatetimeIndex(df['방송일시']).month\n",
    "    df['day'] = pd.DatetimeIndex(df['방송일시']).day\n",
    "    df['hour'] = pd.DatetimeIndex(df['방송일시']).hour\n",
    "    df['minute'] = pd.DatetimeIndex(df['방송일시']).minute\n",
    "    df['weekday'] = pd.DatetimeIndex(df['방송일시']).weekday\n",
    "    \n",
    "    # reset_index\n",
    "    df = df.reset_index(drop=True)\n",
    "    \n",
    "    return df \n",
    "\n",
    "sales = pre_processing(sales)"
   ]
  },
  {
   "cell_type": "code",
   "execution_count": 85,
   "metadata": {},
   "outputs": [
    {
     "data": {
      "text/html": [
       "<div>\n",
       "<style scoped>\n",
       "    .dataframe tbody tr th:only-of-type {\n",
       "        vertical-align: middle;\n",
       "    }\n",
       "\n",
       "    .dataframe tbody tr th {\n",
       "        vertical-align: top;\n",
       "    }\n",
       "\n",
       "    .dataframe thead th {\n",
       "        text-align: right;\n",
       "    }\n",
       "</style>\n",
       "<table border=\"1\" class=\"dataframe\">\n",
       "  <thead>\n",
       "    <tr style=\"text-align: right;\">\n",
       "      <th></th>\n",
       "      <th>판매량</th>\n",
       "      <th>취급액</th>\n",
       "      <th>weekday</th>\n",
       "      <th>방송일시</th>\n",
       "      <th>방송날짜</th>\n",
       "      <th>holiday</th>\n",
       "    </tr>\n",
       "  </thead>\n",
       "  <tbody>\n",
       "    <tr>\n",
       "      <th>0</th>\n",
       "      <td>52.61</td>\n",
       "      <td>2099000.00</td>\n",
       "      <td>1</td>\n",
       "      <td>2019-01-01 06:00:00</td>\n",
       "      <td>2019-01-01</td>\n",
       "      <td>1</td>\n",
       "    </tr>\n",
       "    <tr>\n",
       "      <th>1</th>\n",
       "      <td>109.55</td>\n",
       "      <td>4371000.00</td>\n",
       "      <td>1</td>\n",
       "      <td>2019-01-01 06:00:00</td>\n",
       "      <td>2019-01-01</td>\n",
       "      <td>1</td>\n",
       "    </tr>\n",
       "    <tr>\n",
       "      <th>2</th>\n",
       "      <td>81.75</td>\n",
       "      <td>3262000.00</td>\n",
       "      <td>1</td>\n",
       "      <td>2019-01-01 06:20:00</td>\n",
       "      <td>2019-01-01</td>\n",
       "      <td>1</td>\n",
       "    </tr>\n",
       "    <tr>\n",
       "      <th>3</th>\n",
       "      <td>174.31</td>\n",
       "      <td>6955000.00</td>\n",
       "      <td>1</td>\n",
       "      <td>2019-01-01 06:20:00</td>\n",
       "      <td>2019-01-01</td>\n",
       "      <td>1</td>\n",
       "    </tr>\n",
       "    <tr>\n",
       "      <th>4</th>\n",
       "      <td>167.22</td>\n",
       "      <td>6672000.00</td>\n",
       "      <td>1</td>\n",
       "      <td>2019-01-01 06:40:00</td>\n",
       "      <td>2019-01-01</td>\n",
       "      <td>1</td>\n",
       "    </tr>\n",
       "  </tbody>\n",
       "</table>\n",
       "</div>"
      ],
      "text/plain": [
       "     판매량        취급액  weekday                방송일시        방송날짜  holiday\n",
       "0  52.61 2099000.00        1 2019-01-01 06:00:00  2019-01-01        1\n",
       "1 109.55 4371000.00        1 2019-01-01 06:00:00  2019-01-01        1\n",
       "2  81.75 3262000.00        1 2019-01-01 06:20:00  2019-01-01        1\n",
       "3 174.31 6955000.00        1 2019-01-01 06:20:00  2019-01-01        1\n",
       "4 167.22 6672000.00        1 2019-01-01 06:40:00  2019-01-01        1"
      ]
     },
     "execution_count": 85,
     "metadata": {},
     "output_type": "execute_result"
    }
   ],
   "source": [
    "hol= ['2019-01-01'\n",
    ",'2019-02-04'\n",
    ",'2019-02-05'\n",
    ",'2019-02-06'\n",
    ",'2019-03-01'\n",
    ",'2019-05-05'\n",
    ",'2019-05-06'\n",
    ",'2019-05-12'\n",
    ",'2019-06-06'\n",
    ",'2019-08-15'\n",
    ",'2019-09-12'\n",
    ",'2019-09-13'\n",
    ",'2019-09-14'\n",
    ",'2019-10-03'\n",
    ",'2019-10-09'\n",
    ",'2019-12-25',\n",
    "'2020-01-01']\n",
    "\n",
    "sales['holiday']=(sales['방송날짜'].isin(hol)).astype(int)\n",
    "sales.head()"
   ]
  },
  {
   "cell_type": "code",
   "execution_count": 24,
   "metadata": {},
   "outputs": [
    {
     "data": {
      "text/html": [
       "<div>\n",
       "<style scoped>\n",
       "    .dataframe tbody tr th:only-of-type {\n",
       "        vertical-align: middle;\n",
       "    }\n",
       "\n",
       "    .dataframe tbody tr th {\n",
       "        vertical-align: top;\n",
       "    }\n",
       "\n",
       "    .dataframe thead th {\n",
       "        text-align: right;\n",
       "    }\n",
       "</style>\n",
       "<table border=\"1\" class=\"dataframe\">\n",
       "  <thead>\n",
       "    <tr style=\"text-align: right;\">\n",
       "      <th></th>\n",
       "      <th>방송일시</th>\n",
       "      <th>미세먼지(㎍/㎥)</th>\n",
       "      <th>초미세먼지(㎍/㎥)</th>\n",
       "      <th>오존(ppm)</th>\n",
       "      <th>이산화질소농도(ppm)</th>\n",
       "      <th>일산화탄소농도(ppm)</th>\n",
       "      <th>아황산가스농도(ppm)</th>\n",
       "      <th>미세먼지 주의보 및 경보</th>\n",
       "      <th>평균기온(℃)</th>\n",
       "      <th>최고기온(℃)</th>\n",
       "      <th>최저기온(℃)</th>\n",
       "      <th>season</th>\n",
       "    </tr>\n",
       "  </thead>\n",
       "  <tbody>\n",
       "    <tr>\n",
       "      <th>0</th>\n",
       "      <td>2019-01-01</td>\n",
       "      <td>39.36</td>\n",
       "      <td>26.12</td>\n",
       "      <td>0.01</td>\n",
       "      <td>0.03</td>\n",
       "      <td>0.69</td>\n",
       "      <td>0.00</td>\n",
       "      <td>0</td>\n",
       "      <td>-5.00</td>\n",
       "      <td>-0.60</td>\n",
       "      <td>-8.20</td>\n",
       "      <td>겨울</td>\n",
       "    </tr>\n",
       "    <tr>\n",
       "      <th>1</th>\n",
       "      <td>2019-01-02</td>\n",
       "      <td>33.08</td>\n",
       "      <td>21.36</td>\n",
       "      <td>0.01</td>\n",
       "      <td>0.04</td>\n",
       "      <td>0.68</td>\n",
       "      <td>0.00</td>\n",
       "      <td>0</td>\n",
       "      <td>-4.90</td>\n",
       "      <td>0.20</td>\n",
       "      <td>-8.80</td>\n",
       "      <td>겨울</td>\n",
       "    </tr>\n",
       "    <tr>\n",
       "      <th>2</th>\n",
       "      <td>2019-01-03</td>\n",
       "      <td>38.80</td>\n",
       "      <td>23.36</td>\n",
       "      <td>0.01</td>\n",
       "      <td>0.04</td>\n",
       "      <td>0.74</td>\n",
       "      <td>0.01</td>\n",
       "      <td>0</td>\n",
       "      <td>-3.50</td>\n",
       "      <td>3.20</td>\n",
       "      <td>-8.40</td>\n",
       "      <td>겨울</td>\n",
       "    </tr>\n",
       "    <tr>\n",
       "      <th>3</th>\n",
       "      <td>2019-01-04</td>\n",
       "      <td>59.44</td>\n",
       "      <td>40.36</td>\n",
       "      <td>0.00</td>\n",
       "      <td>0.06</td>\n",
       "      <td>1.06</td>\n",
       "      <td>0.01</td>\n",
       "      <td>0</td>\n",
       "      <td>-1.10</td>\n",
       "      <td>4.10</td>\n",
       "      <td>-6.20</td>\n",
       "      <td>겨울</td>\n",
       "    </tr>\n",
       "    <tr>\n",
       "      <th>4</th>\n",
       "      <td>2019-01-05</td>\n",
       "      <td>65.72</td>\n",
       "      <td>42.52</td>\n",
       "      <td>0.02</td>\n",
       "      <td>0.03</td>\n",
       "      <td>0.64</td>\n",
       "      <td>0.01</td>\n",
       "      <td>1</td>\n",
       "      <td>-2.80</td>\n",
       "      <td>1.10</td>\n",
       "      <td>-5.50</td>\n",
       "      <td>겨울</td>\n",
       "    </tr>\n",
       "  </tbody>\n",
       "</table>\n",
       "</div>"
      ],
      "text/plain": [
       "         방송일시  미세먼지(㎍/㎥)  초미세먼지(㎍/㎥)  오존(ppm)  이산화질소농도(ppm)  일산화탄소농도(ppm)  \\\n",
       "0  2019-01-01      39.36       26.12     0.01          0.03          0.69   \n",
       "1  2019-01-02      33.08       21.36     0.01          0.04          0.68   \n",
       "2  2019-01-03      38.80       23.36     0.01          0.04          0.74   \n",
       "3  2019-01-04      59.44       40.36     0.00          0.06          1.06   \n",
       "4  2019-01-05      65.72       42.52     0.02          0.03          0.64   \n",
       "\n",
       "   아황산가스농도(ppm)  미세먼지 주의보 및 경보  평균기온(℃)  최고기온(℃)  최저기온(℃) season  \n",
       "0          0.00              0    -5.00    -0.60    -8.20     겨울  \n",
       "1          0.00              0    -4.90     0.20    -8.80     겨울  \n",
       "2          0.01              0    -3.50     3.20    -8.40     겨울  \n",
       "3          0.01              0    -1.10     4.10    -6.20     겨울  \n",
       "4          0.01              1    -2.80     1.10    -5.50     겨울  "
      ]
     },
     "execution_count": 24,
     "metadata": {},
     "output_type": "execute_result"
    }
   ],
   "source": [
    "weather = pd.read_csv(\"./weathers.csv\")\n",
    "weather.head()"
   ]
  },
  {
   "cell_type": "code",
   "execution_count": 25,
   "metadata": {},
   "outputs": [],
   "source": [
    "sales[\"판매량\"] = sales[\"취급액\"]/sales[\"판매단가\"]\n",
    "sales = sales[[\"판매량\",\"취급액\",\"weekday\",\"방송일시\"]]\n",
    "weather = weather[[\"방송일시\",\"season\"]]"
   ]
  },
  {
   "cell_type": "code",
   "execution_count": 29,
   "metadata": {},
   "outputs": [],
   "source": [
    "weather = weather.rename(columns = {\"방송일시\":\"방송날짜\"})"
   ]
  },
  {
   "cell_type": "code",
   "execution_count": 32,
   "metadata": {},
   "outputs": [],
   "source": [
    "import datetime \n",
    "\n",
    "sales[\"방송날짜\"] = sales[\"방송일시\"].apply(lambda x : datetime.datetime.strftime(x,\"%Y-%m-%d\"))"
   ]
  },
  {
   "cell_type": "code",
   "execution_count": 33,
   "metadata": {},
   "outputs": [
    {
     "data": {
      "text/html": [
       "<div>\n",
       "<style scoped>\n",
       "    .dataframe tbody tr th:only-of-type {\n",
       "        vertical-align: middle;\n",
       "    }\n",
       "\n",
       "    .dataframe tbody tr th {\n",
       "        vertical-align: top;\n",
       "    }\n",
       "\n",
       "    .dataframe thead th {\n",
       "        text-align: right;\n",
       "    }\n",
       "</style>\n",
       "<table border=\"1\" class=\"dataframe\">\n",
       "  <thead>\n",
       "    <tr style=\"text-align: right;\">\n",
       "      <th></th>\n",
       "      <th>판매량</th>\n",
       "      <th>취급액</th>\n",
       "      <th>weekday</th>\n",
       "      <th>방송일시</th>\n",
       "      <th>방송날짜</th>\n",
       "    </tr>\n",
       "  </thead>\n",
       "  <tbody>\n",
       "    <tr>\n",
       "      <th>0</th>\n",
       "      <td>52.61</td>\n",
       "      <td>2099000.00</td>\n",
       "      <td>1</td>\n",
       "      <td>2019-01-01 06:00:00</td>\n",
       "      <td>2019-01-01</td>\n",
       "    </tr>\n",
       "    <tr>\n",
       "      <th>1</th>\n",
       "      <td>109.55</td>\n",
       "      <td>4371000.00</td>\n",
       "      <td>1</td>\n",
       "      <td>2019-01-01 06:00:00</td>\n",
       "      <td>2019-01-01</td>\n",
       "    </tr>\n",
       "    <tr>\n",
       "      <th>2</th>\n",
       "      <td>81.75</td>\n",
       "      <td>3262000.00</td>\n",
       "      <td>1</td>\n",
       "      <td>2019-01-01 06:20:00</td>\n",
       "      <td>2019-01-01</td>\n",
       "    </tr>\n",
       "    <tr>\n",
       "      <th>3</th>\n",
       "      <td>174.31</td>\n",
       "      <td>6955000.00</td>\n",
       "      <td>1</td>\n",
       "      <td>2019-01-01 06:20:00</td>\n",
       "      <td>2019-01-01</td>\n",
       "    </tr>\n",
       "    <tr>\n",
       "      <th>4</th>\n",
       "      <td>167.22</td>\n",
       "      <td>6672000.00</td>\n",
       "      <td>1</td>\n",
       "      <td>2019-01-01 06:40:00</td>\n",
       "      <td>2019-01-01</td>\n",
       "    </tr>\n",
       "  </tbody>\n",
       "</table>\n",
       "</div>"
      ],
      "text/plain": [
       "     판매량        취급액  weekday                방송일시        방송날짜\n",
       "0  52.61 2099000.00        1 2019-01-01 06:00:00  2019-01-01\n",
       "1 109.55 4371000.00        1 2019-01-01 06:00:00  2019-01-01\n",
       "2  81.75 3262000.00        1 2019-01-01 06:20:00  2019-01-01\n",
       "3 174.31 6955000.00        1 2019-01-01 06:20:00  2019-01-01\n",
       "4 167.22 6672000.00        1 2019-01-01 06:40:00  2019-01-01"
      ]
     },
     "execution_count": 33,
     "metadata": {},
     "output_type": "execute_result"
    }
   ],
   "source": [
    "sales.head()"
   ]
  },
  {
   "cell_type": "code",
   "execution_count": 86,
   "metadata": {},
   "outputs": [],
   "source": [
    "new_df = pd.merge(sales,weather,how = \"inner\", on = \"방송날짜\")"
   ]
  },
  {
   "cell_type": "code",
   "execution_count": 87,
   "metadata": {},
   "outputs": [
    {
     "data": {
      "text/html": [
       "<div>\n",
       "<style scoped>\n",
       "    .dataframe tbody tr th:only-of-type {\n",
       "        vertical-align: middle;\n",
       "    }\n",
       "\n",
       "    .dataframe tbody tr th {\n",
       "        vertical-align: top;\n",
       "    }\n",
       "\n",
       "    .dataframe thead th {\n",
       "        text-align: right;\n",
       "    }\n",
       "</style>\n",
       "<table border=\"1\" class=\"dataframe\">\n",
       "  <thead>\n",
       "    <tr style=\"text-align: right;\">\n",
       "      <th></th>\n",
       "      <th>판매량</th>\n",
       "      <th>취급액</th>\n",
       "      <th>weekday</th>\n",
       "      <th>방송일시</th>\n",
       "      <th>방송날짜</th>\n",
       "      <th>holiday</th>\n",
       "      <th>season</th>\n",
       "      <th>방송시간</th>\n",
       "    </tr>\n",
       "  </thead>\n",
       "  <tbody>\n",
       "    <tr>\n",
       "      <th>0</th>\n",
       "      <td>52.61</td>\n",
       "      <td>2099000.00</td>\n",
       "      <td>1</td>\n",
       "      <td>2019-01-01 06:00:00</td>\n",
       "      <td>2019-01-01</td>\n",
       "      <td>1</td>\n",
       "      <td>겨울</td>\n",
       "      <td>06:00</td>\n",
       "    </tr>\n",
       "    <tr>\n",
       "      <th>1</th>\n",
       "      <td>109.55</td>\n",
       "      <td>4371000.00</td>\n",
       "      <td>1</td>\n",
       "      <td>2019-01-01 06:00:00</td>\n",
       "      <td>2019-01-01</td>\n",
       "      <td>1</td>\n",
       "      <td>겨울</td>\n",
       "      <td>06:00</td>\n",
       "    </tr>\n",
       "    <tr>\n",
       "      <th>2</th>\n",
       "      <td>81.75</td>\n",
       "      <td>3262000.00</td>\n",
       "      <td>1</td>\n",
       "      <td>2019-01-01 06:20:00</td>\n",
       "      <td>2019-01-01</td>\n",
       "      <td>1</td>\n",
       "      <td>겨울</td>\n",
       "      <td>06:20</td>\n",
       "    </tr>\n",
       "    <tr>\n",
       "      <th>3</th>\n",
       "      <td>174.31</td>\n",
       "      <td>6955000.00</td>\n",
       "      <td>1</td>\n",
       "      <td>2019-01-01 06:20:00</td>\n",
       "      <td>2019-01-01</td>\n",
       "      <td>1</td>\n",
       "      <td>겨울</td>\n",
       "      <td>06:20</td>\n",
       "    </tr>\n",
       "    <tr>\n",
       "      <th>4</th>\n",
       "      <td>167.22</td>\n",
       "      <td>6672000.00</td>\n",
       "      <td>1</td>\n",
       "      <td>2019-01-01 06:40:00</td>\n",
       "      <td>2019-01-01</td>\n",
       "      <td>1</td>\n",
       "      <td>겨울</td>\n",
       "      <td>06:40</td>\n",
       "    </tr>\n",
       "  </tbody>\n",
       "</table>\n",
       "</div>"
      ],
      "text/plain": [
       "     판매량        취급액  weekday                방송일시        방송날짜  holiday season  \\\n",
       "0  52.61 2099000.00        1 2019-01-01 06:00:00  2019-01-01        1     겨울   \n",
       "1 109.55 4371000.00        1 2019-01-01 06:00:00  2019-01-01        1     겨울   \n",
       "2  81.75 3262000.00        1 2019-01-01 06:20:00  2019-01-01        1     겨울   \n",
       "3 174.31 6955000.00        1 2019-01-01 06:20:00  2019-01-01        1     겨울   \n",
       "4 167.22 6672000.00        1 2019-01-01 06:40:00  2019-01-01        1     겨울   \n",
       "\n",
       "    방송시간  \n",
       "0  06:00  \n",
       "1  06:00  \n",
       "2  06:20  \n",
       "3  06:20  \n",
       "4  06:40  "
      ]
     },
     "execution_count": 87,
     "metadata": {},
     "output_type": "execute_result"
    }
   ],
   "source": [
    "new_df[\"방송시간\"] = new_df[\"방송일시\"].apply(lambda x : datetime.datetime.strftime(x,\"%H:%M\"))\n",
    "new_df.head()"
   ]
  },
  {
   "cell_type": "code",
   "execution_count": 89,
   "metadata": {},
   "outputs": [
    {
     "data": {
      "text/html": [
       "<div>\n",
       "<style scoped>\n",
       "    .dataframe tbody tr th:only-of-type {\n",
       "        vertical-align: middle;\n",
       "    }\n",
       "\n",
       "    .dataframe tbody tr th {\n",
       "        vertical-align: top;\n",
       "    }\n",
       "\n",
       "    .dataframe thead th {\n",
       "        text-align: right;\n",
       "    }\n",
       "</style>\n",
       "<table border=\"1\" class=\"dataframe\">\n",
       "  <thead>\n",
       "    <tr style=\"text-align: right;\">\n",
       "      <th></th>\n",
       "      <th>판매량</th>\n",
       "      <th>취급액</th>\n",
       "      <th>weekday</th>\n",
       "      <th>방송일시</th>\n",
       "      <th>방송날짜</th>\n",
       "      <th>holiday</th>\n",
       "      <th>season</th>\n",
       "      <th>방송시간</th>\n",
       "      <th>Day_off</th>\n",
       "    </tr>\n",
       "  </thead>\n",
       "  <tbody>\n",
       "    <tr>\n",
       "      <th>0</th>\n",
       "      <td>52.61</td>\n",
       "      <td>2099000.00</td>\n",
       "      <td>1</td>\n",
       "      <td>2019-01-01 06:00:00</td>\n",
       "      <td>2019-01-01</td>\n",
       "      <td>1</td>\n",
       "      <td>겨울</td>\n",
       "      <td>06:00</td>\n",
       "      <td>1</td>\n",
       "    </tr>\n",
       "    <tr>\n",
       "      <th>1</th>\n",
       "      <td>109.55</td>\n",
       "      <td>4371000.00</td>\n",
       "      <td>1</td>\n",
       "      <td>2019-01-01 06:00:00</td>\n",
       "      <td>2019-01-01</td>\n",
       "      <td>1</td>\n",
       "      <td>겨울</td>\n",
       "      <td>06:00</td>\n",
       "      <td>1</td>\n",
       "    </tr>\n",
       "    <tr>\n",
       "      <th>2</th>\n",
       "      <td>81.75</td>\n",
       "      <td>3262000.00</td>\n",
       "      <td>1</td>\n",
       "      <td>2019-01-01 06:20:00</td>\n",
       "      <td>2019-01-01</td>\n",
       "      <td>1</td>\n",
       "      <td>겨울</td>\n",
       "      <td>06:20</td>\n",
       "      <td>1</td>\n",
       "    </tr>\n",
       "    <tr>\n",
       "      <th>3</th>\n",
       "      <td>174.31</td>\n",
       "      <td>6955000.00</td>\n",
       "      <td>1</td>\n",
       "      <td>2019-01-01 06:20:00</td>\n",
       "      <td>2019-01-01</td>\n",
       "      <td>1</td>\n",
       "      <td>겨울</td>\n",
       "      <td>06:20</td>\n",
       "      <td>1</td>\n",
       "    </tr>\n",
       "    <tr>\n",
       "      <th>4</th>\n",
       "      <td>167.22</td>\n",
       "      <td>6672000.00</td>\n",
       "      <td>1</td>\n",
       "      <td>2019-01-01 06:40:00</td>\n",
       "      <td>2019-01-01</td>\n",
       "      <td>1</td>\n",
       "      <td>겨울</td>\n",
       "      <td>06:40</td>\n",
       "      <td>1</td>\n",
       "    </tr>\n",
       "  </tbody>\n",
       "</table>\n",
       "</div>"
      ],
      "text/plain": [
       "     판매량        취급액  weekday                방송일시        방송날짜  holiday season  \\\n",
       "0  52.61 2099000.00        1 2019-01-01 06:00:00  2019-01-01        1     겨울   \n",
       "1 109.55 4371000.00        1 2019-01-01 06:00:00  2019-01-01        1     겨울   \n",
       "2  81.75 3262000.00        1 2019-01-01 06:20:00  2019-01-01        1     겨울   \n",
       "3 174.31 6955000.00        1 2019-01-01 06:20:00  2019-01-01        1     겨울   \n",
       "4 167.22 6672000.00        1 2019-01-01 06:40:00  2019-01-01        1     겨울   \n",
       "\n",
       "    방송시간  Day_off  \n",
       "0  06:00        1  \n",
       "1  06:00        1  \n",
       "2  06:20        1  \n",
       "3  06:20        1  \n",
       "4  06:40        1  "
      ]
     },
     "execution_count": 89,
     "metadata": {},
     "output_type": "execute_result"
    }
   ],
   "source": [
    "#쉬는날과 안쉬는날의 데이터로 만들어 봅니다.\n",
    "def check_off(weekday, holiday):\n",
    "    if (weekday in [5,6] ) or (holiday == 1) : \n",
    "        return 1 \n",
    "    else:\n",
    "        return 0 \n",
    "    \n",
    "new_df[\"Day_off\"] = new_df.apply(lambda x: check_off(x[\"weekday\"],x[\"holiday\"]) ,axis=1)\n",
    "new_df.head()    "
   ]
  },
  {
   "cell_type": "markdown",
   "metadata": {},
   "source": [
    "season별 주중 주말 데이터의 시간대별 판매량 및 취급액 차이"
   ]
  },
  {
   "cell_type": "code",
   "execution_count": 92,
   "metadata": {
    "scrolled": true
   },
   "outputs": [
    {
     "data": {
      "text/html": [
       "<div>\n",
       "<style scoped>\n",
       "    .dataframe tbody tr th:only-of-type {\n",
       "        vertical-align: middle;\n",
       "    }\n",
       "\n",
       "    .dataframe tbody tr th {\n",
       "        vertical-align: top;\n",
       "    }\n",
       "\n",
       "    .dataframe thead th {\n",
       "        text-align: right;\n",
       "    }\n",
       "</style>\n",
       "<table border=\"1\" class=\"dataframe\">\n",
       "  <thead>\n",
       "    <tr style=\"text-align: right;\">\n",
       "      <th></th>\n",
       "      <th>판매량</th>\n",
       "      <th>취급액</th>\n",
       "      <th>weekday</th>\n",
       "      <th>방송일시</th>\n",
       "      <th>방송날짜</th>\n",
       "      <th>holiday</th>\n",
       "      <th>season</th>\n",
       "      <th>방송시간</th>\n",
       "      <th>Day_off</th>\n",
       "      <th>hour</th>\n",
       "    </tr>\n",
       "  </thead>\n",
       "  <tbody>\n",
       "    <tr>\n",
       "      <th>0</th>\n",
       "      <td>52.61</td>\n",
       "      <td>2099000.00</td>\n",
       "      <td>1</td>\n",
       "      <td>2019-01-01 06:00:00</td>\n",
       "      <td>2019-01-01</td>\n",
       "      <td>1</td>\n",
       "      <td>겨울</td>\n",
       "      <td>06:00</td>\n",
       "      <td>1</td>\n",
       "      <td>06</td>\n",
       "    </tr>\n",
       "    <tr>\n",
       "      <th>1</th>\n",
       "      <td>109.55</td>\n",
       "      <td>4371000.00</td>\n",
       "      <td>1</td>\n",
       "      <td>2019-01-01 06:00:00</td>\n",
       "      <td>2019-01-01</td>\n",
       "      <td>1</td>\n",
       "      <td>겨울</td>\n",
       "      <td>06:00</td>\n",
       "      <td>1</td>\n",
       "      <td>06</td>\n",
       "    </tr>\n",
       "    <tr>\n",
       "      <th>2</th>\n",
       "      <td>81.75</td>\n",
       "      <td>3262000.00</td>\n",
       "      <td>1</td>\n",
       "      <td>2019-01-01 06:20:00</td>\n",
       "      <td>2019-01-01</td>\n",
       "      <td>1</td>\n",
       "      <td>겨울</td>\n",
       "      <td>06:20</td>\n",
       "      <td>1</td>\n",
       "      <td>06</td>\n",
       "    </tr>\n",
       "    <tr>\n",
       "      <th>3</th>\n",
       "      <td>174.31</td>\n",
       "      <td>6955000.00</td>\n",
       "      <td>1</td>\n",
       "      <td>2019-01-01 06:20:00</td>\n",
       "      <td>2019-01-01</td>\n",
       "      <td>1</td>\n",
       "      <td>겨울</td>\n",
       "      <td>06:20</td>\n",
       "      <td>1</td>\n",
       "      <td>06</td>\n",
       "    </tr>\n",
       "    <tr>\n",
       "      <th>4</th>\n",
       "      <td>167.22</td>\n",
       "      <td>6672000.00</td>\n",
       "      <td>1</td>\n",
       "      <td>2019-01-01 06:40:00</td>\n",
       "      <td>2019-01-01</td>\n",
       "      <td>1</td>\n",
       "      <td>겨울</td>\n",
       "      <td>06:40</td>\n",
       "      <td>1</td>\n",
       "      <td>06</td>\n",
       "    </tr>\n",
       "  </tbody>\n",
       "</table>\n",
       "</div>"
      ],
      "text/plain": [
       "     판매량        취급액  weekday                방송일시        방송날짜  holiday season  \\\n",
       "0  52.61 2099000.00        1 2019-01-01 06:00:00  2019-01-01        1     겨울   \n",
       "1 109.55 4371000.00        1 2019-01-01 06:00:00  2019-01-01        1     겨울   \n",
       "2  81.75 3262000.00        1 2019-01-01 06:20:00  2019-01-01        1     겨울   \n",
       "3 174.31 6955000.00        1 2019-01-01 06:20:00  2019-01-01        1     겨울   \n",
       "4 167.22 6672000.00        1 2019-01-01 06:40:00  2019-01-01        1     겨울   \n",
       "\n",
       "    방송시간  Day_off hour  \n",
       "0  06:00        1   06  \n",
       "1  06:00        1   06  \n",
       "2  06:20        1   06  \n",
       "3  06:20        1   06  \n",
       "4  06:40        1   06  "
      ]
     },
     "execution_count": 92,
     "metadata": {},
     "output_type": "execute_result"
    }
   ],
   "source": [
    "new_df[\"hour\"] = new_df[\"방송시간\"].apply(lambda x:x.split(\":\")[0] )\n",
    "new_df.head()"
   ]
  },
  {
   "cell_type": "code",
   "execution_count": 95,
   "metadata": {},
   "outputs": [
    {
     "data": {
      "application/vnd.plotly.v1+json": {
       "config": {
        "linkText": "Export to plot.ly",
        "plotlyServerURL": "https://plot.ly",
        "showLink": true
       },
       "data": [
        {
         "marker": {
          "color": "rgba(255, 153, 51, 0.6)",
          "line": {
           "color": "rgba(255, 153, 51, 1.0)",
           "width": 1
          }
         },
         "name": "취급액",
         "orientation": "v",
         "text": "",
         "type": "bar",
         "uid": "c4dab6c7-1ae9-4009-a163-9cc9a9431f69",
         "x": [
          "00",
          "01",
          "02",
          "06",
          "07",
          "08",
          "09",
          "10",
          "11",
          "12",
          "13",
          "14",
          "15",
          "16",
          "17",
          "18",
          "19",
          "20",
          "21",
          "22",
          "23"
         ],
         "y": [
          2366477000,
          1560132000,
          289133000,
          1861628000,
          3251712000,
          3062186000,
          3863468000,
          4123315000,
          4283244000,
          2898075000,
          3462926000,
          3304302000,
          4185332000,
          4362418000,
          4682159000,
          4148905000,
          5253102000,
          6123985000,
          7526297000,
          6163010000,
          3441947000
         ]
        }
       ],
       "layout": {
        "legend": {
         "bgcolor": "#F5F6F9",
         "font": {
          "color": "#4D5663"
         }
        },
        "paper_bgcolor": "#F5F6F9",
        "plot_bgcolor": "#F5F6F9",
        "title": {
         "font": {
          "color": "#4D5663"
         },
         "text": "가을의 쉬지 않는날 시간별 취급액 총합"
        },
        "xaxis": {
         "gridcolor": "#E1E5ED",
         "showgrid": true,
         "tickfont": {
          "color": "#4D5663"
         },
         "title": {
          "font": {
           "color": "#4D5663"
          },
          "text": ""
         },
         "zerolinecolor": "#E1E5ED"
        },
        "yaxis": {
         "gridcolor": "#E1E5ED",
         "showgrid": true,
         "tickfont": {
          "color": "#4D5663"
         },
         "title": {
          "font": {
           "color": "#4D5663"
          },
          "text": ""
         },
         "zerolinecolor": "#E1E5ED"
        }
       }
      },
      "text/html": [
       "<div>\n",
       "        \n",
       "        \n",
       "            <div id=\"105fe578-3e79-4b29-ba29-be1f7ec4251c\" class=\"plotly-graph-div\" style=\"height:525px; width:100%;\"></div>\n",
       "            <script type=\"text/javascript\">\n",
       "                require([\"plotly\"], function(Plotly) {\n",
       "                    window.PLOTLYENV=window.PLOTLYENV || {};\n",
       "                    window.PLOTLYENV.BASE_URL='https://plot.ly';\n",
       "                    \n",
       "                if (document.getElementById(\"105fe578-3e79-4b29-ba29-be1f7ec4251c\")) {\n",
       "                    Plotly.newPlot(\n",
       "                        '105fe578-3e79-4b29-ba29-be1f7ec4251c',\n",
       "                        [{\"marker\": {\"color\": \"rgba(255, 153, 51, 0.6)\", \"line\": {\"color\": \"rgba(255, 153, 51, 1.0)\", \"width\": 1}}, \"name\": \"\\ucde8\\uae09\\uc561\", \"orientation\": \"v\", \"text\": \"\", \"type\": \"bar\", \"uid\": \"c4dab6c7-1ae9-4009-a163-9cc9a9431f69\", \"x\": [\"00\", \"01\", \"02\", \"06\", \"07\", \"08\", \"09\", \"10\", \"11\", \"12\", \"13\", \"14\", \"15\", \"16\", \"17\", \"18\", \"19\", \"20\", \"21\", \"22\", \"23\"], \"y\": [2366477000.0, 1560132000.0, 289133000.0, 1861628000.0, 3251712000.0, 3062186000.0, 3863468000.0, 4123315000.0, 4283244000.0, 2898075000.0, 3462926000.0, 3304302000.0, 4185332000.0, 4362418000.0, 4682159000.0, 4148905000.0, 5253102000.0, 6123985000.0, 7526297000.0, 6163010000.0, 3441947000.0]}],\n",
       "                        {\"legend\": {\"bgcolor\": \"#F5F6F9\", \"font\": {\"color\": \"#4D5663\"}}, \"paper_bgcolor\": \"#F5F6F9\", \"plot_bgcolor\": \"#F5F6F9\", \"title\": {\"font\": {\"color\": \"#4D5663\"}, \"text\": \"\\uac00\\uc744\\uc758 \\uc26c\\uc9c0 \\uc54a\\ub294\\ub0a0 \\uc2dc\\uac04\\ubcc4 \\ucde8\\uae09\\uc561 \\ucd1d\\ud569\"}, \"xaxis\": {\"gridcolor\": \"#E1E5ED\", \"showgrid\": true, \"tickfont\": {\"color\": \"#4D5663\"}, \"title\": {\"font\": {\"color\": \"#4D5663\"}, \"text\": \"\"}, \"zerolinecolor\": \"#E1E5ED\"}, \"yaxis\": {\"gridcolor\": \"#E1E5ED\", \"showgrid\": true, \"tickfont\": {\"color\": \"#4D5663\"}, \"title\": {\"font\": {\"color\": \"#4D5663\"}, \"text\": \"\"}, \"zerolinecolor\": \"#E1E5ED\"}},\n",
       "                        {\"showLink\": true, \"linkText\": \"Export to plot.ly\", \"plotlyServerURL\": \"https://plot.ly\", \"responsive\": true}\n",
       "                    ).then(function(){\n",
       "                            \n",
       "var gd = document.getElementById('105fe578-3e79-4b29-ba29-be1f7ec4251c');\n",
       "var x = new MutationObserver(function (mutations, observer) {{\n",
       "        var display = window.getComputedStyle(gd).display;\n",
       "        if (!display || display === 'none') {{\n",
       "            console.log([gd, 'removed!']);\n",
       "            Plotly.purge(gd);\n",
       "            observer.disconnect();\n",
       "        }}\n",
       "}});\n",
       "\n",
       "// Listen for the removal of the full notebook cells\n",
       "var notebookContainer = gd.closest('#notebook-container');\n",
       "if (notebookContainer) {{\n",
       "    x.observe(notebookContainer, {childList: true});\n",
       "}}\n",
       "\n",
       "// Listen for the clearing of the current output cell\n",
       "var outputEl = gd.closest('.output');\n",
       "if (outputEl) {{\n",
       "    x.observe(outputEl, {childList: true});\n",
       "}}\n",
       "\n",
       "                        })\n",
       "                };\n",
       "                });\n",
       "            </script>\n",
       "        </div>"
      ]
     },
     "metadata": {},
     "output_type": "display_data"
    },
    {
     "data": {
      "application/vnd.plotly.v1+json": {
       "config": {
        "linkText": "Export to plot.ly",
        "plotlyServerURL": "https://plot.ly",
        "showLink": true
       },
       "data": [
        {
         "marker": {
          "color": "rgba(55, 128, 191, 0.6)",
          "line": {
           "color": "rgba(55, 128, 191, 1.0)",
           "width": 1
          }
         },
         "name": "취급액",
         "orientation": "v",
         "text": "",
         "type": "bar",
         "uid": "1e0bbe17-9574-49d2-9707-1dbe24ca554b",
         "x": [
          "00",
          "01",
          "02",
          "06",
          "07",
          "08",
          "09",
          "10",
          "11",
          "12",
          "13",
          "14",
          "15",
          "16",
          "17",
          "18",
          "19",
          "20",
          "21",
          "22",
          "23"
         ],
         "y": [
          527254000,
          870039000,
          193154000,
          995449000,
          2020992000,
          2892255000,
          2846984000,
          2653772000,
          2505773000,
          2426524000,
          2793686000,
          2812899000,
          2879803000,
          3521006000,
          3414653000,
          560356000,
          595047000,
          2250967000,
          3472471000,
          2914307000,
          2251340000
         ]
        }
       ],
       "layout": {
        "legend": {
         "bgcolor": "#F5F6F9",
         "font": {
          "color": "#4D5663"
         }
        },
        "paper_bgcolor": "#F5F6F9",
        "plot_bgcolor": "#F5F6F9",
        "title": {
         "font": {
          "color": "#4D5663"
         },
         "text": "가을의 쉬는날 시간별 취급액 총합"
        },
        "xaxis": {
         "gridcolor": "#E1E5ED",
         "showgrid": true,
         "tickfont": {
          "color": "#4D5663"
         },
         "title": {
          "font": {
           "color": "#4D5663"
          },
          "text": ""
         },
         "zerolinecolor": "#E1E5ED"
        },
        "yaxis": {
         "gridcolor": "#E1E5ED",
         "showgrid": true,
         "tickfont": {
          "color": "#4D5663"
         },
         "title": {
          "font": {
           "color": "#4D5663"
          },
          "text": ""
         },
         "zerolinecolor": "#E1E5ED"
        }
       }
      },
      "text/html": [
       "<div>\n",
       "        \n",
       "        \n",
       "            <div id=\"eb5964cc-31c8-4bf0-b933-6c13f5fa19b3\" class=\"plotly-graph-div\" style=\"height:525px; width:100%;\"></div>\n",
       "            <script type=\"text/javascript\">\n",
       "                require([\"plotly\"], function(Plotly) {\n",
       "                    window.PLOTLYENV=window.PLOTLYENV || {};\n",
       "                    window.PLOTLYENV.BASE_URL='https://plot.ly';\n",
       "                    \n",
       "                if (document.getElementById(\"eb5964cc-31c8-4bf0-b933-6c13f5fa19b3\")) {\n",
       "                    Plotly.newPlot(\n",
       "                        'eb5964cc-31c8-4bf0-b933-6c13f5fa19b3',\n",
       "                        [{\"marker\": {\"color\": \"rgba(55, 128, 191, 0.6)\", \"line\": {\"color\": \"rgba(55, 128, 191, 1.0)\", \"width\": 1}}, \"name\": \"\\ucde8\\uae09\\uc561\", \"orientation\": \"v\", \"text\": \"\", \"type\": \"bar\", \"uid\": \"1e0bbe17-9574-49d2-9707-1dbe24ca554b\", \"x\": [\"00\", \"01\", \"02\", \"06\", \"07\", \"08\", \"09\", \"10\", \"11\", \"12\", \"13\", \"14\", \"15\", \"16\", \"17\", \"18\", \"19\", \"20\", \"21\", \"22\", \"23\"], \"y\": [527254000.0, 870039000.0, 193154000.0, 995449000.0, 2020992000.0, 2892255000.0, 2846984000.0, 2653772000.0, 2505773000.0, 2426524000.0, 2793686000.0, 2812899000.0, 2879803000.0, 3521006000.0, 3414653000.0, 560356000.0, 595047000.0, 2250967000.0, 3472471000.0, 2914307000.0, 2251340000.0]}],\n",
       "                        {\"legend\": {\"bgcolor\": \"#F5F6F9\", \"font\": {\"color\": \"#4D5663\"}}, \"paper_bgcolor\": \"#F5F6F9\", \"plot_bgcolor\": \"#F5F6F9\", \"title\": {\"font\": {\"color\": \"#4D5663\"}, \"text\": \"\\uac00\\uc744\\uc758 \\uc26c\\ub294\\ub0a0 \\uc2dc\\uac04\\ubcc4 \\ucde8\\uae09\\uc561 \\ucd1d\\ud569\"}, \"xaxis\": {\"gridcolor\": \"#E1E5ED\", \"showgrid\": true, \"tickfont\": {\"color\": \"#4D5663\"}, \"title\": {\"font\": {\"color\": \"#4D5663\"}, \"text\": \"\"}, \"zerolinecolor\": \"#E1E5ED\"}, \"yaxis\": {\"gridcolor\": \"#E1E5ED\", \"showgrid\": true, \"tickfont\": {\"color\": \"#4D5663\"}, \"title\": {\"font\": {\"color\": \"#4D5663\"}, \"text\": \"\"}, \"zerolinecolor\": \"#E1E5ED\"}},\n",
       "                        {\"showLink\": true, \"linkText\": \"Export to plot.ly\", \"plotlyServerURL\": \"https://plot.ly\", \"responsive\": true}\n",
       "                    ).then(function(){\n",
       "                            \n",
       "var gd = document.getElementById('eb5964cc-31c8-4bf0-b933-6c13f5fa19b3');\n",
       "var x = new MutationObserver(function (mutations, observer) {{\n",
       "        var display = window.getComputedStyle(gd).display;\n",
       "        if (!display || display === 'none') {{\n",
       "            console.log([gd, 'removed!']);\n",
       "            Plotly.purge(gd);\n",
       "            observer.disconnect();\n",
       "        }}\n",
       "}});\n",
       "\n",
       "// Listen for the removal of the full notebook cells\n",
       "var notebookContainer = gd.closest('#notebook-container');\n",
       "if (notebookContainer) {{\n",
       "    x.observe(notebookContainer, {childList: true});\n",
       "}}\n",
       "\n",
       "// Listen for the clearing of the current output cell\n",
       "var outputEl = gd.closest('.output');\n",
       "if (outputEl) {{\n",
       "    x.observe(outputEl, {childList: true});\n",
       "}}\n",
       "\n",
       "                        })\n",
       "                };\n",
       "                });\n",
       "            </script>\n",
       "        </div>"
      ]
     },
     "metadata": {},
     "output_type": "display_data"
    }
   ],
   "source": [
    "def visualize(df,season, y = \"판매량\"):\n",
    "    # new_df \n",
    "    # season이름 \n",
    "    df = df[df[\"season\"]==season]\n",
    "    day_on = df[df[\"Day_off\"]==0]\n",
    "    day_off = df[df[\"Day_off\"]==1]\n",
    "    \n",
    "    day_on.groupby([\"hour\"]).sum()[y].iplot(kind = \"bar\",title= \"{}의 쉬지 않는날 시간별 {} 총합\".format(season,y))\n",
    "    day_off.groupby([\"hour\"]).sum()[y].iplot(kind = \"bar\",colors = \"blue\",title= \"{}의 쉬는날 시간별 {} 총합\".format(season,y))\n",
    "    \n",
    "        \n",
    "        \n",
    "\n",
    "visualize(new_df,\"가을\",y=\"취급액\")"
   ]
  },
  {
   "cell_type": "code",
   "execution_count": 94,
   "metadata": {},
   "outputs": [
    {
     "data": {
      "application/vnd.plotly.v1+json": {
       "config": {
        "linkText": "Export to plot.ly",
        "plotlyServerURL": "https://plot.ly",
        "showLink": true
       },
       "data": [
        {
         "marker": {
          "color": "rgba(255, 153, 51, 0.6)",
          "line": {
           "color": "rgba(255, 153, 51, 1.0)",
           "width": 1
          }
         },
         "name": "판매량",
         "orientation": "v",
         "text": "",
         "type": "bar",
         "uid": "b7a9814b-7384-4f91-913c-02c9d8896379",
         "x": [
          "00",
          "01",
          "02",
          "06",
          "07",
          "08",
          "09",
          "10",
          "11",
          "12",
          "13",
          "14",
          "15",
          "16",
          "17",
          "18",
          "19",
          "20",
          "21",
          "22",
          "23"
         ],
         "y": [
          0.02734179627806145,
          0.019356937769230823,
          0.0033606745240698462,
          0.02613631275646597,
          0.049881200820295506,
          0.04405064819856539,
          0.052751557988345105,
          0.062005900641429086,
          0.06917273185986272,
          0.045491815772818404,
          0.05342071964513377,
          0.04566211441549432,
          0.050177524539991594,
          0.07708575804205402,
          0.08875621634286386,
          0.07819164677869944,
          0.0685107204494034,
          0.05279566144882958,
          0.03703638876741937,
          0.02972349289539302,
          0.019090180065573285
         ]
        }
       ],
       "layout": {
        "legend": {
         "bgcolor": "#F5F6F9",
         "font": {
          "color": "#4D5663"
         }
        },
        "paper_bgcolor": "#F5F6F9",
        "plot_bgcolor": "#F5F6F9",
        "title": {
         "font": {
          "color": "#4D5663"
         },
         "text": "가을의 주중 시간별 판매량 총합"
        },
        "xaxis": {
         "gridcolor": "#E1E5ED",
         "showgrid": true,
         "tickfont": {
          "color": "#4D5663"
         },
         "title": {
          "font": {
           "color": "#4D5663"
          },
          "text": ""
         },
         "zerolinecolor": "#E1E5ED"
        },
        "yaxis": {
         "gridcolor": "#E1E5ED",
         "showgrid": true,
         "tickfont": {
          "color": "#4D5663"
         },
         "title": {
          "font": {
           "color": "#4D5663"
          },
          "text": ""
         },
         "zerolinecolor": "#E1E5ED"
        }
       }
      },
      "text/html": [
       "<div>\n",
       "        \n",
       "        \n",
       "            <div id=\"e6a1aa56-04da-4f01-b135-58dfe10d3089\" class=\"plotly-graph-div\" style=\"height:525px; width:100%;\"></div>\n",
       "            <script type=\"text/javascript\">\n",
       "                require([\"plotly\"], function(Plotly) {\n",
       "                    window.PLOTLYENV=window.PLOTLYENV || {};\n",
       "                    window.PLOTLYENV.BASE_URL='https://plot.ly';\n",
       "                    \n",
       "                if (document.getElementById(\"e6a1aa56-04da-4f01-b135-58dfe10d3089\")) {\n",
       "                    Plotly.newPlot(\n",
       "                        'e6a1aa56-04da-4f01-b135-58dfe10d3089',\n",
       "                        [{\"marker\": {\"color\": \"rgba(255, 153, 51, 0.6)\", \"line\": {\"color\": \"rgba(255, 153, 51, 1.0)\", \"width\": 1}}, \"name\": \"\\ud310\\ub9e4\\ub7c9\", \"orientation\": \"v\", \"text\": \"\", \"type\": \"bar\", \"uid\": \"b7a9814b-7384-4f91-913c-02c9d8896379\", \"x\": [\"00\", \"01\", \"02\", \"06\", \"07\", \"08\", \"09\", \"10\", \"11\", \"12\", \"13\", \"14\", \"15\", \"16\", \"17\", \"18\", \"19\", \"20\", \"21\", \"22\", \"23\"], \"y\": [0.02734179627806145, 0.019356937769230823, 0.0033606745240698462, 0.02613631275646597, 0.049881200820295506, 0.04405064819856539, 0.052751557988345105, 0.062005900641429086, 0.06917273185986272, 0.045491815772818404, 0.05342071964513377, 0.04566211441549432, 0.050177524539991594, 0.07708575804205402, 0.08875621634286386, 0.07819164677869944, 0.0685107204494034, 0.05279566144882958, 0.03703638876741937, 0.02972349289539302, 0.019090180065573285]}],\n",
       "                        {\"legend\": {\"bgcolor\": \"#F5F6F9\", \"font\": {\"color\": \"#4D5663\"}}, \"paper_bgcolor\": \"#F5F6F9\", \"plot_bgcolor\": \"#F5F6F9\", \"title\": {\"font\": {\"color\": \"#4D5663\"}, \"text\": \"\\uac00\\uc744\\uc758 \\uc8fc\\uc911 \\uc2dc\\uac04\\ubcc4 \\ud310\\ub9e4\\ub7c9 \\ucd1d\\ud569\"}, \"xaxis\": {\"gridcolor\": \"#E1E5ED\", \"showgrid\": true, \"tickfont\": {\"color\": \"#4D5663\"}, \"title\": {\"font\": {\"color\": \"#4D5663\"}, \"text\": \"\"}, \"zerolinecolor\": \"#E1E5ED\"}, \"yaxis\": {\"gridcolor\": \"#E1E5ED\", \"showgrid\": true, \"tickfont\": {\"color\": \"#4D5663\"}, \"title\": {\"font\": {\"color\": \"#4D5663\"}, \"text\": \"\"}, \"zerolinecolor\": \"#E1E5ED\"}},\n",
       "                        {\"showLink\": true, \"linkText\": \"Export to plot.ly\", \"plotlyServerURL\": \"https://plot.ly\", \"responsive\": true}\n",
       "                    ).then(function(){\n",
       "                            \n",
       "var gd = document.getElementById('e6a1aa56-04da-4f01-b135-58dfe10d3089');\n",
       "var x = new MutationObserver(function (mutations, observer) {{\n",
       "        var display = window.getComputedStyle(gd).display;\n",
       "        if (!display || display === 'none') {{\n",
       "            console.log([gd, 'removed!']);\n",
       "            Plotly.purge(gd);\n",
       "            observer.disconnect();\n",
       "        }}\n",
       "}});\n",
       "\n",
       "// Listen for the removal of the full notebook cells\n",
       "var notebookContainer = gd.closest('#notebook-container');\n",
       "if (notebookContainer) {{\n",
       "    x.observe(notebookContainer, {childList: true});\n",
       "}}\n",
       "\n",
       "// Listen for the clearing of the current output cell\n",
       "var outputEl = gd.closest('.output');\n",
       "if (outputEl) {{\n",
       "    x.observe(outputEl, {childList: true});\n",
       "}}\n",
       "\n",
       "                        })\n",
       "                };\n",
       "                });\n",
       "            </script>\n",
       "        </div>"
      ]
     },
     "metadata": {},
     "output_type": "display_data"
    },
    {
     "data": {
      "application/vnd.plotly.v1+json": {
       "config": {
        "linkText": "Export to plot.ly",
        "plotlyServerURL": "https://plot.ly",
        "showLink": true
       },
       "data": [
        {
         "marker": {
          "color": "rgba(55, 128, 191, 0.6)",
          "line": {
           "color": "rgba(55, 128, 191, 1.0)",
           "width": 1
          }
         },
         "name": "판매량",
         "orientation": "v",
         "text": "",
         "type": "bar",
         "uid": "3c477c43-8f09-427c-bc56-8e5fbba21b9b",
         "x": [
          "00",
          "01",
          "02",
          "06",
          "07",
          "08",
          "09",
          "10",
          "11",
          "12",
          "13",
          "14",
          "15",
          "16",
          "17",
          "18",
          "19",
          "20",
          "21",
          "22",
          "23"
         ],
         "y": [
          0.010424236078244513,
          0.02794679741216049,
          0.005464882175063217,
          0.025463613772145385,
          0.05030738483089897,
          0.0649055332048426,
          0.06635299253210118,
          0.05102178687751898,
          0.06065780330841232,
          0.05353070469547026,
          0.06303900337992278,
          0.07642124135728379,
          0.06136732635713199,
          0.11079674658312588,
          0.10807522125039239,
          0.014644723985106845,
          0.010030716623329784,
          0.04923104168905768,
          0.04453565213977689,
          0.021827034834265808,
          0.023955556913748587
         ]
        }
       ],
       "layout": {
        "legend": {
         "bgcolor": "#F5F6F9",
         "font": {
          "color": "#4D5663"
         }
        },
        "paper_bgcolor": "#F5F6F9",
        "plot_bgcolor": "#F5F6F9",
        "title": {
         "font": {
          "color": "#4D5663"
         },
         "text": "가을의 주말 시간별 판매량 총합"
        },
        "xaxis": {
         "gridcolor": "#E1E5ED",
         "showgrid": true,
         "tickfont": {
          "color": "#4D5663"
         },
         "title": {
          "font": {
           "color": "#4D5663"
          },
          "text": ""
         },
         "zerolinecolor": "#E1E5ED"
        },
        "yaxis": {
         "gridcolor": "#E1E5ED",
         "showgrid": true,
         "tickfont": {
          "color": "#4D5663"
         },
         "title": {
          "font": {
           "color": "#4D5663"
          },
          "text": ""
         },
         "zerolinecolor": "#E1E5ED"
        }
       }
      },
      "text/html": [
       "<div>\n",
       "        \n",
       "        \n",
       "            <div id=\"1013da64-127a-4371-98db-df5cedeb21b4\" class=\"plotly-graph-div\" style=\"height:525px; width:100%;\"></div>\n",
       "            <script type=\"text/javascript\">\n",
       "                require([\"plotly\"], function(Plotly) {\n",
       "                    window.PLOTLYENV=window.PLOTLYENV || {};\n",
       "                    window.PLOTLYENV.BASE_URL='https://plot.ly';\n",
       "                    \n",
       "                if (document.getElementById(\"1013da64-127a-4371-98db-df5cedeb21b4\")) {\n",
       "                    Plotly.newPlot(\n",
       "                        '1013da64-127a-4371-98db-df5cedeb21b4',\n",
       "                        [{\"marker\": {\"color\": \"rgba(55, 128, 191, 0.6)\", \"line\": {\"color\": \"rgba(55, 128, 191, 1.0)\", \"width\": 1}}, \"name\": \"\\ud310\\ub9e4\\ub7c9\", \"orientation\": \"v\", \"text\": \"\", \"type\": \"bar\", \"uid\": \"3c477c43-8f09-427c-bc56-8e5fbba21b9b\", \"x\": [\"00\", \"01\", \"02\", \"06\", \"07\", \"08\", \"09\", \"10\", \"11\", \"12\", \"13\", \"14\", \"15\", \"16\", \"17\", \"18\", \"19\", \"20\", \"21\", \"22\", \"23\"], \"y\": [0.010424236078244513, 0.02794679741216049, 0.005464882175063217, 0.025463613772145385, 0.05030738483089897, 0.0649055332048426, 0.06635299253210118, 0.05102178687751898, 0.06065780330841232, 0.05353070469547026, 0.06303900337992278, 0.07642124135728379, 0.06136732635713199, 0.11079674658312588, 0.10807522125039239, 0.014644723985106845, 0.010030716623329784, 0.04923104168905768, 0.04453565213977689, 0.021827034834265808, 0.023955556913748587]}],\n",
       "                        {\"legend\": {\"bgcolor\": \"#F5F6F9\", \"font\": {\"color\": \"#4D5663\"}}, \"paper_bgcolor\": \"#F5F6F9\", \"plot_bgcolor\": \"#F5F6F9\", \"title\": {\"font\": {\"color\": \"#4D5663\"}, \"text\": \"\\uac00\\uc744\\uc758 \\uc8fc\\ub9d0 \\uc2dc\\uac04\\ubcc4 \\ud310\\ub9e4\\ub7c9 \\ucd1d\\ud569\"}, \"xaxis\": {\"gridcolor\": \"#E1E5ED\", \"showgrid\": true, \"tickfont\": {\"color\": \"#4D5663\"}, \"title\": {\"font\": {\"color\": \"#4D5663\"}, \"text\": \"\"}, \"zerolinecolor\": \"#E1E5ED\"}, \"yaxis\": {\"gridcolor\": \"#E1E5ED\", \"showgrid\": true, \"tickfont\": {\"color\": \"#4D5663\"}, \"title\": {\"font\": {\"color\": \"#4D5663\"}, \"text\": \"\"}, \"zerolinecolor\": \"#E1E5ED\"}},\n",
       "                        {\"showLink\": true, \"linkText\": \"Export to plot.ly\", \"plotlyServerURL\": \"https://plot.ly\", \"responsive\": true}\n",
       "                    ).then(function(){\n",
       "                            \n",
       "var gd = document.getElementById('1013da64-127a-4371-98db-df5cedeb21b4');\n",
       "var x = new MutationObserver(function (mutations, observer) {{\n",
       "        var display = window.getComputedStyle(gd).display;\n",
       "        if (!display || display === 'none') {{\n",
       "            console.log([gd, 'removed!']);\n",
       "            Plotly.purge(gd);\n",
       "            observer.disconnect();\n",
       "        }}\n",
       "}});\n",
       "\n",
       "// Listen for the removal of the full notebook cells\n",
       "var notebookContainer = gd.closest('#notebook-container');\n",
       "if (notebookContainer) {{\n",
       "    x.observe(notebookContainer, {childList: true});\n",
       "}}\n",
       "\n",
       "// Listen for the clearing of the current output cell\n",
       "var outputEl = gd.closest('.output');\n",
       "if (outputEl) {{\n",
       "    x.observe(outputEl, {childList: true});\n",
       "}}\n",
       "\n",
       "                        })\n",
       "                };\n",
       "                });\n",
       "            </script>\n",
       "        </div>"
      ]
     },
     "metadata": {},
     "output_type": "display_data"
    }
   ],
   "source": [
    "def visualize_ratio(df,season, y = \"판매량\"):\n",
    "    # new_df \n",
    "    # season이름 \n",
    "    df = df[df[\"season\"]==season]\n",
    "    day_on = df[df[\"Day_off\"]==0]\n",
    "    day_off = df[df[\"Day_off\"]==1]\n",
    "    \n",
    "    total_day_on =  day_on.groupby([\"hour\"]).sum()[y].sum()\n",
    "    total_day_off = day_off.groupby([\"hour\"]).sum()[y].sum()\n",
    "    \n",
    "    (day_on.groupby([\"hour\"]).sum()[y]/total_day_on).iplot(kind = \"bar\",title= \"{}의 주중 시간별 {} 총합\".format(season,y))\n",
    "    (day_off.groupby([\"hour\"]).sum()[y]/total_day_off).iplot(kind = \"bar\",colors = \"blue\",title= \"{}의 주말 시간별 {} 총합\".format(season,y))\n",
    "    \n",
    "        \n",
    "        \n",
    "\n",
    "visualize_ratio(new_df,\"가을\",y=\"판매량\")"
   ]
  }
 ],
 "metadata": {
  "celltoolbar": "Raw Cell Format",
  "kernelspec": {
   "display_name": "Python 3",
   "language": "python",
   "name": "python3"
  },
  "language_info": {
   "codemirror_mode": {
    "name": "ipython",
    "version": 3
   },
   "file_extension": ".py",
   "mimetype": "text/x-python",
   "name": "python",
   "nbconvert_exporter": "python",
   "pygments_lexer": "ipython3",
   "version": "3.7.7"
  }
 },
 "nbformat": 4,
 "nbformat_minor": 4
}
