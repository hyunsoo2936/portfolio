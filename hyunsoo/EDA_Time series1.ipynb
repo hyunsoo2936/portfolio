{
 "cells": [
  {
   "cell_type": "markdown",
   "metadata": {},
   "source": [
    "# eda 목차\n",
    "- 기본적인 공통 전처리 \n",
    "- 학습 데이터 심층 분석\n",
    "- 시간대별 매출, 판매량,판매단가 그래프 \n",
    "- 2019년 6월과 2020년 6월(test data) 추이 비교 "
   ]
  },
  {
   "cell_type": "code",
   "execution_count": 33,
   "metadata": {},
   "outputs": [],
   "source": [
    "import pandas as pd\n",
    "import numpy as np\n",
    "from matplotlib import font_manager, rc\n",
    "import matplotlib.pyplot as plt\n",
    "import platform\n",
    "\n",
    "import matplotlib \n",
    "import warnings\n",
    "\n",
    "\n",
    "try:\n",
    "    if platform.system()==\"Windows\":\n",
    "        font_name=font_manager.FontProperties(fname=\"c:/Windows/Fonts/H2GTRM.ttf\").get_name()\n",
    "        rc(\"font\",family=font_name)\n",
    "    else:\n",
    "        rc('font',family='AppleGothic')\n",
    "except:\n",
    "    pass\n",
    "\n",
    "matplotlib.rcParams['axes.unicode_minus']=False\n"
   ]
  },
  {
   "cell_type": "code",
   "execution_count": 34,
   "metadata": {},
   "outputs": [],
   "source": [
    "warnings.filterwarnings(action = 'ignore') "
   ]
  },
  {
   "cell_type": "code",
   "execution_count": 35,
   "metadata": {},
   "outputs": [],
   "source": [
    "# 그래프에서 한글 폰트 깨지는 문제에 대한 대처\n",
    "\n",
    "try:\n",
    "    if platform.system()==\"Windows\":\n",
    "        font_name=font_manager.FontProperties(fname=\"c:/Windows/Fonts/H2GTRM.ttf\").get_name()\n",
    "        rc(\"font\",family=font_name)\n",
    "    else:\n",
    "        rc('font',family='AppleGothic')\n",
    "except:\n",
    "    pass\n",
    "\n",
    "matplotlib.rcParams['axes.unicode_minus']=False\n"
   ]
  },
  {
   "cell_type": "markdown",
   "metadata": {},
   "source": [
    "# 데이터 로드 "
   ]
  },
  {
   "cell_type": "code",
   "execution_count": 36,
   "metadata": {},
   "outputs": [
    {
     "data": {
      "text/html": [
       "<div>\n",
       "<style scoped>\n",
       "    .dataframe tbody tr th:only-of-type {\n",
       "        vertical-align: middle;\n",
       "    }\n",
       "\n",
       "    .dataframe tbody tr th {\n",
       "        vertical-align: top;\n",
       "    }\n",
       "\n",
       "    .dataframe thead th {\n",
       "        text-align: right;\n",
       "    }\n",
       "</style>\n",
       "<table border=\"1\" class=\"dataframe\">\n",
       "  <thead>\n",
       "    <tr style=\"text-align: right;\">\n",
       "      <th></th>\n",
       "      <th>방송일시</th>\n",
       "      <th>노출(분)</th>\n",
       "      <th>마더코드</th>\n",
       "      <th>상품코드</th>\n",
       "      <th>상품명</th>\n",
       "      <th>상품군</th>\n",
       "      <th>판매단가</th>\n",
       "      <th>취급액</th>\n",
       "      <th>Unnamed: 8</th>\n",
       "      <th>Unnamed: 9</th>\n",
       "      <th>Unnamed: 10</th>\n",
       "    </tr>\n",
       "  </thead>\n",
       "  <tbody>\n",
       "    <tr>\n",
       "      <th>0</th>\n",
       "      <td>2019-01-01 06:00:00</td>\n",
       "      <td>20.0</td>\n",
       "      <td>100346</td>\n",
       "      <td>201072</td>\n",
       "      <td>테이트 남성 셀린니트3종</td>\n",
       "      <td>의류</td>\n",
       "      <td>39900</td>\n",
       "      <td>2099000.0</td>\n",
       "      <td>NaN</td>\n",
       "      <td>NaN</td>\n",
       "      <td>NaN</td>\n",
       "    </tr>\n",
       "    <tr>\n",
       "      <th>1</th>\n",
       "      <td>2019-01-01 06:00:00</td>\n",
       "      <td>NaN</td>\n",
       "      <td>100346</td>\n",
       "      <td>201079</td>\n",
       "      <td>테이트 여성 셀린니트3종</td>\n",
       "      <td>의류</td>\n",
       "      <td>39900</td>\n",
       "      <td>4371000.0</td>\n",
       "      <td>NaN</td>\n",
       "      <td>1.0</td>\n",
       "      <td>2.0</td>\n",
       "    </tr>\n",
       "    <tr>\n",
       "      <th>2</th>\n",
       "      <td>2019-01-01 06:20:00</td>\n",
       "      <td>20.0</td>\n",
       "      <td>100346</td>\n",
       "      <td>201072</td>\n",
       "      <td>테이트 남성 셀린니트3종</td>\n",
       "      <td>의류</td>\n",
       "      <td>39900</td>\n",
       "      <td>3262000.0</td>\n",
       "      <td>NaN</td>\n",
       "      <td>200.0</td>\n",
       "      <td>200.0</td>\n",
       "    </tr>\n",
       "    <tr>\n",
       "      <th>3</th>\n",
       "      <td>2019-01-01 06:20:00</td>\n",
       "      <td>NaN</td>\n",
       "      <td>100346</td>\n",
       "      <td>201079</td>\n",
       "      <td>테이트 여성 셀린니트3종</td>\n",
       "      <td>의류</td>\n",
       "      <td>39900</td>\n",
       "      <td>6955000.0</td>\n",
       "      <td>NaN</td>\n",
       "      <td>NaN</td>\n",
       "      <td>NaN</td>\n",
       "    </tr>\n",
       "    <tr>\n",
       "      <th>4</th>\n",
       "      <td>2019-01-01 06:40:00</td>\n",
       "      <td>20.0</td>\n",
       "      <td>100346</td>\n",
       "      <td>201072</td>\n",
       "      <td>테이트 남성 셀린니트3종</td>\n",
       "      <td>의류</td>\n",
       "      <td>39900</td>\n",
       "      <td>6672000.0</td>\n",
       "      <td>NaN</td>\n",
       "      <td>1.0</td>\n",
       "      <td>NaN</td>\n",
       "    </tr>\n",
       "  </tbody>\n",
       "</table>\n",
       "</div>"
      ],
      "text/plain": [
       "                 방송일시  노출(분)    마더코드    상품코드            상품명 상품군   판매단가  \\\n",
       "0 2019-01-01 06:00:00   20.0  100346  201072  테이트 남성 셀린니트3종  의류  39900   \n",
       "1 2019-01-01 06:00:00    NaN  100346  201079  테이트 여성 셀린니트3종  의류  39900   \n",
       "2 2019-01-01 06:20:00   20.0  100346  201072  테이트 남성 셀린니트3종  의류  39900   \n",
       "3 2019-01-01 06:20:00    NaN  100346  201079  테이트 여성 셀린니트3종  의류  39900   \n",
       "4 2019-01-01 06:40:00   20.0  100346  201072  테이트 남성 셀린니트3종  의류  39900   \n",
       "\n",
       "         취급액  Unnamed: 8  Unnamed: 9  Unnamed: 10  \n",
       "0  2099000.0         NaN         NaN          NaN  \n",
       "1  4371000.0         NaN         1.0          2.0  \n",
       "2  3262000.0         NaN       200.0        200.0  \n",
       "3  6955000.0         NaN         NaN          NaN  \n",
       "4  6672000.0         NaN         1.0          NaN  "
      ]
     },
     "execution_count": 36,
     "metadata": {},
     "output_type": "execute_result"
    }
   ],
   "source": [
    "# 데이터 로드 \n",
    "def load_dataset(): \n",
    "    sales = pd.read_excel(\"sales.xlsx\",header =1)\n",
    "#     view_rate = pd.read_excel(path+\"view_rate.xlsx\",header =1, index_col= 0)\n",
    "    return sales\n",
    "\n",
    "sales = load_dataset()\n",
    "# view_rate = load_dataset()[1]"
   ]
  },
  {
   "cell_type": "markdown",
   "metadata": {},
   "source": [
    "# 데이터 전처리 \n",
    "- 무형 지우기, 결측된 노출분 채우기"
   ]
  },
  {
   "cell_type": "code",
   "execution_count": 30,
   "metadata": {},
   "outputs": [],
   "source": [
    "# 무형 지우기\n",
    "sales.drop(sales[sales[\"상품군\"]==\"무형\"].index, inplace=True)"
   ]
  },
  {
   "cell_type": "code",
   "execution_count": 31,
   "metadata": {},
   "outputs": [],
   "source": [
    "# 결측된 노출분 채우기\n",
    "# for i,row in sales.iterrows():\n",
    "#     val = row[\"노출(분)\"]\n",
    "#     if i == 0 :\n",
    "#         continue\n",
    "        \n",
    "#     if  np.isnan(val):\n",
    "#         if sales.loc[i,\"방송일시\"] == sales.loc[i-1,\"방송일시\"]:\n",
    "#             sales.loc[i,\"노출(분)\"] = sales.loc[i-1,\"노출(분)\"]\n",
    "#         else : \n",
    "#             continue\n",
    "            \n",
    "# sales.isnull().sum()"
   ]
  },
  {
   "cell_type": "code",
   "execution_count": 32,
   "metadata": {},
   "outputs": [
    {
     "data": {
      "text/html": [
       "<div>\n",
       "<style scoped>\n",
       "    .dataframe tbody tr th:only-of-type {\n",
       "        vertical-align: middle;\n",
       "    }\n",
       "\n",
       "    .dataframe tbody tr th {\n",
       "        vertical-align: top;\n",
       "    }\n",
       "\n",
       "    .dataframe thead th {\n",
       "        text-align: right;\n",
       "    }\n",
       "</style>\n",
       "<table border=\"1\" class=\"dataframe\">\n",
       "  <thead>\n",
       "    <tr style=\"text-align: right;\">\n",
       "      <th></th>\n",
       "      <th>방송일시</th>\n",
       "      <th>노출(분)</th>\n",
       "      <th>마더코드</th>\n",
       "      <th>상품코드</th>\n",
       "      <th>상품명</th>\n",
       "      <th>상품군</th>\n",
       "      <th>판매단가</th>\n",
       "      <th>취급액</th>\n",
       "      <th>Unnamed: 8</th>\n",
       "      <th>Unnamed: 9</th>\n",
       "      <th>Unnamed: 10</th>\n",
       "    </tr>\n",
       "  </thead>\n",
       "  <tbody>\n",
       "    <tr>\n",
       "      <th>0</th>\n",
       "      <td>2019-01-01 06:00:00</td>\n",
       "      <td>20.0</td>\n",
       "      <td>100346</td>\n",
       "      <td>201072</td>\n",
       "      <td>테이트 남성 셀린니트3종</td>\n",
       "      <td>의류</td>\n",
       "      <td>39900</td>\n",
       "      <td>2099000.0</td>\n",
       "      <td>NaN</td>\n",
       "      <td>NaN</td>\n",
       "      <td>NaN</td>\n",
       "    </tr>\n",
       "    <tr>\n",
       "      <th>1</th>\n",
       "      <td>2019-01-01 06:00:00</td>\n",
       "      <td>NaN</td>\n",
       "      <td>100346</td>\n",
       "      <td>201079</td>\n",
       "      <td>테이트 여성 셀린니트3종</td>\n",
       "      <td>의류</td>\n",
       "      <td>39900</td>\n",
       "      <td>4371000.0</td>\n",
       "      <td>NaN</td>\n",
       "      <td>1.0</td>\n",
       "      <td>2.0</td>\n",
       "    </tr>\n",
       "    <tr>\n",
       "      <th>2</th>\n",
       "      <td>2019-01-01 06:20:00</td>\n",
       "      <td>20.0</td>\n",
       "      <td>100346</td>\n",
       "      <td>201072</td>\n",
       "      <td>테이트 남성 셀린니트3종</td>\n",
       "      <td>의류</td>\n",
       "      <td>39900</td>\n",
       "      <td>3262000.0</td>\n",
       "      <td>NaN</td>\n",
       "      <td>200.0</td>\n",
       "      <td>200.0</td>\n",
       "    </tr>\n",
       "    <tr>\n",
       "      <th>3</th>\n",
       "      <td>2019-01-01 06:20:00</td>\n",
       "      <td>NaN</td>\n",
       "      <td>100346</td>\n",
       "      <td>201079</td>\n",
       "      <td>테이트 여성 셀린니트3종</td>\n",
       "      <td>의류</td>\n",
       "      <td>39900</td>\n",
       "      <td>6955000.0</td>\n",
       "      <td>NaN</td>\n",
       "      <td>NaN</td>\n",
       "      <td>NaN</td>\n",
       "    </tr>\n",
       "    <tr>\n",
       "      <th>4</th>\n",
       "      <td>2019-01-01 06:40:00</td>\n",
       "      <td>20.0</td>\n",
       "      <td>100346</td>\n",
       "      <td>201072</td>\n",
       "      <td>테이트 남성 셀린니트3종</td>\n",
       "      <td>의류</td>\n",
       "      <td>39900</td>\n",
       "      <td>6672000.0</td>\n",
       "      <td>NaN</td>\n",
       "      <td>1.0</td>\n",
       "      <td>NaN</td>\n",
       "    </tr>\n",
       "  </tbody>\n",
       "</table>\n",
       "</div>"
      ],
      "text/plain": [
       "                 방송일시  노출(분)    마더코드    상품코드            상품명 상품군   판매단가  \\\n",
       "0 2019-01-01 06:00:00   20.0  100346  201072  테이트 남성 셀린니트3종  의류  39900   \n",
       "1 2019-01-01 06:00:00    NaN  100346  201079  테이트 여성 셀린니트3종  의류  39900   \n",
       "2 2019-01-01 06:20:00   20.0  100346  201072  테이트 남성 셀린니트3종  의류  39900   \n",
       "3 2019-01-01 06:20:00    NaN  100346  201079  테이트 여성 셀린니트3종  의류  39900   \n",
       "4 2019-01-01 06:40:00   20.0  100346  201072  테이트 남성 셀린니트3종  의류  39900   \n",
       "\n",
       "         취급액  Unnamed: 8  Unnamed: 9  Unnamed: 10  \n",
       "0  2099000.0         NaN         NaN          NaN  \n",
       "1  4371000.0         NaN         1.0          2.0  \n",
       "2  3262000.0         NaN       200.0        200.0  \n",
       "3  6955000.0         NaN         NaN          NaN  \n",
       "4  6672000.0         NaN         1.0          NaN  "
      ]
     },
     "execution_count": 32,
     "metadata": {},
     "output_type": "execute_result"
    }
   ],
   "source": [
    "sales.head()"
   ]
  },
  {
   "cell_type": "markdown",
   "metadata": {},
   "source": [
    "# 오류 데이터 수정\n",
    "- 취급액=50000 데이터의 경우 취급액 column -> 0으로 수정\n",
    "- 해당 데이터들은 판매단가 > 취급액인 경우가 대다수였으며(3개 제외), 잘못된  \n",
    "- 직접 이메일과 전화를 통해 데이터의 문제점 확인\n",
    "- 대회 측에서 전혀 판매되지 않은 상품이며, 잘못된 데이터라고 공지했음."
   ]
  },
  {
   "cell_type": "code",
   "execution_count": 16,
   "metadata": {},
   "outputs": [
    {
     "name": "stdout",
     "output_type": "stream",
     "text": [
      "0\n"
     ]
    }
   ],
   "source": [
    "sales = sales.replace({\"취급액\":50000},{\"취급액\":1})\n",
    "\n",
    "# 확인\n",
    "print(sum((sales[\"판매단가\"] == 50000) & (sales['취급액'] != 0)))"
   ]
  },
  {
   "cell_type": "markdown",
   "metadata": {},
   "source": [
    "# 방송일시의 month, day, hour, minute, weekday 추가"
   ]
  },
  {
   "cell_type": "code",
   "execution_count": 21,
   "metadata": {},
   "outputs": [],
   "source": [
    "# date 칼럼도 추가하고 싶으면 넣기 \n",
    "# sales['date'] = pd.DatetimeIndex(sales['방송일시']).date\n",
    "\n",
    "# month, day, hour, minute, weekday 열 추가\n",
    "sales['month'] = pd.DatetimeIndex(sales['방송일시']).month\n",
    "sales['day'] = pd.DatetimeIndex(sales['방송일시']).day\n",
    "sales['hour'] = pd.DatetimeIndex(sales['방송일시']).hour\n",
    "sales['minute'] = pd.DatetimeIndex(sales['방송일시']).minute\n",
    "sales['weekday'] = pd.DatetimeIndex(sales['방송일시']).weekday"
   ]
  },
  {
   "cell_type": "code",
   "execution_count": 22,
   "metadata": {},
   "outputs": [],
   "source": [
    "# 판매량 column 추가 (그래프 분석 목적)\n",
    "sales['판매량'] = sales['취급액']/sales['판매단가']"
   ]
  },
  {
   "cell_type": "code",
   "execution_count": 23,
   "metadata": {},
   "outputs": [
    {
     "data": {
      "text/html": [
       "<div>\n",
       "<style scoped>\n",
       "    .dataframe tbody tr th:only-of-type {\n",
       "        vertical-align: middle;\n",
       "    }\n",
       "\n",
       "    .dataframe tbody tr th {\n",
       "        vertical-align: top;\n",
       "    }\n",
       "\n",
       "    .dataframe thead th {\n",
       "        text-align: right;\n",
       "    }\n",
       "</style>\n",
       "<table border=\"1\" class=\"dataframe\">\n",
       "  <thead>\n",
       "    <tr style=\"text-align: right;\">\n",
       "      <th></th>\n",
       "      <th>방송일시</th>\n",
       "      <th>노출(분)</th>\n",
       "      <th>마더코드</th>\n",
       "      <th>상품코드</th>\n",
       "      <th>상품명</th>\n",
       "      <th>상품군</th>\n",
       "      <th>판매단가</th>\n",
       "      <th>취급액</th>\n",
       "      <th>Unnamed: 8</th>\n",
       "      <th>Unnamed: 9</th>\n",
       "      <th>Unnamed: 10</th>\n",
       "      <th>month</th>\n",
       "      <th>day</th>\n",
       "      <th>hour</th>\n",
       "      <th>minute</th>\n",
       "      <th>weekday</th>\n",
       "      <th>판매량</th>\n",
       "    </tr>\n",
       "  </thead>\n",
       "  <tbody>\n",
       "    <tr>\n",
       "      <th>0</th>\n",
       "      <td>2019-01-01 06:00:00</td>\n",
       "      <td>20.0</td>\n",
       "      <td>100346</td>\n",
       "      <td>201072</td>\n",
       "      <td>테이트 남성 셀린니트3종</td>\n",
       "      <td>의류</td>\n",
       "      <td>39900</td>\n",
       "      <td>2099000.0</td>\n",
       "      <td>NaN</td>\n",
       "      <td>NaN</td>\n",
       "      <td>NaN</td>\n",
       "      <td>1</td>\n",
       "      <td>1</td>\n",
       "      <td>6</td>\n",
       "      <td>0</td>\n",
       "      <td>1</td>\n",
       "      <td>52.606516</td>\n",
       "    </tr>\n",
       "    <tr>\n",
       "      <th>1</th>\n",
       "      <td>2019-01-01 06:00:00</td>\n",
       "      <td>NaN</td>\n",
       "      <td>100346</td>\n",
       "      <td>201079</td>\n",
       "      <td>테이트 여성 셀린니트3종</td>\n",
       "      <td>의류</td>\n",
       "      <td>39900</td>\n",
       "      <td>4371000.0</td>\n",
       "      <td>NaN</td>\n",
       "      <td>1.0</td>\n",
       "      <td>2.0</td>\n",
       "      <td>1</td>\n",
       "      <td>1</td>\n",
       "      <td>6</td>\n",
       "      <td>0</td>\n",
       "      <td>1</td>\n",
       "      <td>109.548872</td>\n",
       "    </tr>\n",
       "    <tr>\n",
       "      <th>2</th>\n",
       "      <td>2019-01-01 06:20:00</td>\n",
       "      <td>20.0</td>\n",
       "      <td>100346</td>\n",
       "      <td>201072</td>\n",
       "      <td>테이트 남성 셀린니트3종</td>\n",
       "      <td>의류</td>\n",
       "      <td>39900</td>\n",
       "      <td>3262000.0</td>\n",
       "      <td>NaN</td>\n",
       "      <td>200.0</td>\n",
       "      <td>200.0</td>\n",
       "      <td>1</td>\n",
       "      <td>1</td>\n",
       "      <td>6</td>\n",
       "      <td>20</td>\n",
       "      <td>1</td>\n",
       "      <td>81.754386</td>\n",
       "    </tr>\n",
       "    <tr>\n",
       "      <th>3</th>\n",
       "      <td>2019-01-01 06:20:00</td>\n",
       "      <td>NaN</td>\n",
       "      <td>100346</td>\n",
       "      <td>201079</td>\n",
       "      <td>테이트 여성 셀린니트3종</td>\n",
       "      <td>의류</td>\n",
       "      <td>39900</td>\n",
       "      <td>6955000.0</td>\n",
       "      <td>NaN</td>\n",
       "      <td>NaN</td>\n",
       "      <td>NaN</td>\n",
       "      <td>1</td>\n",
       "      <td>1</td>\n",
       "      <td>6</td>\n",
       "      <td>20</td>\n",
       "      <td>1</td>\n",
       "      <td>174.310777</td>\n",
       "    </tr>\n",
       "    <tr>\n",
       "      <th>4</th>\n",
       "      <td>2019-01-01 06:40:00</td>\n",
       "      <td>20.0</td>\n",
       "      <td>100346</td>\n",
       "      <td>201072</td>\n",
       "      <td>테이트 남성 셀린니트3종</td>\n",
       "      <td>의류</td>\n",
       "      <td>39900</td>\n",
       "      <td>6672000.0</td>\n",
       "      <td>NaN</td>\n",
       "      <td>1.0</td>\n",
       "      <td>NaN</td>\n",
       "      <td>1</td>\n",
       "      <td>1</td>\n",
       "      <td>6</td>\n",
       "      <td>40</td>\n",
       "      <td>1</td>\n",
       "      <td>167.218045</td>\n",
       "    </tr>\n",
       "  </tbody>\n",
       "</table>\n",
       "</div>"
      ],
      "text/plain": [
       "                 방송일시  노출(분)    마더코드    상품코드            상품명 상품군   판매단가  \\\n",
       "0 2019-01-01 06:00:00   20.0  100346  201072  테이트 남성 셀린니트3종  의류  39900   \n",
       "1 2019-01-01 06:00:00    NaN  100346  201079  테이트 여성 셀린니트3종  의류  39900   \n",
       "2 2019-01-01 06:20:00   20.0  100346  201072  테이트 남성 셀린니트3종  의류  39900   \n",
       "3 2019-01-01 06:20:00    NaN  100346  201079  테이트 여성 셀린니트3종  의류  39900   \n",
       "4 2019-01-01 06:40:00   20.0  100346  201072  테이트 남성 셀린니트3종  의류  39900   \n",
       "\n",
       "         취급액  Unnamed: 8  Unnamed: 9  Unnamed: 10  month  day  hour  minute  \\\n",
       "0  2099000.0         NaN         NaN          NaN      1    1     6       0   \n",
       "1  4371000.0         NaN         1.0          2.0      1    1     6       0   \n",
       "2  3262000.0         NaN       200.0        200.0      1    1     6      20   \n",
       "3  6955000.0         NaN         NaN          NaN      1    1     6      20   \n",
       "4  6672000.0         NaN         1.0          NaN      1    1     6      40   \n",
       "\n",
       "   weekday         판매량  \n",
       "0        1   52.606516  \n",
       "1        1  109.548872  \n",
       "2        1   81.754386  \n",
       "3        1  174.310777  \n",
       "4        1  167.218045  "
      ]
     },
     "execution_count": 23,
     "metadata": {},
     "output_type": "execute_result"
    }
   ],
   "source": [
    "sales.head()"
   ]
  },
  {
   "cell_type": "markdown",
   "metadata": {},
   "source": [
    "# 노출분과 취급액의 상관관계"
   ]
  },
  {
   "cell_type": "code",
   "execution_count": 17,
   "metadata": {},
   "outputs": [
    {
     "data": {
      "text/plain": [
       "array([[1.        , 0.02746147],\n",
       "       [0.02746147, 1.        ]])"
      ]
     },
     "execution_count": 17,
     "metadata": {},
     "output_type": "execute_result"
    }
   ],
   "source": [
    "corr1 = np.corrcoef(sales['노출(분)'],sales['취급액']) \n",
    "corr1\n",
    "\n",
    "# corr2 = np.corrcoef(sales['상품코드'],sales['판매량']) \n",
    "# corr2\n",
    "\n",
    "# 노출분 하나로 feature를 뽑는 것은 의미 x "
   ]
  },
  {
   "cell_type": "code",
   "execution_count": 18,
   "metadata": {},
   "outputs": [
    {
     "data": {
      "text/plain": [
       "노출(분)\n",
       "2.466667     1.073100e+07\n",
       "2.816667     8.974000e+06\n",
       "3.000000     5.160500e+06\n",
       "3.166667     4.907000e+06\n",
       "3.283333     5.784000e+06\n",
       "                 ...     \n",
       "27.083333    2.903400e+07\n",
       "29.983333    1.038000e+07\n",
       "30.000000    2.560064e+07\n",
       "30.100000    9.878827e+06\n",
       "40.000000    1.014050e+07\n",
       "Name: 취급액, Length: 102, dtype: float64"
      ]
     },
     "execution_count": 18,
     "metadata": {},
     "output_type": "execute_result"
    }
   ],
   "source": [
    "sales.groupby(['노출(분)']).mean()['취급액']"
   ]
  },
  {
   "cell_type": "code",
   "execution_count": 19,
   "metadata": {},
   "outputs": [],
   "source": [
    "# fig, ax = plt.subplots(figsize=(10,5))  # figsize - 도화지 사이즈 \n",
    "\n",
    "# ax.bar(sales.groupby(['노출(분)']).mean()['취급액]', sales['취급액'], color='blue', label='mean')\n",
    "\n",
    "# plt.xticks()\n",
    "\n",
    "# plt.xlabel('hour')\n",
    "# plt.ylabel('sales')\n",
    "# plt.legend(loc='upper left')\n",
    "\n"
   ]
  },
  {
   "cell_type": "markdown",
   "metadata": {},
   "source": [
    "# 판매단가 > 취급가액 데이터 분석"
   ]
  },
  {
   "cell_type": "code",
   "execution_count": 20,
   "metadata": {},
   "outputs": [],
   "source": [
    "# outlier = sales[sales['판매단가'] > sales['취급액']] \n",
    "# outlier.count()   #1990개  \n",
    "\n",
    "# out_percent = 1990/37372 # 해당 데이터 / 전체 데이터 \n",
    "# out_percent # 0.05324842127796211 (약 5%)\n",
    "\n",
    "# outlier[sales['상품명'].str.contains('무이자') | sales['상품명'].str.contains('일시불')] \n",
    "# # 1431개  "
   ]
  },
  {
   "cell_type": "code",
   "execution_count": 21,
   "metadata": {},
   "outputs": [],
   "source": [
    "# a = sales['판매단가'] < sales['취급액'] \n",
    "# b = sales['취급액']== 50000\n",
    "\n",
    "# not_five = sales[a & b]\n",
    "# not_five\n",
    "\n",
    "# # 0개 \n",
    "# # 결론 : 판매단가 > 취급액 데이터는 모두 취급가액 : 50000원 \n",
    "\n",
    "# # sales['취급액'].min()"
   ]
  },
  {
   "cell_type": "code",
   "execution_count": 22,
   "metadata": {},
   "outputs": [],
   "source": [
    "# out_category = outlier.groupby(['상품군'])['방송일시'].count()\n",
    "# out_category"
   ]
  },
  {
   "cell_type": "code",
   "execution_count": 20,
   "metadata": {},
   "outputs": [],
   "source": [
    "# 시간대별 매출액(취급액)의 min, max, sum구해보기 \n",
    "\n",
    "hour_sales_min = sales.groupby('hour')['취급액'].min()\n",
    "hour_sales_max = sales.groupby('hour')['취급액'].max()\n",
    "hour_sales_sum = sales.groupby('hour')['취급액'].sum()\n",
    "\n",
    "hour_sales = pd.concat([hour_sales_min,hour_sales_max, hour_sales_mean], axis=1)"
   ]
  },
  {
   "cell_type": "markdown",
   "metadata": {},
   "source": [
    "# 시간별 매출액(취급액) 그래프 - sum"
   ]
  },
  {
   "cell_type": "code",
   "execution_count": 21,
   "metadata": {},
   "outputs": [
    {
     "data": {
      "text/plain": [
       "<matplotlib.legend.Legend at 0x1e18a5cfd60>"
      ]
     },
     "execution_count": 21,
     "metadata": {},
     "output_type": "execute_result"
    },
    {
     "data": {
      "image/png": "[encoded data removed]",
      "text/plain": [
       "<Figure size 720x360 with 1 Axes>"
      ]
     },
     "metadata": {
      "needs_background": "light"
     },
     "output_type": "display_data"
    }
   ],
   "source": [
    "#시간별 매출액(취급액) 그래프 - sum \n",
    "hour_sales_sum = sales.groupby('hour')['취급액'].sum()\n",
    "\n",
    "fig, ax = plt.subplots(figsize=(10,5))  # figsize - 도화지 사이즈 \n",
    "\n",
    "ax.plot(hour_sales.index, hour_sales_sum, color='red', label='sum')\n",
    "\n",
    "plt.xticks(hour_sales.index)\n",
    "\n",
    "plt.xlabel('hour')\n",
    "plt.ylabel('sales')\n",
    "plt.legend(loc='upper left')\n",
    "\n"
   ]
  },
  {
   "cell_type": "code",
   "execution_count": 48,
   "metadata": {},
   "outputs": [
    {
     "data": {
      "text/plain": [
       "hour\n",
       "0     0.380012\n",
       "1     0.246228\n",
       "2     0.016302\n",
       "6     0.272900\n",
       "7     0.484548\n",
       "8     0.557679\n",
       "9     0.644847\n",
       "10    0.702566\n",
       "11    0.679582\n",
       "12    0.571975\n",
       "13    0.633542\n",
       "14    0.621866\n",
       "15    0.693516\n",
       "16    0.766701\n",
       "17    0.780516\n",
       "18    0.545418\n",
       "19    0.597047\n",
       "20    0.747659\n",
       "21    1.000000\n",
       "22    0.928649\n",
       "23    0.647592\n",
       "Name: 취급액, dtype: float64"
      ]
     },
     "execution_count": 48,
     "metadata": {},
     "output_type": "execute_result"
    }
   ],
   "source": [
    "hour_salesfeat = hour_sales_sum / hour_sales_sum.max()\n",
    "\n",
    "hour_salesfeat \n",
    "# hour_sales_sum.max()"
   ]
  },
  {
   "cell_type": "markdown",
   "metadata": {},
   "source": [
    "# 시간대별 판매량 그래프 "
   ]
  },
  {
   "cell_type": "code",
   "execution_count": 23,
   "metadata": {},
   "outputs": [
    {
     "data": {
      "text/plain": [
       "<matplotlib.legend.Legend at 0x1e18ab369d0>"
      ]
     },
     "execution_count": 23,
     "metadata": {},
     "output_type": "execute_result"
    },
    {
     "data": {
      "image/png": "[encoded data removed]",
      "text/plain": [
       "<Figure size 720x360 with 1 Axes>"
      ]
     },
     "metadata": {
      "needs_background": "light"
     },
     "output_type": "display_data"
    }
   ],
   "source": [
    "#시간대별 판매량(mean) 그래프 그리기 \n",
    "\n",
    "# 시간대별 판매량 (sum) \n",
    "hour_count_sum = sales.groupby('hour')['판매량'].sum() \n",
    "\n",
    "fig, ax = plt.subplots(figsize=(10,5))\n",
    "ax.plot(hour_count_sum.index, hour_count_sum)\n",
    "ax.plot(hour_count_sum.index, hour_count_sum, label='sales_volume')\n",
    "\n",
    "plt.xticks(hour_count_sum.index)\n",
    "           \n",
    "plt.xlabel('hour')\n",
    "plt.ylabel('sales volume')\n",
    "plt.legend(loc='upper left')"
   ]
  },
  {
   "cell_type": "code",
   "execution_count": null,
   "metadata": {},
   "outputs": [],
   "source": []
  },
  {
   "cell_type": "markdown",
   "metadata": {},
   "source": [
    "# 시간대별 판매단가 그래프"
   ]
  },
  {
   "cell_type": "code",
   "execution_count": 37,
   "metadata": {},
   "outputs": [
    {
     "name": "stderr",
     "output_type": "stream",
     "text": [
      "No handles with labels found to put in legend.\n"
     ]
    },
    {
     "data": {
      "text/plain": [
       "<matplotlib.legend.Legend at 0x1e18a885be0>"
      ]
     },
     "execution_count": 37,
     "metadata": {},
     "output_type": "execute_result"
    },
    {
     "data": {
      "image/png": "[encoded data removed]",
      "text/plain": [
       "<Figure size 720x360 with 1 Axes>"
      ]
     },
     "metadata": {
      "needs_background": "light"
     },
     "output_type": "display_data"
    }
   ],
   "source": [
    "# 시간대별 판매 단가 그래프 \n",
    "\n",
    "hour_price = sales.groupby(['hour'])['판매단가'].sum()\n",
    "\n",
    "fig, ax = plt.subplots(figsize=(10,5))\n",
    "ax.plot(hour_price.index, hour_price)\n",
    "\n",
    "plt.xticks(hour_price.index)\n",
    "           \n",
    "plt.xlabel('hour')\n",
    "plt.ylabel('unit sales price')\n",
    "plt.legend(loc='upper left')"
   ]
  },
  {
   "cell_type": "markdown",
   "metadata": {},
   "source": [
    "# 시간대별로 어떤 상품군의 방송이 편성되었는지 확인\n",
    "\n",
    "- 문제점 : count 기준으로는 잘못된 결과 도출 \n",
    "- 노출분 기준으로 확인해야함.\n",
    "- 다른 파일에서 노출분 기준으로 작업 수행 "
   ]
  },
  {
   "cell_type": "code",
   "execution_count": 40,
   "metadata": {},
   "outputs": [],
   "source": [
    "item = sales.groupby(['hour'])['상품군'].value_counts()"
   ]
  },
  {
   "cell_type": "code",
   "execution_count": 41,
   "metadata": {},
   "outputs": [],
   "source": [
    "item_df = pd.DataFrame(item)"
   ]
  },
  {
   "cell_type": "code",
   "execution_count": 33,
   "metadata": {
    "scrolled": true
   },
   "outputs": [
    {
     "data": {
      "text/html": [
       "<div>\n",
       "<style scoped>\n",
       "    .dataframe tbody tr th:only-of-type {\n",
       "        vertical-align: middle;\n",
       "    }\n",
       "\n",
       "    .dataframe tbody tr th {\n",
       "        vertical-align: top;\n",
       "    }\n",
       "\n",
       "    .dataframe thead th {\n",
       "        text-align: right;\n",
       "    }\n",
       "</style>\n",
       "<table border=\"1\" class=\"dataframe\">\n",
       "  <thead>\n",
       "    <tr style=\"text-align: right;\">\n",
       "      <th></th>\n",
       "      <th></th>\n",
       "      <th>상품군</th>\n",
       "    </tr>\n",
       "    <tr>\n",
       "      <th>hour</th>\n",
       "      <th>상품군</th>\n",
       "      <th></th>\n",
       "    </tr>\n",
       "  </thead>\n",
       "  <tbody>\n",
       "    <tr>\n",
       "      <th rowspan=\"5\" valign=\"top\">0</th>\n",
       "      <th>의류</th>\n",
       "      <td>345</td>\n",
       "    </tr>\n",
       "    <tr>\n",
       "      <th>속옷</th>\n",
       "      <td>290</td>\n",
       "    </tr>\n",
       "    <tr>\n",
       "      <th>잡화</th>\n",
       "      <td>256</td>\n",
       "    </tr>\n",
       "    <tr>\n",
       "      <th>생활용품</th>\n",
       "      <td>230</td>\n",
       "    </tr>\n",
       "    <tr>\n",
       "      <th>가구</th>\n",
       "      <td>114</td>\n",
       "    </tr>\n",
       "  </tbody>\n",
       "</table>\n",
       "</div>"
      ],
      "text/plain": [
       "           상품군\n",
       "hour 상품군      \n",
       "0    의류    345\n",
       "     속옷    290\n",
       "     잡화    256\n",
       "     생활용품  230\n",
       "     가구    114"
      ]
     },
     "execution_count": 33,
     "metadata": {},
     "output_type": "execute_result"
    }
   ],
   "source": [
    "item_df.head()"
   ]
  },
  {
   "cell_type": "code",
   "execution_count": 42,
   "metadata": {},
   "outputs": [],
   "source": [
    "category = sales['상품군'].unique()\n",
    "category\n",
    "# array(['의류', '속옷', '주방', '농수축', '이미용', '가전', '생활용품', '건강기능', '잡화', '가구',\n",
    "#        '침구'], dtype=object)\n",
    "\n",
    "item_df = item_df.rename(columns={'상품군' : '횟수'})\n",
    "item_ct = item_df.reset_index()\n",
    "\n",
    "def item_drawer():\n",
    "    \n",
    "    fig, ax = plt.subplots(figsize=(10,5))\n",
    "    for i in range(len(category)):\n",
    "        ax.plot(item_ct[item_ct['상품군']==category[i]]['hour'], np.array(item_ct[item_ct['상품군']==category[i]]['횟수']), label = category[i])\n",
    "        \n",
    "               \n",
    "    plt.xlabel('hour')\n",
    "    plt.ylabel('broadcast count')\n",
    "    plt.xticks(item_ct['hour'])\n",
    "    plt.legend(loc='upper left')\n",
    "    plt.show()"
   ]
  },
  {
   "cell_type": "code",
   "execution_count": 43,
   "metadata": {
    "scrolled": false
   },
   "outputs": [
    {
     "data": {
      "image/png": "[encoded data removed]",
      "text/plain": [
       "<Figure size 720x360 with 1 Axes>"
      ]
     },
     "metadata": {
      "needs_background": "light"
     },
     "output_type": "display_data"
    }
   ],
   "source": [
    "item_drawer()"
   ]
  },
  {
   "cell_type": "code",
   "execution_count": 36,
   "metadata": {},
   "outputs": [
    {
     "data": {
      "text/plain": [
       "array(['의류', '속옷', '주방', '농수축', '이미용', '가전', '생활용품', '건강기능', '잡화', '가구',\n",
       "       '침구'], dtype=object)"
      ]
     },
     "execution_count": 36,
     "metadata": {},
     "output_type": "execute_result"
    }
   ],
   "source": [
    "category  #갈색 - 가전 --> 판매 단가가 밤 시간대에만 치솟았던 이유 확인 가능. \n",
    "          #빨간색 - 농수축(식품)  --> 시간대별 판매량 그래프와 동일한 추이를 보이고 있음 (prime time 주력 상품군으로 예상됨.)\n",
    "          #초록색 - 주방 --> 꾸준히 높은 비중으로 방송되고 있음.\n",
    "          # 회색 - 건강기능 "
   ]
  },
  {
   "cell_type": "markdown",
   "metadata": {},
   "source": [
    "# 시간대별 상품군 판매량 추이 "
   ]
  },
  {
   "cell_type": "code",
   "execution_count": 44,
   "metadata": {},
   "outputs": [
    {
     "data": {
      "text/html": [
       "<div>\n",
       "<style scoped>\n",
       "    .dataframe tbody tr th:only-of-type {\n",
       "        vertical-align: middle;\n",
       "    }\n",
       "\n",
       "    .dataframe tbody tr th {\n",
       "        vertical-align: top;\n",
       "    }\n",
       "\n",
       "    .dataframe thead th {\n",
       "        text-align: right;\n",
       "    }\n",
       "</style>\n",
       "<table border=\"1\" class=\"dataframe\">\n",
       "  <thead>\n",
       "    <tr style=\"text-align: right;\">\n",
       "      <th></th>\n",
       "      <th></th>\n",
       "      <th>판매량</th>\n",
       "    </tr>\n",
       "    <tr>\n",
       "      <th>hour</th>\n",
       "      <th>상품군</th>\n",
       "      <th></th>\n",
       "    </tr>\n",
       "  </thead>\n",
       "  <tbody>\n",
       "    <tr>\n",
       "      <th rowspan=\"5\" valign=\"top\">0</th>\n",
       "      <th>가구</th>\n",
       "      <td>1860.561076</td>\n",
       "    </tr>\n",
       "    <tr>\n",
       "      <th>가전</th>\n",
       "      <td>946.489249</td>\n",
       "    </tr>\n",
       "    <tr>\n",
       "      <th>건강기능</th>\n",
       "      <td>5838.523187</td>\n",
       "    </tr>\n",
       "    <tr>\n",
       "      <th>농수축</th>\n",
       "      <td>11948.123968</td>\n",
       "    </tr>\n",
       "    <tr>\n",
       "      <th>생활용품</th>\n",
       "      <td>25610.420482</td>\n",
       "    </tr>\n",
       "  </tbody>\n",
       "</table>\n",
       "</div>"
      ],
      "text/plain": [
       "                    판매량\n",
       "hour 상품군               \n",
       "0    가구     1860.561076\n",
       "     가전      946.489249\n",
       "     건강기능   5838.523187\n",
       "     농수축   11948.123968\n",
       "     생활용품  25610.420482"
      ]
     },
     "execution_count": 44,
     "metadata": {},
     "output_type": "execute_result"
    }
   ],
   "source": [
    "# 상품군별 판매량 \n",
    "\n",
    "item_sales = sales.groupby(['hour','상품군'])['판매량'].sum() \n",
    "\n",
    "item_df2 = pd.DataFrame(item_sales)\n",
    "item_df2.head()"
   ]
  },
  {
   "cell_type": "code",
   "execution_count": 45,
   "metadata": {},
   "outputs": [
    {
     "data": {
      "image/png": "[encoded data removed]",
      "text/plain": [
       "<Figure size 720x360 with 1 Axes>"
      ]
     },
     "metadata": {
      "needs_background": "light"
     },
     "output_type": "display_data"
    }
   ],
   "source": [
    "item_df2 = item_df2.rename(columns={'상품군' : '횟수'})\n",
    "item_ct2 = item_df2.reset_index()\n",
    "\n",
    "def item_drawer2():\n",
    "    \n",
    "    fig, ax = plt.subplots(figsize=(10,5))\n",
    "    for i in range(len(category)):\n",
    "        ax.plot(item_ct2[item_ct2['상품군']==category[i]]['hour'], np.array(item_ct2[item_ct2['상품군']==category[i]]['판매량']), label = category[i])\n",
    "                     \n",
    "    plt.xlabel('hour')\n",
    "    plt.ylabel('category_sales volume')\n",
    "    plt.legend(loc='upper left')\n",
    "    plt.show() \n",
    "\n",
    "item_drawer2()\n"
   ]
  },
  {
   "cell_type": "markdown",
   "metadata": {},
   "source": [
    "# test data 분석 (2020년 6월)\n",
    "## 시간대별 상품군별 방송노출 시간 - 요일별 확인 "
   ]
  },
  {
   "cell_type": "code",
   "execution_count": 49,
   "metadata": {
    "scrolled": true
   },
   "outputs": [
    {
     "data": {
      "text/html": [
       "<div>\n",
       "<style scoped>\n",
       "    .dataframe tbody tr th:only-of-type {\n",
       "        vertical-align: middle;\n",
       "    }\n",
       "\n",
       "    .dataframe tbody tr th {\n",
       "        vertical-align: top;\n",
       "    }\n",
       "\n",
       "    .dataframe thead th {\n",
       "        text-align: right;\n",
       "    }\n",
       "</style>\n",
       "<table border=\"1\" class=\"dataframe\">\n",
       "  <thead>\n",
       "    <tr style=\"text-align: right;\">\n",
       "      <th></th>\n",
       "      <th>방송일시</th>\n",
       "      <th>노출(분)</th>\n",
       "      <th>마더코드</th>\n",
       "      <th>상품코드</th>\n",
       "      <th>상품명</th>\n",
       "      <th>상품군</th>\n",
       "      <th>판매단가</th>\n",
       "      <th>취급액</th>\n",
       "      <th>weekday</th>\n",
       "      <th>hour</th>\n",
       "    </tr>\n",
       "  </thead>\n",
       "  <tbody>\n",
       "    <tr>\n",
       "      <th>0</th>\n",
       "      <td>2020-06-01 06:20:00</td>\n",
       "      <td>20.0</td>\n",
       "      <td>100650</td>\n",
       "      <td>201971</td>\n",
       "      <td>잭필드 남성  반팔셔츠 4종</td>\n",
       "      <td>의류</td>\n",
       "      <td>59800</td>\n",
       "      <td>NaN</td>\n",
       "      <td>0</td>\n",
       "      <td>6</td>\n",
       "    </tr>\n",
       "    <tr>\n",
       "      <th>1</th>\n",
       "      <td>2020-06-01 06:40:00</td>\n",
       "      <td>20.0</td>\n",
       "      <td>100650</td>\n",
       "      <td>201971</td>\n",
       "      <td>잭필드 남성  반팔셔츠 4종</td>\n",
       "      <td>의류</td>\n",
       "      <td>59800</td>\n",
       "      <td>NaN</td>\n",
       "      <td>0</td>\n",
       "      <td>6</td>\n",
       "    </tr>\n",
       "    <tr>\n",
       "      <th>2</th>\n",
       "      <td>2020-06-01 07:00:00</td>\n",
       "      <td>20.0</td>\n",
       "      <td>100650</td>\n",
       "      <td>201971</td>\n",
       "      <td>잭필드 남성  반팔셔츠 4종</td>\n",
       "      <td>의류</td>\n",
       "      <td>59800</td>\n",
       "      <td>NaN</td>\n",
       "      <td>0</td>\n",
       "      <td>7</td>\n",
       "    </tr>\n",
       "    <tr>\n",
       "      <th>3</th>\n",
       "      <td>2020-06-01 07:20:00</td>\n",
       "      <td>20.0</td>\n",
       "      <td>100445</td>\n",
       "      <td>202278</td>\n",
       "      <td>쿠미투니카 쿨 레이시 란쥬쉐이퍼&amp;팬티</td>\n",
       "      <td>속옷</td>\n",
       "      <td>69900</td>\n",
       "      <td>NaN</td>\n",
       "      <td>0</td>\n",
       "      <td>7</td>\n",
       "    </tr>\n",
       "    <tr>\n",
       "      <th>4</th>\n",
       "      <td>2020-06-01 07:40:00</td>\n",
       "      <td>20.0</td>\n",
       "      <td>100445</td>\n",
       "      <td>202278</td>\n",
       "      <td>쿠미투니카 쿨 레이시 란쥬쉐이퍼&amp;팬티</td>\n",
       "      <td>속옷</td>\n",
       "      <td>69900</td>\n",
       "      <td>NaN</td>\n",
       "      <td>0</td>\n",
       "      <td>7</td>\n",
       "    </tr>\n",
       "  </tbody>\n",
       "</table>\n",
       "</div>"
      ],
      "text/plain": [
       "                 방송일시  노출(분)    마더코드    상품코드                   상품명 상품군   판매단가  \\\n",
       "0 2020-06-01 06:20:00   20.0  100650  201971       잭필드 남성  반팔셔츠 4종  의류  59800   \n",
       "1 2020-06-01 06:40:00   20.0  100650  201971       잭필드 남성  반팔셔츠 4종  의류  59800   \n",
       "2 2020-06-01 07:00:00   20.0  100650  201971       잭필드 남성  반팔셔츠 4종  의류  59800   \n",
       "3 2020-06-01 07:20:00   20.0  100445  202278  쿠미투니카 쿨 레이시 란쥬쉐이퍼&팬티  속옷  69900   \n",
       "4 2020-06-01 07:40:00   20.0  100445  202278  쿠미투니카 쿨 레이시 란쥬쉐이퍼&팬티  속옷  69900   \n",
       "\n",
       "   취급액  weekday  hour  \n",
       "0  NaN        0     6  \n",
       "1  NaN        0     6  \n",
       "2  NaN        0     7  \n",
       "3  NaN        0     7  \n",
       "4  NaN        0     7  "
      ]
     },
     "execution_count": 49,
     "metadata": {},
     "output_type": "execute_result"
    }
   ],
   "source": [
    "import pandas as pd\n",
    "import numpy as np\n",
    "import matplotlib \n",
    "import matplotlib.pyplot as plt \n",
    "\n",
    "import warnings\n",
    "\n",
    "warnings.filterwarnings(action = 'ignore') \n",
    "\n",
    "\n",
    "test_data = pd.read_excel('test_data.xlsx', header=1) \n",
    "\n",
    "\n",
    "# 무형 지우기\n",
    "test_data.drop(test_data[test_data[\"상품군\"]==\"무형\"].index, inplace=True)\n",
    "\n",
    "# month, day, hour, minute, weekday 열 추가\n",
    "test_data['weekday'] = pd.DatetimeIndex(test_data['방송일시']).weekday\n",
    "test_data['hour'] = pd.DatetimeIndex(test_data['방송일시']).hour\n",
    "\n",
    "test_data.head()\n"
   ]
  },
  {
   "cell_type": "code",
   "execution_count": 50,
   "metadata": {},
   "outputs": [
    {
     "data": {
      "image/png": "[encoded data removed]",
      "text/plain": [
       "<Figure size 576x288 with 1 Axes>"
      ]
     },
     "metadata": {
      "needs_background": "light"
     },
     "output_type": "display_data"
    }
   ],
   "source": [
    "#2020년 6월 - 시간대별로 상품군이 몇분 노출되었는지\n",
    "\n",
    "fig, ax = plt.subplots(figsize=(8,4))\n",
    "\n",
    "test_data0 = test_data[test_data['weekday']==0]\n",
    "\n",
    "test_data.groupby(['hour','상품군']).sum()['노출(분)'].unstack().plot(kind='bar',stacked=True, ax=ax)\n",
    "\n",
    "plt.legend(loc='center left', bbox_to_anchor=(1.0, 0.5))\n",
    "\n",
    "plt.xlabel('hour')\n",
    "plt.ylabel('broadcast time')\n",
    "\n",
    "plt.show()"
   ]
  },
  {
   "cell_type": "markdown",
   "metadata": {},
   "source": [
    "# 2019년 6월 추이랑 비교해보자. "
   ]
  },
  {
   "cell_type": "code",
   "execution_count": 51,
   "metadata": {},
   "outputs": [
    {
     "data": {
      "image/png": "[encoded data removed]",
      "text/plain": [
       "<Figure size 576x288 with 1 Axes>"
      ]
     },
     "metadata": {
      "needs_background": "light"
     },
     "output_type": "display_data"
    }
   ],
   "source": [
    "# 노출시간 채우지 않은 데이터 활용 -> 중복 문제 해결 \n",
    "# 2019년 06월 - 시간대별로 상품군이 몇분 노출되었는지 \n",
    "\n",
    "sales_month6 = sales[sales['month']==6]\n",
    "\n",
    "fig, ax = plt.subplots(figsize=(8,4))\n",
    "sales_month6.groupby(['hour','상품군']).sum()['노출(분)'].unstack().plot(kind='bar',stacked=True, ax=ax)\n",
    "plt.legend(loc='center left', bbox_to_anchor=(1.0, 0.5))\n",
    "\n",
    "plt.xlabel('hour')\n",
    "plt.ylabel('broadcast time')\n",
    "\n",
    "plt.show()"
   ]
  },
  {
   "cell_type": "markdown",
   "metadata": {},
   "source": [
    "# 2020년 평일과 주말 편성 확인  -> 차이점 확인"
   ]
  },
  {
   "cell_type": "code",
   "execution_count": 52,
   "metadata": {},
   "outputs": [
    {
     "data": {
      "image/png": "[encoded data removed]",
      "text/plain": [
       "<Figure size 576x288 with 1 Axes>"
      ]
     },
     "metadata": {
      "needs_background": "light"
     },
     "output_type": "display_data"
    }
   ],
   "source": [
    "# 평일 확인\n",
    "# 2020.06\n",
    "\n",
    "wday = test_data[test_data['weekday'].isin([0,1,2,3,4])]\n",
    "\n",
    "fig, ax = plt.subplots(figsize=(8,4))\n",
    "\n",
    "wday.groupby(['hour','상품군']).sum()['노출(분)'].unstack().plot(kind='bar',stacked=True, ax=ax)\n",
    "plt.legend(loc='center left', bbox_to_anchor=(1.0, 0.5))\n",
    "\n",
    "plt.xlabel('hour')\n",
    "plt.ylabel('broadcast time')\n",
    "\n",
    "plt.show()"
   ]
  },
  {
   "cell_type": "code",
   "execution_count": 53,
   "metadata": {
    "scrolled": true
   },
   "outputs": [
    {
     "data": {
      "image/png": "[encoded data removed]",
      "text/plain": [
       "<Figure size 576x288 with 1 Axes>"
      ]
     },
     "metadata": {
      "needs_background": "light"
     },
     "output_type": "display_data"
    }
   ],
   "source": [
    "# 주말 확인 (토,일)\n",
    "\n",
    "weekend = test_data[test_data['weekday'].isin([5,6])]\n",
    "\n",
    "fig, ax = plt.subplots(figsize=(8,4))\n",
    "\n",
    "weekend.groupby(['hour','상품군']).sum()['노출(분)'].unstack().plot(kind='bar',stacked=True, ax=ax)\n",
    "plt.legend(loc='center left', bbox_to_anchor=(1.0, 0.5))\n",
    "\n",
    "plt.xlabel('hour')\n",
    "plt.ylabel('broadcast time')\n",
    "\n",
    "plt.show()"
   ]
  },
  {
   "cell_type": "markdown",
   "metadata": {},
   "source": [
    "# 평일과 주말의 시간대별 노출분 확인해보기"
   ]
  },
  {
   "cell_type": "code",
   "execution_count": 58,
   "metadata": {},
   "outputs": [
    {
     "data": {
      "text/plain": [
       "<matplotlib.legend.Legend at 0x1e18ad7f940>"
      ]
     },
     "execution_count": 58,
     "metadata": {},
     "output_type": "execute_result"
    },
    {
     "data": {
      "image/png": "[encoded data removed]",
      "text/plain": [
       "<Figure size 720x360 with 1 Axes>"
      ]
     },
     "metadata": {
      "needs_background": "light"
     },
     "output_type": "display_data"
    }
   ],
   "source": [
    "# 요일별로 filter \n",
    "# 0 : 월요일 ~ 6 : 일요일\n",
    "\n",
    "test_data0 = test_data[test_data['weekday']==0]\n",
    "test_data1 = test_data[test_data['weekday']==1]\n",
    "test_data2 = test_data[test_data['weekday']==2]\n",
    "test_data3 = test_data[test_data['weekday']==3]\n",
    "test_data4 = test_data[test_data['weekday']==4]\n",
    "test_data5 = test_data[test_data['weekday']==5]\n",
    "test_data6 = test_data[test_data['weekday']==6]\n",
    "\n",
    "# 평일 \n",
    "\n",
    "hour_broad_sum0 = test_data0.groupby('hour')['노출(분)'].sum()\n",
    "hour_broad_sum1 = test_data1.groupby('hour')['노출(분)'].sum()\n",
    "hour_broad_sum2 = test_data2.groupby('hour')['노출(분)'].sum()\n",
    "hour_broad_sum3 = test_data3.groupby('hour')['노출(분)'].sum()\n",
    "hour_broad_sum4 = test_data4.groupby('hour')['노출(분)'].sum()\n",
    "\n",
    "# 주말 매출액  groupby\n",
    "hour_broad_sum5 = test_data5.groupby('hour')['노출(분)'].sum()\n",
    "hour_broad_sum6 = test_data6.groupby('hour')['노출(분)'].sum()\n",
    "\n",
    "\n",
    "fig, ax = plt.subplots(figsize=(10,5))  # figsize - 도화지 사이즈 \n",
    "\n",
    "# ax.plot(hour_broad_sum0.index, hour_broad_sum0, label='mon')\n",
    "# ax.plot(hour_broad_sum1.index, hour_broad_sum1, label='tue')\n",
    "# ax.plot(hour_broad_sum2.index, hour_broad_sum2, label='wed')\n",
    "# ax.plot(hour_broad_sum3.index, hour_broad_sum3, label='thu')\n",
    "# ax.plot(hour_broad_sum4.index, hour_broad_sum4, label='fri')\n",
    "\n",
    "# 주말 추이도 그려보자. (갈색 - 토요일 / 핑크 - 일요일)\n",
    "ax.plot(hour_broad_sum5.index, hour_broad_sum5, label='sat') \n",
    "ax.plot(hour_broad_sum6.index, hour_broad_sum6, label='sun')\n",
    "\n",
    "plt.xticks(hour_broad_sum0.index)\n",
    "\n",
    "plt.xlabel('hour')\n",
    "plt.ylabel('broadcast time')\n",
    "\n",
    "plt.legend(loc='upper left')"
   ]
  },
  {
   "cell_type": "code",
   "execution_count": null,
   "metadata": {},
   "outputs": [],
   "source": []
  },
  {
   "cell_type": "code",
   "execution_count": null,
   "metadata": {},
   "outputs": [],
   "source": []
  }
 ],
 "metadata": {
  "kernelspec": {
   "display_name": "Python 3",
   "language": "python",
   "name": "python3"
  },
  "language_info": {
   "codemirror_mode": {
    "name": "ipython",
    "version": 3
   },
   "file_extension": ".py",
   "mimetype": "text/x-python",
   "name": "python",
   "nbconvert_exporter": "python",
   "pygments_lexer": "ipython3",
   "version": "3.8.3"
  }
 },
 "nbformat": 4,
 "nbformat_minor": 4
}
