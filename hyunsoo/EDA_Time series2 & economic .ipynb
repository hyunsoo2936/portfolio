{
 "cells": [
  {
   "cell_type": "markdown",
   "metadata": {},
   "source": [
    "# eda2 목차 \n",
    "- 시간대별 상품군 편성 비율(노출 시간 기준)\n",
    "- 요일별 prime time 분석 - 매출액 기준(feature로 활용할 예정)\n",
    "- 요일별 시간대별 노출분 추이 그래프\n",
    "- 경제지표와 월별 매출액 상관관계 분석 "
   ]
  },
  {
   "cell_type": "code",
   "execution_count": 4,
   "metadata": {
    "scrolled": true
   },
   "outputs": [
    {
     "name": "stdout",
     "output_type": "stream",
     "text": [
      "0\n"
     ]
    },
    {
     "data": {
      "text/html": [
       "<div>\n",
       "<style scoped>\n",
       "    .dataframe tbody tr th:only-of-type {\n",
       "        vertical-align: middle;\n",
       "    }\n",
       "\n",
       "    .dataframe tbody tr th {\n",
       "        vertical-align: top;\n",
       "    }\n",
       "\n",
       "    .dataframe thead th {\n",
       "        text-align: right;\n",
       "    }\n",
       "</style>\n",
       "<table border=\"1\" class=\"dataframe\">\n",
       "  <thead>\n",
       "    <tr style=\"text-align: right;\">\n",
       "      <th></th>\n",
       "      <th>방송일시</th>\n",
       "      <th>노출(분)</th>\n",
       "      <th>마더코드</th>\n",
       "      <th>상품코드</th>\n",
       "      <th>상품명</th>\n",
       "      <th>상품군</th>\n",
       "      <th>판매단가</th>\n",
       "      <th>취급액</th>\n",
       "      <th>Unnamed: 8</th>\n",
       "      <th>Unnamed: 9</th>\n",
       "      <th>Unnamed: 10</th>\n",
       "    </tr>\n",
       "  </thead>\n",
       "  <tbody>\n",
       "    <tr>\n",
       "      <th>0</th>\n",
       "      <td>2019-01-01 06:00:00</td>\n",
       "      <td>20.0</td>\n",
       "      <td>100346</td>\n",
       "      <td>201072</td>\n",
       "      <td>테이트 남성 셀린니트3종</td>\n",
       "      <td>의류</td>\n",
       "      <td>39900</td>\n",
       "      <td>2099000.0</td>\n",
       "      <td>NaN</td>\n",
       "      <td>NaN</td>\n",
       "      <td>NaN</td>\n",
       "    </tr>\n",
       "    <tr>\n",
       "      <th>1</th>\n",
       "      <td>2019-01-01 06:00:00</td>\n",
       "      <td>NaN</td>\n",
       "      <td>100346</td>\n",
       "      <td>201079</td>\n",
       "      <td>테이트 여성 셀린니트3종</td>\n",
       "      <td>의류</td>\n",
       "      <td>39900</td>\n",
       "      <td>4371000.0</td>\n",
       "      <td>NaN</td>\n",
       "      <td>1.0</td>\n",
       "      <td>2.0</td>\n",
       "    </tr>\n",
       "    <tr>\n",
       "      <th>2</th>\n",
       "      <td>2019-01-01 06:20:00</td>\n",
       "      <td>20.0</td>\n",
       "      <td>100346</td>\n",
       "      <td>201072</td>\n",
       "      <td>테이트 남성 셀린니트3종</td>\n",
       "      <td>의류</td>\n",
       "      <td>39900</td>\n",
       "      <td>3262000.0</td>\n",
       "      <td>NaN</td>\n",
       "      <td>200.0</td>\n",
       "      <td>200.0</td>\n",
       "    </tr>\n",
       "    <tr>\n",
       "      <th>3</th>\n",
       "      <td>2019-01-01 06:20:00</td>\n",
       "      <td>NaN</td>\n",
       "      <td>100346</td>\n",
       "      <td>201079</td>\n",
       "      <td>테이트 여성 셀린니트3종</td>\n",
       "      <td>의류</td>\n",
       "      <td>39900</td>\n",
       "      <td>6955000.0</td>\n",
       "      <td>NaN</td>\n",
       "      <td>NaN</td>\n",
       "      <td>NaN</td>\n",
       "    </tr>\n",
       "    <tr>\n",
       "      <th>4</th>\n",
       "      <td>2019-01-01 06:40:00</td>\n",
       "      <td>20.0</td>\n",
       "      <td>100346</td>\n",
       "      <td>201072</td>\n",
       "      <td>테이트 남성 셀린니트3종</td>\n",
       "      <td>의류</td>\n",
       "      <td>39900</td>\n",
       "      <td>6672000.0</td>\n",
       "      <td>NaN</td>\n",
       "      <td>1.0</td>\n",
       "      <td>NaN</td>\n",
       "    </tr>\n",
       "    <tr>\n",
       "      <th>...</th>\n",
       "      <td>...</td>\n",
       "      <td>...</td>\n",
       "      <td>...</td>\n",
       "      <td>...</td>\n",
       "      <td>...</td>\n",
       "      <td>...</td>\n",
       "      <td>...</td>\n",
       "      <td>...</td>\n",
       "      <td>...</td>\n",
       "      <td>...</td>\n",
       "      <td>...</td>\n",
       "    </tr>\n",
       "    <tr>\n",
       "      <th>38299</th>\n",
       "      <td>2019-12-31 23:40:00</td>\n",
       "      <td>NaN</td>\n",
       "      <td>100448</td>\n",
       "      <td>201391</td>\n",
       "      <td>일시불쿠첸압력밥솥 6인용</td>\n",
       "      <td>주방</td>\n",
       "      <td>148000</td>\n",
       "      <td>10157000.0</td>\n",
       "      <td>NaN</td>\n",
       "      <td>NaN</td>\n",
       "      <td>NaN</td>\n",
       "    </tr>\n",
       "    <tr>\n",
       "      <th>38300</th>\n",
       "      <td>2020-01-01 00:00:00</td>\n",
       "      <td>20.0</td>\n",
       "      <td>100448</td>\n",
       "      <td>201383</td>\n",
       "      <td>무이자쿠첸압력밥솥 10인용</td>\n",
       "      <td>주방</td>\n",
       "      <td>178000</td>\n",
       "      <td>50929000.0</td>\n",
       "      <td>NaN</td>\n",
       "      <td>NaN</td>\n",
       "      <td>NaN</td>\n",
       "    </tr>\n",
       "    <tr>\n",
       "      <th>38301</th>\n",
       "      <td>2020-01-01 00:00:00</td>\n",
       "      <td>NaN</td>\n",
       "      <td>100448</td>\n",
       "      <td>201390</td>\n",
       "      <td>일시불쿠첸압력밥솥 10인용</td>\n",
       "      <td>주방</td>\n",
       "      <td>168000</td>\n",
       "      <td>104392000.0</td>\n",
       "      <td>NaN</td>\n",
       "      <td>NaN</td>\n",
       "      <td>NaN</td>\n",
       "    </tr>\n",
       "    <tr>\n",
       "      <th>38302</th>\n",
       "      <td>2020-01-01 00:00:00</td>\n",
       "      <td>NaN</td>\n",
       "      <td>100448</td>\n",
       "      <td>201384</td>\n",
       "      <td>무이자쿠첸압력밥솥 6인용</td>\n",
       "      <td>주방</td>\n",
       "      <td>158000</td>\n",
       "      <td>13765000.0</td>\n",
       "      <td>NaN</td>\n",
       "      <td>NaN</td>\n",
       "      <td>NaN</td>\n",
       "    </tr>\n",
       "    <tr>\n",
       "      <th>38303</th>\n",
       "      <td>2020-01-01 00:00:00</td>\n",
       "      <td>NaN</td>\n",
       "      <td>100448</td>\n",
       "      <td>201391</td>\n",
       "      <td>일시불쿠첸압력밥솥 6인용</td>\n",
       "      <td>주방</td>\n",
       "      <td>148000</td>\n",
       "      <td>46608000.0</td>\n",
       "      <td>NaN</td>\n",
       "      <td>NaN</td>\n",
       "      <td>NaN</td>\n",
       "    </tr>\n",
       "  </tbody>\n",
       "</table>\n",
       "<p>37372 rows × 11 columns</p>\n",
       "</div>"
      ],
      "text/plain": [
       "                     방송일시  노출(분)    마더코드    상품코드             상품명 상품군    판매단가  \\\n",
       "0     2019-01-01 06:00:00   20.0  100346  201072   테이트 남성 셀린니트3종  의류   39900   \n",
       "1     2019-01-01 06:00:00    NaN  100346  201079   테이트 여성 셀린니트3종  의류   39900   \n",
       "2     2019-01-01 06:20:00   20.0  100346  201072   테이트 남성 셀린니트3종  의류   39900   \n",
       "3     2019-01-01 06:20:00    NaN  100346  201079   테이트 여성 셀린니트3종  의류   39900   \n",
       "4     2019-01-01 06:40:00   20.0  100346  201072   테이트 남성 셀린니트3종  의류   39900   \n",
       "...                   ...    ...     ...     ...             ...  ..     ...   \n",
       "38299 2019-12-31 23:40:00    NaN  100448  201391   일시불쿠첸압력밥솥 6인용  주방  148000   \n",
       "38300 2020-01-01 00:00:00   20.0  100448  201383  무이자쿠첸압력밥솥 10인용  주방  178000   \n",
       "38301 2020-01-01 00:00:00    NaN  100448  201390  일시불쿠첸압력밥솥 10인용  주방  168000   \n",
       "38302 2020-01-01 00:00:00    NaN  100448  201384   무이자쿠첸압력밥솥 6인용  주방  158000   \n",
       "38303 2020-01-01 00:00:00    NaN  100448  201391   일시불쿠첸압력밥솥 6인용  주방  148000   \n",
       "\n",
       "               취급액  Unnamed: 8  Unnamed: 9  Unnamed: 10  \n",
       "0        2099000.0         NaN         NaN          NaN  \n",
       "1        4371000.0         NaN         1.0          2.0  \n",
       "2        3262000.0         NaN       200.0        200.0  \n",
       "3        6955000.0         NaN         NaN          NaN  \n",
       "4        6672000.0         NaN         1.0          NaN  \n",
       "...            ...         ...         ...          ...  \n",
       "38299   10157000.0         NaN         NaN          NaN  \n",
       "38300   50929000.0         NaN         NaN          NaN  \n",
       "38301  104392000.0         NaN         NaN          NaN  \n",
       "38302   13765000.0         NaN         NaN          NaN  \n",
       "38303   46608000.0         NaN         NaN          NaN  \n",
       "\n",
       "[37372 rows x 11 columns]"
      ]
     },
     "execution_count": 4,
     "metadata": {},
     "output_type": "execute_result"
    }
   ],
   "source": [
    "import pandas as pd\n",
    "import numpy as np\n",
    "from matplotlib import font_manager, rc\n",
    "import matplotlib.pyplot as plt\n",
    "import platform\n",
    "\n",
    "\n",
    "# if platform.system() == 'Windows':\n",
    "# # 윈도우인 경우\n",
    "#     font_name = font_manager.FontProperties(fname=\"c:/Windows/Fonts/malgun.ttf\").get_name()\n",
    "#     rc('font', family=font_name)\n",
    "# else:    \n",
    "# # Mac 인 경우\n",
    "#     rc('font', family='AppleGothic')\n",
    "    \n",
    "import pandas as pd\n",
    "import numpy as np\n",
    "import matplotlib \n",
    "import matplotlib.pyplot as plt \n",
    "\n",
    "import warnings\n",
    "\n",
    "warnings.filterwarnings(action = 'ignore') \n",
    "\n",
    "\n",
    "try:\n",
    "    if platform.system()==\"Windows\":\n",
    "        font_name=font_manager.FontProperties(fname=\"c:/Windows/Fonts/H2GTRM.ttf\").get_name()\n",
    "        rc(\"font\",family=font_name)\n",
    "    else:\n",
    "        rc('font',family='AppleGothic')\n",
    "except:\n",
    "    pass\n",
    "\n",
    "matplotlib.rcParams['axes.unicode_minus']=False\n",
    "\n",
    "sales = pd.read_excel('sales.xlsx', header=1)\n",
    "sales.head()\n",
    "\n",
    "# 무형 지우기\n",
    "sales.drop(sales[sales[\"상품군\"]==\"무형\"].index, inplace=True)\n",
    "\n",
    "# 판매단가 > 취급액 이면 취급액 = 0 \n",
    "\n",
    "def custom(price, total):\n",
    "    if price > total:\n",
    "        return 0\n",
    "    \n",
    "    else:\n",
    "        return total\n",
    "\n",
    "sales[\"취급액\"] = sales.apply(lambda x : custom(x[\"판매단가\"], x[\"취급액\"]), axis=1)\n",
    "\n",
    "# 확인\n",
    "print(sum((sales[\"판매단가\"] > sales[\"취급액\"]) & (sales['취급액'] != 0)))\n",
    "sales\n",
    "\n"
   ]
  },
  {
   "cell_type": "code",
   "execution_count": 5,
   "metadata": {},
   "outputs": [
    {
     "data": {
      "text/html": [
       "<div>\n",
       "<style scoped>\n",
       "    .dataframe tbody tr th:only-of-type {\n",
       "        vertical-align: middle;\n",
       "    }\n",
       "\n",
       "    .dataframe tbody tr th {\n",
       "        vertical-align: top;\n",
       "    }\n",
       "\n",
       "    .dataframe thead th {\n",
       "        text-align: right;\n",
       "    }\n",
       "</style>\n",
       "<table border=\"1\" class=\"dataframe\">\n",
       "  <thead>\n",
       "    <tr style=\"text-align: right;\">\n",
       "      <th></th>\n",
       "      <th>방송일시</th>\n",
       "      <th>노출(분)</th>\n",
       "      <th>마더코드</th>\n",
       "      <th>상품코드</th>\n",
       "      <th>상품명</th>\n",
       "      <th>상품군</th>\n",
       "      <th>판매단가</th>\n",
       "      <th>취급액</th>\n",
       "      <th>Unnamed: 8</th>\n",
       "      <th>Unnamed: 9</th>\n",
       "      <th>Unnamed: 10</th>\n",
       "      <th>month</th>\n",
       "      <th>day</th>\n",
       "      <th>hour</th>\n",
       "      <th>minute</th>\n",
       "      <th>weekday</th>\n",
       "      <th>방송날짜</th>\n",
       "    </tr>\n",
       "  </thead>\n",
       "  <tbody>\n",
       "    <tr>\n",
       "      <th>0</th>\n",
       "      <td>2019-01-01 06:00:00</td>\n",
       "      <td>20.0</td>\n",
       "      <td>100346</td>\n",
       "      <td>201072</td>\n",
       "      <td>테이트 남성 셀린니트3종</td>\n",
       "      <td>의류</td>\n",
       "      <td>39900</td>\n",
       "      <td>2099000.0</td>\n",
       "      <td>NaN</td>\n",
       "      <td>NaN</td>\n",
       "      <td>NaN</td>\n",
       "      <td>1</td>\n",
       "      <td>1</td>\n",
       "      <td>6</td>\n",
       "      <td>0</td>\n",
       "      <td>1</td>\n",
       "      <td>2019-01-01</td>\n",
       "    </tr>\n",
       "    <tr>\n",
       "      <th>1</th>\n",
       "      <td>2019-01-01 06:00:00</td>\n",
       "      <td>NaN</td>\n",
       "      <td>100346</td>\n",
       "      <td>201079</td>\n",
       "      <td>테이트 여성 셀린니트3종</td>\n",
       "      <td>의류</td>\n",
       "      <td>39900</td>\n",
       "      <td>4371000.0</td>\n",
       "      <td>NaN</td>\n",
       "      <td>1.0</td>\n",
       "      <td>2.0</td>\n",
       "      <td>1</td>\n",
       "      <td>1</td>\n",
       "      <td>6</td>\n",
       "      <td>0</td>\n",
       "      <td>1</td>\n",
       "      <td>2019-01-01</td>\n",
       "    </tr>\n",
       "    <tr>\n",
       "      <th>2</th>\n",
       "      <td>2019-01-01 06:20:00</td>\n",
       "      <td>20.0</td>\n",
       "      <td>100346</td>\n",
       "      <td>201072</td>\n",
       "      <td>테이트 남성 셀린니트3종</td>\n",
       "      <td>의류</td>\n",
       "      <td>39900</td>\n",
       "      <td>3262000.0</td>\n",
       "      <td>NaN</td>\n",
       "      <td>200.0</td>\n",
       "      <td>200.0</td>\n",
       "      <td>1</td>\n",
       "      <td>1</td>\n",
       "      <td>6</td>\n",
       "      <td>20</td>\n",
       "      <td>1</td>\n",
       "      <td>2019-01-01</td>\n",
       "    </tr>\n",
       "    <tr>\n",
       "      <th>3</th>\n",
       "      <td>2019-01-01 06:20:00</td>\n",
       "      <td>NaN</td>\n",
       "      <td>100346</td>\n",
       "      <td>201079</td>\n",
       "      <td>테이트 여성 셀린니트3종</td>\n",
       "      <td>의류</td>\n",
       "      <td>39900</td>\n",
       "      <td>6955000.0</td>\n",
       "      <td>NaN</td>\n",
       "      <td>NaN</td>\n",
       "      <td>NaN</td>\n",
       "      <td>1</td>\n",
       "      <td>1</td>\n",
       "      <td>6</td>\n",
       "      <td>20</td>\n",
       "      <td>1</td>\n",
       "      <td>2019-01-01</td>\n",
       "    </tr>\n",
       "    <tr>\n",
       "      <th>4</th>\n",
       "      <td>2019-01-01 06:40:00</td>\n",
       "      <td>20.0</td>\n",
       "      <td>100346</td>\n",
       "      <td>201072</td>\n",
       "      <td>테이트 남성 셀린니트3종</td>\n",
       "      <td>의류</td>\n",
       "      <td>39900</td>\n",
       "      <td>6672000.0</td>\n",
       "      <td>NaN</td>\n",
       "      <td>1.0</td>\n",
       "      <td>NaN</td>\n",
       "      <td>1</td>\n",
       "      <td>1</td>\n",
       "      <td>6</td>\n",
       "      <td>40</td>\n",
       "      <td>1</td>\n",
       "      <td>2019-01-01</td>\n",
       "    </tr>\n",
       "    <tr>\n",
       "      <th>...</th>\n",
       "      <td>...</td>\n",
       "      <td>...</td>\n",
       "      <td>...</td>\n",
       "      <td>...</td>\n",
       "      <td>...</td>\n",
       "      <td>...</td>\n",
       "      <td>...</td>\n",
       "      <td>...</td>\n",
       "      <td>...</td>\n",
       "      <td>...</td>\n",
       "      <td>...</td>\n",
       "      <td>...</td>\n",
       "      <td>...</td>\n",
       "      <td>...</td>\n",
       "      <td>...</td>\n",
       "      <td>...</td>\n",
       "      <td>...</td>\n",
       "    </tr>\n",
       "    <tr>\n",
       "      <th>38299</th>\n",
       "      <td>2019-12-31 23:40:00</td>\n",
       "      <td>NaN</td>\n",
       "      <td>100448</td>\n",
       "      <td>201391</td>\n",
       "      <td>일시불쿠첸압력밥솥 6인용</td>\n",
       "      <td>주방</td>\n",
       "      <td>148000</td>\n",
       "      <td>10157000.0</td>\n",
       "      <td>NaN</td>\n",
       "      <td>NaN</td>\n",
       "      <td>NaN</td>\n",
       "      <td>12</td>\n",
       "      <td>31</td>\n",
       "      <td>23</td>\n",
       "      <td>40</td>\n",
       "      <td>1</td>\n",
       "      <td>2019-12-31</td>\n",
       "    </tr>\n",
       "    <tr>\n",
       "      <th>38300</th>\n",
       "      <td>2020-01-01 00:00:00</td>\n",
       "      <td>20.0</td>\n",
       "      <td>100448</td>\n",
       "      <td>201383</td>\n",
       "      <td>무이자쿠첸압력밥솥 10인용</td>\n",
       "      <td>주방</td>\n",
       "      <td>178000</td>\n",
       "      <td>50929000.0</td>\n",
       "      <td>NaN</td>\n",
       "      <td>NaN</td>\n",
       "      <td>NaN</td>\n",
       "      <td>1</td>\n",
       "      <td>1</td>\n",
       "      <td>0</td>\n",
       "      <td>0</td>\n",
       "      <td>2</td>\n",
       "      <td>2020-01-01</td>\n",
       "    </tr>\n",
       "    <tr>\n",
       "      <th>38301</th>\n",
       "      <td>2020-01-01 00:00:00</td>\n",
       "      <td>NaN</td>\n",
       "      <td>100448</td>\n",
       "      <td>201390</td>\n",
       "      <td>일시불쿠첸압력밥솥 10인용</td>\n",
       "      <td>주방</td>\n",
       "      <td>168000</td>\n",
       "      <td>104392000.0</td>\n",
       "      <td>NaN</td>\n",
       "      <td>NaN</td>\n",
       "      <td>NaN</td>\n",
       "      <td>1</td>\n",
       "      <td>1</td>\n",
       "      <td>0</td>\n",
       "      <td>0</td>\n",
       "      <td>2</td>\n",
       "      <td>2020-01-01</td>\n",
       "    </tr>\n",
       "    <tr>\n",
       "      <th>38302</th>\n",
       "      <td>2020-01-01 00:00:00</td>\n",
       "      <td>NaN</td>\n",
       "      <td>100448</td>\n",
       "      <td>201384</td>\n",
       "      <td>무이자쿠첸압력밥솥 6인용</td>\n",
       "      <td>주방</td>\n",
       "      <td>158000</td>\n",
       "      <td>13765000.0</td>\n",
       "      <td>NaN</td>\n",
       "      <td>NaN</td>\n",
       "      <td>NaN</td>\n",
       "      <td>1</td>\n",
       "      <td>1</td>\n",
       "      <td>0</td>\n",
       "      <td>0</td>\n",
       "      <td>2</td>\n",
       "      <td>2020-01-01</td>\n",
       "    </tr>\n",
       "    <tr>\n",
       "      <th>38303</th>\n",
       "      <td>2020-01-01 00:00:00</td>\n",
       "      <td>NaN</td>\n",
       "      <td>100448</td>\n",
       "      <td>201391</td>\n",
       "      <td>일시불쿠첸압력밥솥 6인용</td>\n",
       "      <td>주방</td>\n",
       "      <td>148000</td>\n",
       "      <td>46608000.0</td>\n",
       "      <td>NaN</td>\n",
       "      <td>NaN</td>\n",
       "      <td>NaN</td>\n",
       "      <td>1</td>\n",
       "      <td>1</td>\n",
       "      <td>0</td>\n",
       "      <td>0</td>\n",
       "      <td>2</td>\n",
       "      <td>2020-01-01</td>\n",
       "    </tr>\n",
       "  </tbody>\n",
       "</table>\n",
       "<p>37372 rows × 17 columns</p>\n",
       "</div>"
      ],
      "text/plain": [
       "                     방송일시  노출(분)    마더코드    상품코드             상품명 상품군    판매단가  \\\n",
       "0     2019-01-01 06:00:00   20.0  100346  201072   테이트 남성 셀린니트3종  의류   39900   \n",
       "1     2019-01-01 06:00:00    NaN  100346  201079   테이트 여성 셀린니트3종  의류   39900   \n",
       "2     2019-01-01 06:20:00   20.0  100346  201072   테이트 남성 셀린니트3종  의류   39900   \n",
       "3     2019-01-01 06:20:00    NaN  100346  201079   테이트 여성 셀린니트3종  의류   39900   \n",
       "4     2019-01-01 06:40:00   20.0  100346  201072   테이트 남성 셀린니트3종  의류   39900   \n",
       "...                   ...    ...     ...     ...             ...  ..     ...   \n",
       "38299 2019-12-31 23:40:00    NaN  100448  201391   일시불쿠첸압력밥솥 6인용  주방  148000   \n",
       "38300 2020-01-01 00:00:00   20.0  100448  201383  무이자쿠첸압력밥솥 10인용  주방  178000   \n",
       "38301 2020-01-01 00:00:00    NaN  100448  201390  일시불쿠첸압력밥솥 10인용  주방  168000   \n",
       "38302 2020-01-01 00:00:00    NaN  100448  201384   무이자쿠첸압력밥솥 6인용  주방  158000   \n",
       "38303 2020-01-01 00:00:00    NaN  100448  201391   일시불쿠첸압력밥솥 6인용  주방  148000   \n",
       "\n",
       "               취급액  Unnamed: 8  Unnamed: 9  Unnamed: 10  month  day  hour  \\\n",
       "0        2099000.0         NaN         NaN          NaN      1    1     6   \n",
       "1        4371000.0         NaN         1.0          2.0      1    1     6   \n",
       "2        3262000.0         NaN       200.0        200.0      1    1     6   \n",
       "3        6955000.0         NaN         NaN          NaN      1    1     6   \n",
       "4        6672000.0         NaN         1.0          NaN      1    1     6   \n",
       "...            ...         ...         ...          ...    ...  ...   ...   \n",
       "38299   10157000.0         NaN         NaN          NaN     12   31    23   \n",
       "38300   50929000.0         NaN         NaN          NaN      1    1     0   \n",
       "38301  104392000.0         NaN         NaN          NaN      1    1     0   \n",
       "38302   13765000.0         NaN         NaN          NaN      1    1     0   \n",
       "38303   46608000.0         NaN         NaN          NaN      1    1     0   \n",
       "\n",
       "       minute  weekday        방송날짜  \n",
       "0           0        1  2019-01-01  \n",
       "1           0        1  2019-01-01  \n",
       "2          20        1  2019-01-01  \n",
       "3          20        1  2019-01-01  \n",
       "4          40        1  2019-01-01  \n",
       "...       ...      ...         ...  \n",
       "38299      40        1  2019-12-31  \n",
       "38300       0        2  2020-01-01  \n",
       "38301       0        2  2020-01-01  \n",
       "38302       0        2  2020-01-01  \n",
       "38303       0        2  2020-01-01  \n",
       "\n",
       "[37372 rows x 17 columns]"
      ]
     },
     "execution_count": 5,
     "metadata": {},
     "output_type": "execute_result"
    }
   ],
   "source": [
    "# month, day, hour, minute, weekday 열 추가\n",
    "sales['month'] = pd.DatetimeIndex(sales['방송일시']).month\n",
    "sales['day'] = pd.DatetimeIndex(sales['방송일시']).day\n",
    "sales['hour'] = pd.DatetimeIndex(sales['방송일시']).hour\n",
    "sales['minute'] = pd.DatetimeIndex(sales['방송일시']).minute\n",
    "sales['weekday'] = pd.DatetimeIndex(sales['방송일시']).weekday\n",
    "sales['방송날짜'] = pd.DatetimeIndex(sales['방송일시']).date\n",
    "\n",
    "sales"
   ]
  },
  {
   "cell_type": "code",
   "execution_count": 18,
   "metadata": {},
   "outputs": [
    {
     "data": {
      "text/html": [
       "<div>\n",
       "<style scoped>\n",
       "    .dataframe tbody tr th:only-of-type {\n",
       "        vertical-align: middle;\n",
       "    }\n",
       "\n",
       "    .dataframe tbody tr th {\n",
       "        vertical-align: top;\n",
       "    }\n",
       "\n",
       "    .dataframe thead th {\n",
       "        text-align: right;\n",
       "    }\n",
       "</style>\n",
       "<table border=\"1\" class=\"dataframe\">\n",
       "  <thead>\n",
       "    <tr style=\"text-align: right;\">\n",
       "      <th></th>\n",
       "      <th>방송일시</th>\n",
       "      <th>미세먼지(㎍/㎥)</th>\n",
       "      <th>초미세먼지(㎍/㎥)</th>\n",
       "      <th>오존(ppm)</th>\n",
       "      <th>이산화질소농도(ppm)</th>\n",
       "      <th>일산화탄소농도(ppm)</th>\n",
       "      <th>아황산가스농도(ppm)</th>\n",
       "      <th>미세먼지 주의보 및 경보</th>\n",
       "      <th>평균기온(℃)</th>\n",
       "      <th>최고기온(℃)</th>\n",
       "      <th>최저기온(℃)</th>\n",
       "      <th>season</th>\n",
       "    </tr>\n",
       "  </thead>\n",
       "  <tbody>\n",
       "    <tr>\n",
       "      <th>0</th>\n",
       "      <td>2019-01-01</td>\n",
       "      <td>39.36</td>\n",
       "      <td>26.12</td>\n",
       "      <td>0.01472</td>\n",
       "      <td>0.03156</td>\n",
       "      <td>0.692</td>\n",
       "      <td>0.00428</td>\n",
       "      <td>0</td>\n",
       "      <td>-5.0</td>\n",
       "      <td>-0.6</td>\n",
       "      <td>-8.2</td>\n",
       "      <td>겨울</td>\n",
       "    </tr>\n",
       "    <tr>\n",
       "      <th>1</th>\n",
       "      <td>2019-01-02</td>\n",
       "      <td>33.08</td>\n",
       "      <td>21.36</td>\n",
       "      <td>0.01256</td>\n",
       "      <td>0.03524</td>\n",
       "      <td>0.676</td>\n",
       "      <td>0.00464</td>\n",
       "      <td>0</td>\n",
       "      <td>-4.9</td>\n",
       "      <td>0.2</td>\n",
       "      <td>-8.8</td>\n",
       "      <td>겨울</td>\n",
       "    </tr>\n",
       "    <tr>\n",
       "      <th>2</th>\n",
       "      <td>2019-01-03</td>\n",
       "      <td>38.80</td>\n",
       "      <td>23.36</td>\n",
       "      <td>0.00716</td>\n",
       "      <td>0.04344</td>\n",
       "      <td>0.736</td>\n",
       "      <td>0.00504</td>\n",
       "      <td>0</td>\n",
       "      <td>-3.5</td>\n",
       "      <td>3.2</td>\n",
       "      <td>-8.4</td>\n",
       "      <td>겨울</td>\n",
       "    </tr>\n",
       "    <tr>\n",
       "      <th>3</th>\n",
       "      <td>2019-01-04</td>\n",
       "      <td>59.44</td>\n",
       "      <td>40.36</td>\n",
       "      <td>0.00368</td>\n",
       "      <td>0.05896</td>\n",
       "      <td>1.060</td>\n",
       "      <td>0.00600</td>\n",
       "      <td>0</td>\n",
       "      <td>-1.1</td>\n",
       "      <td>4.1</td>\n",
       "      <td>-6.2</td>\n",
       "      <td>겨울</td>\n",
       "    </tr>\n",
       "    <tr>\n",
       "      <th>4</th>\n",
       "      <td>2019-01-05</td>\n",
       "      <td>65.72</td>\n",
       "      <td>42.52</td>\n",
       "      <td>0.01788</td>\n",
       "      <td>0.02812</td>\n",
       "      <td>0.644</td>\n",
       "      <td>0.00512</td>\n",
       "      <td>1</td>\n",
       "      <td>-2.8</td>\n",
       "      <td>1.1</td>\n",
       "      <td>-5.5</td>\n",
       "      <td>겨울</td>\n",
       "    </tr>\n",
       "  </tbody>\n",
       "</table>\n",
       "</div>"
      ],
      "text/plain": [
       "         방송일시  미세먼지(㎍/㎥)  초미세먼지(㎍/㎥)  오존(ppm)  이산화질소농도(ppm)  일산화탄소농도(ppm)  \\\n",
       "0  2019-01-01      39.36       26.12  0.01472       0.03156         0.692   \n",
       "1  2019-01-02      33.08       21.36  0.01256       0.03524         0.676   \n",
       "2  2019-01-03      38.80       23.36  0.00716       0.04344         0.736   \n",
       "3  2019-01-04      59.44       40.36  0.00368       0.05896         1.060   \n",
       "4  2019-01-05      65.72       42.52  0.01788       0.02812         0.644   \n",
       "\n",
       "   아황산가스농도(ppm)  미세먼지 주의보 및 경보  평균기온(℃)  최고기온(℃)  최저기온(℃) season  \n",
       "0       0.00428              0     -5.0     -0.6     -8.2     겨울  \n",
       "1       0.00464              0     -4.9      0.2     -8.8     겨울  \n",
       "2       0.00504              0     -3.5      3.2     -8.4     겨울  \n",
       "3       0.00600              0     -1.1      4.1     -6.2     겨울  \n",
       "4       0.00512              1     -2.8      1.1     -5.5     겨울  "
      ]
     },
     "execution_count": 18,
     "metadata": {},
     "output_type": "execute_result"
    }
   ],
   "source": [
    "weather = pd.read_csv('weathers.csv')\n",
    "weather.head()"
   ]
  },
  {
   "cell_type": "markdown",
   "metadata": {},
   "source": [
    "# 시간대별 상품군 편성 비율(노출 시간 기준) "
   ]
  },
  {
   "cell_type": "code",
   "execution_count": 76,
   "metadata": {},
   "outputs": [
    {
     "data": {
      "image/png": "[encoded data removed]",
      "text/plain": [
       "<Figure size 720x360 with 1 Axes>"
      ]
     },
     "metadata": {
      "needs_background": "light"
     },
     "output_type": "display_data"
    }
   ],
   "source": [
    "# 노출시간 채우지 않은 데이터 활용 -> 중복 문제 해결 \n",
    "\n",
    "fig, ax = plt.subplots(figsize=(10,5))\n",
    "sales.groupby(['hour','상품군']).sum()['노출(분)'].unstack().plot(kind='bar',stacked=True, ax=ax)\n",
    "plt.legend(loc='center left', bbox_to_anchor=(1.0, 0.5))\n",
    "\n",
    "plt.xlabel('hour')\n",
    "plt.ylabel('broadcast time')\n",
    "\n",
    "plt.show()"
   ]
  },
  {
   "cell_type": "code",
   "execution_count": null,
   "metadata": {},
   "outputs": [],
   "source": [
    "broad_time = sales.groupby(['hour','상품군']).sum()['노출(분)']"
   ]
  },
  {
   "cell_type": "code",
   "execution_count": 92,
   "metadata": {},
   "outputs": [
    {
     "data": {
      "text/html": [
       "<div>\n",
       "<style scoped>\n",
       "    .dataframe tbody tr th:only-of-type {\n",
       "        vertical-align: middle;\n",
       "    }\n",
       "\n",
       "    .dataframe tbody tr th {\n",
       "        vertical-align: top;\n",
       "    }\n",
       "\n",
       "    .dataframe thead th {\n",
       "        text-align: right;\n",
       "    }\n",
       "</style>\n",
       "<table border=\"1\" class=\"dataframe\">\n",
       "  <thead>\n",
       "    <tr style=\"text-align: right;\">\n",
       "      <th></th>\n",
       "      <th></th>\n",
       "      <th>노출(분)</th>\n",
       "      <th>취급액</th>\n",
       "    </tr>\n",
       "    <tr>\n",
       "      <th>hour</th>\n",
       "      <th>상품군</th>\n",
       "      <th></th>\n",
       "      <th></th>\n",
       "    </tr>\n",
       "  </thead>\n",
       "  <tbody>\n",
       "    <tr>\n",
       "      <th rowspan=\"5\" valign=\"top\">0</th>\n",
       "      <th>가구</th>\n",
       "      <td>540.000000</td>\n",
       "      <td>1.081895e+09</td>\n",
       "    </tr>\n",
       "    <tr>\n",
       "      <th>가전</th>\n",
       "      <td>520.000000</td>\n",
       "      <td>9.039800e+08</td>\n",
       "    </tr>\n",
       "    <tr>\n",
       "      <th>건강기능</th>\n",
       "      <td>380.000000</td>\n",
       "      <td>4.545280e+08</td>\n",
       "    </tr>\n",
       "    <tr>\n",
       "      <th>농수축</th>\n",
       "      <td>105.466667</td>\n",
       "      <td>4.851740e+08</td>\n",
       "    </tr>\n",
       "    <tr>\n",
       "      <th>생활용품</th>\n",
       "      <td>2100.000000</td>\n",
       "      <td>2.831462e+09</td>\n",
       "    </tr>\n",
       "    <tr>\n",
       "      <th>...</th>\n",
       "      <th>...</th>\n",
       "      <td>...</td>\n",
       "      <td>...</td>\n",
       "    </tr>\n",
       "    <tr>\n",
       "      <th rowspan=\"5\" valign=\"top\">23</th>\n",
       "      <th>의류</th>\n",
       "      <td>2920.000000</td>\n",
       "      <td>5.220155e+09</td>\n",
       "    </tr>\n",
       "    <tr>\n",
       "      <th>이미용</th>\n",
       "      <td>1047.266667</td>\n",
       "      <td>2.103373e+09</td>\n",
       "    </tr>\n",
       "    <tr>\n",
       "      <th>잡화</th>\n",
       "      <td>980.200000</td>\n",
       "      <td>1.627775e+09</td>\n",
       "    </tr>\n",
       "    <tr>\n",
       "      <th>주방</th>\n",
       "      <td>700.000000</td>\n",
       "      <td>2.009354e+09</td>\n",
       "    </tr>\n",
       "    <tr>\n",
       "      <th>침구</th>\n",
       "      <td>180.000000</td>\n",
       "      <td>2.578650e+08</td>\n",
       "    </tr>\n",
       "  </tbody>\n",
       "</table>\n",
       "<p>214 rows × 2 columns</p>\n",
       "</div>"
      ],
      "text/plain": [
       "                 노출(분)           취급액\n",
       "hour 상품군                            \n",
       "0    가구     540.000000  1.081895e+09\n",
       "     가전     520.000000  9.039800e+08\n",
       "     건강기능   380.000000  4.545280e+08\n",
       "     농수축    105.466667  4.851740e+08\n",
       "     생활용품  2100.000000  2.831462e+09\n",
       "...                ...           ...\n",
       "23   의류    2920.000000  5.220155e+09\n",
       "     이미용   1047.266667  2.103373e+09\n",
       "     잡화     980.200000  1.627775e+09\n",
       "     주방     700.000000  2.009354e+09\n",
       "     침구     180.000000  2.578650e+08\n",
       "\n",
       "[214 rows x 2 columns]"
      ]
     },
     "execution_count": 92,
     "metadata": {},
     "output_type": "execute_result"
    }
   ],
   "source": [
    "sales_time = sales.groupby(['hour', '상품군']).sum()['취급액']\n",
    "\n",
    "btdf = pd.DataFrame(broad_time)\n",
    "btdf['취급액'] = sales_time\n",
    "\n",
    "btdf "
   ]
  },
  {
   "cell_type": "markdown",
   "metadata": {},
   "source": [
    "# 요일별 prime time 분석 - 방송 노출분 기준 \n",
    "- 확인하고 싶은 부분 : 요일별로 상품군 비중이 다를까\n",
    "- 편성 비중에 비해 높은 매출액이 나오는가(매출액 그래프와 비교 필요)"
   ]
  },
  {
   "cell_type": "code",
   "execution_count": 114,
   "metadata": {},
   "outputs": [
    {
     "data": {
      "image/png": "[encoded data removed]",
      "text/plain": [
       "<Figure size 576x288 with 1 Axes>"
      ]
     },
     "metadata": {
      "needs_background": "light"
     },
     "output_type": "display_data"
    }
   ],
   "source": [
    "# groupby - weekday \n",
    "# weekday 0:월, 1:화, 2:수, 3:목, 4:금, 5:토, 6:일\n",
    "\n",
    "# 월요일 \n",
    "\n",
    "fig, ax = plt.subplots(figsize=(8,4))\n",
    "\n",
    "sales0 = sales[sales['weekday']==0] # 월요일 \n",
    "sales0.groupby(['hour','상품군']).sum()['노출(분)'].unstack().plot(kind='bar',stacked=True, ax=ax)\n",
    "\n",
    "plt.legend(loc='center left', bbox_to_anchor=(1.0, 0.5))\n",
    "\n",
    "plt.xlabel('hour')\n",
    "plt.ylabel('broadcast time')\n",
    "\n",
    "plt.show()"
   ]
  },
  {
   "cell_type": "code",
   "execution_count": 115,
   "metadata": {},
   "outputs": [
    {
     "data": {
      "image/png": "[encoded data removed]",
      "text/plain": [
       "<Figure size 576x288 with 1 Axes>"
      ]
     },
     "metadata": {
      "needs_background": "light"
     },
     "output_type": "display_data"
    }
   ],
   "source": [
    "# 화요일 \n",
    "\n",
    "fig, ax = plt.subplots(figsize=(8,4))\n",
    "sales1 = sales[sales['weekday']==1]\n",
    "\n",
    "sales1.groupby(['hour','상품군']).sum()['노출(분)'].unstack().plot(kind='bar',stacked=True, ax=ax)\n",
    "\n",
    "plt.legend(loc='center left', bbox_to_anchor=(1.0, 0.5))\n",
    "\n",
    "plt.xlabel('hour')\n",
    "plt.ylabel('broadcast time')\n",
    "\n",
    "plt.show()\n"
   ]
  },
  {
   "cell_type": "code",
   "execution_count": 116,
   "metadata": {},
   "outputs": [
    {
     "data": {
      "image/png": "[encoded data removed]",
      "text/plain": [
       "<Figure size 576x288 with 1 Axes>"
      ]
     },
     "metadata": {
      "needs_background": "light"
     },
     "output_type": "display_data"
    }
   ],
   "source": [
    "# 수요일\n",
    "\n",
    "fig, ax = plt.subplots(figsize=(8,4))\n",
    "sales2 = sales[sales['weekday']==2]\n",
    "\n",
    "sales2.groupby(['hour','상품군']).sum()['노출(분)'].unstack().plot(kind='bar',stacked=True, ax=ax)\n",
    "\n",
    "plt.legend(loc='center left', bbox_to_anchor=(1.0, 0.5))\n",
    "\n",
    "plt.xlabel('hour')\n",
    "plt.ylabel('broadcast time')\n",
    "\n",
    "plt.show()"
   ]
  },
  {
   "cell_type": "code",
   "execution_count": 117,
   "metadata": {},
   "outputs": [
    {
     "data": {
      "image/png": "[encoded data removed]",
      "text/plain": [
       "<Figure size 576x288 with 1 Axes>"
      ]
     },
     "metadata": {
      "needs_background": "light"
     },
     "output_type": "display_data"
    }
   ],
   "source": [
    "# 목요일\n",
    "\n",
    "fig, ax = plt.subplots(figsize=(8,4))\n",
    "sales3 = sales[sales['weekday']==3]\n",
    "\n",
    "sales3.groupby(['hour','상품군']).sum()['노출(분)'].unstack().plot(kind='bar',stacked=True, ax=ax)\n",
    "\n",
    "plt.legend(loc='center left', bbox_to_anchor=(1.0, 0.5))\n",
    "\n",
    "plt.xlabel('hour')\n",
    "plt.ylabel('broadcast time')\n",
    "\n",
    "plt.show()"
   ]
  },
  {
   "cell_type": "code",
   "execution_count": 118,
   "metadata": {},
   "outputs": [
    {
     "data": {
      "image/png": "[encoded data removed]",
      "text/plain": [
       "<Figure size 576x288 with 1 Axes>"
      ]
     },
     "metadata": {
      "needs_background": "light"
     },
     "output_type": "display_data"
    }
   ],
   "source": [
    "# 금요일\n",
    "\n",
    "fig, ax = plt.subplots(figsize=(8,4))\n",
    "sales4 = sales[sales['weekday']==4]\n",
    "\n",
    "sales4.groupby(['hour','상품군']).sum()['노출(분)'].unstack().plot(kind='bar',stacked=True, ax=ax)\n",
    "\n",
    "plt.legend(loc='center left', bbox_to_anchor=(1.0, 0.5))\n",
    "\n",
    "plt.xlabel('hour')\n",
    "plt.ylabel('broadcast time')\n",
    "\n",
    "plt.show()"
   ]
  },
  {
   "cell_type": "code",
   "execution_count": 119,
   "metadata": {},
   "outputs": [
    {
     "data": {
      "image/png": "[encoded data removed]",
      "text/plain": [
       "<Figure size 576x288 with 1 Axes>"
      ]
     },
     "metadata": {
      "needs_background": "light"
     },
     "output_type": "display_data"
    }
   ],
   "source": [
    "# 토요일\n",
    "\n",
    "fig, ax = plt.subplots(figsize=(8,4))\n",
    "sales5 = sales[sales['weekday']==5]\n",
    "\n",
    "sales5.groupby(['hour','상품군']).sum()['노출(분)'].unstack().plot(kind='bar',stacked=True, ax=ax)\n",
    "\n",
    "plt.legend(loc='center left', bbox_to_anchor=(1.0, 0.5))\n",
    "\n",
    "plt.xlabel('hour')\n",
    "plt.ylabel('broadcast time')\n",
    "\n",
    "plt.show()"
   ]
  },
  {
   "cell_type": "code",
   "execution_count": 120,
   "metadata": {},
   "outputs": [
    {
     "data": {
      "image/png": "[encoded data removed]",
      "text/plain": [
       "<Figure size 576x288 with 1 Axes>"
      ]
     },
     "metadata": {
      "needs_background": "light"
     },
     "output_type": "display_data"
    }
   ],
   "source": [
    "# 일요일\n",
    "\n",
    "fig, ax = plt.subplots(figsize=(8,4))\n",
    "sales6 = sales[sales['weekday']==6]\n",
    "\n",
    "sales6.groupby(['hour','상품군']).sum()['노출(분)'].unstack().plot(kind='bar',stacked=True, ax=ax)\n",
    "\n",
    "plt.legend(loc='center left', bbox_to_anchor=(1.0, 0.5))\n",
    "\n",
    "plt.xlabel('hour')\n",
    "plt.ylabel('broadcast time')\n",
    "\n",
    "plt.show()"
   ]
  },
  {
   "cell_type": "markdown",
   "metadata": {},
   "source": [
    "# 요일별 prime time 분석 - 매출액 기준  -> 사용 x mean으로 수정 후 활용 해야함"
   ]
  },
  {
   "cell_type": "code",
   "execution_count": 123,
   "metadata": {},
   "outputs": [
    {
     "data": {
      "text/plain": [
       "<matplotlib.legend.Legend at 0x2850fa8fbe0>"
      ]
     },
     "execution_count": 123,
     "metadata": {},
     "output_type": "execute_result"
    },
    {
     "data": {
      "image/png": "[encoded data removed]",
      "text/plain": [
       "<Figure size 720x360 with 1 Axes>"
      ]
     },
     "metadata": {
      "needs_background": "light"
     },
     "output_type": "display_data"
    }
   ],
   "source": [
    "#요일별 시간별 매출액(취급액) \n",
    "# 평일 매출액 groupby(sum) (월요일 ~ 금요일) \n",
    "\n",
    "hour_sales_sum0 = sales0.groupby('hour')['취급액'].sum()\n",
    "hour_sales_sum1 = sales1.groupby('hour')['취급액'].sum()\n",
    "hour_sales_sum2 = sales2.groupby('hour')['취급액'].sum()\n",
    "hour_sales_sum3 = sales3.groupby('hour')['취급액'].sum()\n",
    "hour_sales_sum4 = sales4.groupby('hour')['취급액'].sum()\n",
    "\n",
    "# 주말 매출액  groupby\n",
    "hour_sales_sum5 = sales5.groupby('hour')['취급액'].sum()\n",
    "hour_sales_sum6 = sales6.groupby('hour')['취급액'].sum()\n",
    "\n",
    "\n",
    "fig, ax = plt.subplots(figsize=(10,5))  # figsize - 도화지 사이즈 \n",
    "\n",
    "# 평일 추이 그려보기. \n",
    "ax.plot(hour_sales_sum0.index, hour_sales_sum0, label='mon')\n",
    "ax.plot(hour_sales_sum1.index, hour_sales_sum1, label='tue')\n",
    "ax.plot(hour_sales_sum2.index, hour_sales_sum2, label='wed')\n",
    "ax.plot(hour_sales_sum3.index, hour_sales_sum3, label='thu')\n",
    "ax.plot(hour_sales_sum4.index, hour_sales_sum4, label='fri')\n",
    "\n",
    "# 주말 추이도 그려보자. (갈색 - 토요일 / 핑크 - 일요일)\n",
    "ax.plot(hour_sales_sum5.index, hour_sales_sum5, label='sat') \n",
    "ax.plot(hour_sales_sum6.index, hour_sales_sum6, label='sun')\n",
    "\n",
    "plt.xticks(hour_sales_sum0.index)\n",
    "\n",
    "plt.xlabel('hour')\n",
    "plt.ylabel('sales')\n",
    "\n",
    "plt.legend(loc='upper left')"
   ]
  },
  {
   "cell_type": "markdown",
   "metadata": {},
   "source": [
    "# 시간대별 평일 매출 feature 만들기 "
   ]
  },
  {
   "cell_type": "code",
   "execution_count": 225,
   "metadata": {},
   "outputs": [],
   "source": [
    "weekday_Wprime = np.array([hour_sales_sum0, hour_sales_sum1, hour_sales_sum2, hour_sales_sum3, hour_sales_sum4]).mean(axis=0)"
   ]
  },
  {
   "cell_type": "code",
   "execution_count": 226,
   "metadata": {},
   "outputs": [
    {
     "data": {
      "text/plain": [
       "array([4.0451696e+09, 2.1689638e+09, 1.4476760e+08, 2.4359302e+09,\n",
       "       4.0743332e+09, 4.1919248e+09, 5.3720308e+09, 6.0761072e+09,\n",
       "       5.8977828e+09, 4.6646430e+09, 4.9909998e+09, 5.1372570e+09,\n",
       "       5.8317826e+09, 6.3275970e+09, 6.7281194e+09, 6.0510570e+09,\n",
       "       6.2084282e+09, 7.4264528e+09, 9.4708112e+09, 8.6363884e+09,\n",
       "       5.6566888e+09])"
      ]
     },
     "execution_count": 226,
     "metadata": {},
     "output_type": "execute_result"
    }
   ],
   "source": [
    "weekday_Wprime"
   ]
  },
  {
   "cell_type": "code",
   "execution_count": 227,
   "metadata": {},
   "outputs": [],
   "source": [
    "hours = [0,1,2,6,7,8,9,10,11,12,13,14,15,16,17,18,19,20,21,22,23]"
   ]
  },
  {
   "cell_type": "code",
   "execution_count": 228,
   "metadata": {},
   "outputs": [],
   "source": [
    "for i,hour in enumerate(hours):\n",
    "    sales[sales['weekday'].isin([0,1,2,3,4]) & sales['hour'].isin([hour])]['Wprime'] = weekday_Wprime[i]"
   ]
  },
  {
   "cell_type": "code",
   "execution_count": 229,
   "metadata": {},
   "outputs": [],
   "source": [
    "for i,hour in enumerate(hours):\n",
    "    sales[sales['weekday'].isin([5,6]) & sales['hour'].isin([hour])]['Wprime'] = weekend_Wprime[i]"
   ]
  },
  {
   "cell_type": "code",
   "execution_count": 230,
   "metadata": {},
   "outputs": [],
   "source": [
    "sales[sales['weekday'].isin([5,6]) & sales['hour'].isin([1])]['Wprime'] = weekday_Wprime[1]"
   ]
  },
  {
   "cell_type": "code",
   "execution_count": 231,
   "metadata": {
    "scrolled": true
   },
   "outputs": [],
   "source": [
    "sales[sales['weekday'].isin([5,6]) & sales['hour'].isin([1])]['Wprime'].replace(inplace = True, to_replace= 'dict', value = {0 : 1})"
   ]
  },
  {
   "cell_type": "code",
   "execution_count": 232,
   "metadata": {},
   "outputs": [
    {
     "data": {
      "text/plain": [
       "345      0\n",
       "346      0\n",
       "347      0\n",
       "348      0\n",
       "349      0\n",
       "        ..\n",
       "37388    0\n",
       "37947    0\n",
       "37948    0\n",
       "38050    0\n",
       "38051    0\n",
       "Name: Wprime, Length: 412, dtype: int64"
      ]
     },
     "execution_count": 232,
     "metadata": {},
     "output_type": "execute_result"
    }
   ],
   "source": [
    "sales[sales['weekday'].isin([5,6]) & sales['hour'].isin([1])]['Wprime'] "
   ]
  },
  {
   "cell_type": "markdown",
   "metadata": {},
   "source": [
    "# 시간대별 주말 매출 feature"
   ]
  },
  {
   "cell_type": "code",
   "execution_count": 233,
   "metadata": {},
   "outputs": [],
   "source": [
    "weekend_Wprime = np.array([hour_sales_sum5, hour_sales_sum6]).mean(axis=0)"
   ]
  },
  {
   "cell_type": "markdown",
   "metadata": {},
   "source": [
    "# 요일별 시간대별 노출분 "
   ]
  },
  {
   "cell_type": "code",
   "execution_count": 127,
   "metadata": {},
   "outputs": [
    {
     "data": {
      "text/plain": [
       "<matplotlib.legend.Legend at 0x2850f946580>"
      ]
     },
     "execution_count": 127,
     "metadata": {},
     "output_type": "execute_result"
    },
    {
     "data": {
      "image/png": "[encoded data removed]",
      "text/plain": [
       "<Figure size 720x360 with 1 Axes>"
      ]
     },
     "metadata": {
      "needs_background": "light"
     },
     "output_type": "display_data"
    }
   ],
   "source": [
    "#요일별 시간별 매출액(취급액) \n",
    "# 평일 매출액 groupby(sum) (월요일 ~ 금요일) \n",
    "\n",
    "hour_broad_sum0 = sales0.groupby('hour')['노출(분)'].sum()\n",
    "hour_broad_sum1 = sales1.groupby('hour')['노출(분)'].sum()\n",
    "hour_broad_sum2 = sales2.groupby('hour')['노출(분)'].sum()\n",
    "hour_broad_sum3 = sales3.groupby('hour')['노출(분)'].sum()\n",
    "hour_broad_sum4 = sales4.groupby('hour')['노출(분)'].sum()\n",
    "\n",
    "# 주말 매출액  groupby\n",
    "hour_broad_sum5 = sales5.groupby('hour')['노출(분)'].sum()\n",
    "hour_broad_sum6 = sales6.groupby('hour')['노출(분)'].sum()\n",
    "\n",
    "\n",
    "fig, ax = plt.subplots(figsize=(10,5))  # figsize - 도화지 사이즈 \n",
    "\n",
    "ax.plot(hour_broad_sum0.index, hour_broad_sum0, label='mon')\n",
    "ax.plot(hour_broad_sum1.index, hour_broad_sum1, label='tue')\n",
    "ax.plot(hour_broad_sum2.index, hour_broad_sum2, label='wed')\n",
    "ax.plot(hour_broad_sum3.index, hour_broad_sum3, label='thu')\n",
    "ax.plot(hour_broad_sum4.index, hour_broad_sum4, label='fri')\n",
    "\n",
    "# 주말 추이도 그려보자. (갈색 - 토요일 / 핑크 - 일요일)\n",
    "ax.plot(hour_broad_sum5.index, hour_broad_sum5, label='sat') \n",
    "ax.plot(hour_broad_sum6.index, hour_broad_sum6, label='sun')\n",
    "\n",
    "plt.xticks(hour_broad_sum0.index)\n",
    "\n",
    "plt.xlabel('hour')\n",
    "plt.ylabel('broadcast time')\n",
    "\n",
    "plt.legend(loc='upper left')"
   ]
  },
  {
   "cell_type": "markdown",
   "metadata": {},
   "source": [
    "# prime time 매출이 전체 매출액의 몇%인지 수치로 확인"
   ]
  },
  {
   "cell_type": "code",
   "execution_count": 100,
   "metadata": {},
   "outputs": [
    {
     "data": {
      "text/html": [
       "<div>\n",
       "<style scoped>\n",
       "    .dataframe tbody tr th:only-of-type {\n",
       "        vertical-align: middle;\n",
       "    }\n",
       "\n",
       "    .dataframe tbody tr th {\n",
       "        vertical-align: top;\n",
       "    }\n",
       "\n",
       "    .dataframe thead th {\n",
       "        text-align: right;\n",
       "    }\n",
       "</style>\n",
       "<table border=\"1\" class=\"dataframe\">\n",
       "  <thead>\n",
       "    <tr style=\"text-align: right;\">\n",
       "      <th></th>\n",
       "      <th>hour</th>\n",
       "      <th>취급액</th>\n",
       "      <th>rate</th>\n",
       "    </tr>\n",
       "  </thead>\n",
       "  <tbody>\n",
       "    <tr>\n",
       "      <th>18</th>\n",
       "      <td>21</td>\n",
       "      <td>1.000400e+10</td>\n",
       "      <td>0.090475</td>\n",
       "    </tr>\n",
       "    <tr>\n",
       "      <th>19</th>\n",
       "      <td>22</td>\n",
       "      <td>9.182485e+09</td>\n",
       "      <td>0.083046</td>\n",
       "    </tr>\n",
       "    <tr>\n",
       "      <th>17</th>\n",
       "      <td>20</td>\n",
       "      <td>7.217471e+09</td>\n",
       "      <td>0.065274</td>\n",
       "    </tr>\n",
       "    <tr>\n",
       "      <th>14</th>\n",
       "      <td>17</td>\n",
       "      <td>6.864460e+09</td>\n",
       "      <td>0.062082</td>\n",
       "    </tr>\n",
       "    <tr>\n",
       "      <th>13</th>\n",
       "      <td>16</td>\n",
       "      <td>6.409541e+09</td>\n",
       "      <td>0.057967</td>\n",
       "    </tr>\n",
       "    <tr>\n",
       "      <th>16</th>\n",
       "      <td>19</td>\n",
       "      <td>6.271025e+09</td>\n",
       "      <td>0.056715</td>\n",
       "    </tr>\n",
       "    <tr>\n",
       "      <th>20</th>\n",
       "      <td>23</td>\n",
       "      <td>6.038515e+09</td>\n",
       "      <td>0.054612</td>\n",
       "    </tr>\n",
       "    <tr>\n",
       "      <th>8</th>\n",
       "      <td>11</td>\n",
       "      <td>5.777600e+09</td>\n",
       "      <td>0.052252</td>\n",
       "    </tr>\n",
       "    <tr>\n",
       "      <th>7</th>\n",
       "      <td>10</td>\n",
       "      <td>5.723341e+09</td>\n",
       "      <td>0.051761</td>\n",
       "    </tr>\n",
       "    <tr>\n",
       "      <th>15</th>\n",
       "      <td>18</td>\n",
       "      <td>5.466888e+09</td>\n",
       "      <td>0.049442</td>\n",
       "    </tr>\n",
       "    <tr>\n",
       "      <th>12</th>\n",
       "      <td>15</td>\n",
       "      <td>5.460573e+09</td>\n",
       "      <td>0.049385</td>\n",
       "    </tr>\n",
       "    <tr>\n",
       "      <th>11</th>\n",
       "      <td>14</td>\n",
       "      <td>5.006643e+09</td>\n",
       "      <td>0.045280</td>\n",
       "    </tr>\n",
       "    <tr>\n",
       "      <th>6</th>\n",
       "      <td>9</td>\n",
       "      <td>4.952062e+09</td>\n",
       "      <td>0.044786</td>\n",
       "    </tr>\n",
       "    <tr>\n",
       "      <th>10</th>\n",
       "      <td>13</td>\n",
       "      <td>4.927608e+09</td>\n",
       "      <td>0.044565</td>\n",
       "    </tr>\n",
       "    <tr>\n",
       "      <th>9</th>\n",
       "      <td>12</td>\n",
       "      <td>4.665017e+09</td>\n",
       "      <td>0.042190</td>\n",
       "    </tr>\n",
       "    <tr>\n",
       "      <th>0</th>\n",
       "      <td>0</td>\n",
       "      <td>4.573589e+09</td>\n",
       "      <td>0.041363</td>\n",
       "    </tr>\n",
       "    <tr>\n",
       "      <th>5</th>\n",
       "      <td>8</td>\n",
       "      <td>3.877724e+09</td>\n",
       "      <td>0.035070</td>\n",
       "    </tr>\n",
       "    <tr>\n",
       "      <th>4</th>\n",
       "      <td>7</td>\n",
       "      <td>3.548231e+09</td>\n",
       "      <td>0.032090</td>\n",
       "    </tr>\n",
       "    <tr>\n",
       "      <th>1</th>\n",
       "      <td>1</td>\n",
       "      <td>2.297512e+09</td>\n",
       "      <td>0.020778</td>\n",
       "    </tr>\n",
       "    <tr>\n",
       "      <th>3</th>\n",
       "      <td>6</td>\n",
       "      <td>2.239669e+09</td>\n",
       "      <td>0.020255</td>\n",
       "    </tr>\n",
       "    <tr>\n",
       "      <th>2</th>\n",
       "      <td>2</td>\n",
       "      <td>6.767600e+07</td>\n",
       "      <td>0.000612</td>\n",
       "    </tr>\n",
       "  </tbody>\n",
       "</table>\n",
       "</div>"
      ],
      "text/plain": [
       "    hour           취급액      rate\n",
       "18    21  1.000400e+10  0.090475\n",
       "19    22  9.182485e+09  0.083046\n",
       "17    20  7.217471e+09  0.065274\n",
       "14    17  6.864460e+09  0.062082\n",
       "13    16  6.409541e+09  0.057967\n",
       "16    19  6.271025e+09  0.056715\n",
       "20    23  6.038515e+09  0.054612\n",
       "8     11  5.777600e+09  0.052252\n",
       "7     10  5.723341e+09  0.051761\n",
       "15    18  5.466888e+09  0.049442\n",
       "12    15  5.460573e+09  0.049385\n",
       "11    14  5.006643e+09  0.045280\n",
       "6      9  4.952062e+09  0.044786\n",
       "10    13  4.927608e+09  0.044565\n",
       "9     12  4.665017e+09  0.042190\n",
       "0      0  4.573589e+09  0.041363\n",
       "5      8  3.877724e+09  0.035070\n",
       "4      7  3.548231e+09  0.032090\n",
       "1      1  2.297512e+09  0.020778\n",
       "3      6  2.239669e+09  0.020255\n",
       "2      2  6.767600e+07  0.000612"
      ]
     },
     "execution_count": 100,
     "metadata": {},
     "output_type": "execute_result"
    }
   ],
   "source": [
    "# 평일 매출액 groupby(sum) (월요일 ~ 금요일) \n",
    "\n",
    "# 월요일 먼저 구해보기 \n",
    "hour_sales_sum0 = sales0.groupby('hour')['취급액'].sum().reset_index()\n",
    "\n",
    "# 특정 요일의 시간대별 매출액을 전체 매출액으로 나눠주기 -> 각 시간대에 매출이 몇퍼센트 나왔는지 확인할 수 있음. \n",
    "hour_sales_sum0['rate'] = hour_sales_sum0['취급액'] / hour_sales_sum0['취급액'].sum()\n",
    "\n",
    "# hour_sales_sum1 = sales1.groupby('hour')['취급액'].sum()\n",
    "# hour_sales_sum2 = sales2.groupby('hour')['취급액'].sum()\n",
    "# hour_sales_sum3 = sales3.groupby('hour')['취급액'].sum()\n",
    "# hour_sales_sum4 = sales4.groupby('hour')['취급액'].sum()\n",
    "\n",
    "# # 주말 매출액  groupby\n",
    "# hour_sales_sum5 = sales5.groupby('hour')['취급액'].sum()\n",
    "# hour_sales_sum6 = sales6.groupby('hour')['취급액'].sum()\n",
    "\n",
    "\n",
    "hour_sales_sum0.sort_values(by=['취급액'], ascending=False)"
   ]
  },
  {
   "cell_type": "code",
   "execution_count": null,
   "metadata": {},
   "outputs": [],
   "source": []
  },
  {
   "cell_type": "code",
   "execution_count": null,
   "metadata": {},
   "outputs": [],
   "source": [
    "# 편성비중과 매출액 비중 비교하기. \n",
    "\n",
    "# feature에 어떻게 적용할 것인지?\n",
    "# "
   ]
  },
  {
   "cell_type": "markdown",
   "metadata": {},
   "source": [
    "# 평일과 주말의 prime time 비교하기 "
   ]
  },
  {
   "cell_type": "code",
   "execution_count": 69,
   "metadata": {},
   "outputs": [
    {
     "data": {
      "image/png": "[encoded data removed]",
      "text/plain": [
       "<Figure size 576x288 with 1 Axes>"
      ]
     },
     "metadata": {
      "needs_background": "light"
     },
     "output_type": "display_data"
    }
   ],
   "source": [
    "# 평일 prime tiem 상품군 확인 \n",
    "\n",
    "wday = sales[sales['weekday'].isin([0,1,2,3,4])]\n",
    "\n",
    "fig, ax = plt.subplots(figsize=(8,4))\n",
    "\n",
    "wday.groupby(['hour','상품군']).sum()['노출(분)'].unstack().plot(kind='bar',stacked=True, ax=ax)\n",
    "\n",
    "plt.legend(loc='center left', bbox_to_anchor=(1.0, 0.5))\n",
    "\n",
    "plt.xlabel('hour')\n",
    "plt.ylabel('broadcast time')\n",
    "\n",
    "plt.show()"
   ]
  },
  {
   "cell_type": "code",
   "execution_count": null,
   "metadata": {},
   "outputs": [],
   "source": [
    "weekend = sales[sales['weekday'].isin([5,6])]\n",
    "\n",
    "fig, ax = plt.subplots(figsize=(8,4))\n",
    "\n",
    "weekend.groupby(['hour','상품군']).sum()['노출(분)'].unstack().plot(kind='bar',stacked=True, ax=ax)\n",
    "\n",
    "plt.legend(loc='center left', bbox_to_anchor=(1.0, 0.5))\n",
    "\n",
    "plt.xlabel('hour')\n",
    "plt.ylabel('broadcast time')\n",
    "\n",
    "plt.show()\n"
   ]
  },
  {
   "cell_type": "markdown",
   "metadata": {},
   "source": [
    "# 매출액 rate 구하기 (평일 vs 주말)"
   ]
  },
  {
   "cell_type": "code",
   "execution_count": 7,
   "metadata": {},
   "outputs": [
    {
     "data": {
      "text/html": [
       "<div>\n",
       "<style scoped>\n",
       "    .dataframe tbody tr th:only-of-type {\n",
       "        vertical-align: middle;\n",
       "    }\n",
       "\n",
       "    .dataframe tbody tr th {\n",
       "        vertical-align: top;\n",
       "    }\n",
       "\n",
       "    .dataframe thead th {\n",
       "        text-align: right;\n",
       "    }\n",
       "</style>\n",
       "<table border=\"1\" class=\"dataframe\">\n",
       "  <thead>\n",
       "    <tr style=\"text-align: right;\">\n",
       "      <th></th>\n",
       "      <th>hour</th>\n",
       "      <th>취급액</th>\n",
       "      <th>rate</th>\n",
       "    </tr>\n",
       "  </thead>\n",
       "  <tbody>\n",
       "    <tr>\n",
       "      <th>18</th>\n",
       "      <td>21</td>\n",
       "      <td>4.735406e+10</td>\n",
       "      <td>0.085</td>\n",
       "    </tr>\n",
       "    <tr>\n",
       "      <th>19</th>\n",
       "      <td>22</td>\n",
       "      <td>4.318194e+10</td>\n",
       "      <td>0.077</td>\n",
       "    </tr>\n",
       "    <tr>\n",
       "      <th>17</th>\n",
       "      <td>20</td>\n",
       "      <td>3.713226e+10</td>\n",
       "      <td>0.067</td>\n",
       "    </tr>\n",
       "    <tr>\n",
       "      <th>14</th>\n",
       "      <td>17</td>\n",
       "      <td>3.364060e+10</td>\n",
       "      <td>0.060</td>\n",
       "    </tr>\n",
       "    <tr>\n",
       "      <th>13</th>\n",
       "      <td>16</td>\n",
       "      <td>3.163798e+10</td>\n",
       "      <td>0.057</td>\n",
       "    </tr>\n",
       "    <tr>\n",
       "      <th>16</th>\n",
       "      <td>19</td>\n",
       "      <td>3.104214e+10</td>\n",
       "      <td>0.056</td>\n",
       "    </tr>\n",
       "    <tr>\n",
       "      <th>7</th>\n",
       "      <td>10</td>\n",
       "      <td>3.038054e+10</td>\n",
       "      <td>0.054</td>\n",
       "    </tr>\n",
       "    <tr>\n",
       "      <th>15</th>\n",
       "      <td>18</td>\n",
       "      <td>3.025528e+10</td>\n",
       "      <td>0.054</td>\n",
       "    </tr>\n",
       "    <tr>\n",
       "      <th>8</th>\n",
       "      <td>11</td>\n",
       "      <td>2.948891e+10</td>\n",
       "      <td>0.053</td>\n",
       "    </tr>\n",
       "    <tr>\n",
       "      <th>12</th>\n",
       "      <td>15</td>\n",
       "      <td>2.915891e+10</td>\n",
       "      <td>0.052</td>\n",
       "    </tr>\n",
       "    <tr>\n",
       "      <th>20</th>\n",
       "      <td>23</td>\n",
       "      <td>2.828344e+10</td>\n",
       "      <td>0.051</td>\n",
       "    </tr>\n",
       "    <tr>\n",
       "      <th>6</th>\n",
       "      <td>9</td>\n",
       "      <td>2.686015e+10</td>\n",
       "      <td>0.048</td>\n",
       "    </tr>\n",
       "    <tr>\n",
       "      <th>11</th>\n",
       "      <td>14</td>\n",
       "      <td>2.568628e+10</td>\n",
       "      <td>0.046</td>\n",
       "    </tr>\n",
       "    <tr>\n",
       "      <th>10</th>\n",
       "      <td>13</td>\n",
       "      <td>2.495500e+10</td>\n",
       "      <td>0.045</td>\n",
       "    </tr>\n",
       "    <tr>\n",
       "      <th>9</th>\n",
       "      <td>12</td>\n",
       "      <td>2.332322e+10</td>\n",
       "      <td>0.042</td>\n",
       "    </tr>\n",
       "    <tr>\n",
       "      <th>5</th>\n",
       "      <td>8</td>\n",
       "      <td>2.095962e+10</td>\n",
       "      <td>0.038</td>\n",
       "    </tr>\n",
       "    <tr>\n",
       "      <th>4</th>\n",
       "      <td>7</td>\n",
       "      <td>2.037167e+10</td>\n",
       "      <td>0.037</td>\n",
       "    </tr>\n",
       "    <tr>\n",
       "      <th>0</th>\n",
       "      <td>0</td>\n",
       "      <td>2.022585e+10</td>\n",
       "      <td>0.036</td>\n",
       "    </tr>\n",
       "    <tr>\n",
       "      <th>3</th>\n",
       "      <td>6</td>\n",
       "      <td>1.217965e+10</td>\n",
       "      <td>0.022</td>\n",
       "    </tr>\n",
       "    <tr>\n",
       "      <th>1</th>\n",
       "      <td>1</td>\n",
       "      <td>1.084482e+10</td>\n",
       "      <td>0.019</td>\n",
       "    </tr>\n",
       "    <tr>\n",
       "      <th>2</th>\n",
       "      <td>2</td>\n",
       "      <td>7.238380e+08</td>\n",
       "      <td>0.001</td>\n",
       "    </tr>\n",
       "  </tbody>\n",
       "</table>\n",
       "</div>"
      ],
      "text/plain": [
       "    hour           취급액   rate\n",
       "18    21  4.735406e+10  0.085\n",
       "19    22  4.318194e+10  0.077\n",
       "17    20  3.713226e+10  0.067\n",
       "14    17  3.364060e+10  0.060\n",
       "13    16  3.163798e+10  0.057\n",
       "16    19  3.104214e+10  0.056\n",
       "7     10  3.038054e+10  0.054\n",
       "15    18  3.025528e+10  0.054\n",
       "8     11  2.948891e+10  0.053\n",
       "12    15  2.915891e+10  0.052\n",
       "20    23  2.828344e+10  0.051\n",
       "6      9  2.686015e+10  0.048\n",
       "11    14  2.568628e+10  0.046\n",
       "10    13  2.495500e+10  0.045\n",
       "9     12  2.332322e+10  0.042\n",
       "5      8  2.095962e+10  0.038\n",
       "4      7  2.037167e+10  0.037\n",
       "0      0  2.022585e+10  0.036\n",
       "3      6  1.217965e+10  0.022\n",
       "1      1  1.084482e+10  0.019\n",
       "2      2  7.238380e+08  0.001"
      ]
     },
     "execution_count": 7,
     "metadata": {},
     "output_type": "execute_result"
    }
   ],
   "source": [
    "# wday - 평일 시간대별 매출액 비율 구하기 \n",
    "\n",
    "wday = sales[sales['weekday'].isin([0,1,2,3,4])]\n",
    "\n",
    "wday_sum = wday.groupby('hour')['취급액'].sum().reset_index()\n",
    "\n",
    "# 특정 요일의 시간대별 매출액을 전체 매출액으로 나눠주기 -> 각 시간대에 매출이 몇퍼센트 나왔는지 확인할 수 있음. \n",
    "wday_sum['rate'] = np.round(wday_sum['취급액'] / wday_sum['취급액'].sum(),3)\n",
    "\n",
    "wday_sum.sort_values(by=['취급액'], ascending=False)\n"
   ]
  },
  {
   "cell_type": "code",
   "execution_count": 94,
   "metadata": {},
   "outputs": [
    {
     "data": {
      "text/html": [
       "<div>\n",
       "<style scoped>\n",
       "    .dataframe tbody tr th:only-of-type {\n",
       "        vertical-align: middle;\n",
       "    }\n",
       "\n",
       "    .dataframe tbody tr th {\n",
       "        vertical-align: top;\n",
       "    }\n",
       "\n",
       "    .dataframe thead th {\n",
       "        text-align: right;\n",
       "    }\n",
       "</style>\n",
       "<table border=\"1\" class=\"dataframe\">\n",
       "  <thead>\n",
       "    <tr style=\"text-align: right;\">\n",
       "      <th></th>\n",
       "      <th>hour</th>\n",
       "      <th>취급액</th>\n",
       "      <th>rate</th>\n",
       "    </tr>\n",
       "  </thead>\n",
       "  <tbody>\n",
       "    <tr>\n",
       "      <th>13</th>\n",
       "      <td>16</td>\n",
       "      <td>1.841777e+10</td>\n",
       "      <td>0.070932</td>\n",
       "    </tr>\n",
       "    <tr>\n",
       "      <th>18</th>\n",
       "      <td>21</td>\n",
       "      <td>1.793317e+10</td>\n",
       "      <td>0.069066</td>\n",
       "    </tr>\n",
       "    <tr>\n",
       "      <th>19</th>\n",
       "      <td>22</td>\n",
       "      <td>1.744698e+10</td>\n",
       "      <td>0.067193</td>\n",
       "    </tr>\n",
       "    <tr>\n",
       "      <th>14</th>\n",
       "      <td>17</td>\n",
       "      <td>1.731716e+10</td>\n",
       "      <td>0.066693</td>\n",
       "    </tr>\n",
       "    <tr>\n",
       "      <th>10</th>\n",
       "      <td>13</td>\n",
       "      <td>1.640718e+10</td>\n",
       "      <td>0.063189</td>\n",
       "    </tr>\n",
       "    <tr>\n",
       "      <th>12</th>\n",
       "      <td>15</td>\n",
       "      <td>1.611885e+10</td>\n",
       "      <td>0.062078</td>\n",
       "    </tr>\n",
       "    <tr>\n",
       "      <th>7</th>\n",
       "      <td>10</td>\n",
       "      <td>1.548807e+10</td>\n",
       "      <td>0.059649</td>\n",
       "    </tr>\n",
       "    <tr>\n",
       "      <th>5</th>\n",
       "      <td>8</td>\n",
       "      <td>1.544967e+10</td>\n",
       "      <td>0.059501</td>\n",
       "    </tr>\n",
       "    <tr>\n",
       "      <th>6</th>\n",
       "      <td>9</td>\n",
       "      <td>1.524009e+10</td>\n",
       "      <td>0.058694</td>\n",
       "    </tr>\n",
       "    <tr>\n",
       "      <th>11</th>\n",
       "      <td>14</td>\n",
       "      <td>1.491361e+10</td>\n",
       "      <td>0.057436</td>\n",
       "    </tr>\n",
       "    <tr>\n",
       "      <th>8</th>\n",
       "      <td>11</td>\n",
       "      <td>1.487910e+10</td>\n",
       "      <td>0.057304</td>\n",
       "    </tr>\n",
       "    <tr>\n",
       "      <th>9</th>\n",
       "      <td>12</td>\n",
       "      <td>1.401942e+10</td>\n",
       "      <td>0.053993</td>\n",
       "    </tr>\n",
       "    <tr>\n",
       "      <th>20</th>\n",
       "      <td>23</td>\n",
       "      <td>1.399607e+10</td>\n",
       "      <td>0.053903</td>\n",
       "    </tr>\n",
       "    <tr>\n",
       "      <th>17</th>\n",
       "      <td>20</td>\n",
       "      <td>1.168029e+10</td>\n",
       "      <td>0.044984</td>\n",
       "    </tr>\n",
       "    <tr>\n",
       "      <th>4</th>\n",
       "      <td>7</td>\n",
       "      <td>1.126314e+10</td>\n",
       "      <td>0.043377</td>\n",
       "    </tr>\n",
       "    <tr>\n",
       "      <th>16</th>\n",
       "      <td>19</td>\n",
       "      <td>7.937389e+09</td>\n",
       "      <td>0.030569</td>\n",
       "    </tr>\n",
       "    <tr>\n",
       "      <th>3</th>\n",
       "      <td>6</td>\n",
       "      <td>5.637260e+09</td>\n",
       "      <td>0.021711</td>\n",
       "    </tr>\n",
       "    <tr>\n",
       "      <th>15</th>\n",
       "      <td>18</td>\n",
       "      <td>5.353560e+09</td>\n",
       "      <td>0.020618</td>\n",
       "    </tr>\n",
       "    <tr>\n",
       "      <th>1</th>\n",
       "      <td>1</td>\n",
       "      <td>5.230733e+09</td>\n",
       "      <td>0.020145</td>\n",
       "    </tr>\n",
       "    <tr>\n",
       "      <th>0</th>\n",
       "      <td>0</td>\n",
       "      <td>4.584105e+09</td>\n",
       "      <td>0.017655</td>\n",
       "    </tr>\n",
       "    <tr>\n",
       "      <th>2</th>\n",
       "      <td>2</td>\n",
       "      <td>3.404840e+08</td>\n",
       "      <td>0.001311</td>\n",
       "    </tr>\n",
       "  </tbody>\n",
       "</table>\n",
       "</div>"
      ],
      "text/plain": [
       "    hour           취급액      rate\n",
       "13    16  1.841777e+10  0.070932\n",
       "18    21  1.793317e+10  0.069066\n",
       "19    22  1.744698e+10  0.067193\n",
       "14    17  1.731716e+10  0.066693\n",
       "10    13  1.640718e+10  0.063189\n",
       "12    15  1.611885e+10  0.062078\n",
       "7     10  1.548807e+10  0.059649\n",
       "5      8  1.544967e+10  0.059501\n",
       "6      9  1.524009e+10  0.058694\n",
       "11    14  1.491361e+10  0.057436\n",
       "8     11  1.487910e+10  0.057304\n",
       "9     12  1.401942e+10  0.053993\n",
       "20    23  1.399607e+10  0.053903\n",
       "17    20  1.168029e+10  0.044984\n",
       "4      7  1.126314e+10  0.043377\n",
       "16    19  7.937389e+09  0.030569\n",
       "3      6  5.637260e+09  0.021711\n",
       "15    18  5.353560e+09  0.020618\n",
       "1      1  5.230733e+09  0.020145\n",
       "0      0  4.584105e+09  0.017655\n",
       "2      2  3.404840e+08  0.001311"
      ]
     },
     "execution_count": 94,
     "metadata": {},
     "output_type": "execute_result"
    }
   ],
   "source": [
    "# 주말 매출액 비율 확인하기 \n",
    "\n",
    "weekend = sales[sales['weekday'].isin([5,6])]\n",
    "\n",
    "weekend_sum = weekend.groupby('hour')['취급액'].sum().reset_index()\n",
    "\n",
    "# 특정 요일의 시간대별 매출액을 전체 매출액으로 나눠주기 -> 각 시간대에 매출이 몇퍼센트 나왔는지 확인할 수 있음. \n",
    "weekend_sum['rate'] = weekend_sum['취급액'] / weekend_sum['취급액'].sum()\n",
    "\n",
    "weekend_sum.sort_values(by=['취급액'], ascending=False)\n"
   ]
  },
  {
   "cell_type": "code",
   "execution_count": null,
   "metadata": {},
   "outputs": [],
   "source": []
  },
  {
   "cell_type": "code",
   "execution_count": null,
   "metadata": {},
   "outputs": [],
   "source": []
  },
  {
   "cell_type": "code",
   "execution_count": 93,
   "metadata": {},
   "outputs": [
    {
     "data": {
      "text/plain": [
       "array([[1.        , 0.95500542],\n",
       "       [0.95500542, 1.        ]])"
      ]
     },
     "execution_count": 93,
     "metadata": {},
     "output_type": "execute_result"
    }
   ],
   "source": [
    "corr_ = np.corrcoef(btdf['노출(분)'],btdf['취급액'])\n",
    "corr_"
   ]
  },
  {
   "cell_type": "code",
   "execution_count": 94,
   "metadata": {},
   "outputs": [
    {
     "data": {
      "image/png": "[encoded data removed]",
      "text/plain": [
       "<Figure size 1080x504 with 1 Axes>"
      ]
     },
     "metadata": {
      "needs_background": "light"
     },
     "output_type": "display_data"
    }
   ],
   "source": [
    "fig, ax = plt.subplots(figsize=(15,7))\n",
    "\n",
    "ax.scatter(btdf['노출(분)'],btdf['취급액'])\n",
    "\n",
    "plt.xlabel('minutes')\n",
    "plt.ylabel('sales')\n",
    "\n",
    "plt.show()"
   ]
  },
  {
   "cell_type": "code",
   "execution_count": 95,
   "metadata": {},
   "outputs": [
    {
     "data": {
      "text/html": [
       "<div>\n",
       "<style scoped>\n",
       "    .dataframe tbody tr th:only-of-type {\n",
       "        vertical-align: middle;\n",
       "    }\n",
       "\n",
       "    .dataframe tbody tr th {\n",
       "        vertical-align: top;\n",
       "    }\n",
       "\n",
       "    .dataframe thead th {\n",
       "        text-align: right;\n",
       "    }\n",
       "</style>\n",
       "<table border=\"1\" class=\"dataframe\">\n",
       "  <thead>\n",
       "    <tr style=\"text-align: right;\">\n",
       "      <th></th>\n",
       "      <th></th>\n",
       "      <th>노출(분)</th>\n",
       "      <th>취급액</th>\n",
       "    </tr>\n",
       "    <tr>\n",
       "      <th>hour</th>\n",
       "      <th>상품군</th>\n",
       "      <th></th>\n",
       "      <th></th>\n",
       "    </tr>\n",
       "  </thead>\n",
       "  <tbody>\n",
       "    <tr>\n",
       "      <th>16</th>\n",
       "      <th>농수축</th>\n",
       "      <td>14347.400000</td>\n",
       "      <td>3.296942e+10</td>\n",
       "    </tr>\n",
       "    <tr>\n",
       "      <th>17</th>\n",
       "      <th>농수축</th>\n",
       "      <td>16281.483333</td>\n",
       "      <td>3.988054e+10</td>\n",
       "    </tr>\n",
       "    <tr>\n",
       "      <th>18</th>\n",
       "      <th>농수축</th>\n",
       "      <td>12038.033333</td>\n",
       "      <td>2.663625e+10</td>\n",
       "    </tr>\n",
       "    <tr>\n",
       "      <th>21</th>\n",
       "      <th>가전</th>\n",
       "      <td>10115.000000</td>\n",
       "      <td>3.103038e+10</td>\n",
       "    </tr>\n",
       "    <tr>\n",
       "      <th>22</th>\n",
       "      <th>가전</th>\n",
       "      <td>9375.000000</td>\n",
       "      <td>2.919333e+10</td>\n",
       "    </tr>\n",
       "  </tbody>\n",
       "</table>\n",
       "</div>"
      ],
      "text/plain": [
       "                 노출(분)           취급액\n",
       "hour 상품군                            \n",
       "16   농수축  14347.400000  3.296942e+10\n",
       "17   농수축  16281.483333  3.988054e+10\n",
       "18   농수축  12038.033333  2.663625e+10\n",
       "21   가전   10115.000000  3.103038e+10\n",
       "22   가전    9375.000000  2.919333e+10"
      ]
     },
     "execution_count": 95,
     "metadata": {},
     "output_type": "execute_result"
    }
   ],
   "source": [
    "# 시간대별로 노출분이 가장 높은 데이터 5개 제외\n",
    "\n",
    "dtdf3 = btdf[btdf['노출(분)']>8000]\n",
    "dtdf3"
   ]
  },
  {
   "cell_type": "code",
   "execution_count": 96,
   "metadata": {
    "scrolled": true
   },
   "outputs": [
    {
     "data": {
      "text/html": [
       "<div>\n",
       "<style scoped>\n",
       "    .dataframe tbody tr th:only-of-type {\n",
       "        vertical-align: middle;\n",
       "    }\n",
       "\n",
       "    .dataframe tbody tr th {\n",
       "        vertical-align: top;\n",
       "    }\n",
       "\n",
       "    .dataframe thead th {\n",
       "        text-align: right;\n",
       "    }\n",
       "</style>\n",
       "<table border=\"1\" class=\"dataframe\">\n",
       "  <thead>\n",
       "    <tr style=\"text-align: right;\">\n",
       "      <th></th>\n",
       "      <th></th>\n",
       "      <th>노출(분)</th>\n",
       "      <th>취급액</th>\n",
       "    </tr>\n",
       "    <tr>\n",
       "      <th>hour</th>\n",
       "      <th>상품군</th>\n",
       "      <th></th>\n",
       "      <th></th>\n",
       "    </tr>\n",
       "  </thead>\n",
       "  <tbody>\n",
       "    <tr>\n",
       "      <th rowspan=\"5\" valign=\"top\">0</th>\n",
       "      <th>가구</th>\n",
       "      <td>540.000000</td>\n",
       "      <td>1.081895e+09</td>\n",
       "    </tr>\n",
       "    <tr>\n",
       "      <th>가전</th>\n",
       "      <td>520.000000</td>\n",
       "      <td>9.039800e+08</td>\n",
       "    </tr>\n",
       "    <tr>\n",
       "      <th>건강기능</th>\n",
       "      <td>380.000000</td>\n",
       "      <td>4.545280e+08</td>\n",
       "    </tr>\n",
       "    <tr>\n",
       "      <th>농수축</th>\n",
       "      <td>105.466667</td>\n",
       "      <td>4.851740e+08</td>\n",
       "    </tr>\n",
       "    <tr>\n",
       "      <th>생활용품</th>\n",
       "      <td>2100.000000</td>\n",
       "      <td>2.831462e+09</td>\n",
       "    </tr>\n",
       "    <tr>\n",
       "      <th>...</th>\n",
       "      <th>...</th>\n",
       "      <td>...</td>\n",
       "      <td>...</td>\n",
       "    </tr>\n",
       "    <tr>\n",
       "      <th rowspan=\"5\" valign=\"top\">23</th>\n",
       "      <th>의류</th>\n",
       "      <td>2920.000000</td>\n",
       "      <td>5.220155e+09</td>\n",
       "    </tr>\n",
       "    <tr>\n",
       "      <th>이미용</th>\n",
       "      <td>1047.266667</td>\n",
       "      <td>2.103373e+09</td>\n",
       "    </tr>\n",
       "    <tr>\n",
       "      <th>잡화</th>\n",
       "      <td>980.200000</td>\n",
       "      <td>1.627775e+09</td>\n",
       "    </tr>\n",
       "    <tr>\n",
       "      <th>주방</th>\n",
       "      <td>700.000000</td>\n",
       "      <td>2.009354e+09</td>\n",
       "    </tr>\n",
       "    <tr>\n",
       "      <th>침구</th>\n",
       "      <td>180.000000</td>\n",
       "      <td>2.578650e+08</td>\n",
       "    </tr>\n",
       "  </tbody>\n",
       "</table>\n",
       "<p>209 rows × 2 columns</p>\n",
       "</div>"
      ],
      "text/plain": [
       "                 노출(분)           취급액\n",
       "hour 상품군                            \n",
       "0    가구     540.000000  1.081895e+09\n",
       "     가전     520.000000  9.039800e+08\n",
       "     건강기능   380.000000  4.545280e+08\n",
       "     농수축    105.466667  4.851740e+08\n",
       "     생활용품  2100.000000  2.831462e+09\n",
       "...                ...           ...\n",
       "23   의류    2920.000000  5.220155e+09\n",
       "     이미용   1047.266667  2.103373e+09\n",
       "     잡화     980.200000  1.627775e+09\n",
       "     주방     700.000000  2.009354e+09\n",
       "     침구     180.000000  2.578650e+08\n",
       "\n",
       "[209 rows x 2 columns]"
      ]
     },
     "execution_count": 96,
     "metadata": {},
     "output_type": "execute_result"
    }
   ],
   "source": [
    "# 8000분 초과 값 제거 후 선형 관계 파악 \n",
    "\n",
    "btdf2 = btdf[btdf['노출(분)']< 8000]\n",
    "btdf2\n",
    "\n",
    "btdf2"
   ]
  },
  {
   "cell_type": "code",
   "execution_count": 1,
   "metadata": {},
   "outputs": [
    {
     "ename": "NameError",
     "evalue": "name 'pd' is not defined",
     "output_type": "error",
     "traceback": [
      "\u001b[1;31m---------------------------------------------------------------------------\u001b[0m",
      "\u001b[1;31mNameError\u001b[0m                                 Traceback (most recent call last)",
      "\u001b[1;32m<ipython-input-1-1cbb8fbb9e8c>\u001b[0m in \u001b[0;36m<module>\u001b[1;34m\u001b[0m\n\u001b[1;32m----> 1\u001b[1;33m \u001b[0mpd\u001b[0m\u001b[1;33m.\u001b[0m\u001b[0mmerge\u001b[0m\u001b[1;33m(\u001b[0m\u001b[0msales\u001b[0m\u001b[1;33m,\u001b[0m\u001b[0mbtdf2\u001b[0m\u001b[1;33m)\u001b[0m\u001b[1;33m\u001b[0m\u001b[1;33m\u001b[0m\u001b[0m\n\u001b[0m",
      "\u001b[1;31mNameError\u001b[0m: name 'pd' is not defined"
     ]
    }
   ],
   "source": [
    "pd.merge(sales,btdf2)"
   ]
  },
  {
   "cell_type": "code",
   "execution_count": 97,
   "metadata": {},
   "outputs": [
    {
     "data": {
      "image/png": "[encoded data removed]",
      "text/plain": [
       "<Figure size 1080x504 with 1 Axes>"
      ]
     },
     "metadata": {
      "needs_background": "light"
     },
     "output_type": "display_data"
    }
   ],
   "source": [
    "fig, ax = plt.subplots(figsize=(15,7))\n",
    "\n",
    "ax.scatter(btdf2['노출(분)'],btdf2['취급액'])\n",
    "\n",
    "plt.xlabel('minutes')\n",
    "plt.ylabel('sales')\n",
    "\n",
    "plt.show()"
   ]
  },
  {
   "cell_type": "markdown",
   "metadata": {},
   "source": [
    "# 판매단가에 따른 무이자, 일시불 매출액 추이"
   ]
  },
  {
   "cell_type": "code",
   "execution_count": 98,
   "metadata": {},
   "outputs": [
    {
     "name": "stdout",
     "output_type": "stream",
     "text": [
      "80351030000.0 95041077000.0\n"
     ]
    }
   ],
   "source": [
    "zero = sales[sales['상품명'].str.contains('무이자') | sales['상품명'].str.contains('일시불')]\n",
    "\n",
    "\n",
    "zero2 = sales[sales['상품명'].str.contains('무이자')].sum()['취급액']\n",
    "once2 = sales[sales['상품명'].str.contains('일시불')].sum()['취급액']\n",
    "\n",
    "print(zero2, once2)\n",
    "a = zero2 - once2 \n",
    "a\n",
    "\n",
    "zero3 = sales[sales['상품명'].str.contains('무이자')]\n",
    "once3 = sales[sales['상품명'].str.contains('일시불')]\n",
    "\n",
    "zero3 = zero3.groupby('마더코드')['취급액'].sum().reset_index()\n",
    "\n",
    "once3 = once3.groupby('마더코드')['취급액'].sum().reset_index()\n",
    "\n",
    "price3 = zero.groupby('마더코드')['판매단가'].mean().reset_index()\n",
    "\n",
    "# 총 취급액은 무이자(할부) < 일시불 \n"
   ]
  },
  {
   "cell_type": "code",
   "execution_count": null,
   "metadata": {},
   "outputs": [],
   "source": []
  },
  {
   "cell_type": "code",
   "execution_count": null,
   "metadata": {},
   "outputs": [],
   "source": [
    "fig, ax = plt.subplots(figsize=(15,7))\n",
    "\n",
    "# ax.scatter(price3, once3) # 일시불\n",
    "ax.scatter(zero.index, zero3) # 할부 \n",
    "\n",
    "plt.xlabel('price')\n",
    "plt.ylabel('sales')\n",
    "\n",
    "plt.show()"
   ]
  },
  {
   "cell_type": "code",
   "execution_count": 101,
   "metadata": {},
   "outputs": [
    {
     "data": {
      "text/plain": [
       "month\n",
       "1     6.892150e+10\n",
       "2     5.958138e+10\n",
       "3     6.462860e+10\n",
       "4     6.077887e+10\n",
       "5     6.890008e+10\n",
       "6     6.633750e+10\n",
       "7     6.901510e+10\n",
       "8     6.901195e+10\n",
       "9     6.746911e+10\n",
       "10    6.884353e+10\n",
       "11    7.393544e+10\n",
       "12    7.991723e+10\n",
       "Name: 취급액, dtype: float64"
      ]
     },
     "execution_count": 101,
     "metadata": {},
     "output_type": "execute_result"
    }
   ],
   "source": [
    "# 월별 매출액 통계\n",
    "\n",
    "sales.groupby('month').sum()['취급액']"
   ]
  },
  {
   "cell_type": "code",
   "execution_count": null,
   "metadata": {},
   "outputs": [],
   "source": [
    "fig, ax = plt.subplots(figsize=(15,7))\n",
    "\n",
    "# ax.scatter(price3, once3) # 일시불\n",
    "ax.scatter(zero.index, zero3) # 할부 \n",
    "\n",
    "plt.xlabel('price')\n",
    "plt.ylabel('sales')\n",
    "\n",
    "plt.show()"
   ]
  },
  {
   "cell_type": "markdown",
   "metadata": {},
   "source": [
    "# 경제지표와 매출액 관계 분석\n",
    "## 개인 신용카드금액과 월별 매출액(sum) 상관관계 분석 -> 0.8 이상\n",
    "- 문제 : 2020년 6월 데이터가 08.17 현재까지 안올라오고 있음... "
   ]
  },
  {
   "cell_type": "code",
   "execution_count": 73,
   "metadata": {},
   "outputs": [
    {
     "data": {
      "text/html": [
       "<div>\n",
       "<style scoped>\n",
       "    .dataframe tbody tr th:only-of-type {\n",
       "        vertical-align: middle;\n",
       "    }\n",
       "\n",
       "    .dataframe tbody tr th {\n",
       "        vertical-align: top;\n",
       "    }\n",
       "\n",
       "    .dataframe thead th {\n",
       "        text-align: right;\n",
       "    }\n",
       "</style>\n",
       "<table border=\"1\" class=\"dataframe\">\n",
       "  <thead>\n",
       "    <tr style=\"text-align: right;\">\n",
       "      <th></th>\n",
       "      <th>신용카드금액</th>\n",
       "    </tr>\n",
       "  </thead>\n",
       "  <tbody>\n",
       "    <tr>\n",
       "      <th>1</th>\n",
       "      <td>0.629378</td>\n",
       "    </tr>\n",
       "    <tr>\n",
       "      <th>2</th>\n",
       "      <td>0.000000</td>\n",
       "    </tr>\n",
       "    <tr>\n",
       "      <th>3</th>\n",
       "      <td>0.594845</td>\n",
       "    </tr>\n",
       "    <tr>\n",
       "      <th>4</th>\n",
       "      <td>0.503373</td>\n",
       "    </tr>\n",
       "    <tr>\n",
       "      <th>5</th>\n",
       "      <td>0.762108</td>\n",
       "    </tr>\n",
       "    <tr>\n",
       "      <th>6</th>\n",
       "      <td>0.482835</td>\n",
       "    </tr>\n",
       "    <tr>\n",
       "      <th>7</th>\n",
       "      <td>0.791289</td>\n",
       "    </tr>\n",
       "    <tr>\n",
       "      <th>8</th>\n",
       "      <td>0.672114</td>\n",
       "    </tr>\n",
       "    <tr>\n",
       "      <th>9</th>\n",
       "      <td>0.519688</td>\n",
       "    </tr>\n",
       "    <tr>\n",
       "      <th>10</th>\n",
       "      <td>0.818754</td>\n",
       "    </tr>\n",
       "    <tr>\n",
       "      <th>11</th>\n",
       "      <td>0.799323</td>\n",
       "    </tr>\n",
       "    <tr>\n",
       "      <th>12</th>\n",
       "      <td>1.000000</td>\n",
       "    </tr>\n",
       "  </tbody>\n",
       "</table>\n",
       "</div>"
      ],
      "text/plain": [
       "      신용카드금액\n",
       "1   0.629378\n",
       "2   0.000000\n",
       "3   0.594845\n",
       "4   0.503373\n",
       "5   0.762108\n",
       "6   0.482835\n",
       "7   0.791289\n",
       "8   0.672114\n",
       "9   0.519688\n",
       "10  0.818754\n",
       "11  0.799323\n",
       "12  1.000000"
      ]
     },
     "execution_count": 73,
     "metadata": {},
     "output_type": "execute_result"
    }
   ],
   "source": [
    "# 2019.01 - 12 월별 신용카드 금액\n",
    "\n",
    "credit = np.array([52039328000000,45466358000000,51678679000000,50723386000000,53425506000000,50508891000000,53730267000000,52485647000000,50893769000000,54017093000000,53814165000000,55909956000000])\n",
    "credit = (credit-credit.min()) / (credit.max() - credit.min())\n",
    "\n",
    "df_credit = pd.DataFrame(credit, columns=['신용카드금액'],index=['1','2','3','4','5','6','7','8','9','10','11','12'])\n",
    "\n",
    "month_sales = sales.groupby('month').sum()['취급액'].reset_index()['취급액']\n",
    "\n",
    "month_sales = (month_sales - month_sales.min()) / (month_sales.max() - month_sales.min())\n",
    "\n",
    "df_credit\n"
   ]
  },
  {
   "cell_type": "code",
   "execution_count": 74,
   "metadata": {},
   "outputs": [
    {
     "data": {
      "text/plain": [
       "array([[1.        , 0.84237233],\n",
       "       [0.84237233, 1.        ]])"
      ]
     },
     "execution_count": 74,
     "metadata": {},
     "output_type": "execute_result"
    }
   ],
   "source": [
    "corr_2 = np.corrcoef(df_credit['신용카드금액'],month_sales)\n",
    "corr_2"
   ]
  },
  {
   "cell_type": "code",
   "execution_count": 75,
   "metadata": {},
   "outputs": [
    {
     "data": {
      "image/png": "[encoded data removed]",
      "text/plain": [
       "<Figure size 1080x504 with 1 Axes>"
      ]
     },
     "metadata": {
      "needs_background": "light"
     },
     "output_type": "display_data"
    }
   ],
   "source": [
    "fig, ax = plt.subplots(figsize=(15,7))\n",
    "\n",
    "ax.scatter(df_credit['신용카드금액'], month_sales) # 할부 \n",
    "\n",
    "plt.xlabel('신용카드금액')\n",
    "plt.ylabel('매출액')\n",
    "\n",
    "plt.show()"
   ]
  },
  {
   "cell_type": "code",
   "execution_count": 76,
   "metadata": {},
   "outputs": [
    {
     "data": {
      "image/png": "[encoded data removed]",
      "text/plain": [
       "<Figure size 936x504 with 1 Axes>"
      ]
     },
     "metadata": {
      "needs_background": "light"
     },
     "output_type": "display_data"
    }
   ],
   "source": [
    "fig, ax = plt.subplots(figsize=(13,7))\n",
    "\n",
    "ax.plot(df_credit.index, df_credit['신용카드금액'], label='creit card') # 할부 \n",
    "ax.plot(month_sales.index, month_sales, label='month sales')\n",
    "\n",
    "plt.xlabel('month')\n",
    "plt.ylabel('금액/매출액')\n",
    "plt.legend(loc='upper left')\n",
    "\n",
    "plt.show()"
   ]
  },
  {
   "cell_type": "code",
   "execution_count": null,
   "metadata": {},
   "outputs": [],
   "source": []
  },
  {
   "cell_type": "markdown",
   "metadata": {},
   "source": [
    "# 생활물가지수or소비자물가지수 월별 매출액(sum) 상관관계 분석  -> 사용 X"
   ]
  },
  {
   "cell_type": "code",
   "execution_count": 7,
   "metadata": {},
   "outputs": [
    {
     "data": {
      "text/html": [
       "<div>\n",
       "<style scoped>\n",
       "    .dataframe tbody tr th:only-of-type {\n",
       "        vertical-align: middle;\n",
       "    }\n",
       "\n",
       "    .dataframe tbody tr th {\n",
       "        vertical-align: top;\n",
       "    }\n",
       "\n",
       "    .dataframe thead th {\n",
       "        text-align: right;\n",
       "    }\n",
       "</style>\n",
       "<table border=\"1\" class=\"dataframe\">\n",
       "  <thead>\n",
       "    <tr style=\"text-align: right;\">\n",
       "      <th></th>\n",
       "      <th>소비자물가지수</th>\n",
       "    </tr>\n",
       "  </thead>\n",
       "  <tbody>\n",
       "    <tr>\n",
       "      <th>1</th>\n",
       "      <td>104.24</td>\n",
       "    </tr>\n",
       "    <tr>\n",
       "      <th>2</th>\n",
       "      <td>104.69</td>\n",
       "    </tr>\n",
       "    <tr>\n",
       "      <th>3</th>\n",
       "      <td>104.49</td>\n",
       "    </tr>\n",
       "    <tr>\n",
       "      <th>4</th>\n",
       "      <td>104.87</td>\n",
       "    </tr>\n",
       "    <tr>\n",
       "      <th>5</th>\n",
       "      <td>105.05</td>\n",
       "    </tr>\n",
       "    <tr>\n",
       "      <th>6</th>\n",
       "      <td>104.88</td>\n",
       "    </tr>\n",
       "    <tr>\n",
       "      <th>7</th>\n",
       "      <td>104.56</td>\n",
       "    </tr>\n",
       "    <tr>\n",
       "      <th>8</th>\n",
       "      <td>104.81</td>\n",
       "    </tr>\n",
       "    <tr>\n",
       "      <th>9</th>\n",
       "      <td>105.20</td>\n",
       "    </tr>\n",
       "    <tr>\n",
       "      <th>10</th>\n",
       "      <td>105.46</td>\n",
       "    </tr>\n",
       "    <tr>\n",
       "      <th>11</th>\n",
       "      <td>104.87</td>\n",
       "    </tr>\n",
       "    <tr>\n",
       "      <th>12</th>\n",
       "      <td>105.12</td>\n",
       "    </tr>\n",
       "  </tbody>\n",
       "</table>\n",
       "</div>"
      ],
      "text/plain": [
       "    소비자물가지수\n",
       "1    104.24\n",
       "2    104.69\n",
       "3    104.49\n",
       "4    104.87\n",
       "5    105.05\n",
       "6    104.88\n",
       "7    104.56\n",
       "8    104.81\n",
       "9    105.20\n",
       "10   105.46\n",
       "11   104.87\n",
       "12   105.12"
      ]
     },
     "execution_count": 7,
     "metadata": {},
     "output_type": "execute_result"
    }
   ],
   "source": [
    "# 2019.01 - 12 생활물가지수  -> 상관관계 : 0.3 \n",
    "\n",
    "liv_p_index= np.array([104.030,104.610,104.450,104.810,105.290,105.190,104.400,104.730,105.570,105.960,105.370,105.510])\n",
    "\n",
    "\n",
    "# 소비자물가지수  -> 상관관계 : 0.2 \n",
    "CPI = np.array([104.240,104.690,104.490,104.870,105.050,104.880,104.560,104.810,105.200,105.460,104.870,105.120])\n",
    "\n",
    "\n",
    "df_CPI = pd.DataFrame(CPI, columns=['소비자물가지수'],index=['1','2','3','4','5','6','7','8','9','10','11','12'])\n",
    "\n",
    "month_sales = sales.groupby('month').sum()['취급액'].reset_index()['취급액']\n",
    "\n",
    "df_CPI"
   ]
  },
  {
   "cell_type": "code",
   "execution_count": 8,
   "metadata": {},
   "outputs": [
    {
     "data": {
      "text/plain": [
       "array([[1.        , 0.26895969],\n",
       "       [0.26895969, 1.        ]])"
      ]
     },
     "execution_count": 8,
     "metadata": {},
     "output_type": "execute_result"
    }
   ],
   "source": [
    "corr_3 = np.corrcoef(df_CPI['소비자물가지수'],month_sales)\n",
    "corr_3"
   ]
  },
  {
   "cell_type": "markdown",
   "metadata": {},
   "source": [
    "## 소비자 심리지수와 월별 매출액(sum) 상관관계 분석 -> 사용 x "
   ]
  },
  {
   "cell_type": "code",
   "execution_count": 187,
   "metadata": {},
   "outputs": [],
   "source": [
    "cst = np.array([97.5,99.6,99.8,101.7,97.9,97.6,95.9,92.4,97.0,98.6,101.0,100.5])\n",
    "\n",
    "df_cst = pd.DataFrame(cst, columns=['소비자심리지수'],index=['1','2','3','4','5','6','7','8','9','10','11','12'])"
   ]
  },
  {
   "cell_type": "code",
   "execution_count": 190,
   "metadata": {},
   "outputs": [
    {
     "data": {
      "text/plain": [
       "array([[ 1.        , -0.03777535],\n",
       "       [-0.03777535,  1.        ]])"
      ]
     },
     "execution_count": 190,
     "metadata": {},
     "output_type": "execute_result"
    }
   ],
   "source": [
    "corr_3 =np.corrcoef(df_cst['소비자심리지수'],month_sales)\n",
    "corr_3"
   ]
  },
  {
   "cell_type": "markdown",
   "metadata": {},
   "source": [
    "\n",
    "# 경기 동행지표 : 소매판매액지수\n",
    "- 소비 동향을 파악하기 위해 작성되는 지표. 백화점, 대형마트, 편의점 등 소매판매점의 매월 판매금액을 조사하여 작성하는 통계."
   ]
  },
  {
   "cell_type": "code",
   "execution_count": 81,
   "metadata": {},
   "outputs": [
    {
     "data": {
      "text/html": [
       "<div>\n",
       "<style scoped>\n",
       "    .dataframe tbody tr th:only-of-type {\n",
       "        vertical-align: middle;\n",
       "    }\n",
       "\n",
       "    .dataframe tbody tr th {\n",
       "        vertical-align: top;\n",
       "    }\n",
       "\n",
       "    .dataframe thead th {\n",
       "        text-align: right;\n",
       "    }\n",
       "</style>\n",
       "<table border=\"1\" class=\"dataframe\">\n",
       "  <thead>\n",
       "    <tr style=\"text-align: right;\">\n",
       "      <th></th>\n",
       "      <th>소매판매액지수</th>\n",
       "    </tr>\n",
       "  </thead>\n",
       "  <tbody>\n",
       "    <tr>\n",
       "      <th>1</th>\n",
       "      <td>0.458716</td>\n",
       "    </tr>\n",
       "    <tr>\n",
       "      <th>2</th>\n",
       "      <td>0.000000</td>\n",
       "    </tr>\n",
       "    <tr>\n",
       "      <th>3</th>\n",
       "      <td>0.743119</td>\n",
       "    </tr>\n",
       "    <tr>\n",
       "      <th>4</th>\n",
       "      <td>0.532110</td>\n",
       "    </tr>\n",
       "    <tr>\n",
       "      <th>5</th>\n",
       "      <td>0.770642</td>\n",
       "    </tr>\n",
       "    <tr>\n",
       "      <th>6</th>\n",
       "      <td>0.467890</td>\n",
       "    </tr>\n",
       "    <tr>\n",
       "      <th>7</th>\n",
       "      <td>0.490826</td>\n",
       "    </tr>\n",
       "    <tr>\n",
       "      <th>8</th>\n",
       "      <td>0.532110</td>\n",
       "    </tr>\n",
       "    <tr>\n",
       "      <th>9</th>\n",
       "      <td>0.619266</td>\n",
       "    </tr>\n",
       "    <tr>\n",
       "      <th>10</th>\n",
       "      <td>0.733945</td>\n",
       "    </tr>\n",
       "    <tr>\n",
       "      <th>11</th>\n",
       "      <td>0.949541</td>\n",
       "    </tr>\n",
       "    <tr>\n",
       "      <th>12</th>\n",
       "      <td>1.000000</td>\n",
       "    </tr>\n",
       "  </tbody>\n",
       "</table>\n",
       "</div>"
      ],
      "text/plain": [
       "     소매판매액지수\n",
       "1   0.458716\n",
       "2   0.000000\n",
       "3   0.743119\n",
       "4   0.532110\n",
       "5   0.770642\n",
       "6   0.467890\n",
       "7   0.490826\n",
       "8   0.532110\n",
       "9   0.619266\n",
       "10  0.733945\n",
       "11  0.949541\n",
       "12  1.000000"
      ]
     },
     "execution_count": 81,
     "metadata": {},
     "output_type": "execute_result"
    }
   ],
   "source": [
    "sal_index = np.array([109.8,99.8,116.0,111.4,116.6,110.0,110.5,111.4,113.3,115.8,120.5,121.6,])\n",
    "sal_index = (sal_index - sal_index.min()) / (sal_index.max() - sal_index.min())\n",
    "\n",
    "dfsal_index = pd.DataFrame(sal_index, columns=['소매판매액지수'],index=['1','2','3','4','5','6','7','8','9','10','11','12'])\n",
    "\n",
    "month_sales = sales.groupby('month').sum()['취급액'].reset_index()['취급액']\n",
    "month_sales = (month_sales - month_sales.min()) / (month_sales.max() - month_sales.min())\n",
    "\n",
    "dfsal_index"
   ]
  },
  {
   "cell_type": "code",
   "execution_count": 78,
   "metadata": {},
   "outputs": [
    {
     "data": {
      "text/plain": [
       "array([[1.        , 0.77036093],\n",
       "       [0.77036093, 1.        ]])"
      ]
     },
     "execution_count": 78,
     "metadata": {},
     "output_type": "execute_result"
    }
   ],
   "source": [
    "corr_4 = np.corrcoef(dfsal_index['소매판매액지수'],month_sales)\n",
    "corr_4"
   ]
  },
  {
   "cell_type": "code",
   "execution_count": 82,
   "metadata": {},
   "outputs": [
    {
     "data": {
      "image/png": "[encoded data removed]",
      "text/plain": [
       "<Figure size 936x504 with 1 Axes>"
      ]
     },
     "metadata": {
      "needs_background": "light"
     },
     "output_type": "display_data"
    }
   ],
   "source": [
    "fig, ax = plt.subplots(figsize=(13,7))\n",
    "\n",
    "ax.plot(dfsal_index.index, dfsal_index['소매판매액지수'], label='sales_index') # 할부 \n",
    "ax.plot(month_sales.index, month_sales, label='month sales')\n",
    "\n",
    "plt.xlabel('month')\n",
    "plt.ylabel('판매액지수/매출액')\n",
    "plt.legend(loc='upper left')\n",
    "\n",
    "plt.show()"
   ]
  },
  {
   "cell_type": "markdown",
   "metadata": {},
   "source": [
    "# 후행지표2 : 취업자수   -> 사용 X "
   ]
  },
  {
   "cell_type": "code",
   "execution_count": 83,
   "metadata": {},
   "outputs": [
    {
     "data": {
      "text/html": [
       "<div>\n",
       "<style scoped>\n",
       "    .dataframe tbody tr th:only-of-type {\n",
       "        vertical-align: middle;\n",
       "    }\n",
       "\n",
       "    .dataframe tbody tr th {\n",
       "        vertical-align: top;\n",
       "    }\n",
       "\n",
       "    .dataframe thead th {\n",
       "        text-align: right;\n",
       "    }\n",
       "</style>\n",
       "<table border=\"1\" class=\"dataframe\">\n",
       "  <thead>\n",
       "    <tr style=\"text-align: right;\">\n",
       "      <th></th>\n",
       "      <th>취업자수</th>\n",
       "    </tr>\n",
       "  </thead>\n",
       "  <tbody>\n",
       "    <tr>\n",
       "      <th>1</th>\n",
       "      <td>0.000000</td>\n",
       "    </tr>\n",
       "    <tr>\n",
       "      <th>2</th>\n",
       "      <td>0.088854</td>\n",
       "    </tr>\n",
       "    <tr>\n",
       "      <th>3</th>\n",
       "      <td>0.446610</td>\n",
       "    </tr>\n",
       "    <tr>\n",
       "      <th>4</th>\n",
       "      <td>0.628215</td>\n",
       "    </tr>\n",
       "    <tr>\n",
       "      <th>5</th>\n",
       "      <td>0.849571</td>\n",
       "    </tr>\n",
       "    <tr>\n",
       "      <th>6</th>\n",
       "      <td>0.916602</td>\n",
       "    </tr>\n",
       "    <tr>\n",
       "      <th>7</th>\n",
       "      <td>0.897116</td>\n",
       "    </tr>\n",
       "    <tr>\n",
       "      <th>8</th>\n",
       "      <td>0.877631</td>\n",
       "    </tr>\n",
       "    <tr>\n",
       "      <th>9</th>\n",
       "      <td>0.913484</td>\n",
       "    </tr>\n",
       "    <tr>\n",
       "      <th>10</th>\n",
       "      <td>0.995323</td>\n",
       "    </tr>\n",
       "    <tr>\n",
       "      <th>11</th>\n",
       "      <td>1.000000</td>\n",
       "    </tr>\n",
       "    <tr>\n",
       "      <th>12</th>\n",
       "      <td>0.718628</td>\n",
       "    </tr>\n",
       "  </tbody>\n",
       "</table>\n",
       "</div>"
      ],
      "text/plain": [
       "        취업자수\n",
       "1   0.000000\n",
       "2   0.088854\n",
       "3   0.446610\n",
       "4   0.628215\n",
       "5   0.849571\n",
       "6   0.916602\n",
       "7   0.897116\n",
       "8   0.877631\n",
       "9   0.913484\n",
       "10  0.995323\n",
       "11  1.000000\n",
       "12  0.718628"
      ]
     },
     "execution_count": 83,
     "metadata": {},
     "output_type": "execute_result"
    }
   ],
   "source": [
    "\n",
    "\n",
    "employment = np.array([26232,\n",
    "26346,\n",
    "26805,\n",
    "27038,\n",
    "27322,\n",
    "27408,\n",
    "27383,\n",
    "27358,\n",
    "27404,\n",
    "27509,\n",
    "27515,\n",
    "27154])\n",
    "\n",
    "employment = (employment - employment.min()) / (employment.max() - employment.min())\n",
    "\n",
    "df_emplo = pd.DataFrame(employment, columns=['취업자수'],index=['1','2','3','4','5','6','7','8','9','10','11','12'])\n",
    "\n",
    "month_sales = sales.groupby('month').sum()['취급액'].reset_index()['취급액']\n",
    "month_sales = (month_sales - month_sales.min()) / (month_sales.max() - month_sales.min())\n",
    "\n",
    "df_emplo"
   ]
  },
  {
   "cell_type": "code",
   "execution_count": 85,
   "metadata": {},
   "outputs": [
    {
     "data": {
      "text/plain": [
       "array([[1.        , 0.40209472],\n",
       "       [0.40209472, 1.        ]])"
      ]
     },
     "execution_count": 85,
     "metadata": {},
     "output_type": "execute_result"
    }
   ],
   "source": [
    "corr_5 = np.corrcoef(df_emplo['취업자수'],month_sales)\n",
    "corr_5"
   ]
  },
  {
   "cell_type": "code",
   "execution_count": null,
   "metadata": {},
   "outputs": [],
   "source": []
  },
  {
   "cell_type": "code",
   "execution_count": null,
   "metadata": {},
   "outputs": [],
   "source": []
  },
  {
   "cell_type": "code",
   "execution_count": null,
   "metadata": {},
   "outputs": [],
   "source": []
  }
 ],
 "metadata": {
  "kernelspec": {
   "display_name": "Python 3",
   "language": "python",
   "name": "python3"
  },
  "language_info": {
   "codemirror_mode": {
    "name": "ipython",
    "version": 3
   },
   "file_extension": ".py",
   "mimetype": "text/x-python",
   "name": "python",
   "nbconvert_exporter": "python",
   "pygments_lexer": "ipython3",
   "version": "3.8.3"
  }
 },
 "nbformat": 4,
 "nbformat_minor": 4
}
