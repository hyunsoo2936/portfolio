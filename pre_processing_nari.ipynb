{
 "cells": [
  {
   "cell_type": "code",
   "execution_count": 58,
   "metadata": {},
   "outputs": [],
   "source": [
    "import pandas as pd\n",
    "import numpy as np\n",
    "from matplotlib import font_manager, rc\n",
    "import matplotlib.pyplot as plt\n",
    "import platform\n",
    "\n",
    "if platform.system() == 'Windows':\n",
    "# 윈도우인 경우\n",
    "    font_name = font_manager.FontProperties(fname=\"c:/Windows/Fonts/malgun.ttf\").get_name()\n",
    "    rc('font', family=font_name)\n",
    "else:    \n",
    "# Mac 인 경우\n",
    "    rc('font', family='AppleGothic')"
   ]
  },
  {
   "cell_type": "code",
   "execution_count": 59,
   "metadata": {},
   "outputs": [],
   "source": [
    "def load_dataset(): \n",
    "    sales = pd.read_excel(\"sales.xlsx\", header=1)\n",
    "    view_rate = pd.read_excel(\"view_rate.xlsx\",header =1, index_col= 0)\n",
    "    return sales, view_rate\n",
    "\n",
    "sales = load_dataset()[0]\n",
    "view_rate = load_dataset()[1]"
   ]
  },
  {
   "cell_type": "code",
   "execution_count": 60,
   "metadata": {
    "scrolled": false
   },
   "outputs": [
    {
     "data": {
      "text/html": [
       "<div>\n",
       "<style scoped>\n",
       "    .dataframe tbody tr th:only-of-type {\n",
       "        vertical-align: middle;\n",
       "    }\n",
       "\n",
       "    .dataframe tbody tr th {\n",
       "        vertical-align: top;\n",
       "    }\n",
       "\n",
       "    .dataframe thead th {\n",
       "        text-align: right;\n",
       "    }\n",
       "</style>\n",
       "<table border=\"1\" class=\"dataframe\">\n",
       "  <thead>\n",
       "    <tr style=\"text-align: right;\">\n",
       "      <th></th>\n",
       "      <th>방송일시</th>\n",
       "      <th>노출(분)</th>\n",
       "      <th>마더코드</th>\n",
       "      <th>상품코드</th>\n",
       "      <th>상품명</th>\n",
       "      <th>상품군</th>\n",
       "      <th>판매단가</th>\n",
       "      <th>취급액</th>\n",
       "    </tr>\n",
       "  </thead>\n",
       "  <tbody>\n",
       "    <tr>\n",
       "      <th>0</th>\n",
       "      <td>2019-01-01 06:00:00</td>\n",
       "      <td>20.000000</td>\n",
       "      <td>100346</td>\n",
       "      <td>201072</td>\n",
       "      <td>테이트 남성 셀린니트3종</td>\n",
       "      <td>의류</td>\n",
       "      <td>39900</td>\n",
       "      <td>2099000.0</td>\n",
       "    </tr>\n",
       "    <tr>\n",
       "      <th>1</th>\n",
       "      <td>2019-01-01 06:00:00</td>\n",
       "      <td>NaN</td>\n",
       "      <td>100346</td>\n",
       "      <td>201079</td>\n",
       "      <td>테이트 여성 셀린니트3종</td>\n",
       "      <td>의류</td>\n",
       "      <td>39900</td>\n",
       "      <td>4371000.0</td>\n",
       "    </tr>\n",
       "    <tr>\n",
       "      <th>2</th>\n",
       "      <td>2019-01-01 06:20:00</td>\n",
       "      <td>20.000000</td>\n",
       "      <td>100346</td>\n",
       "      <td>201072</td>\n",
       "      <td>테이트 남성 셀린니트3종</td>\n",
       "      <td>의류</td>\n",
       "      <td>39900</td>\n",
       "      <td>3262000.0</td>\n",
       "    </tr>\n",
       "    <tr>\n",
       "      <th>3</th>\n",
       "      <td>2019-01-01 06:20:00</td>\n",
       "      <td>NaN</td>\n",
       "      <td>100346</td>\n",
       "      <td>201079</td>\n",
       "      <td>테이트 여성 셀린니트3종</td>\n",
       "      <td>의류</td>\n",
       "      <td>39900</td>\n",
       "      <td>6955000.0</td>\n",
       "    </tr>\n",
       "    <tr>\n",
       "      <th>4</th>\n",
       "      <td>2019-01-01 06:40:00</td>\n",
       "      <td>20.000000</td>\n",
       "      <td>100346</td>\n",
       "      <td>201072</td>\n",
       "      <td>테이트 남성 셀린니트3종</td>\n",
       "      <td>의류</td>\n",
       "      <td>39900</td>\n",
       "      <td>6672000.0</td>\n",
       "    </tr>\n",
       "    <tr>\n",
       "      <th>...</th>\n",
       "      <td>...</td>\n",
       "      <td>...</td>\n",
       "      <td>...</td>\n",
       "      <td>...</td>\n",
       "      <td>...</td>\n",
       "      <td>...</td>\n",
       "      <td>...</td>\n",
       "      <td>...</td>\n",
       "    </tr>\n",
       "    <tr>\n",
       "      <th>38304</th>\n",
       "      <td>2020-01-01 00:20:00</td>\n",
       "      <td>20.000000</td>\n",
       "      <td>100073</td>\n",
       "      <td>200196</td>\n",
       "      <td>삼성화재 행복한파트너 주택화재보험(1912)</td>\n",
       "      <td>무형</td>\n",
       "      <td>0</td>\n",
       "      <td>NaN</td>\n",
       "    </tr>\n",
       "    <tr>\n",
       "      <th>38305</th>\n",
       "      <td>2020-01-01 00:40:00</td>\n",
       "      <td>20.000000</td>\n",
       "      <td>100073</td>\n",
       "      <td>200196</td>\n",
       "      <td>삼성화재 행복한파트너 주택화재보험(1912)</td>\n",
       "      <td>무형</td>\n",
       "      <td>0</td>\n",
       "      <td>NaN</td>\n",
       "    </tr>\n",
       "    <tr>\n",
       "      <th>38306</th>\n",
       "      <td>2020-01-01 01:00:00</td>\n",
       "      <td>20.000000</td>\n",
       "      <td>100073</td>\n",
       "      <td>200196</td>\n",
       "      <td>삼성화재 행복한파트너 주택화재보험(1912)</td>\n",
       "      <td>무형</td>\n",
       "      <td>0</td>\n",
       "      <td>NaN</td>\n",
       "    </tr>\n",
       "    <tr>\n",
       "      <th>38307</th>\n",
       "      <td>2020-01-01 01:20:00</td>\n",
       "      <td>20.000000</td>\n",
       "      <td>100490</td>\n",
       "      <td>201478</td>\n",
       "      <td>더케이 예다함 상조서비스(티포트)</td>\n",
       "      <td>무형</td>\n",
       "      <td>0</td>\n",
       "      <td>NaN</td>\n",
       "    </tr>\n",
       "    <tr>\n",
       "      <th>38308</th>\n",
       "      <td>2020-01-01 01:40:00</td>\n",
       "      <td>17.166667</td>\n",
       "      <td>100490</td>\n",
       "      <td>201478</td>\n",
       "      <td>더케이 예다함 상조서비스(티포트)</td>\n",
       "      <td>무형</td>\n",
       "      <td>0</td>\n",
       "      <td>NaN</td>\n",
       "    </tr>\n",
       "  </tbody>\n",
       "</table>\n",
       "<p>38309 rows × 8 columns</p>\n",
       "</div>"
      ],
      "text/plain": [
       "                     방송일시      노출(분)    마더코드    상품코드  \\\n",
       "0     2019-01-01 06:00:00  20.000000  100346  201072   \n",
       "1     2019-01-01 06:00:00        NaN  100346  201079   \n",
       "2     2019-01-01 06:20:00  20.000000  100346  201072   \n",
       "3     2019-01-01 06:20:00        NaN  100346  201079   \n",
       "4     2019-01-01 06:40:00  20.000000  100346  201072   \n",
       "...                   ...        ...     ...     ...   \n",
       "38304 2020-01-01 00:20:00  20.000000  100073  200196   \n",
       "38305 2020-01-01 00:40:00  20.000000  100073  200196   \n",
       "38306 2020-01-01 01:00:00  20.000000  100073  200196   \n",
       "38307 2020-01-01 01:20:00  20.000000  100490  201478   \n",
       "38308 2020-01-01 01:40:00  17.166667  100490  201478   \n",
       "\n",
       "                            상품명 상품군   판매단가        취급액  \n",
       "0                 테이트 남성 셀린니트3종  의류  39900  2099000.0  \n",
       "1                 테이트 여성 셀린니트3종  의류  39900  4371000.0  \n",
       "2                 테이트 남성 셀린니트3종  의류  39900  3262000.0  \n",
       "3                 테이트 여성 셀린니트3종  의류  39900  6955000.0  \n",
       "4                 테이트 남성 셀린니트3종  의류  39900  6672000.0  \n",
       "...                         ...  ..    ...        ...  \n",
       "38304  삼성화재 행복한파트너 주택화재보험(1912)  무형      0        NaN  \n",
       "38305  삼성화재 행복한파트너 주택화재보험(1912)  무형      0        NaN  \n",
       "38306  삼성화재 행복한파트너 주택화재보험(1912)  무형      0        NaN  \n",
       "38307        더케이 예다함 상조서비스(티포트)  무형      0        NaN  \n",
       "38308        더케이 예다함 상조서비스(티포트)  무형      0        NaN  \n",
       "\n",
       "[38309 rows x 8 columns]"
      ]
     },
     "execution_count": 60,
     "metadata": {},
     "output_type": "execute_result"
    }
   ],
   "source": [
    "sales"
   ]
  },
  {
   "cell_type": "code",
   "execution_count": 61,
   "metadata": {},
   "outputs": [
    {
     "data": {
      "text/html": [
       "<div>\n",
       "<style scoped>\n",
       "    .dataframe tbody tr th:only-of-type {\n",
       "        vertical-align: middle;\n",
       "    }\n",
       "\n",
       "    .dataframe tbody tr th {\n",
       "        vertical-align: top;\n",
       "    }\n",
       "\n",
       "    .dataframe thead th {\n",
       "        text-align: right;\n",
       "    }\n",
       "</style>\n",
       "<table border=\"1\" class=\"dataframe\">\n",
       "  <thead>\n",
       "    <tr style=\"text-align: right;\">\n",
       "      <th></th>\n",
       "      <th>2019-01-01</th>\n",
       "      <th>2019-01-02</th>\n",
       "      <th>2019-01-03</th>\n",
       "      <th>2019-01-04</th>\n",
       "      <th>2019-01-05</th>\n",
       "      <th>2019-01-06</th>\n",
       "      <th>2019-01-07</th>\n",
       "      <th>2019-01-08</th>\n",
       "      <th>2019-01-09</th>\n",
       "      <th>2019-01-10</th>\n",
       "      <th>...</th>\n",
       "      <th>2019-12-23</th>\n",
       "      <th>2019-12-24</th>\n",
       "      <th>2019-12-25</th>\n",
       "      <th>2019-12-26</th>\n",
       "      <th>2019-12-27</th>\n",
       "      <th>2019-12-28</th>\n",
       "      <th>2019-12-29</th>\n",
       "      <th>2019-12-30</th>\n",
       "      <th>2019-12-31</th>\n",
       "      <th>2019-01-01 to 2019-12-31</th>\n",
       "    </tr>\n",
       "    <tr>\n",
       "      <th>시간대</th>\n",
       "      <th></th>\n",
       "      <th></th>\n",
       "      <th></th>\n",
       "      <th></th>\n",
       "      <th></th>\n",
       "      <th></th>\n",
       "      <th></th>\n",
       "      <th></th>\n",
       "      <th></th>\n",
       "      <th></th>\n",
       "      <th></th>\n",
       "      <th></th>\n",
       "      <th></th>\n",
       "      <th></th>\n",
       "      <th></th>\n",
       "      <th></th>\n",
       "      <th></th>\n",
       "      <th></th>\n",
       "      <th></th>\n",
       "      <th></th>\n",
       "      <th></th>\n",
       "    </tr>\n",
       "  </thead>\n",
       "  <tbody>\n",
       "    <tr>\n",
       "      <th>02:00</th>\n",
       "      <td>0.0</td>\n",
       "      <td>0.0</td>\n",
       "      <td>0.000</td>\n",
       "      <td>0.0</td>\n",
       "      <td>0.0</td>\n",
       "      <td>0.0</td>\n",
       "      <td>0.0</td>\n",
       "      <td>0.0</td>\n",
       "      <td>0.0</td>\n",
       "      <td>0.000</td>\n",
       "      <td>...</td>\n",
       "      <td>0.0</td>\n",
       "      <td>0.0</td>\n",
       "      <td>0.000</td>\n",
       "      <td>0.0</td>\n",
       "      <td>0.0</td>\n",
       "      <td>0.0</td>\n",
       "      <td>0.0</td>\n",
       "      <td>0.0</td>\n",
       "      <td>0.000</td>\n",
       "      <td>0.003</td>\n",
       "    </tr>\n",
       "    <tr>\n",
       "      <th>02:01</th>\n",
       "      <td>0.0</td>\n",
       "      <td>0.0</td>\n",
       "      <td>0.000</td>\n",
       "      <td>0.0</td>\n",
       "      <td>0.0</td>\n",
       "      <td>0.0</td>\n",
       "      <td>0.0</td>\n",
       "      <td>0.0</td>\n",
       "      <td>0.0</td>\n",
       "      <td>0.005</td>\n",
       "      <td>...</td>\n",
       "      <td>0.0</td>\n",
       "      <td>0.0</td>\n",
       "      <td>0.000</td>\n",
       "      <td>0.0</td>\n",
       "      <td>0.0</td>\n",
       "      <td>0.0</td>\n",
       "      <td>0.0</td>\n",
       "      <td>0.0</td>\n",
       "      <td>0.012</td>\n",
       "      <td>0.003</td>\n",
       "    </tr>\n",
       "    <tr>\n",
       "      <th>02:02</th>\n",
       "      <td>0.0</td>\n",
       "      <td>0.0</td>\n",
       "      <td>0.000</td>\n",
       "      <td>0.0</td>\n",
       "      <td>0.0</td>\n",
       "      <td>0.0</td>\n",
       "      <td>0.0</td>\n",
       "      <td>0.0</td>\n",
       "      <td>0.0</td>\n",
       "      <td>0.005</td>\n",
       "      <td>...</td>\n",
       "      <td>0.0</td>\n",
       "      <td>0.0</td>\n",
       "      <td>0.000</td>\n",
       "      <td>0.0</td>\n",
       "      <td>0.0</td>\n",
       "      <td>0.0</td>\n",
       "      <td>0.0</td>\n",
       "      <td>0.0</td>\n",
       "      <td>0.000</td>\n",
       "      <td>0.004</td>\n",
       "    </tr>\n",
       "    <tr>\n",
       "      <th>02:03</th>\n",
       "      <td>0.0</td>\n",
       "      <td>0.0</td>\n",
       "      <td>0.014</td>\n",
       "      <td>0.0</td>\n",
       "      <td>0.0</td>\n",
       "      <td>0.0</td>\n",
       "      <td>0.0</td>\n",
       "      <td>0.0</td>\n",
       "      <td>0.0</td>\n",
       "      <td>0.005</td>\n",
       "      <td>...</td>\n",
       "      <td>0.0</td>\n",
       "      <td>0.0</td>\n",
       "      <td>0.017</td>\n",
       "      <td>0.0</td>\n",
       "      <td>0.0</td>\n",
       "      <td>0.0</td>\n",
       "      <td>0.0</td>\n",
       "      <td>0.0</td>\n",
       "      <td>0.000</td>\n",
       "      <td>0.004</td>\n",
       "    </tr>\n",
       "    <tr>\n",
       "      <th>02:04</th>\n",
       "      <td>0.0</td>\n",
       "      <td>0.0</td>\n",
       "      <td>0.000</td>\n",
       "      <td>0.0</td>\n",
       "      <td>0.0</td>\n",
       "      <td>0.0</td>\n",
       "      <td>0.0</td>\n",
       "      <td>0.0</td>\n",
       "      <td>0.0</td>\n",
       "      <td>0.005</td>\n",
       "      <td>...</td>\n",
       "      <td>0.0</td>\n",
       "      <td>0.0</td>\n",
       "      <td>0.017</td>\n",
       "      <td>0.0</td>\n",
       "      <td>0.0</td>\n",
       "      <td>0.0</td>\n",
       "      <td>0.0</td>\n",
       "      <td>0.0</td>\n",
       "      <td>0.000</td>\n",
       "      <td>0.004</td>\n",
       "    </tr>\n",
       "  </tbody>\n",
       "</table>\n",
       "<p>5 rows × 366 columns</p>\n",
       "</div>"
      ],
      "text/plain": [
       "       2019-01-01  2019-01-02  2019-01-03  2019-01-04  2019-01-05  2019-01-06  \\\n",
       "시간대                                                                             \n",
       "02:00         0.0         0.0       0.000         0.0         0.0         0.0   \n",
       "02:01         0.0         0.0       0.000         0.0         0.0         0.0   \n",
       "02:02         0.0         0.0       0.000         0.0         0.0         0.0   \n",
       "02:03         0.0         0.0       0.014         0.0         0.0         0.0   \n",
       "02:04         0.0         0.0       0.000         0.0         0.0         0.0   \n",
       "\n",
       "       2019-01-07  2019-01-08  2019-01-09  2019-01-10  ...  2019-12-23  \\\n",
       "시간대                                                    ...               \n",
       "02:00         0.0         0.0         0.0       0.000  ...         0.0   \n",
       "02:01         0.0         0.0         0.0       0.005  ...         0.0   \n",
       "02:02         0.0         0.0         0.0       0.005  ...         0.0   \n",
       "02:03         0.0         0.0         0.0       0.005  ...         0.0   \n",
       "02:04         0.0         0.0         0.0       0.005  ...         0.0   \n",
       "\n",
       "       2019-12-24  2019-12-25  2019-12-26  2019-12-27  2019-12-28  2019-12-29  \\\n",
       "시간대                                                                             \n",
       "02:00         0.0       0.000         0.0         0.0         0.0         0.0   \n",
       "02:01         0.0       0.000         0.0         0.0         0.0         0.0   \n",
       "02:02         0.0       0.000         0.0         0.0         0.0         0.0   \n",
       "02:03         0.0       0.017         0.0         0.0         0.0         0.0   \n",
       "02:04         0.0       0.017         0.0         0.0         0.0         0.0   \n",
       "\n",
       "       2019-12-30  2019-12-31  2019-01-01 to 2019-12-31  \n",
       "시간대                                                      \n",
       "02:00         0.0       0.000                     0.003  \n",
       "02:01         0.0       0.012                     0.003  \n",
       "02:02         0.0       0.000                     0.004  \n",
       "02:03         0.0       0.000                     0.004  \n",
       "02:04         0.0       0.000                     0.004  \n",
       "\n",
       "[5 rows x 366 columns]"
      ]
     },
     "execution_count": 61,
     "metadata": {},
     "output_type": "execute_result"
    }
   ],
   "source": [
    "view_rate.head()"
   ]
  },
  {
   "cell_type": "code",
   "execution_count": 62,
   "metadata": {},
   "outputs": [],
   "source": [
    "# 무형 지우기\n",
    "sales.drop(sales[sales[\"상품군\"]==\"무형\"].index, inplace=True)"
   ]
  },
  {
   "cell_type": "code",
   "execution_count": 63,
   "metadata": {
    "scrolled": true
   },
   "outputs": [
    {
     "data": {
      "text/html": [
       "<div>\n",
       "<style scoped>\n",
       "    .dataframe tbody tr th:only-of-type {\n",
       "        vertical-align: middle;\n",
       "    }\n",
       "\n",
       "    .dataframe tbody tr th {\n",
       "        vertical-align: top;\n",
       "    }\n",
       "\n",
       "    .dataframe thead th {\n",
       "        text-align: right;\n",
       "    }\n",
       "</style>\n",
       "<table border=\"1\" class=\"dataframe\">\n",
       "  <thead>\n",
       "    <tr style=\"text-align: right;\">\n",
       "      <th></th>\n",
       "      <th>방송일시</th>\n",
       "      <th>노출(분)</th>\n",
       "      <th>마더코드</th>\n",
       "      <th>상품코드</th>\n",
       "      <th>상품명</th>\n",
       "      <th>상품군</th>\n",
       "      <th>판매단가</th>\n",
       "      <th>취급액</th>\n",
       "    </tr>\n",
       "  </thead>\n",
       "  <tbody>\n",
       "    <tr>\n",
       "      <th>0</th>\n",
       "      <td>2019-01-01 06:00:00</td>\n",
       "      <td>20.0</td>\n",
       "      <td>100346</td>\n",
       "      <td>201072</td>\n",
       "      <td>테이트 남성 셀린니트3종</td>\n",
       "      <td>의류</td>\n",
       "      <td>39900</td>\n",
       "      <td>2099000.0</td>\n",
       "    </tr>\n",
       "    <tr>\n",
       "      <th>1</th>\n",
       "      <td>2019-01-01 06:00:00</td>\n",
       "      <td>20.0</td>\n",
       "      <td>100346</td>\n",
       "      <td>201079</td>\n",
       "      <td>테이트 여성 셀린니트3종</td>\n",
       "      <td>의류</td>\n",
       "      <td>39900</td>\n",
       "      <td>4371000.0</td>\n",
       "    </tr>\n",
       "    <tr>\n",
       "      <th>2</th>\n",
       "      <td>2019-01-01 06:20:00</td>\n",
       "      <td>20.0</td>\n",
       "      <td>100346</td>\n",
       "      <td>201072</td>\n",
       "      <td>테이트 남성 셀린니트3종</td>\n",
       "      <td>의류</td>\n",
       "      <td>39900</td>\n",
       "      <td>3262000.0</td>\n",
       "    </tr>\n",
       "    <tr>\n",
       "      <th>3</th>\n",
       "      <td>2019-01-01 06:20:00</td>\n",
       "      <td>20.0</td>\n",
       "      <td>100346</td>\n",
       "      <td>201079</td>\n",
       "      <td>테이트 여성 셀린니트3종</td>\n",
       "      <td>의류</td>\n",
       "      <td>39900</td>\n",
       "      <td>6955000.0</td>\n",
       "    </tr>\n",
       "    <tr>\n",
       "      <th>4</th>\n",
       "      <td>2019-01-01 06:40:00</td>\n",
       "      <td>20.0</td>\n",
       "      <td>100346</td>\n",
       "      <td>201072</td>\n",
       "      <td>테이트 남성 셀린니트3종</td>\n",
       "      <td>의류</td>\n",
       "      <td>39900</td>\n",
       "      <td>6672000.0</td>\n",
       "    </tr>\n",
       "    <tr>\n",
       "      <th>...</th>\n",
       "      <td>...</td>\n",
       "      <td>...</td>\n",
       "      <td>...</td>\n",
       "      <td>...</td>\n",
       "      <td>...</td>\n",
       "      <td>...</td>\n",
       "      <td>...</td>\n",
       "      <td>...</td>\n",
       "    </tr>\n",
       "    <tr>\n",
       "      <th>38299</th>\n",
       "      <td>2019-12-31 23:40:00</td>\n",
       "      <td>20.0</td>\n",
       "      <td>100448</td>\n",
       "      <td>201391</td>\n",
       "      <td>일시불쿠첸압력밥솥 6인용</td>\n",
       "      <td>주방</td>\n",
       "      <td>148000</td>\n",
       "      <td>10157000.0</td>\n",
       "    </tr>\n",
       "    <tr>\n",
       "      <th>38300</th>\n",
       "      <td>2020-01-01 00:00:00</td>\n",
       "      <td>20.0</td>\n",
       "      <td>100448</td>\n",
       "      <td>201383</td>\n",
       "      <td>무이자쿠첸압력밥솥 10인용</td>\n",
       "      <td>주방</td>\n",
       "      <td>178000</td>\n",
       "      <td>50929000.0</td>\n",
       "    </tr>\n",
       "    <tr>\n",
       "      <th>38301</th>\n",
       "      <td>2020-01-01 00:00:00</td>\n",
       "      <td>20.0</td>\n",
       "      <td>100448</td>\n",
       "      <td>201390</td>\n",
       "      <td>일시불쿠첸압력밥솥 10인용</td>\n",
       "      <td>주방</td>\n",
       "      <td>168000</td>\n",
       "      <td>104392000.0</td>\n",
       "    </tr>\n",
       "    <tr>\n",
       "      <th>38302</th>\n",
       "      <td>2020-01-01 00:00:00</td>\n",
       "      <td>20.0</td>\n",
       "      <td>100448</td>\n",
       "      <td>201384</td>\n",
       "      <td>무이자쿠첸압력밥솥 6인용</td>\n",
       "      <td>주방</td>\n",
       "      <td>158000</td>\n",
       "      <td>13765000.0</td>\n",
       "    </tr>\n",
       "    <tr>\n",
       "      <th>38303</th>\n",
       "      <td>2020-01-01 00:00:00</td>\n",
       "      <td>20.0</td>\n",
       "      <td>100448</td>\n",
       "      <td>201391</td>\n",
       "      <td>일시불쿠첸압력밥솥 6인용</td>\n",
       "      <td>주방</td>\n",
       "      <td>148000</td>\n",
       "      <td>46608000.0</td>\n",
       "    </tr>\n",
       "  </tbody>\n",
       "</table>\n",
       "<p>37372 rows × 8 columns</p>\n",
       "</div>"
      ],
      "text/plain": [
       "                     방송일시  노출(분)    마더코드    상품코드             상품명 상품군    판매단가  \\\n",
       "0     2019-01-01 06:00:00   20.0  100346  201072   테이트 남성 셀린니트3종  의류   39900   \n",
       "1     2019-01-01 06:00:00   20.0  100346  201079   테이트 여성 셀린니트3종  의류   39900   \n",
       "2     2019-01-01 06:20:00   20.0  100346  201072   테이트 남성 셀린니트3종  의류   39900   \n",
       "3     2019-01-01 06:20:00   20.0  100346  201079   테이트 여성 셀린니트3종  의류   39900   \n",
       "4     2019-01-01 06:40:00   20.0  100346  201072   테이트 남성 셀린니트3종  의류   39900   \n",
       "...                   ...    ...     ...     ...             ...  ..     ...   \n",
       "38299 2019-12-31 23:40:00   20.0  100448  201391   일시불쿠첸압력밥솥 6인용  주방  148000   \n",
       "38300 2020-01-01 00:00:00   20.0  100448  201383  무이자쿠첸압력밥솥 10인용  주방  178000   \n",
       "38301 2020-01-01 00:00:00   20.0  100448  201390  일시불쿠첸압력밥솥 10인용  주방  168000   \n",
       "38302 2020-01-01 00:00:00   20.0  100448  201384   무이자쿠첸압력밥솥 6인용  주방  158000   \n",
       "38303 2020-01-01 00:00:00   20.0  100448  201391   일시불쿠첸압력밥솥 6인용  주방  148000   \n",
       "\n",
       "               취급액  \n",
       "0        2099000.0  \n",
       "1        4371000.0  \n",
       "2        3262000.0  \n",
       "3        6955000.0  \n",
       "4        6672000.0  \n",
       "...            ...  \n",
       "38299   10157000.0  \n",
       "38300   50929000.0  \n",
       "38301  104392000.0  \n",
       "38302   13765000.0  \n",
       "38303   46608000.0  \n",
       "\n",
       "[37372 rows x 8 columns]"
      ]
     },
     "execution_count": 63,
     "metadata": {},
     "output_type": "execute_result"
    }
   ],
   "source": [
    "# 결측된 노출분 채우기\n",
    "for i,row in sales.iterrows():\n",
    "    val = row[\"노출(분)\"]\n",
    "    if i == 0 :\n",
    "        continue\n",
    "        \n",
    "    if  np.isnan(val):\n",
    "        if sales.loc[i,\"방송일시\"] == sales.loc[i-1,\"방송일시\"]:\n",
    "            sales.loc[i,\"노출(분)\"] = sales.loc[i-1,\"노출(분)\"]\n",
    "        else : \n",
    "            continue\n",
    "            \n",
    "sales.isnull().sum()\n",
    "sales"
   ]
  },
  {
   "cell_type": "code",
   "execution_count": 64,
   "metadata": {},
   "outputs": [
    {
     "data": {
      "text/plain": [
       "pandas.core.frame.DataFrame"
      ]
     },
     "execution_count": 64,
     "metadata": {},
     "output_type": "execute_result"
    }
   ],
   "source": [
    "# 판매단가 > 취급액 이면 취급액 = 0 \n",
    "\n",
    "def custom(price, total):\n",
    "    if price > total:\n",
    "        return 0\n",
    "    \n",
    "    else:\n",
    "        return total\n",
    "\n",
    "# sales[\"취급액\"] = sales.apply(lambda x: 0 if x['판매단가'] > x['취급액'] else x['취급액'])\n",
    "# sales[\"취급액\"] = sales.apply(lambda x : custom(x[\"판매단가\"], x[\"취급액\"]))\n",
    "\n",
    "def new_total(row):\n",
    "    if row[\"판매단가\"] > row[\"취급액\"]:\n",
    "        return 0\n",
    "    else:\n",
    "        row[\"취급액\"]\n",
    "type(sales)\n",
    "# sales['취급액'] = sales.apply(new_total, axis=1)"
   ]
  },
  {
   "cell_type": "code",
   "execution_count": null,
   "metadata": {},
   "outputs": [],
   "source": []
  },
  {
   "cell_type": "code",
   "execution_count": 155,
   "metadata": {
    "scrolled": true
   },
   "outputs": [
    {
     "name": "stdout",
     "output_type": "stream",
     "text": [
      "False\n",
      "[93]번째 열들의 평균은 \n",
      "마지막 열 직전까지의 값 0.002495890410958904\n",
      "실제값 : [0.003]\n",
      "\n",
      "[120]번째 열들의 평균은 \n",
      "마지막 열 직전까지의 값 0.0015013698630136987\n",
      "실제값 : [0.001]\n",
      "\n",
      "[628]번째 열들의 평균은 \n",
      "마지막 열 직전까지의 값 0.004512328767123287\n",
      "실제값 : [0.004]\n",
      "\n",
      "[652]번째 열들의 평균은 \n",
      "마지막 열 직전까지의 값 0.004506849315068493\n",
      "실제값 : [0.004]\n",
      "\n",
      "[664]번째 열들의 평균은 \n",
      "마지막 열 직전까지의 값 0.004506849315068493\n",
      "실제값 : [0.004]\n",
      "\n",
      "[745]번째 열들의 평균은 \n",
      "마지막 열 직전까지의 값 0.006504109589041095\n",
      "실제값 : [0.006]\n",
      "\n",
      "[785]번째 열들의 평균은 \n",
      "마지막 열 직전까지의 값 0.006504109589041096\n",
      "실제값 : [0.006]\n",
      "\n",
      "[837]번째 열들의 평균은 \n",
      "마지막 열 직전까지의 값 0.006504109589041096\n",
      "실제값 : [0.006]\n",
      "\n",
      "[962]번째 열들의 평균은 \n",
      "마지막 열 직전까지의 값 0.006504109589041096\n",
      "실제값 : [0.006]\n",
      "\n",
      "[988]번째 열들의 평균은 \n",
      "마지막 열 직전까지의 값 0.004498630136986301\n",
      "실제값 : [0.005]\n",
      "\n",
      "[1206]번째 열들의 평균은 \n",
      "마지막 열 직전까지의 값 0.0034958904109589043\n",
      "실제값 : [0.004]\n",
      "\n"
     ]
    }
   ],
   "source": [
    "# 마지막 열의 값이 mena일까? \n",
    "test_lst= np.round(np.mean(view_rate.iloc[:,:-1].values,axis=1),3)==view_rate.iloc[:,-1].values\n",
    "print(test_lst.all())\n",
    "for i in np.argwhere(test_lst ==False):\n",
    "    print(\"{}번째 열들의 평균은 \".format(i))\n",
    "    print(\"마지막 열 직전까지의 값 {}\".format(np.mean(view_rate.iloc[i,:-1].values)))\n",
    "    print(\"실제값 : {}\\n\".format(view_rate.iloc[i,-1].values))"
   ]
  },
  {
   "cell_type": "markdown",
   "metadata": {},
   "source": [
    "해당 위치에서 mean 값이랑 값이 맞지 않습니다."
   ]
  },
  {
   "cell_type": "code",
   "execution_count": 156,
   "metadata": {
    "scrolled": true
   },
   "outputs": [
    {
     "name": "stdout",
     "output_type": "stream",
     "text": [
      "False\n",
      "[50]번째 열들의 평균은 \n",
      "마지막 열 직전까지의 값 0.0044777777777777784\n",
      "실제값 : 0.005\n",
      "\n",
      "[57]번째 열들의 평균은 \n",
      "마지막 열 직전까지의 값 0.003486111111111111\n",
      "실제값 : 0.004\n",
      "\n",
      "[110]번째 열들의 평균은 \n",
      "마지막 열 직전까지의 값 0.0024874999999999997\n",
      "실제값 : 0.003\n",
      "\n",
      "[184]번째 열들의 평균은 \n",
      "마지막 열 직전까지의 값 0.003491666666666667\n",
      "실제값 : 0.004\n",
      "\n",
      "[204]번째 열들의 평균은 \n",
      "마지막 열 직전까지의 값 0.00851875\n",
      "실제값 : 0.008\n",
      "\n",
      "[230]번째 열들의 평균은 \n",
      "마지막 열 직전까지의 값 0.009490972222222224\n",
      "실제값 : 0.01\n",
      "\n",
      "[263]번째 열들의 평균은 \n",
      "마지막 열 직전까지의 값 0.005501388888888889\n",
      "실제값 : 0.005\n",
      "\n",
      "[310]번째 열들의 평균은 \n",
      "마지막 열 직전까지의 값 0.004525694444444444\n",
      "실제값 : 0.004\n",
      "\n",
      "[353]번째 열들의 평균은 \n",
      "마지막 열 직전까지의 값 0.014594444444444441\n",
      "실제값 : 0.014\n",
      "\n"
     ]
    }
   ],
   "source": [
    "# 마지막 열의 값이 mena일까? \n",
    "test_lst= np.round(np.mean(view_rate.iloc[:-1,:].values,axis=0),3)==view_rate.iloc[-1,:].values\n",
    "print(test_lst.all())\n",
    "for i in np.argwhere(test_lst ==False):\n",
    "    print(\"{}번째 열들의 평균은 \".format(i))\n",
    "    print(\"마지막 열 직전까지의 값 {}\".format(np.mean(view_rate.iloc[:-1,i].values)))\n",
    "    print(\"실제값 : {}\\n\".format(view_rate.iloc[-1,i].values[0]))"
   ]
  },
  {
   "cell_type": "code",
   "execution_count": null,
   "metadata": {},
   "outputs": [],
   "source": []
  },
  {
   "cell_type": "markdown",
   "metadata": {},
   "source": [
    "---\n",
    "## 의문점 쓰는 공간 \n",
    "\n",
    "1. view_rate의 마지막 행과 열은 각각 무엇을 의미할까요???\n",
    "> 마지막 열 : 93, 120, 628, 652, 745, 785, 837, 962, 988, 1206 위치에 있는 것들을 제외하고는 평균의 소수점 넷째자리에서 반올림한 값입니다. \n",
    "> <br>위의 예외들은 올린것도 있고...버린것도있고... 뒤죽박죽 \n",
    "> <br>마지막 행 : 위와 마찬가지 ;;; \n"
   ]
  },
  {
   "cell_type": "code",
   "execution_count": 165,
   "metadata": {},
   "outputs": [
    {
     "data": {
      "text/plain": [
       "array([[<matplotlib.axes._subplots.AxesSubplot object at 0x149f972d0>,\n",
       "        <matplotlib.axes._subplots.AxesSubplot object at 0x149a11f90>,\n",
       "        <matplotlib.axes._subplots.AxesSubplot object at 0x149f8cf10>],\n",
       "       [<matplotlib.axes._subplots.AxesSubplot object at 0x1497fa190>,\n",
       "        <matplotlib.axes._subplots.AxesSubplot object at 0x149f4de90>,\n",
       "        <matplotlib.axes._subplots.AxesSubplot object at 0x1497a94d0>],\n",
       "       [<matplotlib.axes._subplots.AxesSubplot object at 0x14a0c1d10>,\n",
       "        <matplotlib.axes._subplots.AxesSubplot object at 0x149717350>,\n",
       "        <matplotlib.axes._subplots.AxesSubplot object at 0x1497c8d10>],\n",
       "       [<matplotlib.axes._subplots.AxesSubplot object at 0x14a118650>,\n",
       "        <matplotlib.axes._subplots.AxesSubplot object at 0x14970d990>,\n",
       "        <matplotlib.axes._subplots.AxesSubplot object at 0x14a107cd0>]],\n",
       "      dtype=object)"
      ]
     },
     "execution_count": 165,
     "metadata": {},
     "output_type": "execute_result"
    },
    {
     "data": {
      "image/png": "[encoded data removed]",
      "text/plain": [
       "<Figure size 432x288 with 12 Axes>"
      ]
     },
     "metadata": {
      "needs_background": "light"
     },
     "output_type": "display_data"
    }
   ],
   "source": [
    "sales.취급액.hist(by=sales.상품군)"
   ]
  },
  {
   "cell_type": "code",
   "execution_count": 166,
   "metadata": {},
   "outputs": [
    {
     "data": {
      "text/plain": [
       "주방      6604\n",
       "가전      6479\n",
       "의류      4340\n",
       "속옷      3919\n",
       "잡화      3891\n",
       "농수축     3884\n",
       "생활용품    2877\n",
       "가구      2614\n",
       "이미용     1305\n",
       "건강기능     790\n",
       "침구       669\n",
       "Name: 상품군, dtype: int64"
      ]
     },
     "execution_count": 166,
     "metadata": {},
     "output_type": "execute_result"
    }
   ],
   "source": [
    "# df = sales.groupby('상품군')['취급액'].agg('count')\n",
    "sales.상품군.value_counts()"
   ]
  },
  {
   "cell_type": "code",
   "execution_count": 167,
   "metadata": {},
   "outputs": [
    {
     "data": {
      "text/plain": [
       "<matplotlib.axes._subplots.AxesSubplot at 0x146af9610>"
      ]
     },
     "execution_count": 167,
     "metadata": {},
     "output_type": "execute_result"
    },
    {
     "data": {
      "image/png": "[encoded data removed]",
      "text/plain": [
       "<Figure size 432x288 with 1 Axes>"
      ]
     },
     "metadata": {
      "needs_background": "light"
     },
     "output_type": "display_data"
    }
   ],
   "source": [
    "sales.groupby(['상품군'])['취급액'].sum().plot.bar()"
   ]
  },
  {
   "cell_type": "code",
   "execution_count": 168,
   "metadata": {},
   "outputs": [
    {
     "data": {
      "text/plain": [
       "<matplotlib.axes._subplots.AxesSubplot at 0x1491494d0>"
      ]
     },
     "execution_count": 168,
     "metadata": {},
     "output_type": "execute_result"
    },
    {
     "data": {
      "image/png": "[encoded data removed]",
      "text/plain": [
       "<Figure size 432x288 with 1 Axes>"
      ]
     },
     "metadata": {
      "needs_background": "light"
     },
     "output_type": "display_data"
    }
   ],
   "source": [
    "sales.groupby(['상품군'])['취급액'].mean().plot.bar()"
   ]
  },
  {
   "cell_type": "code",
   "execution_count": 169,
   "metadata": {},
   "outputs": [],
   "source": [
    "sales['month'] = pd.DatetimeIndex(sales['방송일시']).month\n",
    "sales['day'] = pd.DatetimeIndex(sales['방송일시']).day\n",
    "sales['hour'] = pd.DatetimeIndex(sales['방송일시']).hour\n",
    "sales['minute'] = pd.DatetimeIndex(sales['방송일시']).minute"
   ]
  },
  {
   "cell_type": "code",
   "execution_count": 170,
   "metadata": {},
   "outputs": [
    {
     "data": {
      "text/html": [
       "<div>\n",
       "<style scoped>\n",
       "    .dataframe tbody tr th:only-of-type {\n",
       "        vertical-align: middle;\n",
       "    }\n",
       "\n",
       "    .dataframe tbody tr th {\n",
       "        vertical-align: top;\n",
       "    }\n",
       "\n",
       "    .dataframe thead th {\n",
       "        text-align: right;\n",
       "    }\n",
       "</style>\n",
       "<table border=\"1\" class=\"dataframe\">\n",
       "  <thead>\n",
       "    <tr style=\"text-align: right;\">\n",
       "      <th>상품군</th>\n",
       "      <th>가구</th>\n",
       "      <th>가전</th>\n",
       "      <th>건강기능</th>\n",
       "      <th>농수축</th>\n",
       "      <th>생활용품</th>\n",
       "      <th>속옷</th>\n",
       "      <th>의류</th>\n",
       "      <th>이미용</th>\n",
       "      <th>잡화</th>\n",
       "      <th>주방</th>\n",
       "      <th>침구</th>\n",
       "    </tr>\n",
       "    <tr>\n",
       "      <th>month</th>\n",
       "      <th></th>\n",
       "      <th></th>\n",
       "      <th></th>\n",
       "      <th></th>\n",
       "      <th></th>\n",
       "      <th></th>\n",
       "      <th></th>\n",
       "      <th></th>\n",
       "      <th></th>\n",
       "      <th></th>\n",
       "      <th></th>\n",
       "    </tr>\n",
       "  </thead>\n",
       "  <tbody>\n",
       "    <tr>\n",
       "      <th>1</th>\n",
       "      <td>NaN</td>\n",
       "      <td>7.443582e+09</td>\n",
       "      <td>1.208088e+09</td>\n",
       "      <td>2.053628e+10</td>\n",
       "      <td>2.561073e+09</td>\n",
       "      <td>1.049655e+10</td>\n",
       "      <td>8.508143e+09</td>\n",
       "      <td>3.456610e+09</td>\n",
       "      <td>1.887322e+09</td>\n",
       "      <td>1.282966e+10</td>\n",
       "      <td>NaN</td>\n",
       "    </tr>\n",
       "    <tr>\n",
       "      <th>2</th>\n",
       "      <td>2.734551e+09</td>\n",
       "      <td>9.637182e+09</td>\n",
       "      <td>1.136406e+09</td>\n",
       "      <td>1.201721e+10</td>\n",
       "      <td>3.123247e+09</td>\n",
       "      <td>6.631456e+09</td>\n",
       "      <td>6.320186e+09</td>\n",
       "      <td>2.982287e+09</td>\n",
       "      <td>3.810956e+09</td>\n",
       "      <td>1.119485e+10</td>\n",
       "      <td>NaN</td>\n",
       "    </tr>\n",
       "    <tr>\n",
       "      <th>3</th>\n",
       "      <td>3.160337e+09</td>\n",
       "      <td>9.185087e+09</td>\n",
       "      <td>1.463361e+09</td>\n",
       "      <td>7.583698e+09</td>\n",
       "      <td>5.324272e+09</td>\n",
       "      <td>1.018290e+10</td>\n",
       "      <td>1.113156e+10</td>\n",
       "      <td>1.935054e+09</td>\n",
       "      <td>5.304263e+09</td>\n",
       "      <td>9.366818e+09</td>\n",
       "      <td>NaN</td>\n",
       "    </tr>\n",
       "    <tr>\n",
       "      <th>4</th>\n",
       "      <td>3.149639e+09</td>\n",
       "      <td>1.029206e+10</td>\n",
       "      <td>7.976930e+08</td>\n",
       "      <td>6.923465e+09</td>\n",
       "      <td>2.575729e+09</td>\n",
       "      <td>9.043216e+09</td>\n",
       "      <td>9.564433e+09</td>\n",
       "      <td>2.300892e+09</td>\n",
       "      <td>3.531384e+09</td>\n",
       "      <td>1.238186e+10</td>\n",
       "      <td>2.325390e+08</td>\n",
       "    </tr>\n",
       "    <tr>\n",
       "      <th>5</th>\n",
       "      <td>2.793887e+09</td>\n",
       "      <td>1.254701e+10</td>\n",
       "      <td>1.106787e+09</td>\n",
       "      <td>9.772354e+09</td>\n",
       "      <td>1.936612e+09</td>\n",
       "      <td>1.110494e+10</td>\n",
       "      <td>1.132289e+10</td>\n",
       "      <td>2.287170e+09</td>\n",
       "      <td>6.343167e+09</td>\n",
       "      <td>8.772368e+09</td>\n",
       "      <td>9.268420e+08</td>\n",
       "    </tr>\n",
       "    <tr>\n",
       "      <th>6</th>\n",
       "      <td>2.777056e+09</td>\n",
       "      <td>6.147901e+09</td>\n",
       "      <td>2.747047e+09</td>\n",
       "      <td>9.212766e+09</td>\n",
       "      <td>1.681650e+09</td>\n",
       "      <td>1.387210e+10</td>\n",
       "      <td>1.079362e+10</td>\n",
       "      <td>2.183696e+09</td>\n",
       "      <td>4.185127e+09</td>\n",
       "      <td>1.040034e+10</td>\n",
       "      <td>2.343745e+09</td>\n",
       "    </tr>\n",
       "    <tr>\n",
       "      <th>7</th>\n",
       "      <td>2.411248e+09</td>\n",
       "      <td>7.773842e+09</td>\n",
       "      <td>1.917653e+09</td>\n",
       "      <td>1.442284e+10</td>\n",
       "      <td>2.279325e+09</td>\n",
       "      <td>9.103370e+09</td>\n",
       "      <td>7.997335e+09</td>\n",
       "      <td>3.179406e+09</td>\n",
       "      <td>6.892725e+09</td>\n",
       "      <td>1.099400e+10</td>\n",
       "      <td>2.054010e+09</td>\n",
       "    </tr>\n",
       "    <tr>\n",
       "      <th>8</th>\n",
       "      <td>2.576131e+09</td>\n",
       "      <td>7.102425e+09</td>\n",
       "      <td>9.936400e+08</td>\n",
       "      <td>2.098538e+10</td>\n",
       "      <td>3.919849e+09</td>\n",
       "      <td>8.444648e+09</td>\n",
       "      <td>7.519910e+09</td>\n",
       "      <td>2.071920e+09</td>\n",
       "      <td>5.809821e+09</td>\n",
       "      <td>9.461386e+09</td>\n",
       "      <td>1.385900e+08</td>\n",
       "    </tr>\n",
       "    <tr>\n",
       "      <th>9</th>\n",
       "      <td>3.026932e+09</td>\n",
       "      <td>5.534816e+09</td>\n",
       "      <td>1.875243e+09</td>\n",
       "      <td>1.873170e+10</td>\n",
       "      <td>4.126727e+09</td>\n",
       "      <td>3.541833e+09</td>\n",
       "      <td>7.032600e+09</td>\n",
       "      <td>4.824076e+09</td>\n",
       "      <td>8.777813e+09</td>\n",
       "      <td>9.867296e+09</td>\n",
       "      <td>1.373200e+08</td>\n",
       "    </tr>\n",
       "    <tr>\n",
       "      <th>10</th>\n",
       "      <td>2.947984e+09</td>\n",
       "      <td>5.142377e+09</td>\n",
       "      <td>2.502627e+09</td>\n",
       "      <td>1.592788e+10</td>\n",
       "      <td>8.752757e+09</td>\n",
       "      <td>6.659845e+09</td>\n",
       "      <td>6.520393e+09</td>\n",
       "      <td>5.456908e+09</td>\n",
       "      <td>6.388970e+09</td>\n",
       "      <td>8.106195e+09</td>\n",
       "      <td>4.425930e+08</td>\n",
       "    </tr>\n",
       "    <tr>\n",
       "      <th>11</th>\n",
       "      <td>1.873053e+09</td>\n",
       "      <td>8.396563e+09</td>\n",
       "      <td>1.864804e+09</td>\n",
       "      <td>1.487738e+10</td>\n",
       "      <td>6.482171e+09</td>\n",
       "      <td>6.606219e+09</td>\n",
       "      <td>8.975461e+09</td>\n",
       "      <td>8.556091e+09</td>\n",
       "      <td>4.360983e+09</td>\n",
       "      <td>1.123009e+10</td>\n",
       "      <td>7.161790e+08</td>\n",
       "    </tr>\n",
       "    <tr>\n",
       "      <th>12</th>\n",
       "      <td>1.695923e+09</td>\n",
       "      <td>7.923875e+09</td>\n",
       "      <td>2.490471e+09</td>\n",
       "      <td>1.495129e+10</td>\n",
       "      <td>8.883975e+09</td>\n",
       "      <td>6.509850e+09</td>\n",
       "      <td>1.011707e+10</td>\n",
       "      <td>1.008851e+10</td>\n",
       "      <td>5.002998e+09</td>\n",
       "      <td>1.225752e+10</td>\n",
       "      <td>NaN</td>\n",
       "    </tr>\n",
       "  </tbody>\n",
       "</table>\n",
       "</div>"
      ],
      "text/plain": [
       "상품군              가구            가전          건강기능           농수축          생활용품  \\\n",
       "month                                                                         \n",
       "1               NaN  7.443582e+09  1.208088e+09  2.053628e+10  2.561073e+09   \n",
       "2      2.734551e+09  9.637182e+09  1.136406e+09  1.201721e+10  3.123247e+09   \n",
       "3      3.160337e+09  9.185087e+09  1.463361e+09  7.583698e+09  5.324272e+09   \n",
       "4      3.149639e+09  1.029206e+10  7.976930e+08  6.923465e+09  2.575729e+09   \n",
       "5      2.793887e+09  1.254701e+10  1.106787e+09  9.772354e+09  1.936612e+09   \n",
       "6      2.777056e+09  6.147901e+09  2.747047e+09  9.212766e+09  1.681650e+09   \n",
       "7      2.411248e+09  7.773842e+09  1.917653e+09  1.442284e+10  2.279325e+09   \n",
       "8      2.576131e+09  7.102425e+09  9.936400e+08  2.098538e+10  3.919849e+09   \n",
       "9      3.026932e+09  5.534816e+09  1.875243e+09  1.873170e+10  4.126727e+09   \n",
       "10     2.947984e+09  5.142377e+09  2.502627e+09  1.592788e+10  8.752757e+09   \n",
       "11     1.873053e+09  8.396563e+09  1.864804e+09  1.487738e+10  6.482171e+09   \n",
       "12     1.695923e+09  7.923875e+09  2.490471e+09  1.495129e+10  8.883975e+09   \n",
       "\n",
       "상품군              속옷            의류           이미용            잡화            주방  \\\n",
       "month                                                                         \n",
       "1      1.049655e+10  8.508143e+09  3.456610e+09  1.887322e+09  1.282966e+10   \n",
       "2      6.631456e+09  6.320186e+09  2.982287e+09  3.810956e+09  1.119485e+10   \n",
       "3      1.018290e+10  1.113156e+10  1.935054e+09  5.304263e+09  9.366818e+09   \n",
       "4      9.043216e+09  9.564433e+09  2.300892e+09  3.531384e+09  1.238186e+10   \n",
       "5      1.110494e+10  1.132289e+10  2.287170e+09  6.343167e+09  8.772368e+09   \n",
       "6      1.387210e+10  1.079362e+10  2.183696e+09  4.185127e+09  1.040034e+10   \n",
       "7      9.103370e+09  7.997335e+09  3.179406e+09  6.892725e+09  1.099400e+10   \n",
       "8      8.444648e+09  7.519910e+09  2.071920e+09  5.809821e+09  9.461386e+09   \n",
       "9      3.541833e+09  7.032600e+09  4.824076e+09  8.777813e+09  9.867296e+09   \n",
       "10     6.659845e+09  6.520393e+09  5.456908e+09  6.388970e+09  8.106195e+09   \n",
       "11     6.606219e+09  8.975461e+09  8.556091e+09  4.360983e+09  1.123009e+10   \n",
       "12     6.509850e+09  1.011707e+10  1.008851e+10  5.002998e+09  1.225752e+10   \n",
       "\n",
       "상품군              침구  \n",
       "month                \n",
       "1               NaN  \n",
       "2               NaN  \n",
       "3               NaN  \n",
       "4      2.325390e+08  \n",
       "5      9.268420e+08  \n",
       "6      2.343745e+09  \n",
       "7      2.054010e+09  \n",
       "8      1.385900e+08  \n",
       "9      1.373200e+08  \n",
       "10     4.425930e+08  \n",
       "11     7.161790e+08  \n",
       "12              NaN  "
      ]
     },
     "execution_count": 170,
     "metadata": {},
     "output_type": "execute_result"
    }
   ],
   "source": [
    "sales.groupby(['month', '상품군']).sum()['취급액'].unstack()"
   ]
  },
  {
   "cell_type": "code",
   "execution_count": 65,
   "metadata": {
    "scrolled": true
   },
   "outputs": [
    {
     "ename": "KeyError",
     "evalue": "'month'",
     "output_type": "error",
     "traceback": [
      "\u001b[0;31m---------------------------------------------------------------------------\u001b[0m",
      "\u001b[0;31mKeyError\u001b[0m                                  Traceback (most recent call last)",
      "\u001b[0;32m<ipython-input-65-ba0d0c000b7c>\u001b[0m in \u001b[0;36m<module>\u001b[0;34m\u001b[0m\n\u001b[1;32m      1\u001b[0m \u001b[0mfig\u001b[0m\u001b[0;34m,\u001b[0m \u001b[0max\u001b[0m \u001b[0;34m=\u001b[0m \u001b[0mplt\u001b[0m\u001b[0;34m.\u001b[0m\u001b[0msubplots\u001b[0m\u001b[0;34m(\u001b[0m\u001b[0mfigsize\u001b[0m\u001b[0;34m=\u001b[0m\u001b[0;34m(\u001b[0m\u001b[0;36m15\u001b[0m\u001b[0;34m,\u001b[0m\u001b[0;36m7\u001b[0m\u001b[0;34m)\u001b[0m\u001b[0;34m)\u001b[0m\u001b[0;34m\u001b[0m\u001b[0;34m\u001b[0m\u001b[0m\n\u001b[0;32m----> 2\u001b[0;31m \u001b[0msales\u001b[0m\u001b[0;34m.\u001b[0m\u001b[0mgroupby\u001b[0m\u001b[0;34m(\u001b[0m\u001b[0;34m[\u001b[0m\u001b[0;34m'month'\u001b[0m\u001b[0;34m,\u001b[0m \u001b[0;34m'상품군'\u001b[0m\u001b[0;34m]\u001b[0m\u001b[0;34m)\u001b[0m\u001b[0;34m.\u001b[0m\u001b[0msum\u001b[0m\u001b[0;34m(\u001b[0m\u001b[0;34m)\u001b[0m\u001b[0;34m[\u001b[0m\u001b[0;34m'취급액'\u001b[0m\u001b[0;34m]\u001b[0m\u001b[0;34m.\u001b[0m\u001b[0munstack\u001b[0m\u001b[0;34m(\u001b[0m\u001b[0;34m)\u001b[0m\u001b[0;34m.\u001b[0m\u001b[0mplot\u001b[0m\u001b[0;34m(\u001b[0m\u001b[0max\u001b[0m\u001b[0;34m=\u001b[0m\u001b[0max\u001b[0m\u001b[0;34m)\u001b[0m\u001b[0;34m\u001b[0m\u001b[0;34m\u001b[0m\u001b[0m\n\u001b[0m",
      "\u001b[0;32m/opt/anaconda3/lib/python3.7/site-packages/pandas/core/frame.py\u001b[0m in \u001b[0;36mgroupby\u001b[0;34m(self, by, axis, level, as_index, sort, group_keys, squeeze, observed)\u001b[0m\n\u001b[1;32m   5808\u001b[0m             \u001b[0mgroup_keys\u001b[0m\u001b[0;34m=\u001b[0m\u001b[0mgroup_keys\u001b[0m\u001b[0;34m,\u001b[0m\u001b[0;34m\u001b[0m\u001b[0;34m\u001b[0m\u001b[0m\n\u001b[1;32m   5809\u001b[0m             \u001b[0msqueeze\u001b[0m\u001b[0;34m=\u001b[0m\u001b[0msqueeze\u001b[0m\u001b[0;34m,\u001b[0m\u001b[0;34m\u001b[0m\u001b[0;34m\u001b[0m\u001b[0m\n\u001b[0;32m-> 5810\u001b[0;31m             \u001b[0mobserved\u001b[0m\u001b[0;34m=\u001b[0m\u001b[0mobserved\u001b[0m\u001b[0;34m,\u001b[0m\u001b[0;34m\u001b[0m\u001b[0;34m\u001b[0m\u001b[0m\n\u001b[0m\u001b[1;32m   5811\u001b[0m         )\n\u001b[1;32m   5812\u001b[0m \u001b[0;34m\u001b[0m\u001b[0m\n",
      "\u001b[0;32m/opt/anaconda3/lib/python3.7/site-packages/pandas/core/groupby/groupby.py\u001b[0m in \u001b[0;36m__init__\u001b[0;34m(self, obj, keys, axis, level, grouper, exclusions, selection, as_index, sort, group_keys, squeeze, observed, mutated)\u001b[0m\n\u001b[1;32m    407\u001b[0m                 \u001b[0msort\u001b[0m\u001b[0;34m=\u001b[0m\u001b[0msort\u001b[0m\u001b[0;34m,\u001b[0m\u001b[0;34m\u001b[0m\u001b[0;34m\u001b[0m\u001b[0m\n\u001b[1;32m    408\u001b[0m                 \u001b[0mobserved\u001b[0m\u001b[0;34m=\u001b[0m\u001b[0mobserved\u001b[0m\u001b[0;34m,\u001b[0m\u001b[0;34m\u001b[0m\u001b[0;34m\u001b[0m\u001b[0m\n\u001b[0;32m--> 409\u001b[0;31m                 \u001b[0mmutated\u001b[0m\u001b[0;34m=\u001b[0m\u001b[0mself\u001b[0m\u001b[0;34m.\u001b[0m\u001b[0mmutated\u001b[0m\u001b[0;34m,\u001b[0m\u001b[0;34m\u001b[0m\u001b[0;34m\u001b[0m\u001b[0m\n\u001b[0m\u001b[1;32m    410\u001b[0m             )\n\u001b[1;32m    411\u001b[0m \u001b[0;34m\u001b[0m\u001b[0m\n",
      "\u001b[0;32m/opt/anaconda3/lib/python3.7/site-packages/pandas/core/groupby/grouper.py\u001b[0m in \u001b[0;36mget_grouper\u001b[0;34m(obj, key, axis, level, sort, observed, mutated, validate)\u001b[0m\n\u001b[1;32m    596\u001b[0m                 \u001b[0min_axis\u001b[0m\u001b[0;34m,\u001b[0m \u001b[0mname\u001b[0m\u001b[0;34m,\u001b[0m \u001b[0mlevel\u001b[0m\u001b[0;34m,\u001b[0m \u001b[0mgpr\u001b[0m \u001b[0;34m=\u001b[0m \u001b[0;32mFalse\u001b[0m\u001b[0;34m,\u001b[0m \u001b[0;32mNone\u001b[0m\u001b[0;34m,\u001b[0m \u001b[0mgpr\u001b[0m\u001b[0;34m,\u001b[0m \u001b[0;32mNone\u001b[0m\u001b[0;34m\u001b[0m\u001b[0;34m\u001b[0m\u001b[0m\n\u001b[1;32m    597\u001b[0m             \u001b[0;32melse\u001b[0m\u001b[0;34m:\u001b[0m\u001b[0;34m\u001b[0m\u001b[0;34m\u001b[0m\u001b[0m\n\u001b[0;32m--> 598\u001b[0;31m                 \u001b[0;32mraise\u001b[0m \u001b[0mKeyError\u001b[0m\u001b[0;34m(\u001b[0m\u001b[0mgpr\u001b[0m\u001b[0;34m)\u001b[0m\u001b[0;34m\u001b[0m\u001b[0;34m\u001b[0m\u001b[0m\n\u001b[0m\u001b[1;32m    599\u001b[0m         \u001b[0;32melif\u001b[0m \u001b[0misinstance\u001b[0m\u001b[0;34m(\u001b[0m\u001b[0mgpr\u001b[0m\u001b[0;34m,\u001b[0m \u001b[0mGrouper\u001b[0m\u001b[0;34m)\u001b[0m \u001b[0;32mand\u001b[0m \u001b[0mgpr\u001b[0m\u001b[0;34m.\u001b[0m\u001b[0mkey\u001b[0m \u001b[0;32mis\u001b[0m \u001b[0;32mnot\u001b[0m \u001b[0;32mNone\u001b[0m\u001b[0;34m:\u001b[0m\u001b[0;34m\u001b[0m\u001b[0;34m\u001b[0m\u001b[0m\n\u001b[1;32m    600\u001b[0m             \u001b[0;31m# Add key to exclusions\u001b[0m\u001b[0;34m\u001b[0m\u001b[0;34m\u001b[0m\u001b[0;34m\u001b[0m\u001b[0m\n",
      "\u001b[0;31mKeyError\u001b[0m: 'month'"
     ]
    },
    {
     "data": {
      "image/png": "[encoded data removed]",
      "text/plain": [
       "<Figure size 1080x504 with 1 Axes>"
      ]
     },
     "metadata": {
      "needs_background": "light"
     },
     "output_type": "display_data"
    }
   ],
   "source": [
    "fig, ax = plt.subplots(figsize=(15,7))\n",
    "sales.groupby(['month', '상품군']).sum()['취급액'].unstack().plot(ax=ax)"
   ]
  },
  {
   "cell_type": "code",
   "execution_count": 172,
   "metadata": {
    "scrolled": true
   },
   "outputs": [
    {
     "data": {
      "image/png": "[encoded data removed]",
      "text/plain": [
       "<Figure size 1080x504 with 1 Axes>"
      ]
     },
     "metadata": {
      "needs_background": "light"
     },
     "output_type": "display_data"
    }
   ],
   "source": [
    "fig, ax = plt.subplots(figsize=(15,7))\n",
    "sales.groupby(['month', '상품군']).sum()['취급액'].unstack().plot(kind='bar',stacked=True, ax=ax)\n",
    "plt.legend(loc='center left', bbox_to_anchor=(1.0, 0.5))\n",
    "plt.show()"
   ]
  },
  {
   "cell_type": "code",
   "execution_count": 207,
   "metadata": {},
   "outputs": [
    {
     "data": {
      "image/png": "[encoded data removed]",
      "text/plain": [
       "<Figure size 720x360 with 1 Axes>"
      ]
     },
     "metadata": {},
     "output_type": "display_data"
    }
   ],
   "source": [
    "# 6월 데이터 카테고리별 판매량\n",
    "june = sales['month'] == 6\n",
    "june_sales = sales[june]\n",
    "fig, ax = plt.subplots(figsize=(10,5))\n",
    "june_sales.groupby(['상품군']).sum()['취급액'].plot(kind='pie', ax=ax)\n",
    "plt.legend(loc='center left', bbox_to_anchor=(1.0, 0.5))\n",
    "plt.show()"
   ]
  },
  {
   "cell_type": "code",
   "execution_count": 173,
   "metadata": {},
   "outputs": [
    {
     "data": {
      "image/png": "[encoded data removed]",
      "text/plain": [
       "<Figure size 1080x504 with 1 Axes>"
      ]
     },
     "metadata": {
      "needs_background": "light"
     },
     "output_type": "display_data"
    }
   ],
   "source": [
    "fig, ax = plt.subplots(figsize=(15,7))\n",
    "sales.groupby(['day', '상품군']).sum()['취급액'].unstack().plot(kind='bar',stacked=True, ax=ax)\n",
    "plt.legend(loc='center left', bbox_to_anchor=(1.0, 0.5))\n",
    "plt.show()"
   ]
  },
  {
   "cell_type": "code",
   "execution_count": null,
   "metadata": {
    "scrolled": true
   },
   "outputs": [],
   "source": []
  },
  {
   "cell_type": "code",
   "execution_count": null,
   "metadata": {},
   "outputs": [],
   "source": [
    "\n",
    "\n",
    "fig, ax = plt.subplots(figsize=(15,10))\n",
    "sales.groupby(['hour', '상품군']).sum()['취급액'].unstack().plot(kind='bar',stacked=True, ax=ax)\n",
    "plt.legend(loc='center left', bbox_to_anchor=(1.0, 0.5))\n",
    "plt.show()"
   ]
  },
  {
   "cell_type": "code",
   "execution_count": 190,
   "metadata": {},
   "outputs": [
    {
     "data": {
      "text/plain": [
       "array([ 2.46666667,  2.81666667,  3.        ,  3.16666667,  3.28333333,\n",
       "        3.45      ,  5.16666667,  5.33333333,  5.46666667,  6.63333333,\n",
       "        6.66666667,  6.68333333,  6.85      ,  7.26666667,  8.85      ,\n",
       "        9.7       , 10.        , 10.96666667, 11.03333333, 11.33333333,\n",
       "       12.        , 12.13333333, 12.5       , 12.53333333, 12.66666667,\n",
       "       12.9       , 13.        , 13.16666667, 13.33333333, 13.5       ,\n",
       "       14.35      , 14.66666667, 14.7       , 14.83333333, 14.98333333,\n",
       "       15.        , 15.01666667, 15.03333333, 15.06666667, 15.08333333,\n",
       "       15.16666667, 15.2       , 15.25      , 15.33333333, 15.36666667,\n",
       "       15.5       , 15.66666667, 15.83333333, 15.85      , 15.86666667,\n",
       "       16.        , 16.01666667, 16.03333333, 16.05      , 16.08333333,\n",
       "       16.1       , 16.16666667, 16.2       , 16.33333333, 16.35      ,\n",
       "       16.51666667, 16.66666667, 16.68333333, 16.7       , 16.83333333,\n",
       "       16.85      , 16.86666667, 16.96666667, 17.08333333, 17.1       ,\n",
       "       17.16666667, 17.18333333, 17.2       , 17.66666667, 18.01666667,\n",
       "       18.25      , 18.6       , 19.15      , 19.38333333, 20.        ,\n",
       "       20.06666667, 22.        , 22.36666667, 23.        , 23.16666667,\n",
       "       23.2       , 24.66666667, 25.        , 25.2       , 25.21666667,\n",
       "       25.66666667, 25.9       , 26.03333333, 26.08333333, 26.16666667,\n",
       "       26.33333333, 26.68333333, 27.08333333, 29.98333333, 30.        ,\n",
       "       30.1       , 40.        ])"
      ]
     },
     "execution_count": 190,
     "metadata": {},
     "output_type": "execute_result"
    }
   ],
   "source": [
    "# fig, ax = plt.subplots(figsize=(15,10))\n",
    "# sales.groupby(['노출(분)']).sum()['취급액']\n",
    "# sales['노출(분)'] = sales['노출(분)'].round()\n",
    "sales['노출(분)'].sort_values().unique()\n",
    "# sales.groupby(['노출(분)','상품군']).sum()['취급액'].unstack().plot(kind='bar',stacked=True, ax=ax)\n",
    "# plt.legend(loc='center left', bbox_to_anchor=(1.0, 0.5))\n",
    "# plt.show()"
   ]
  },
  {
   "cell_type": "code",
   "execution_count": 193,
   "metadata": {},
   "outputs": [
    {
     "data": {
      "text/plain": [
       "2.466667        1\n",
       "2.816667        1\n",
       "3.000000        2\n",
       "3.166667        1\n",
       "3.283333        1\n",
       "             ... \n",
       "27.083333       1\n",
       "29.983333       1\n",
       "30.000000    1931\n",
       "30.100000     693\n",
       "40.000000       2\n",
       "Name: 노출(분), Length: 102, dtype: int64"
      ]
     },
     "execution_count": 193,
     "metadata": {},
     "output_type": "execute_result"
    }
   ],
   "source": [
    "sales['노출(분)'].value_counts().sort_index()"
   ]
  },
  {
   "cell_type": "code",
   "execution_count": 194,
   "metadata": {
    "scrolled": true
   },
   "outputs": [
    {
     "data": {
      "text/plain": [
       "<matplotlib.axes._subplots.AxesSubplot at 0x1458920d0>"
      ]
     },
     "execution_count": 194,
     "metadata": {},
     "output_type": "execute_result"
    },
    {
     "data": {
      "image/png": "[encoded data removed]",
      "text/plain": [
       "<Figure size 432x288 with 1 Axes>"
      ]
     },
     "metadata": {
      "needs_background": "light"
     },
     "output_type": "display_data"
    }
   ],
   "source": [
    "sales['노출(분)'].hist()"
   ]
  },
  {
   "cell_type": "code",
   "execution_count": 185,
   "metadata": {},
   "outputs": [
    {
     "data": {
      "text/plain": [
       "month  상품군 \n",
       "1      가전      570\n",
       "       건강기능     63\n",
       "       농수축     458\n",
       "       생활용품     83\n",
       "       속옷      389\n",
       "              ... \n",
       "12     속옷      282\n",
       "       의류      330\n",
       "       이미용     213\n",
       "       잡화      295\n",
       "       주방      491\n",
       "Length: 127, dtype: int64"
      ]
     },
     "execution_count": 185,
     "metadata": {},
     "output_type": "execute_result"
    }
   ],
   "source": [
    "sales.groupby(['month','상품군']).size()"
   ]
  },
  {
   "cell_type": "code",
   "execution_count": null,
   "metadata": {},
   "outputs": [],
   "source": [
    "# 상품명 여성/남성 분석\n",
    "# "
   ]
  },
  {
   "cell_type": "code",
   "execution_count": null,
   "metadata": {},
   "outputs": [],
   "source": []
  }
 ],
 "metadata": {
  "kernelspec": {
   "display_name": "Python 3",
   "language": "python",
   "name": "python3"
  },
  "language_info": {
   "codemirror_mode": {
    "name": "ipython",
    "version": 3
   },
   "file_extension": ".py",
   "mimetype": "text/x-python",
   "name": "python",
   "nbconvert_exporter": "python",
   "pygments_lexer": "ipython3",
   "version": "3.7.6"
  }
 },
 "nbformat": 4,
 "nbformat_minor": 4
}
